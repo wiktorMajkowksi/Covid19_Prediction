{
  "nbformat": 4,
  "nbformat_minor": 0,
  "metadata": {
    "colab": {
      "name": "COVID_Prediction.ipynb",
      "provenance": [],
      "collapsed_sections": [
        "p3WH09zhzRZa",
        "RvrADuKYKNXG",
        "TBPX3EY7qdBp",
        "skdMKy5On5wW",
        "MOlk0yMz3g1C",
        "n37AHK4nlHgC"
      ]
    },
    "kernelspec": {
      "name": "python3",
      "display_name": "Python 3"
    }
  },
  "cells": [
    {
      "cell_type": "markdown",
      "metadata": {
        "id": "ywylCarly8Pe"
      },
      "source": [
        "### **Imports**"
      ]
    },
    {
      "cell_type": "code",
      "metadata": {
        "id": "wiGRw-s_vHIf"
      },
      "source": [
        "import time\n",
        "start_time = time.time()\n",
        "import sklearn\n",
        "import pandas as pd\n",
        "import numpy as np\n",
        "import matplotlib.pyplot as plt\n",
        "import seaborn as sns\n",
        "import io\n",
        "import math\n",
        "import string\n",
        "import os\n",
        "\n",
        "from sklearn.preprocessing import StandardScaler, LabelEncoder\n",
        "from sklearn.model_selection import train_test_split, cross_val_score\n",
        "from sklearn.metrics import classification_report, confusion_matrix, classification_report, accuracy_score\n",
        "\n",
        "import warnings\n",
        "warnings.filterwarnings('ignore')"
      ],
      "execution_count": 63,
      "outputs": []
    },
    {
      "cell_type": "markdown",
      "metadata": {
        "id": "8kSG1ugIzBec"
      },
      "source": [
        "### **DataSet** **Upload**"
      ]
    },
    {
      "cell_type": "code",
      "metadata": {
        "colab": {
          "base_uri": "https://localhost:8080/"
        },
        "id": "4sSscM5Yvz86",
        "outputId": "576300a8-d886-4e30-c036-fc837db6b2d8"
      },
      "source": [
        "from google.colab import files , drive\n",
        "\n",
        "#upload for files in google drive\n",
        "drive.mount('/content/gdrive')\n",
        "dataset = \"/content/gdrive/My Drive/Colab Notebooks/covid_data.csv\""
      ],
      "execution_count": 64,
      "outputs": [
        {
          "output_type": "stream",
          "text": [
            "Drive already mounted at /content/gdrive; to attempt to forcibly remount, call drive.mount(\"/content/gdrive\", force_remount=True).\n"
          ],
          "name": "stdout"
        }
      ]
    },
    {
      "cell_type": "code",
      "metadata": {
        "colab": {
          "base_uri": "https://localhost:8080/",
          "height": 35
        },
        "id": "k0Y0oPsFBOIx",
        "outputId": "59f0620f-ae68-4fe6-b108-7e97277e28fd"
      },
      "source": [
        "\"\"\"\n",
        "#alternative for local file upload (file needs to be downloaded locally)\n",
        "from google.colab import files\n",
        "uploaded = files.upload()\n",
        "df = pd.read_csv(io.BytesIO(uploaded['covid_data.csv']))\n",
        "\"\"\""
      ],
      "execution_count": 65,
      "outputs": [
        {
          "output_type": "execute_result",
          "data": {
            "application/vnd.google.colaboratory.intrinsic+json": {
              "type": "string"
            },
            "text/plain": [
              "\"\\n#alternative for local file upload (file needs to be downloaded locally)\\nfrom google.colab import files\\nuploaded = files.upload()\\ndf = pd.read_csv(io.BytesIO(uploaded['covid_data.csv']))\\n\""
            ]
          },
          "metadata": {
            "tags": []
          },
          "execution_count": 65
        }
      ]
    },
    {
      "cell_type": "markdown",
      "metadata": {
        "id": "p3WH09zhzRZa"
      },
      "source": [
        "### **DataUpload check**"
      ]
    },
    {
      "cell_type": "code",
      "metadata": {
        "id": "HF5nfHBhKZVz",
        "colab": {
          "base_uri": "https://localhost:8080/"
        },
        "outputId": "e99b8883-8f39-416b-f7bd-9cce36edc26b"
      },
      "source": [
        "\"\"\"\n",
        "This try statment will ensure that file loaded is in CSV data format,\n",
        "otherwise message will be displayed and after any user input\n",
        "the progam will shutdown.\n",
        "\"\"\"\n",
        "\n",
        "try:\n",
        "  df = pd.read_csv(dataset)\n",
        "  print(\"CSV reading successful\")\n",
        "except:\n",
        "  print(\"File must be CSV\")\n",
        "  print(input())\n",
        "  exit()"
      ],
      "execution_count": 66,
      "outputs": [
        {
          "output_type": "stream",
          "text": [
            "CSV reading successful\n"
          ],
          "name": "stdout"
        }
      ]
    },
    {
      "cell_type": "code",
      "metadata": {
        "id": "WiN7lE7Ey4uq",
        "colab": {
          "base_uri": "https://localhost:8080/"
        },
        "outputId": "d3d7ac79-7d35-4b60-cf54-45eccf7a93d2"
      },
      "source": [
        "df.shape"
      ],
      "execution_count": 67,
      "outputs": [
        {
          "output_type": "execute_result",
          "data": {
            "text/plain": [
              "(67166, 59)"
            ]
          },
          "metadata": {
            "tags": []
          },
          "execution_count": 67
        }
      ]
    },
    {
      "cell_type": "code",
      "metadata": {
        "id": "XbjicYJVzXia",
        "colab": {
          "base_uri": "https://localhost:8080/",
          "height": 0
        },
        "outputId": "4b94b149-2955-468e-f9bb-34bdb26fe48c"
      },
      "source": [
        "df.head(5)"
      ],
      "execution_count": 68,
      "outputs": [
        {
          "output_type": "execute_result",
          "data": {
            "text/html": [
              "<div>\n",
              "<style scoped>\n",
              "    .dataframe tbody tr th:only-of-type {\n",
              "        vertical-align: middle;\n",
              "    }\n",
              "\n",
              "    .dataframe tbody tr th {\n",
              "        vertical-align: top;\n",
              "    }\n",
              "\n",
              "    .dataframe thead th {\n",
              "        text-align: right;\n",
              "    }\n",
              "</style>\n",
              "<table border=\"1\" class=\"dataframe\">\n",
              "  <thead>\n",
              "    <tr style=\"text-align: right;\">\n",
              "      <th></th>\n",
              "      <th>iso_code</th>\n",
              "      <th>continent</th>\n",
              "      <th>location</th>\n",
              "      <th>date</th>\n",
              "      <th>total_cases</th>\n",
              "      <th>new_cases</th>\n",
              "      <th>new_cases_smoothed</th>\n",
              "      <th>total_deaths</th>\n",
              "      <th>new_deaths</th>\n",
              "      <th>new_deaths_smoothed</th>\n",
              "      <th>total_cases_per_million</th>\n",
              "      <th>new_cases_per_million</th>\n",
              "      <th>new_cases_smoothed_per_million</th>\n",
              "      <th>total_deaths_per_million</th>\n",
              "      <th>new_deaths_per_million</th>\n",
              "      <th>new_deaths_smoothed_per_million</th>\n",
              "      <th>reproduction_rate</th>\n",
              "      <th>icu_patients</th>\n",
              "      <th>icu_patients_per_million</th>\n",
              "      <th>hosp_patients</th>\n",
              "      <th>hosp_patients_per_million</th>\n",
              "      <th>weekly_icu_admissions</th>\n",
              "      <th>weekly_icu_admissions_per_million</th>\n",
              "      <th>weekly_hosp_admissions</th>\n",
              "      <th>weekly_hosp_admissions_per_million</th>\n",
              "      <th>new_tests</th>\n",
              "      <th>total_tests</th>\n",
              "      <th>total_tests_per_thousand</th>\n",
              "      <th>new_tests_per_thousand</th>\n",
              "      <th>new_tests_smoothed</th>\n",
              "      <th>new_tests_smoothed_per_thousand</th>\n",
              "      <th>positive_rate</th>\n",
              "      <th>tests_per_case</th>\n",
              "      <th>tests_units</th>\n",
              "      <th>total_vaccinations</th>\n",
              "      <th>people_vaccinated</th>\n",
              "      <th>people_fully_vaccinated</th>\n",
              "      <th>new_vaccinations</th>\n",
              "      <th>new_vaccinations_smoothed</th>\n",
              "      <th>total_vaccinations_per_hundred</th>\n",
              "      <th>people_vaccinated_per_hundred</th>\n",
              "      <th>people_fully_vaccinated_per_hundred</th>\n",
              "      <th>new_vaccinations_smoothed_per_million</th>\n",
              "      <th>stringency_index</th>\n",
              "      <th>population</th>\n",
              "      <th>population_density</th>\n",
              "      <th>median_age</th>\n",
              "      <th>aged_65_older</th>\n",
              "      <th>aged_70_older</th>\n",
              "      <th>gdp_per_capita</th>\n",
              "      <th>extreme_poverty</th>\n",
              "      <th>cardiovasc_death_rate</th>\n",
              "      <th>diabetes_prevalence</th>\n",
              "      <th>female_smokers</th>\n",
              "      <th>male_smokers</th>\n",
              "      <th>handwashing_facilities</th>\n",
              "      <th>hospital_beds_per_thousand</th>\n",
              "      <th>life_expectancy</th>\n",
              "      <th>human_development_index</th>\n",
              "    </tr>\n",
              "  </thead>\n",
              "  <tbody>\n",
              "    <tr>\n",
              "      <th>0</th>\n",
              "      <td>AFG</td>\n",
              "      <td>Asia</td>\n",
              "      <td>Afghanistan</td>\n",
              "      <td>2020-02-24</td>\n",
              "      <td>1.0</td>\n",
              "      <td>1.0</td>\n",
              "      <td>NaN</td>\n",
              "      <td>NaN</td>\n",
              "      <td>NaN</td>\n",
              "      <td>NaN</td>\n",
              "      <td>0.026</td>\n",
              "      <td>0.026</td>\n",
              "      <td>NaN</td>\n",
              "      <td>NaN</td>\n",
              "      <td>NaN</td>\n",
              "      <td>NaN</td>\n",
              "      <td>NaN</td>\n",
              "      <td>NaN</td>\n",
              "      <td>NaN</td>\n",
              "      <td>NaN</td>\n",
              "      <td>NaN</td>\n",
              "      <td>NaN</td>\n",
              "      <td>NaN</td>\n",
              "      <td>NaN</td>\n",
              "      <td>NaN</td>\n",
              "      <td>NaN</td>\n",
              "      <td>NaN</td>\n",
              "      <td>NaN</td>\n",
              "      <td>NaN</td>\n",
              "      <td>NaN</td>\n",
              "      <td>NaN</td>\n",
              "      <td>NaN</td>\n",
              "      <td>NaN</td>\n",
              "      <td>NaN</td>\n",
              "      <td>NaN</td>\n",
              "      <td>NaN</td>\n",
              "      <td>NaN</td>\n",
              "      <td>NaN</td>\n",
              "      <td>NaN</td>\n",
              "      <td>NaN</td>\n",
              "      <td>NaN</td>\n",
              "      <td>NaN</td>\n",
              "      <td>NaN</td>\n",
              "      <td>8.33</td>\n",
              "      <td>38928341.0</td>\n",
              "      <td>54.422</td>\n",
              "      <td>18.6</td>\n",
              "      <td>2.581</td>\n",
              "      <td>1.337</td>\n",
              "      <td>1803.987</td>\n",
              "      <td>NaN</td>\n",
              "      <td>597.029</td>\n",
              "      <td>9.59</td>\n",
              "      <td>NaN</td>\n",
              "      <td>NaN</td>\n",
              "      <td>37.746</td>\n",
              "      <td>0.5</td>\n",
              "      <td>64.83</td>\n",
              "      <td>0.498</td>\n",
              "    </tr>\n",
              "    <tr>\n",
              "      <th>1</th>\n",
              "      <td>AFG</td>\n",
              "      <td>Asia</td>\n",
              "      <td>Afghanistan</td>\n",
              "      <td>2020-02-25</td>\n",
              "      <td>1.0</td>\n",
              "      <td>0.0</td>\n",
              "      <td>NaN</td>\n",
              "      <td>NaN</td>\n",
              "      <td>NaN</td>\n",
              "      <td>NaN</td>\n",
              "      <td>0.026</td>\n",
              "      <td>0.000</td>\n",
              "      <td>NaN</td>\n",
              "      <td>NaN</td>\n",
              "      <td>NaN</td>\n",
              "      <td>NaN</td>\n",
              "      <td>NaN</td>\n",
              "      <td>NaN</td>\n",
              "      <td>NaN</td>\n",
              "      <td>NaN</td>\n",
              "      <td>NaN</td>\n",
              "      <td>NaN</td>\n",
              "      <td>NaN</td>\n",
              "      <td>NaN</td>\n",
              "      <td>NaN</td>\n",
              "      <td>NaN</td>\n",
              "      <td>NaN</td>\n",
              "      <td>NaN</td>\n",
              "      <td>NaN</td>\n",
              "      <td>NaN</td>\n",
              "      <td>NaN</td>\n",
              "      <td>NaN</td>\n",
              "      <td>NaN</td>\n",
              "      <td>NaN</td>\n",
              "      <td>NaN</td>\n",
              "      <td>NaN</td>\n",
              "      <td>NaN</td>\n",
              "      <td>NaN</td>\n",
              "      <td>NaN</td>\n",
              "      <td>NaN</td>\n",
              "      <td>NaN</td>\n",
              "      <td>NaN</td>\n",
              "      <td>NaN</td>\n",
              "      <td>8.33</td>\n",
              "      <td>38928341.0</td>\n",
              "      <td>54.422</td>\n",
              "      <td>18.6</td>\n",
              "      <td>2.581</td>\n",
              "      <td>1.337</td>\n",
              "      <td>1803.987</td>\n",
              "      <td>NaN</td>\n",
              "      <td>597.029</td>\n",
              "      <td>9.59</td>\n",
              "      <td>NaN</td>\n",
              "      <td>NaN</td>\n",
              "      <td>37.746</td>\n",
              "      <td>0.5</td>\n",
              "      <td>64.83</td>\n",
              "      <td>0.498</td>\n",
              "    </tr>\n",
              "    <tr>\n",
              "      <th>2</th>\n",
              "      <td>AFG</td>\n",
              "      <td>Asia</td>\n",
              "      <td>Afghanistan</td>\n",
              "      <td>2020-02-26</td>\n",
              "      <td>1.0</td>\n",
              "      <td>0.0</td>\n",
              "      <td>NaN</td>\n",
              "      <td>NaN</td>\n",
              "      <td>NaN</td>\n",
              "      <td>NaN</td>\n",
              "      <td>0.026</td>\n",
              "      <td>0.000</td>\n",
              "      <td>NaN</td>\n",
              "      <td>NaN</td>\n",
              "      <td>NaN</td>\n",
              "      <td>NaN</td>\n",
              "      <td>NaN</td>\n",
              "      <td>NaN</td>\n",
              "      <td>NaN</td>\n",
              "      <td>NaN</td>\n",
              "      <td>NaN</td>\n",
              "      <td>NaN</td>\n",
              "      <td>NaN</td>\n",
              "      <td>NaN</td>\n",
              "      <td>NaN</td>\n",
              "      <td>NaN</td>\n",
              "      <td>NaN</td>\n",
              "      <td>NaN</td>\n",
              "      <td>NaN</td>\n",
              "      <td>NaN</td>\n",
              "      <td>NaN</td>\n",
              "      <td>NaN</td>\n",
              "      <td>NaN</td>\n",
              "      <td>NaN</td>\n",
              "      <td>NaN</td>\n",
              "      <td>NaN</td>\n",
              "      <td>NaN</td>\n",
              "      <td>NaN</td>\n",
              "      <td>NaN</td>\n",
              "      <td>NaN</td>\n",
              "      <td>NaN</td>\n",
              "      <td>NaN</td>\n",
              "      <td>NaN</td>\n",
              "      <td>8.33</td>\n",
              "      <td>38928341.0</td>\n",
              "      <td>54.422</td>\n",
              "      <td>18.6</td>\n",
              "      <td>2.581</td>\n",
              "      <td>1.337</td>\n",
              "      <td>1803.987</td>\n",
              "      <td>NaN</td>\n",
              "      <td>597.029</td>\n",
              "      <td>9.59</td>\n",
              "      <td>NaN</td>\n",
              "      <td>NaN</td>\n",
              "      <td>37.746</td>\n",
              "      <td>0.5</td>\n",
              "      <td>64.83</td>\n",
              "      <td>0.498</td>\n",
              "    </tr>\n",
              "    <tr>\n",
              "      <th>3</th>\n",
              "      <td>AFG</td>\n",
              "      <td>Asia</td>\n",
              "      <td>Afghanistan</td>\n",
              "      <td>2020-02-27</td>\n",
              "      <td>1.0</td>\n",
              "      <td>0.0</td>\n",
              "      <td>NaN</td>\n",
              "      <td>NaN</td>\n",
              "      <td>NaN</td>\n",
              "      <td>NaN</td>\n",
              "      <td>0.026</td>\n",
              "      <td>0.000</td>\n",
              "      <td>NaN</td>\n",
              "      <td>NaN</td>\n",
              "      <td>NaN</td>\n",
              "      <td>NaN</td>\n",
              "      <td>NaN</td>\n",
              "      <td>NaN</td>\n",
              "      <td>NaN</td>\n",
              "      <td>NaN</td>\n",
              "      <td>NaN</td>\n",
              "      <td>NaN</td>\n",
              "      <td>NaN</td>\n",
              "      <td>NaN</td>\n",
              "      <td>NaN</td>\n",
              "      <td>NaN</td>\n",
              "      <td>NaN</td>\n",
              "      <td>NaN</td>\n",
              "      <td>NaN</td>\n",
              "      <td>NaN</td>\n",
              "      <td>NaN</td>\n",
              "      <td>NaN</td>\n",
              "      <td>NaN</td>\n",
              "      <td>NaN</td>\n",
              "      <td>NaN</td>\n",
              "      <td>NaN</td>\n",
              "      <td>NaN</td>\n",
              "      <td>NaN</td>\n",
              "      <td>NaN</td>\n",
              "      <td>NaN</td>\n",
              "      <td>NaN</td>\n",
              "      <td>NaN</td>\n",
              "      <td>NaN</td>\n",
              "      <td>8.33</td>\n",
              "      <td>38928341.0</td>\n",
              "      <td>54.422</td>\n",
              "      <td>18.6</td>\n",
              "      <td>2.581</td>\n",
              "      <td>1.337</td>\n",
              "      <td>1803.987</td>\n",
              "      <td>NaN</td>\n",
              "      <td>597.029</td>\n",
              "      <td>9.59</td>\n",
              "      <td>NaN</td>\n",
              "      <td>NaN</td>\n",
              "      <td>37.746</td>\n",
              "      <td>0.5</td>\n",
              "      <td>64.83</td>\n",
              "      <td>0.498</td>\n",
              "    </tr>\n",
              "    <tr>\n",
              "      <th>4</th>\n",
              "      <td>AFG</td>\n",
              "      <td>Asia</td>\n",
              "      <td>Afghanistan</td>\n",
              "      <td>2020-02-28</td>\n",
              "      <td>1.0</td>\n",
              "      <td>0.0</td>\n",
              "      <td>NaN</td>\n",
              "      <td>NaN</td>\n",
              "      <td>NaN</td>\n",
              "      <td>NaN</td>\n",
              "      <td>0.026</td>\n",
              "      <td>0.000</td>\n",
              "      <td>NaN</td>\n",
              "      <td>NaN</td>\n",
              "      <td>NaN</td>\n",
              "      <td>NaN</td>\n",
              "      <td>NaN</td>\n",
              "      <td>NaN</td>\n",
              "      <td>NaN</td>\n",
              "      <td>NaN</td>\n",
              "      <td>NaN</td>\n",
              "      <td>NaN</td>\n",
              "      <td>NaN</td>\n",
              "      <td>NaN</td>\n",
              "      <td>NaN</td>\n",
              "      <td>NaN</td>\n",
              "      <td>NaN</td>\n",
              "      <td>NaN</td>\n",
              "      <td>NaN</td>\n",
              "      <td>NaN</td>\n",
              "      <td>NaN</td>\n",
              "      <td>NaN</td>\n",
              "      <td>NaN</td>\n",
              "      <td>NaN</td>\n",
              "      <td>NaN</td>\n",
              "      <td>NaN</td>\n",
              "      <td>NaN</td>\n",
              "      <td>NaN</td>\n",
              "      <td>NaN</td>\n",
              "      <td>NaN</td>\n",
              "      <td>NaN</td>\n",
              "      <td>NaN</td>\n",
              "      <td>NaN</td>\n",
              "      <td>8.33</td>\n",
              "      <td>38928341.0</td>\n",
              "      <td>54.422</td>\n",
              "      <td>18.6</td>\n",
              "      <td>2.581</td>\n",
              "      <td>1.337</td>\n",
              "      <td>1803.987</td>\n",
              "      <td>NaN</td>\n",
              "      <td>597.029</td>\n",
              "      <td>9.59</td>\n",
              "      <td>NaN</td>\n",
              "      <td>NaN</td>\n",
              "      <td>37.746</td>\n",
              "      <td>0.5</td>\n",
              "      <td>64.83</td>\n",
              "      <td>0.498</td>\n",
              "    </tr>\n",
              "  </tbody>\n",
              "</table>\n",
              "</div>"
            ],
            "text/plain": [
              "  iso_code continent  ... life_expectancy human_development_index\n",
              "0      AFG      Asia  ...           64.83                   0.498\n",
              "1      AFG      Asia  ...           64.83                   0.498\n",
              "2      AFG      Asia  ...           64.83                   0.498\n",
              "3      AFG      Asia  ...           64.83                   0.498\n",
              "4      AFG      Asia  ...           64.83                   0.498\n",
              "\n",
              "[5 rows x 59 columns]"
            ]
          },
          "metadata": {
            "tags": []
          },
          "execution_count": 68
        }
      ]
    },
    {
      "cell_type": "code",
      "metadata": {
        "id": "8WR92p3w0jVT",
        "colab": {
          "base_uri": "https://localhost:8080/"
        },
        "outputId": "baaaca32-862f-441b-fd4f-7b5dc6aec47f"
      },
      "source": [
        "df.nunique()"
      ],
      "execution_count": 69,
      "outputs": [
        {
          "output_type": "execute_result",
          "data": {
            "text/plain": [
              "iso_code                                   192\n",
              "continent                                    6\n",
              "location                                   200\n",
              "date                                       403\n",
              "total_cases                              34313\n",
              "new_cases                                 9391\n",
              "new_cases_smoothed                       17775\n",
              "total_deaths                             12928\n",
              "new_deaths                                2305\n",
              "new_deaths_smoothed                       5143\n",
              "total_cases_per_million                  48425\n",
              "new_cases_per_million                    27581\n",
              "new_cases_smoothed_per_million           31234\n",
              "total_deaths_per_million                 28379\n",
              "new_deaths_per_million                    5548\n",
              "new_deaths_smoothed_per_million           6782\n",
              "reproduction_rate                          356\n",
              "icu_patients                              1938\n",
              "icu_patients_per_million                  3956\n",
              "hosp_patients                             3696\n",
              "hosp_patients_per_million                 6291\n",
              "weekly_icu_admissions                      487\n",
              "weekly_icu_admissions_per_million          482\n",
              "weekly_hosp_admissions                     990\n",
              "weekly_hosp_admissions_per_million         987\n",
              "new_tests                                16890\n",
              "total_tests                              29553\n",
              "total_tests_per_thousand                 25397\n",
              "new_tests_per_thousand                    5359\n",
              "new_tests_smoothed                       18871\n",
              "new_tests_smoothed_per_thousand           5575\n",
              "positive_rate                              564\n",
              "tests_per_case                            4996\n",
              "tests_units                                  4\n",
              "total_vaccinations                        1465\n",
              "people_vaccinated                         1214\n",
              "people_fully_vaccinated                    624\n",
              "new_vaccinations                          1212\n",
              "new_vaccinations_smoothed                 1766\n",
              "total_vaccinations_per_hundred             555\n",
              "people_vaccinated_per_hundred              469\n",
              "people_fully_vaccinated_per_hundred        172\n",
              "new_vaccinations_smoothed_per_million     1264\n",
              "stringency_index                           175\n",
              "population                                 192\n",
              "population_density                         188\n",
              "median_age                                 131\n",
              "aged_65_older                              180\n",
              "aged_70_older                              178\n",
              "gdp_per_capita                             184\n",
              "extreme_poverty                             75\n",
              "cardiovasc_death_rate                      185\n",
              "diabetes_prevalence                        136\n",
              "female_smokers                             108\n",
              "male_smokers                               124\n",
              "handwashing_facilities                      95\n",
              "hospital_beds_per_thousand                 100\n",
              "life_expectancy                            179\n",
              "human_development_index                    159\n",
              "dtype: int64"
            ]
          },
          "metadata": {
            "tags": []
          },
          "execution_count": 69
        }
      ]
    },
    {
      "cell_type": "code",
      "metadata": {
        "id": "rJKLIS3U1Yy8",
        "colab": {
          "base_uri": "https://localhost:8080/"
        },
        "outputId": "0231f4ba-1c17-4244-cfca-ce8f68265de6"
      },
      "source": [
        "df.dtypes.value_counts()"
      ],
      "execution_count": 70,
      "outputs": [
        {
          "output_type": "execute_result",
          "data": {
            "text/plain": [
              "float64    54\n",
              "object      5\n",
              "dtype: int64"
            ]
          },
          "metadata": {
            "tags": []
          },
          "execution_count": 70
        }
      ]
    },
    {
      "cell_type": "code",
      "metadata": {
        "id": "-PtjDp0lgyPJ",
        "colab": {
          "base_uri": "https://localhost:8080/"
        },
        "outputId": "481babfd-9124-4b9b-a86c-2bc8c937f331"
      },
      "source": [
        "df.dtypes"
      ],
      "execution_count": 71,
      "outputs": [
        {
          "output_type": "execute_result",
          "data": {
            "text/plain": [
              "iso_code                                  object\n",
              "continent                                 object\n",
              "location                                  object\n",
              "date                                      object\n",
              "total_cases                              float64\n",
              "new_cases                                float64\n",
              "new_cases_smoothed                       float64\n",
              "total_deaths                             float64\n",
              "new_deaths                               float64\n",
              "new_deaths_smoothed                      float64\n",
              "total_cases_per_million                  float64\n",
              "new_cases_per_million                    float64\n",
              "new_cases_smoothed_per_million           float64\n",
              "total_deaths_per_million                 float64\n",
              "new_deaths_per_million                   float64\n",
              "new_deaths_smoothed_per_million          float64\n",
              "reproduction_rate                        float64\n",
              "icu_patients                             float64\n",
              "icu_patients_per_million                 float64\n",
              "hosp_patients                            float64\n",
              "hosp_patients_per_million                float64\n",
              "weekly_icu_admissions                    float64\n",
              "weekly_icu_admissions_per_million        float64\n",
              "weekly_hosp_admissions                   float64\n",
              "weekly_hosp_admissions_per_million       float64\n",
              "new_tests                                float64\n",
              "total_tests                              float64\n",
              "total_tests_per_thousand                 float64\n",
              "new_tests_per_thousand                   float64\n",
              "new_tests_smoothed                       float64\n",
              "new_tests_smoothed_per_thousand          float64\n",
              "positive_rate                            float64\n",
              "tests_per_case                           float64\n",
              "tests_units                               object\n",
              "total_vaccinations                       float64\n",
              "people_vaccinated                        float64\n",
              "people_fully_vaccinated                  float64\n",
              "new_vaccinations                         float64\n",
              "new_vaccinations_smoothed                float64\n",
              "total_vaccinations_per_hundred           float64\n",
              "people_vaccinated_per_hundred            float64\n",
              "people_fully_vaccinated_per_hundred      float64\n",
              "new_vaccinations_smoothed_per_million    float64\n",
              "stringency_index                         float64\n",
              "population                               float64\n",
              "population_density                       float64\n",
              "median_age                               float64\n",
              "aged_65_older                            float64\n",
              "aged_70_older                            float64\n",
              "gdp_per_capita                           float64\n",
              "extreme_poverty                          float64\n",
              "cardiovasc_death_rate                    float64\n",
              "diabetes_prevalence                      float64\n",
              "female_smokers                           float64\n",
              "male_smokers                             float64\n",
              "handwashing_facilities                   float64\n",
              "hospital_beds_per_thousand               float64\n",
              "life_expectancy                          float64\n",
              "human_development_index                  float64\n",
              "dtype: object"
            ]
          },
          "metadata": {
            "tags": []
          },
          "execution_count": 71
        }
      ]
    },
    {
      "cell_type": "markdown",
      "metadata": {
        "id": "RvrADuKYKNXG"
      },
      "source": [
        "### **Data Preprocessing**"
      ]
    },
    {
      "cell_type": "code",
      "metadata": {
        "id": "dvnrLOnViYk1"
      },
      "source": [
        "df.drop(['new_cases_smoothed','new_deaths_smoothed','new_cases_smoothed_per_million','new_deaths_smoothed_per_million',\n",
        "         'new_tests_smoothed_per_thousand','new_tests_smoothed', 'new_vaccinations_smoothed', 'new_vaccinations_smoothed_per_million'], axis=1, inplace=True)"
      ],
      "execution_count": 72,
      "outputs": []
    },
    {
      "cell_type": "code",
      "metadata": {
        "id": "XGqZfjVs8vfR"
      },
      "source": [
        "df = df[df.continent == 'Europe'] #filters europe only entries"
      ],
      "execution_count": 73,
      "outputs": []
    },
    {
      "cell_type": "code",
      "metadata": {
        "id": "fpPMT1LCyjES",
        "colab": {
          "base_uri": "https://localhost:8080/"
        },
        "outputId": "666b6fe6-5f5f-4266-ae79-02777af9330d"
      },
      "source": [
        "df.continent.value_counts() #reduced entries from 67K to 16K"
      ],
      "execution_count": 74,
      "outputs": [
        {
          "output_type": "execute_result",
          "data": {
            "text/plain": [
              "Europe    16203\n",
              "Name: continent, dtype: int64"
            ]
          },
          "metadata": {
            "tags": []
          },
          "execution_count": 74
        }
      ]
    },
    {
      "cell_type": "code",
      "metadata": {
        "id": "1jd4Doh9nCW-",
        "colab": {
          "base_uri": "https://localhost:8080/"
        },
        "outputId": "cb184513-7ba4-4792-86ef-3ab5d9ad6db3"
      },
      "source": [
        "\"\"\"\n",
        "Loop to select the countries with the most common entries\n",
        "INPUT: series of countries with number of entries\n",
        "OUTPUT: list of the most common countries with the number of entries\n",
        "\"\"\"\n",
        "\n",
        "i = 0\n",
        "theMostCommonCountry_List = []\n",
        "while i < 10:\n",
        "  part_index = str(df.location.value_counts().index[i])\n",
        "  theMostCommonCountry_List.append( part_index )\n",
        "  i = i + 1\n",
        "print(theMostCommonCountry_List)"
      ],
      "execution_count": 75,
      "outputs": [
        {
          "output_type": "stream",
          "text": [
            "['France', 'Switzerland', 'Germany', 'Finland', 'United Kingdom', 'Italy', 'Russia', 'Spain', 'Sweden', 'Estonia']\n"
          ],
          "name": "stdout"
        }
      ]
    },
    {
      "cell_type": "code",
      "metadata": {
        "id": "9lR6BW5sOEyp"
      },
      "source": [
        "df = df[df.location.isin(theMostCommonCountry_List)]  #filters entries by list of common countries"
      ],
      "execution_count": 76,
      "outputs": []
    },
    {
      "cell_type": "code",
      "metadata": {
        "id": "LPnU7LUIMrd6",
        "colab": {
          "base_uri": "https://localhost:8080/",
          "height": 0
        },
        "outputId": "77052274-4a28-4292-bc27-e3c86a57c725"
      },
      "source": [
        "df = df.reset_index()   #resets index\n",
        "df.drop(columns=['index','continent'], inplace=True) #drops old index column and continent becasue it is not needed\n",
        "df"
      ],
      "execution_count": 77,
      "outputs": [
        {
          "output_type": "execute_result",
          "data": {
            "text/html": [
              "<div>\n",
              "<style scoped>\n",
              "    .dataframe tbody tr th:only-of-type {\n",
              "        vertical-align: middle;\n",
              "    }\n",
              "\n",
              "    .dataframe tbody tr th {\n",
              "        vertical-align: top;\n",
              "    }\n",
              "\n",
              "    .dataframe thead th {\n",
              "        text-align: right;\n",
              "    }\n",
              "</style>\n",
              "<table border=\"1\" class=\"dataframe\">\n",
              "  <thead>\n",
              "    <tr style=\"text-align: right;\">\n",
              "      <th></th>\n",
              "      <th>iso_code</th>\n",
              "      <th>location</th>\n",
              "      <th>date</th>\n",
              "      <th>total_cases</th>\n",
              "      <th>new_cases</th>\n",
              "      <th>total_deaths</th>\n",
              "      <th>new_deaths</th>\n",
              "      <th>total_cases_per_million</th>\n",
              "      <th>new_cases_per_million</th>\n",
              "      <th>total_deaths_per_million</th>\n",
              "      <th>new_deaths_per_million</th>\n",
              "      <th>reproduction_rate</th>\n",
              "      <th>icu_patients</th>\n",
              "      <th>icu_patients_per_million</th>\n",
              "      <th>hosp_patients</th>\n",
              "      <th>hosp_patients_per_million</th>\n",
              "      <th>weekly_icu_admissions</th>\n",
              "      <th>weekly_icu_admissions_per_million</th>\n",
              "      <th>weekly_hosp_admissions</th>\n",
              "      <th>weekly_hosp_admissions_per_million</th>\n",
              "      <th>new_tests</th>\n",
              "      <th>total_tests</th>\n",
              "      <th>total_tests_per_thousand</th>\n",
              "      <th>new_tests_per_thousand</th>\n",
              "      <th>positive_rate</th>\n",
              "      <th>tests_per_case</th>\n",
              "      <th>tests_units</th>\n",
              "      <th>total_vaccinations</th>\n",
              "      <th>people_vaccinated</th>\n",
              "      <th>people_fully_vaccinated</th>\n",
              "      <th>new_vaccinations</th>\n",
              "      <th>total_vaccinations_per_hundred</th>\n",
              "      <th>people_vaccinated_per_hundred</th>\n",
              "      <th>people_fully_vaccinated_per_hundred</th>\n",
              "      <th>stringency_index</th>\n",
              "      <th>population</th>\n",
              "      <th>population_density</th>\n",
              "      <th>median_age</th>\n",
              "      <th>aged_65_older</th>\n",
              "      <th>aged_70_older</th>\n",
              "      <th>gdp_per_capita</th>\n",
              "      <th>extreme_poverty</th>\n",
              "      <th>cardiovasc_death_rate</th>\n",
              "      <th>diabetes_prevalence</th>\n",
              "      <th>female_smokers</th>\n",
              "      <th>male_smokers</th>\n",
              "      <th>handwashing_facilities</th>\n",
              "      <th>hospital_beds_per_thousand</th>\n",
              "      <th>life_expectancy</th>\n",
              "      <th>human_development_index</th>\n",
              "    </tr>\n",
              "  </thead>\n",
              "  <tbody>\n",
              "    <tr>\n",
              "      <th>0</th>\n",
              "      <td>EST</td>\n",
              "      <td>Estonia</td>\n",
              "      <td>2020-02-01</td>\n",
              "      <td>NaN</td>\n",
              "      <td>NaN</td>\n",
              "      <td>NaN</td>\n",
              "      <td>NaN</td>\n",
              "      <td>NaN</td>\n",
              "      <td>NaN</td>\n",
              "      <td>NaN</td>\n",
              "      <td>NaN</td>\n",
              "      <td>NaN</td>\n",
              "      <td>NaN</td>\n",
              "      <td>NaN</td>\n",
              "      <td>1.0</td>\n",
              "      <td>0.754</td>\n",
              "      <td>NaN</td>\n",
              "      <td>NaN</td>\n",
              "      <td>NaN</td>\n",
              "      <td>NaN</td>\n",
              "      <td>NaN</td>\n",
              "      <td>NaN</td>\n",
              "      <td>NaN</td>\n",
              "      <td>NaN</td>\n",
              "      <td>NaN</td>\n",
              "      <td>NaN</td>\n",
              "      <td>NaN</td>\n",
              "      <td>NaN</td>\n",
              "      <td>NaN</td>\n",
              "      <td>NaN</td>\n",
              "      <td>NaN</td>\n",
              "      <td>NaN</td>\n",
              "      <td>NaN</td>\n",
              "      <td>NaN</td>\n",
              "      <td>0.0</td>\n",
              "      <td>1326539.0</td>\n",
              "      <td>31.033</td>\n",
              "      <td>42.7</td>\n",
              "      <td>19.452</td>\n",
              "      <td>13.491</td>\n",
              "      <td>29481.252</td>\n",
              "      <td>0.5</td>\n",
              "      <td>255.569</td>\n",
              "      <td>4.02</td>\n",
              "      <td>24.5</td>\n",
              "      <td>39.3</td>\n",
              "      <td>NaN</td>\n",
              "      <td>4.69</td>\n",
              "      <td>78.74</td>\n",
              "      <td>0.871</td>\n",
              "    </tr>\n",
              "    <tr>\n",
              "      <th>1</th>\n",
              "      <td>EST</td>\n",
              "      <td>Estonia</td>\n",
              "      <td>2020-02-02</td>\n",
              "      <td>NaN</td>\n",
              "      <td>NaN</td>\n",
              "      <td>NaN</td>\n",
              "      <td>NaN</td>\n",
              "      <td>NaN</td>\n",
              "      <td>NaN</td>\n",
              "      <td>NaN</td>\n",
              "      <td>NaN</td>\n",
              "      <td>NaN</td>\n",
              "      <td>NaN</td>\n",
              "      <td>NaN</td>\n",
              "      <td>1.0</td>\n",
              "      <td>0.754</td>\n",
              "      <td>NaN</td>\n",
              "      <td>NaN</td>\n",
              "      <td>NaN</td>\n",
              "      <td>NaN</td>\n",
              "      <td>NaN</td>\n",
              "      <td>NaN</td>\n",
              "      <td>NaN</td>\n",
              "      <td>NaN</td>\n",
              "      <td>NaN</td>\n",
              "      <td>NaN</td>\n",
              "      <td>NaN</td>\n",
              "      <td>NaN</td>\n",
              "      <td>NaN</td>\n",
              "      <td>NaN</td>\n",
              "      <td>NaN</td>\n",
              "      <td>NaN</td>\n",
              "      <td>NaN</td>\n",
              "      <td>NaN</td>\n",
              "      <td>0.0</td>\n",
              "      <td>1326539.0</td>\n",
              "      <td>31.033</td>\n",
              "      <td>42.7</td>\n",
              "      <td>19.452</td>\n",
              "      <td>13.491</td>\n",
              "      <td>29481.252</td>\n",
              "      <td>0.5</td>\n",
              "      <td>255.569</td>\n",
              "      <td>4.02</td>\n",
              "      <td>24.5</td>\n",
              "      <td>39.3</td>\n",
              "      <td>NaN</td>\n",
              "      <td>4.69</td>\n",
              "      <td>78.74</td>\n",
              "      <td>0.871</td>\n",
              "    </tr>\n",
              "    <tr>\n",
              "      <th>2</th>\n",
              "      <td>EST</td>\n",
              "      <td>Estonia</td>\n",
              "      <td>2020-02-03</td>\n",
              "      <td>NaN</td>\n",
              "      <td>NaN</td>\n",
              "      <td>NaN</td>\n",
              "      <td>NaN</td>\n",
              "      <td>NaN</td>\n",
              "      <td>NaN</td>\n",
              "      <td>NaN</td>\n",
              "      <td>NaN</td>\n",
              "      <td>NaN</td>\n",
              "      <td>NaN</td>\n",
              "      <td>NaN</td>\n",
              "      <td>1.0</td>\n",
              "      <td>0.754</td>\n",
              "      <td>NaN</td>\n",
              "      <td>NaN</td>\n",
              "      <td>NaN</td>\n",
              "      <td>NaN</td>\n",
              "      <td>NaN</td>\n",
              "      <td>NaN</td>\n",
              "      <td>NaN</td>\n",
              "      <td>NaN</td>\n",
              "      <td>NaN</td>\n",
              "      <td>NaN</td>\n",
              "      <td>NaN</td>\n",
              "      <td>NaN</td>\n",
              "      <td>NaN</td>\n",
              "      <td>NaN</td>\n",
              "      <td>NaN</td>\n",
              "      <td>NaN</td>\n",
              "      <td>NaN</td>\n",
              "      <td>NaN</td>\n",
              "      <td>0.0</td>\n",
              "      <td>1326539.0</td>\n",
              "      <td>31.033</td>\n",
              "      <td>42.7</td>\n",
              "      <td>19.452</td>\n",
              "      <td>13.491</td>\n",
              "      <td>29481.252</td>\n",
              "      <td>0.5</td>\n",
              "      <td>255.569</td>\n",
              "      <td>4.02</td>\n",
              "      <td>24.5</td>\n",
              "      <td>39.3</td>\n",
              "      <td>NaN</td>\n",
              "      <td>4.69</td>\n",
              "      <td>78.74</td>\n",
              "      <td>0.871</td>\n",
              "    </tr>\n",
              "    <tr>\n",
              "      <th>3</th>\n",
              "      <td>EST</td>\n",
              "      <td>Estonia</td>\n",
              "      <td>2020-02-04</td>\n",
              "      <td>NaN</td>\n",
              "      <td>NaN</td>\n",
              "      <td>NaN</td>\n",
              "      <td>NaN</td>\n",
              "      <td>NaN</td>\n",
              "      <td>NaN</td>\n",
              "      <td>NaN</td>\n",
              "      <td>NaN</td>\n",
              "      <td>NaN</td>\n",
              "      <td>NaN</td>\n",
              "      <td>NaN</td>\n",
              "      <td>1.0</td>\n",
              "      <td>0.754</td>\n",
              "      <td>NaN</td>\n",
              "      <td>NaN</td>\n",
              "      <td>NaN</td>\n",
              "      <td>NaN</td>\n",
              "      <td>NaN</td>\n",
              "      <td>NaN</td>\n",
              "      <td>NaN</td>\n",
              "      <td>NaN</td>\n",
              "      <td>NaN</td>\n",
              "      <td>NaN</td>\n",
              "      <td>NaN</td>\n",
              "      <td>NaN</td>\n",
              "      <td>NaN</td>\n",
              "      <td>NaN</td>\n",
              "      <td>NaN</td>\n",
              "      <td>NaN</td>\n",
              "      <td>NaN</td>\n",
              "      <td>NaN</td>\n",
              "      <td>0.0</td>\n",
              "      <td>1326539.0</td>\n",
              "      <td>31.033</td>\n",
              "      <td>42.7</td>\n",
              "      <td>19.452</td>\n",
              "      <td>13.491</td>\n",
              "      <td>29481.252</td>\n",
              "      <td>0.5</td>\n",
              "      <td>255.569</td>\n",
              "      <td>4.02</td>\n",
              "      <td>24.5</td>\n",
              "      <td>39.3</td>\n",
              "      <td>NaN</td>\n",
              "      <td>4.69</td>\n",
              "      <td>78.74</td>\n",
              "      <td>0.871</td>\n",
              "    </tr>\n",
              "    <tr>\n",
              "      <th>4</th>\n",
              "      <td>EST</td>\n",
              "      <td>Estonia</td>\n",
              "      <td>2020-02-05</td>\n",
              "      <td>NaN</td>\n",
              "      <td>NaN</td>\n",
              "      <td>NaN</td>\n",
              "      <td>NaN</td>\n",
              "      <td>NaN</td>\n",
              "      <td>NaN</td>\n",
              "      <td>NaN</td>\n",
              "      <td>NaN</td>\n",
              "      <td>NaN</td>\n",
              "      <td>NaN</td>\n",
              "      <td>NaN</td>\n",
              "      <td>1.0</td>\n",
              "      <td>0.754</td>\n",
              "      <td>NaN</td>\n",
              "      <td>NaN</td>\n",
              "      <td>NaN</td>\n",
              "      <td>NaN</td>\n",
              "      <td>NaN</td>\n",
              "      <td>NaN</td>\n",
              "      <td>NaN</td>\n",
              "      <td>NaN</td>\n",
              "      <td>NaN</td>\n",
              "      <td>NaN</td>\n",
              "      <td>NaN</td>\n",
              "      <td>NaN</td>\n",
              "      <td>NaN</td>\n",
              "      <td>NaN</td>\n",
              "      <td>NaN</td>\n",
              "      <td>NaN</td>\n",
              "      <td>NaN</td>\n",
              "      <td>NaN</td>\n",
              "      <td>0.0</td>\n",
              "      <td>1326539.0</td>\n",
              "      <td>31.033</td>\n",
              "      <td>42.7</td>\n",
              "      <td>19.452</td>\n",
              "      <td>13.491</td>\n",
              "      <td>29481.252</td>\n",
              "      <td>0.5</td>\n",
              "      <td>255.569</td>\n",
              "      <td>4.02</td>\n",
              "      <td>24.5</td>\n",
              "      <td>39.3</td>\n",
              "      <td>NaN</td>\n",
              "      <td>4.69</td>\n",
              "      <td>78.74</td>\n",
              "      <td>0.871</td>\n",
              "    </tr>\n",
              "    <tr>\n",
              "      <th>...</th>\n",
              "      <td>...</td>\n",
              "      <td>...</td>\n",
              "      <td>...</td>\n",
              "      <td>...</td>\n",
              "      <td>...</td>\n",
              "      <td>...</td>\n",
              "      <td>...</td>\n",
              "      <td>...</td>\n",
              "      <td>...</td>\n",
              "      <td>...</td>\n",
              "      <td>...</td>\n",
              "      <td>...</td>\n",
              "      <td>...</td>\n",
              "      <td>...</td>\n",
              "      <td>...</td>\n",
              "      <td>...</td>\n",
              "      <td>...</td>\n",
              "      <td>...</td>\n",
              "      <td>...</td>\n",
              "      <td>...</td>\n",
              "      <td>...</td>\n",
              "      <td>...</td>\n",
              "      <td>...</td>\n",
              "      <td>...</td>\n",
              "      <td>...</td>\n",
              "      <td>...</td>\n",
              "      <td>...</td>\n",
              "      <td>...</td>\n",
              "      <td>...</td>\n",
              "      <td>...</td>\n",
              "      <td>...</td>\n",
              "      <td>...</td>\n",
              "      <td>...</td>\n",
              "      <td>...</td>\n",
              "      <td>...</td>\n",
              "      <td>...</td>\n",
              "      <td>...</td>\n",
              "      <td>...</td>\n",
              "      <td>...</td>\n",
              "      <td>...</td>\n",
              "      <td>...</td>\n",
              "      <td>...</td>\n",
              "      <td>...</td>\n",
              "      <td>...</td>\n",
              "      <td>...</td>\n",
              "      <td>...</td>\n",
              "      <td>...</td>\n",
              "      <td>...</td>\n",
              "      <td>...</td>\n",
              "      <td>...</td>\n",
              "    </tr>\n",
              "    <tr>\n",
              "      <th>3742</th>\n",
              "      <td>GBR</td>\n",
              "      <td>United Kingdom</td>\n",
              "      <td>2021-02-02</td>\n",
              "      <td>3863757.0</td>\n",
              "      <td>16906.0</td>\n",
              "      <td>108225.0</td>\n",
              "      <td>1451.0</td>\n",
              "      <td>56915.369</td>\n",
              "      <td>249.035</td>\n",
              "      <td>1594.217</td>\n",
              "      <td>21.374</td>\n",
              "      <td>NaN</td>\n",
              "      <td>3638.0</td>\n",
              "      <td>53.590</td>\n",
              "      <td>31670.0</td>\n",
              "      <td>466.517</td>\n",
              "      <td>NaN</td>\n",
              "      <td>NaN</td>\n",
              "      <td>NaN</td>\n",
              "      <td>NaN</td>\n",
              "      <td>606382.0</td>\n",
              "      <td>71642534.0</td>\n",
              "      <td>1055.336</td>\n",
              "      <td>8.932</td>\n",
              "      <td>0.036</td>\n",
              "      <td>28.1</td>\n",
              "      <td>tests performed</td>\n",
              "      <td>10520433.0</td>\n",
              "      <td>10021471.0</td>\n",
              "      <td>498962.0</td>\n",
              "      <td>376922.0</td>\n",
              "      <td>15.50</td>\n",
              "      <td>14.76</td>\n",
              "      <td>0.73</td>\n",
              "      <td>NaN</td>\n",
              "      <td>67886004.0</td>\n",
              "      <td>272.898</td>\n",
              "      <td>40.8</td>\n",
              "      <td>18.517</td>\n",
              "      <td>12.527</td>\n",
              "      <td>39753.244</td>\n",
              "      <td>0.2</td>\n",
              "      <td>122.137</td>\n",
              "      <td>4.28</td>\n",
              "      <td>20.0</td>\n",
              "      <td>24.7</td>\n",
              "      <td>NaN</td>\n",
              "      <td>2.54</td>\n",
              "      <td>81.32</td>\n",
              "      <td>0.922</td>\n",
              "    </tr>\n",
              "    <tr>\n",
              "      <th>3743</th>\n",
              "      <td>GBR</td>\n",
              "      <td>United Kingdom</td>\n",
              "      <td>2021-02-03</td>\n",
              "      <td>3882972.0</td>\n",
              "      <td>19215.0</td>\n",
              "      <td>109547.0</td>\n",
              "      <td>1322.0</td>\n",
              "      <td>57198.418</td>\n",
              "      <td>283.048</td>\n",
              "      <td>1613.691</td>\n",
              "      <td>19.474</td>\n",
              "      <td>NaN</td>\n",
              "      <td>3625.0</td>\n",
              "      <td>53.398</td>\n",
              "      <td>NaN</td>\n",
              "      <td>NaN</td>\n",
              "      <td>NaN</td>\n",
              "      <td>NaN</td>\n",
              "      <td>NaN</td>\n",
              "      <td>NaN</td>\n",
              "      <td>801949.0</td>\n",
              "      <td>72464146.0</td>\n",
              "      <td>1067.439</td>\n",
              "      <td>11.813</td>\n",
              "      <td>0.034</td>\n",
              "      <td>29.5</td>\n",
              "      <td>tests performed</td>\n",
              "      <td>10992444.0</td>\n",
              "      <td>10490487.0</td>\n",
              "      <td>501957.0</td>\n",
              "      <td>472011.0</td>\n",
              "      <td>16.19</td>\n",
              "      <td>15.45</td>\n",
              "      <td>0.74</td>\n",
              "      <td>NaN</td>\n",
              "      <td>67886004.0</td>\n",
              "      <td>272.898</td>\n",
              "      <td>40.8</td>\n",
              "      <td>18.517</td>\n",
              "      <td>12.527</td>\n",
              "      <td>39753.244</td>\n",
              "      <td>0.2</td>\n",
              "      <td>122.137</td>\n",
              "      <td>4.28</td>\n",
              "      <td>20.0</td>\n",
              "      <td>24.7</td>\n",
              "      <td>NaN</td>\n",
              "      <td>2.54</td>\n",
              "      <td>81.32</td>\n",
              "      <td>0.922</td>\n",
              "    </tr>\n",
              "    <tr>\n",
              "      <th>3744</th>\n",
              "      <td>GBR</td>\n",
              "      <td>United Kingdom</td>\n",
              "      <td>2021-02-04</td>\n",
              "      <td>3903706.0</td>\n",
              "      <td>20734.0</td>\n",
              "      <td>110462.0</td>\n",
              "      <td>915.0</td>\n",
              "      <td>57503.841</td>\n",
              "      <td>305.424</td>\n",
              "      <td>1627.169</td>\n",
              "      <td>13.478</td>\n",
              "      <td>NaN</td>\n",
              "      <td>NaN</td>\n",
              "      <td>NaN</td>\n",
              "      <td>NaN</td>\n",
              "      <td>NaN</td>\n",
              "      <td>NaN</td>\n",
              "      <td>NaN</td>\n",
              "      <td>NaN</td>\n",
              "      <td>NaN</td>\n",
              "      <td>NaN</td>\n",
              "      <td>NaN</td>\n",
              "      <td>NaN</td>\n",
              "      <td>NaN</td>\n",
              "      <td>NaN</td>\n",
              "      <td>NaN</td>\n",
              "      <td>NaN</td>\n",
              "      <td>11477040.0</td>\n",
              "      <td>10971047.0</td>\n",
              "      <td>505993.0</td>\n",
              "      <td>484596.0</td>\n",
              "      <td>16.91</td>\n",
              "      <td>16.16</td>\n",
              "      <td>0.75</td>\n",
              "      <td>NaN</td>\n",
              "      <td>67886004.0</td>\n",
              "      <td>272.898</td>\n",
              "      <td>40.8</td>\n",
              "      <td>18.517</td>\n",
              "      <td>12.527</td>\n",
              "      <td>39753.244</td>\n",
              "      <td>0.2</td>\n",
              "      <td>122.137</td>\n",
              "      <td>4.28</td>\n",
              "      <td>20.0</td>\n",
              "      <td>24.7</td>\n",
              "      <td>NaN</td>\n",
              "      <td>2.54</td>\n",
              "      <td>81.32</td>\n",
              "      <td>0.922</td>\n",
              "    </tr>\n",
              "    <tr>\n",
              "      <th>3745</th>\n",
              "      <td>GBR</td>\n",
              "      <td>United Kingdom</td>\n",
              "      <td>2021-02-05</td>\n",
              "      <td>3922910.0</td>\n",
              "      <td>19204.0</td>\n",
              "      <td>111477.0</td>\n",
              "      <td>1015.0</td>\n",
              "      <td>57786.727</td>\n",
              "      <td>282.886</td>\n",
              "      <td>1642.121</td>\n",
              "      <td>14.952</td>\n",
              "      <td>NaN</td>\n",
              "      <td>NaN</td>\n",
              "      <td>NaN</td>\n",
              "      <td>NaN</td>\n",
              "      <td>NaN</td>\n",
              "      <td>NaN</td>\n",
              "      <td>NaN</td>\n",
              "      <td>NaN</td>\n",
              "      <td>NaN</td>\n",
              "      <td>NaN</td>\n",
              "      <td>NaN</td>\n",
              "      <td>NaN</td>\n",
              "      <td>NaN</td>\n",
              "      <td>NaN</td>\n",
              "      <td>NaN</td>\n",
              "      <td>NaN</td>\n",
              "      <td>11975267.0</td>\n",
              "      <td>11465210.0</td>\n",
              "      <td>510057.0</td>\n",
              "      <td>498227.0</td>\n",
              "      <td>17.64</td>\n",
              "      <td>16.89</td>\n",
              "      <td>0.75</td>\n",
              "      <td>NaN</td>\n",
              "      <td>67886004.0</td>\n",
              "      <td>272.898</td>\n",
              "      <td>40.8</td>\n",
              "      <td>18.517</td>\n",
              "      <td>12.527</td>\n",
              "      <td>39753.244</td>\n",
              "      <td>0.2</td>\n",
              "      <td>122.137</td>\n",
              "      <td>4.28</td>\n",
              "      <td>20.0</td>\n",
              "      <td>24.7</td>\n",
              "      <td>NaN</td>\n",
              "      <td>2.54</td>\n",
              "      <td>81.32</td>\n",
              "      <td>0.922</td>\n",
              "    </tr>\n",
              "    <tr>\n",
              "      <th>3746</th>\n",
              "      <td>GBR</td>\n",
              "      <td>United Kingdom</td>\n",
              "      <td>2021-02-06</td>\n",
              "      <td>3941273.0</td>\n",
              "      <td>18363.0</td>\n",
              "      <td>112305.0</td>\n",
              "      <td>828.0</td>\n",
              "      <td>58057.225</td>\n",
              "      <td>270.498</td>\n",
              "      <td>1654.317</td>\n",
              "      <td>12.197</td>\n",
              "      <td>NaN</td>\n",
              "      <td>NaN</td>\n",
              "      <td>NaN</td>\n",
              "      <td>NaN</td>\n",
              "      <td>NaN</td>\n",
              "      <td>NaN</td>\n",
              "      <td>NaN</td>\n",
              "      <td>NaN</td>\n",
              "      <td>NaN</td>\n",
              "      <td>NaN</td>\n",
              "      <td>NaN</td>\n",
              "      <td>NaN</td>\n",
              "      <td>NaN</td>\n",
              "      <td>NaN</td>\n",
              "      <td>NaN</td>\n",
              "      <td>NaN</td>\n",
              "      <td>NaN</td>\n",
              "      <td>NaN</td>\n",
              "      <td>NaN</td>\n",
              "      <td>NaN</td>\n",
              "      <td>NaN</td>\n",
              "      <td>NaN</td>\n",
              "      <td>NaN</td>\n",
              "      <td>NaN</td>\n",
              "      <td>67886004.0</td>\n",
              "      <td>272.898</td>\n",
              "      <td>40.8</td>\n",
              "      <td>18.517</td>\n",
              "      <td>12.527</td>\n",
              "      <td>39753.244</td>\n",
              "      <td>0.2</td>\n",
              "      <td>122.137</td>\n",
              "      <td>4.28</td>\n",
              "      <td>20.0</td>\n",
              "      <td>24.7</td>\n",
              "      <td>NaN</td>\n",
              "      <td>2.54</td>\n",
              "      <td>81.32</td>\n",
              "      <td>0.922</td>\n",
              "    </tr>\n",
              "  </tbody>\n",
              "</table>\n",
              "<p>3747 rows × 50 columns</p>\n",
              "</div>"
            ],
            "text/plain": [
              "     iso_code        location  ... life_expectancy  human_development_index\n",
              "0         EST         Estonia  ...           78.74                    0.871\n",
              "1         EST         Estonia  ...           78.74                    0.871\n",
              "2         EST         Estonia  ...           78.74                    0.871\n",
              "3         EST         Estonia  ...           78.74                    0.871\n",
              "4         EST         Estonia  ...           78.74                    0.871\n",
              "...       ...             ...  ...             ...                      ...\n",
              "3742      GBR  United Kingdom  ...           81.32                    0.922\n",
              "3743      GBR  United Kingdom  ...           81.32                    0.922\n",
              "3744      GBR  United Kingdom  ...           81.32                    0.922\n",
              "3745      GBR  United Kingdom  ...           81.32                    0.922\n",
              "3746      GBR  United Kingdom  ...           81.32                    0.922\n",
              "\n",
              "[3747 rows x 50 columns]"
            ]
          },
          "metadata": {
            "tags": []
          },
          "execution_count": 77
        }
      ]
    },
    {
      "cell_type": "code",
      "metadata": {
        "id": "1OeGU_1kSwiG",
        "colab": {
          "base_uri": "https://localhost:8080/"
        },
        "outputId": "0f9c7872-add7-430e-f5c4-07b7c495c736"
      },
      "source": [
        "\"\"\"\n",
        "Loop for checking which features are object type\n",
        "INPUT: pandas series\n",
        "OUTPUT: list of objects\n",
        "\"\"\"\n",
        "list_of_objects = []\n",
        "x=0\n",
        "while x < len(df.columns):\n",
        "  if df.dtypes.values[x] == object:\n",
        "    list_of_objects.append(df.dtypes.index[x])\n",
        "  x = x + 1\n",
        "print(list_of_objects)"
      ],
      "execution_count": 78,
      "outputs": [
        {
          "output_type": "stream",
          "text": [
            "['iso_code', 'location', 'date', 'tests_units']\n"
          ],
          "name": "stdout"
        }
      ]
    },
    {
      "cell_type": "code",
      "metadata": {
        "id": "EOdd1Gjag2NF"
      },
      "source": [
        "df.iso_code = LabelEncoder().fit_transform(df.iso_code)\n",
        "df.location = LabelEncoder().fit_transform(df.location)\n",
        "df.date = LabelEncoder().fit_transform(df.date)"
      ],
      "execution_count": 79,
      "outputs": []
    },
    {
      "cell_type": "code",
      "metadata": {
        "colab": {
          "base_uri": "https://localhost:8080/"
        },
        "id": "HR7wBbClj2zU",
        "outputId": "16a25344-4e5f-4459-c662-33785bc7e5d3"
      },
      "source": [
        "df.tests_units.fillna('Not Tested', inplace=True)\n",
        "df.tests_units.value_counts()"
      ],
      "execution_count": 80,
      "outputs": [
        {
          "output_type": "execute_result",
          "data": {
            "text/plain": [
              "tests performed    2877\n",
              "Not Tested          605\n",
              "people tested       265\n",
              "Name: tests_units, dtype: int64"
            ]
          },
          "metadata": {
            "tags": []
          },
          "execution_count": 80
        }
      ]
    },
    {
      "cell_type": "code",
      "metadata": {
        "colab": {
          "base_uri": "https://localhost:8080/"
        },
        "id": "M-KqKxxWk5O1",
        "outputId": "80e2165e-19ba-45d3-ff2b-1c8a6ed2c8ff"
      },
      "source": [
        "df.tests_units = df.tests_units.replace(['tests performed', 'people tested'], 'Tested')\n",
        "df.tests_units.value_counts()"
      ],
      "execution_count": 81,
      "outputs": [
        {
          "output_type": "execute_result",
          "data": {
            "text/plain": [
              "Tested        3142\n",
              "Not Tested     605\n",
              "Name: tests_units, dtype: int64"
            ]
          },
          "metadata": {
            "tags": []
          },
          "execution_count": 81
        }
      ]
    },
    {
      "cell_type": "code",
      "metadata": {
        "id": "nVhzNoQYlS7k"
      },
      "source": [
        "df.tests_units = LabelEncoder().fit_transform(df.tests_units)"
      ],
      "execution_count": 82,
      "outputs": []
    },
    {
      "cell_type": "code",
      "metadata": {
        "colab": {
          "base_uri": "https://localhost:8080/"
        },
        "id": "z3FLzZEJcv6_",
        "outputId": "034bed58-bf6d-4dd8-c137-2bf9f03957a7"
      },
      "source": [
        "df.dtypes"
      ],
      "execution_count": 83,
      "outputs": [
        {
          "output_type": "execute_result",
          "data": {
            "text/plain": [
              "iso_code                                 int64\n",
              "location                                 int64\n",
              "date                                     int64\n",
              "total_cases                            float64\n",
              "new_cases                              float64\n",
              "total_deaths                           float64\n",
              "new_deaths                             float64\n",
              "total_cases_per_million                float64\n",
              "new_cases_per_million                  float64\n",
              "total_deaths_per_million               float64\n",
              "new_deaths_per_million                 float64\n",
              "reproduction_rate                      float64\n",
              "icu_patients                           float64\n",
              "icu_patients_per_million               float64\n",
              "hosp_patients                          float64\n",
              "hosp_patients_per_million              float64\n",
              "weekly_icu_admissions                  float64\n",
              "weekly_icu_admissions_per_million      float64\n",
              "weekly_hosp_admissions                 float64\n",
              "weekly_hosp_admissions_per_million     float64\n",
              "new_tests                              float64\n",
              "total_tests                            float64\n",
              "total_tests_per_thousand               float64\n",
              "new_tests_per_thousand                 float64\n",
              "positive_rate                          float64\n",
              "tests_per_case                         float64\n",
              "tests_units                              int64\n",
              "total_vaccinations                     float64\n",
              "people_vaccinated                      float64\n",
              "people_fully_vaccinated                float64\n",
              "new_vaccinations                       float64\n",
              "total_vaccinations_per_hundred         float64\n",
              "people_vaccinated_per_hundred          float64\n",
              "people_fully_vaccinated_per_hundred    float64\n",
              "stringency_index                       float64\n",
              "population                             float64\n",
              "population_density                     float64\n",
              "median_age                             float64\n",
              "aged_65_older                          float64\n",
              "aged_70_older                          float64\n",
              "gdp_per_capita                         float64\n",
              "extreme_poverty                        float64\n",
              "cardiovasc_death_rate                  float64\n",
              "diabetes_prevalence                    float64\n",
              "female_smokers                         float64\n",
              "male_smokers                           float64\n",
              "handwashing_facilities                 float64\n",
              "hospital_beds_per_thousand             float64\n",
              "life_expectancy                        float64\n",
              "human_development_index                float64\n",
              "dtype: object"
            ]
          },
          "metadata": {
            "tags": []
          },
          "execution_count": 83
        }
      ]
    },
    {
      "cell_type": "code",
      "metadata": {
        "id": "dRSZtnh0TaXP",
        "colab": {
          "base_uri": "https://localhost:8080/"
        },
        "outputId": "906e146b-ef12-432e-a388-35f857b326a8"
      },
      "source": [
        "df.location.value_counts() #counts amount of entrires "
      ],
      "execution_count": 84,
      "outputs": [
        {
          "output_type": "execute_result",
          "data": {
            "text/plain": [
              "8    380\n",
              "2    380\n",
              "3    377\n",
              "1    375\n",
              "9    373\n",
              "5    373\n",
              "4    373\n",
              "7    372\n",
              "6    372\n",
              "0    372\n",
              "Name: location, dtype: int64"
            ]
          },
          "metadata": {
            "tags": []
          },
          "execution_count": 84
        }
      ]
    },
    {
      "cell_type": "code",
      "metadata": {
        "id": "vc8CQwl2S3d6",
        "colab": {
          "base_uri": "https://localhost:8080/"
        },
        "outputId": "c0cb2c51-a36a-4e0a-9a7e-7c18c7a3c0ff"
      },
      "source": [
        "correlation_matrix = df.corr().round(2) \n",
        "correlation_matrix.shape #checks size of the matrix"
      ],
      "execution_count": 85,
      "outputs": [
        {
          "output_type": "execute_result",
          "data": {
            "text/plain": [
              "(50, 50)"
            ]
          },
          "metadata": {
            "tags": []
          },
          "execution_count": 85
        }
      ]
    },
    {
      "cell_type": "code",
      "metadata": {
        "id": "BNf1Em9Mon-u",
        "colab": {
          "base_uri": "https://localhost:8080/"
        },
        "outputId": "63577762-4253-4d9c-afd3-4c3d36bc7861"
      },
      "source": [
        "df.isna().sum() #counts NA values"
      ],
      "execution_count": 86,
      "outputs": [
        {
          "output_type": "execute_result",
          "data": {
            "text/plain": [
              "iso_code                                  0\n",
              "location                                  0\n",
              "date                                      0\n",
              "total_cases                              58\n",
              "new_cases                                58\n",
              "total_deaths                            383\n",
              "new_deaths                              383\n",
              "total_cases_per_million                  58\n",
              "new_cases_per_million                    58\n",
              "total_deaths_per_million                383\n",
              "new_deaths_per_million                  383\n",
              "reproduction_rate                       521\n",
              "icu_patients                           1448\n",
              "icu_patients_per_million               1448\n",
              "hosp_patients                          1735\n",
              "hosp_patients_per_million              1735\n",
              "weekly_icu_admissions                  3562\n",
              "weekly_icu_admissions_per_million      3562\n",
              "weekly_hosp_admissions                 3452\n",
              "weekly_hosp_admissions_per_million     3452\n",
              "new_tests                              1243\n",
              "total_tests                            1609\n",
              "total_tests_per_thousand               1609\n",
              "new_tests_per_thousand                 1243\n",
              "positive_rate                           943\n",
              "tests_per_case                          966\n",
              "tests_units                               0\n",
              "total_vaccinations                     3478\n",
              "people_vaccinated                      3535\n",
              "people_fully_vaccinated                3618\n",
              "new_vaccinations                       3520\n",
              "total_vaccinations_per_hundred         3478\n",
              "people_vaccinated_per_hundred          3535\n",
              "people_fully_vaccinated_per_hundred    3618\n",
              "stringency_index                         33\n",
              "population                                0\n",
              "population_density                        0\n",
              "median_age                                0\n",
              "aged_65_older                             0\n",
              "aged_70_older                             0\n",
              "gdp_per_capita                            0\n",
              "extreme_poverty                        1512\n",
              "cardiovasc_death_rate                     0\n",
              "diabetes_prevalence                       0\n",
              "female_smokers                            0\n",
              "male_smokers                              0\n",
              "handwashing_facilities                 3747\n",
              "hospital_beds_per_thousand                0\n",
              "life_expectancy                           0\n",
              "human_development_index                   0\n",
              "dtype: int64"
            ]
          },
          "metadata": {
            "tags": []
          },
          "execution_count": 86
        }
      ]
    },
    {
      "cell_type": "code",
      "metadata": {
        "id": "xPGzsisOrRQB"
      },
      "source": [
        "df = df.drop(columns=['handwashing_facilities','weekly_icu_admissions',\n",
        "                      'weekly_icu_admissions_per_million', 'weekly_hosp_admissions', \n",
        "                      'weekly_hosp_admissions_per_million', 'icu_patients_per_million',\n",
        "                      'hosp_patients_per_million', 'total_cases_per_million', 'new_cases_per_million',\n",
        "                      'total_deaths_per_million', \n",
        "                      ]) #drops those columns from the dataset"
      ],
      "execution_count": 87,
      "outputs": []
    },
    {
      "cell_type": "markdown",
      "metadata": {
        "id": "TBPX3EY7qdBp"
      },
      "source": [
        "### **Target Dataset Preprocessing**"
      ]
    },
    {
      "cell_type": "code",
      "metadata": {
        "colab": {
          "base_uri": "https://localhost:8080/"
        },
        "id": "EceT-j5TqcZu",
        "outputId": "76201b6f-29b0-4938-cfe4-ebf83c799265"
      },
      "source": [
        "print(\"\", df[\"stringency_index\"].max(), \" = highest restriction value \\n\",\n",
        "      df[\"stringency_index\"].mean(), \" = average restriction value \\n\",\n",
        "      df[\"stringency_index\"].min(), \" = lowest restriction value \\n\")"
      ],
      "execution_count": 88,
      "outputs": [
        {
          "output_type": "stream",
          "text": [
            " 93.52  = highest restriction value \n",
            " 54.220298869143704  = average restriction value \n",
            " 0.0  = lowest restriction value \n",
            "\n"
          ],
          "name": "stdout"
        }
      ]
    },
    {
      "cell_type": "code",
      "metadata": {
        "id": "LMA0GoDyuBws"
      },
      "source": [
        "\n",
        "\n",
        "#loop for changing all the values smaller than 53 to 0 \n",
        "i = 0\n",
        "while i < len(df): \n",
        "  if df.stringency_index[i] < 53.0:\n",
        "    df.stringency_index  = df.stringency_index.replace(df.stringency_index[i], 0)\n",
        "\n",
        "  elif math.isnan(df.stringency_index[i]) == True:\n",
        "    df.stringency_index  = df.stringency_index.replace((df.stringency_index[i]), 0)\n",
        "\n",
        "  i = i + 1\n",
        "#loop for changning all the values bigger than 53 to 1\n",
        "i=0\n",
        "while i < len(df):\n",
        "  if df.stringency_index[i] >= 53.0:\n",
        "    df.stringency_index  = df.stringency_index.replace(df.stringency_index[i], 1)\n",
        "  i = i + 1\n"
      ],
      "execution_count": 89,
      "outputs": []
    },
    {
      "cell_type": "code",
      "metadata": {
        "id": "oVFA2y8q68Nm"
      },
      "source": [
        "#replace floats with string\n",
        "df.stringency_index  = df.stringency_index.replace(1.0, \"lockdown\")\n",
        "df.stringency_index  = df.stringency_index.replace(0.0, \"open\")"
      ],
      "execution_count": 90,
      "outputs": []
    },
    {
      "cell_type": "code",
      "metadata": {
        "colab": {
          "base_uri": "https://localhost:8080/"
        },
        "id": "qK04ny_m7SmS",
        "outputId": "1e395204-0218-4269-9bec-70f3db3c2687"
      },
      "source": [
        "df.stringency_index.value_counts()"
      ],
      "execution_count": 91,
      "outputs": [
        {
          "output_type": "execute_result",
          "data": {
            "text/plain": [
              "lockdown    2202\n",
              "open        1545\n",
              "Name: stringency_index, dtype: int64"
            ]
          },
          "metadata": {
            "tags": []
          },
          "execution_count": 91
        }
      ]
    },
    {
      "cell_type": "code",
      "metadata": {
        "id": "qJDV1PDmiurk"
      },
      "source": [
        "df = df.fillna(0)"
      ],
      "execution_count": 92,
      "outputs": []
    },
    {
      "cell_type": "code",
      "metadata": {
        "id": "FAr5hCr4aGIF"
      },
      "source": [
        "Y = df.stringency_index\n",
        "X = df.drop(columns=['stringency_index'])"
      ],
      "execution_count": 93,
      "outputs": []
    },
    {
      "cell_type": "markdown",
      "metadata": {
        "id": "skdMKy5On5wW"
      },
      "source": [
        "### **RFE Feature Selection**"
      ]
    },
    {
      "cell_type": "code",
      "metadata": {
        "id": "wC9HCkF1oAVx"
      },
      "source": [
        "#importing algorithm to select best performing features\n",
        "from sklearn.feature_selection import RFE\n",
        "from sklearn.tree import DecisionTreeClassifier\n",
        "\n",
        "\n",
        "rfe_selector = RFE(estimator=DecisionTreeClassifier(), n_features_to_select = 10, step = 1)\n",
        "\n",
        "rfe_transformed = rfe_selector.fit_transform(X, Y)\n",
        "\n",
        "cols = list(X.columns)\n",
        "\n",
        "DecisionTreeClassifier().fit(rfe_transformed,Y)\n",
        "\n",
        "temp = pd.Series(rfe_selector.support_, index=cols) #support changes rfe selector into numpy array\n",
        "\n",
        "selected_features = temp[temp==True].index"
      ],
      "execution_count": 94,
      "outputs": []
    },
    {
      "cell_type": "code",
      "metadata": {
        "colab": {
          "base_uri": "https://localhost:8080/"
        },
        "id": "iKQUbdiX1Vpv",
        "outputId": "7a5cbdc9-0bb7-4f51-f99d-054d22c2a9d5"
      },
      "source": [
        "selected_features"
      ],
      "execution_count": 95,
      "outputs": [
        {
          "output_type": "execute_result",
          "data": {
            "text/plain": [
              "Index(['date', 'total_cases', 'total_deaths', 'new_deaths',\n",
              "       'reproduction_rate', 'icu_patients', 'hosp_patients',\n",
              "       'population_density', 'aged_70_older', 'male_smokers'],\n",
              "      dtype='object')"
            ]
          },
          "metadata": {
            "tags": []
          },
          "execution_count": 95
        }
      ]
    },
    {
      "cell_type": "markdown",
      "metadata": {
        "id": "MOlk0yMz3g1C"
      },
      "source": [
        "### **Building Model**"
      ]
    },
    {
      "cell_type": "code",
      "metadata": {
        "id": "QVIalMculVlS"
      },
      "source": [
        "from sklearn.linear_model import LogisticRegression\n",
        "from sklearn.neighbors import KNeighborsClassifier\n",
        "from sklearn.metrics import accuracy_score, plot_confusion_matrix, confusion_matrix,classification_report\n",
        "from sklearn.naive_bayes import GaussianNB, BernoulliNB\n",
        "from sklearn.svm import SVC\n",
        "from sklearn.ensemble import RandomForestClassifier, AdaBoostClassifier"
      ],
      "execution_count": 96,
      "outputs": []
    },
    {
      "cell_type": "code",
      "metadata": {
        "id": "2OHQ3CGXhbpB",
        "colab": {
          "base_uri": "https://localhost:8080/",
          "height": 0
        },
        "outputId": "21d8696f-7241-469c-a410-3e9338ea0726"
      },
      "source": [
        "X = df.filter(items=selected_features)\n",
        "X"
      ],
      "execution_count": 97,
      "outputs": [
        {
          "output_type": "execute_result",
          "data": {
            "text/html": [
              "<div>\n",
              "<style scoped>\n",
              "    .dataframe tbody tr th:only-of-type {\n",
              "        vertical-align: middle;\n",
              "    }\n",
              "\n",
              "    .dataframe tbody tr th {\n",
              "        vertical-align: top;\n",
              "    }\n",
              "\n",
              "    .dataframe thead th {\n",
              "        text-align: right;\n",
              "    }\n",
              "</style>\n",
              "<table border=\"1\" class=\"dataframe\">\n",
              "  <thead>\n",
              "    <tr style=\"text-align: right;\">\n",
              "      <th></th>\n",
              "      <th>date</th>\n",
              "      <th>total_cases</th>\n",
              "      <th>total_deaths</th>\n",
              "      <th>new_deaths</th>\n",
              "      <th>reproduction_rate</th>\n",
              "      <th>icu_patients</th>\n",
              "      <th>hosp_patients</th>\n",
              "      <th>population_density</th>\n",
              "      <th>aged_70_older</th>\n",
              "      <th>male_smokers</th>\n",
              "    </tr>\n",
              "  </thead>\n",
              "  <tbody>\n",
              "    <tr>\n",
              "      <th>0</th>\n",
              "      <td>8</td>\n",
              "      <td>0.0</td>\n",
              "      <td>0.0</td>\n",
              "      <td>0.0</td>\n",
              "      <td>0.0</td>\n",
              "      <td>0.0</td>\n",
              "      <td>1.0</td>\n",
              "      <td>31.033</td>\n",
              "      <td>13.491</td>\n",
              "      <td>39.3</td>\n",
              "    </tr>\n",
              "    <tr>\n",
              "      <th>1</th>\n",
              "      <td>9</td>\n",
              "      <td>0.0</td>\n",
              "      <td>0.0</td>\n",
              "      <td>0.0</td>\n",
              "      <td>0.0</td>\n",
              "      <td>0.0</td>\n",
              "      <td>1.0</td>\n",
              "      <td>31.033</td>\n",
              "      <td>13.491</td>\n",
              "      <td>39.3</td>\n",
              "    </tr>\n",
              "    <tr>\n",
              "      <th>2</th>\n",
              "      <td>10</td>\n",
              "      <td>0.0</td>\n",
              "      <td>0.0</td>\n",
              "      <td>0.0</td>\n",
              "      <td>0.0</td>\n",
              "      <td>0.0</td>\n",
              "      <td>1.0</td>\n",
              "      <td>31.033</td>\n",
              "      <td>13.491</td>\n",
              "      <td>39.3</td>\n",
              "    </tr>\n",
              "    <tr>\n",
              "      <th>3</th>\n",
              "      <td>11</td>\n",
              "      <td>0.0</td>\n",
              "      <td>0.0</td>\n",
              "      <td>0.0</td>\n",
              "      <td>0.0</td>\n",
              "      <td>0.0</td>\n",
              "      <td>1.0</td>\n",
              "      <td>31.033</td>\n",
              "      <td>13.491</td>\n",
              "      <td>39.3</td>\n",
              "    </tr>\n",
              "    <tr>\n",
              "      <th>4</th>\n",
              "      <td>12</td>\n",
              "      <td>0.0</td>\n",
              "      <td>0.0</td>\n",
              "      <td>0.0</td>\n",
              "      <td>0.0</td>\n",
              "      <td>0.0</td>\n",
              "      <td>1.0</td>\n",
              "      <td>31.033</td>\n",
              "      <td>13.491</td>\n",
              "      <td>39.3</td>\n",
              "    </tr>\n",
              "    <tr>\n",
              "      <th>...</th>\n",
              "      <td>...</td>\n",
              "      <td>...</td>\n",
              "      <td>...</td>\n",
              "      <td>...</td>\n",
              "      <td>...</td>\n",
              "      <td>...</td>\n",
              "      <td>...</td>\n",
              "      <td>...</td>\n",
              "      <td>...</td>\n",
              "      <td>...</td>\n",
              "    </tr>\n",
              "    <tr>\n",
              "      <th>3742</th>\n",
              "      <td>375</td>\n",
              "      <td>3863757.0</td>\n",
              "      <td>108225.0</td>\n",
              "      <td>1451.0</td>\n",
              "      <td>0.0</td>\n",
              "      <td>3638.0</td>\n",
              "      <td>31670.0</td>\n",
              "      <td>272.898</td>\n",
              "      <td>12.527</td>\n",
              "      <td>24.7</td>\n",
              "    </tr>\n",
              "    <tr>\n",
              "      <th>3743</th>\n",
              "      <td>376</td>\n",
              "      <td>3882972.0</td>\n",
              "      <td>109547.0</td>\n",
              "      <td>1322.0</td>\n",
              "      <td>0.0</td>\n",
              "      <td>3625.0</td>\n",
              "      <td>0.0</td>\n",
              "      <td>272.898</td>\n",
              "      <td>12.527</td>\n",
              "      <td>24.7</td>\n",
              "    </tr>\n",
              "    <tr>\n",
              "      <th>3744</th>\n",
              "      <td>377</td>\n",
              "      <td>3903706.0</td>\n",
              "      <td>110462.0</td>\n",
              "      <td>915.0</td>\n",
              "      <td>0.0</td>\n",
              "      <td>0.0</td>\n",
              "      <td>0.0</td>\n",
              "      <td>272.898</td>\n",
              "      <td>12.527</td>\n",
              "      <td>24.7</td>\n",
              "    </tr>\n",
              "    <tr>\n",
              "      <th>3745</th>\n",
              "      <td>378</td>\n",
              "      <td>3922910.0</td>\n",
              "      <td>111477.0</td>\n",
              "      <td>1015.0</td>\n",
              "      <td>0.0</td>\n",
              "      <td>0.0</td>\n",
              "      <td>0.0</td>\n",
              "      <td>272.898</td>\n",
              "      <td>12.527</td>\n",
              "      <td>24.7</td>\n",
              "    </tr>\n",
              "    <tr>\n",
              "      <th>3746</th>\n",
              "      <td>379</td>\n",
              "      <td>3941273.0</td>\n",
              "      <td>112305.0</td>\n",
              "      <td>828.0</td>\n",
              "      <td>0.0</td>\n",
              "      <td>0.0</td>\n",
              "      <td>0.0</td>\n",
              "      <td>272.898</td>\n",
              "      <td>12.527</td>\n",
              "      <td>24.7</td>\n",
              "    </tr>\n",
              "  </tbody>\n",
              "</table>\n",
              "<p>3747 rows × 10 columns</p>\n",
              "</div>"
            ],
            "text/plain": [
              "      date  total_cases  ...  aged_70_older  male_smokers\n",
              "0        8          0.0  ...         13.491          39.3\n",
              "1        9          0.0  ...         13.491          39.3\n",
              "2       10          0.0  ...         13.491          39.3\n",
              "3       11          0.0  ...         13.491          39.3\n",
              "4       12          0.0  ...         13.491          39.3\n",
              "...    ...          ...  ...            ...           ...\n",
              "3742   375    3863757.0  ...         12.527          24.7\n",
              "3743   376    3882972.0  ...         12.527          24.7\n",
              "3744   377    3903706.0  ...         12.527          24.7\n",
              "3745   378    3922910.0  ...         12.527          24.7\n",
              "3746   379    3941273.0  ...         12.527          24.7\n",
              "\n",
              "[3747 rows x 10 columns]"
            ]
          },
          "metadata": {
            "tags": []
          },
          "execution_count": 97
        }
      ]
    },
    {
      "cell_type": "code",
      "metadata": {
        "id": "tD-SDNOb439J"
      },
      "source": [
        "X_train, X_test, Y_train, Y_test = train_test_split(X,Y, test_size=0.3, random_state=3)"
      ],
      "execution_count": 98,
      "outputs": []
    },
    {
      "cell_type": "code",
      "metadata": {
        "colab": {
          "base_uri": "https://localhost:8080/"
        },
        "id": "w1zn1Xf-9Mx9",
        "outputId": "48a53fc9-6df6-45c3-fffb-21a5475086b0"
      },
      "source": [
        "X_train.shape"
      ],
      "execution_count": 99,
      "outputs": [
        {
          "output_type": "execute_result",
          "data": {
            "text/plain": [
              "(2622, 10)"
            ]
          },
          "metadata": {
            "tags": []
          },
          "execution_count": 99
        }
      ]
    },
    {
      "cell_type": "code",
      "metadata": {
        "id": "GUiKKVP1zCDH"
      },
      "source": [
        "from sklearn.preprocessing import StandardScaler\n",
        "\n",
        "ss = StandardScaler()\n",
        "\n",
        "X_train = ss.fit_transform(X_train)\n",
        "X_test = ss.transform(X_test)"
      ],
      "execution_count": 100,
      "outputs": []
    },
    {
      "cell_type": "code",
      "metadata": {
        "id": "nRh-7b9j-upS"
      },
      "source": [
        "performanceList = []\n",
        "accuracylist = []"
      ],
      "execution_count": 101,
      "outputs": []
    },
    {
      "cell_type": "code",
      "metadata": {
        "id": "1dIeWXnNlL_U",
        "colab": {
          "base_uri": "https://localhost:8080/"
        },
        "outputId": "705716e8-ad0d-43af-c5f6-22dfd1076a65"
      },
      "source": [
        "#1\n",
        "gnb = GaussianNB()\n",
        "\n",
        "model_gnb = gnb.fit(X_train, Y_train)    #fitting the model\n",
        "y_test_pred = gnb.fit(X_train, Y_train).predict(X_test)    #predicting Gaussian NB the target\n",
        "\n",
        "print(\"Training accuracy: {:,.4f}\".format(model_gnb.score(X_train, Y_train)))\n",
        "print(\"Testing accuracy: {:,.4f}\".format(model_gnb.score(X_test, Y_test)))\n",
        "\n",
        "print(\"Total points: \", X_test.shape[0], \"\\nMiss matched points: \", (Y_test != y_test_pred).sum(), \"\\nAccuracy: {:.4f}\".format(accuracy_score(Y_test, y_test_pred)))\n",
        "\n",
        "performanceList.append(model_gnb)\n",
        "accuracylist.append(accuracy_score(Y_test, y_test_pred))"
      ],
      "execution_count": 102,
      "outputs": [
        {
          "output_type": "stream",
          "text": [
            "Training accuracy: 0.5988\n",
            "Testing accuracy: 0.6116\n",
            "Total points:  1125 \n",
            "Miss matched points:  437 \n",
            "Accuracy: 0.6116\n"
          ],
          "name": "stdout"
        }
      ]
    },
    {
      "cell_type": "code",
      "metadata": {
        "id": "q7zMciuno6XX",
        "colab": {
          "base_uri": "https://localhost:8080/"
        },
        "outputId": "47e06826-e238-424c-c372-286cacfa2d17"
      },
      "source": [
        "#2\n",
        "bnb = BernoulliNB()\n",
        "\n",
        "model_bnb = bnb.fit(X_train, Y_train)    #fitting Bernoulli NB\n",
        "y_test_pred = bnb.fit(X_train, Y_train).predict(X_test)    #predicting Bernoulli NB the target\n",
        "\n",
        "print(\"Training accuracy: {:,.4f}\".format(model_bnb.score(X_train, Y_train)))\n",
        "print(\"Testing accuracy: {:,.4f}\".format(model_bnb.score(X_test, Y_test)))\n",
        "\n",
        "print(\"Total points: \", X_test.shape[0], \"\\nMiss matched points: \", (Y_test != y_test_pred).sum(), \"\\nAccuracy: {:.4f}\".format(accuracy_score(Y_test, y_test_pred)))\n",
        "\n",
        "performanceList.append(model_bnb)\n",
        "accuracylist.append(accuracy_score(Y_test, y_test_pred))"
      ],
      "execution_count": 103,
      "outputs": [
        {
          "output_type": "stream",
          "text": [
            "Training accuracy: 0.7059\n",
            "Testing accuracy: 0.6987\n",
            "Total points:  1125 \n",
            "Miss matched points:  339 \n",
            "Accuracy: 0.6987\n"
          ],
          "name": "stdout"
        }
      ]
    },
    {
      "cell_type": "code",
      "metadata": {
        "id": "MYVB3Jv0mKKo",
        "colab": {
          "base_uri": "https://localhost:8080/"
        },
        "outputId": "579e901b-8f87-4d89-d578-6f8c4e5b049b"
      },
      "source": [
        "#3\n",
        "logistic = LogisticRegression()\n",
        "\n",
        "model_log = logistic.fit(X_train, Y_train) #logistic regression is fitted\n",
        "y_test_pred = model_log.predict(X_test) #predicting Logistic Regression's target\n",
        "\n",
        "print(\"Training accuracy: {:,.4f}\".format(model_log.score(X_train, Y_train)))\n",
        "print(\"Testing accuracy: {:,.4f}\".format(model_log.score(X_test, Y_test)))\n",
        "\n",
        "print(\"Total points: \", X_test.shape[0], \"\\nMiss matched points: \", (Y_test != y_test_pred).sum(), \"\\nAccuracy: {:.4f}\".format(accuracy_score(Y_test, y_test_pred)))\n",
        "\n",
        "performanceList.append(model_log)\n",
        "accuracylist.append(accuracy_score(Y_test, y_test_pred))"
      ],
      "execution_count": 104,
      "outputs": [
        {
          "output_type": "stream",
          "text": [
            "Training accuracy: 0.7502\n",
            "Testing accuracy: 0.7502\n",
            "Total points:  1125 \n",
            "Miss matched points:  281 \n",
            "Accuracy: 0.7502\n"
          ],
          "name": "stdout"
        }
      ]
    },
    {
      "cell_type": "code",
      "metadata": {
        "id": "FP8EpWBVmx1q",
        "colab": {
          "base_uri": "https://localhost:8080/"
        },
        "outputId": "13ab293c-b429-430b-cd83-b524d6d99bf1"
      },
      "source": [
        "#4\n",
        "svm = SVC(probability=True)\n",
        "\n",
        "model_SVM = svm.fit(X_train, Y_train)\n",
        "y_test_pred = model_SVM.predict(X_test)\n",
        "\n",
        "print(\"Training accuracy: {:,.4f}\".format(model_SVM.score(X_train, Y_train)))\n",
        "print(\"Testing accuracy: {:,.4f}\".format(model_SVM.score(X_test, Y_test)))\n",
        "\n",
        "print(\"Total points: \", X_test.shape[0], \"\\nMiss matched points: \", (Y_test != y_test_pred).sum(), \"\\nAccuracy: {:.4f}\".format(accuracy_score(Y_test, y_test_pred)))\n",
        "\n",
        "performanceList.append(model_SVM)\n",
        "accuracylist.append(accuracy_score(Y_test, y_test_pred))"
      ],
      "execution_count": 105,
      "outputs": [
        {
          "output_type": "stream",
          "text": [
            "Training accuracy: 0.9302\n",
            "Testing accuracy: 0.9200\n",
            "Total points:  1125 \n",
            "Miss matched points:  90 \n",
            "Accuracy: 0.9200\n"
          ],
          "name": "stdout"
        }
      ]
    },
    {
      "cell_type": "code",
      "metadata": {
        "id": "nFyV0RnmmaG2",
        "colab": {
          "base_uri": "https://localhost:8080/"
        },
        "outputId": "36aab8b1-c3c0-456d-a7c1-cb7de5639700"
      },
      "source": [
        "#5\n",
        "knn = KNeighborsClassifier()\n",
        "\n",
        "model_knn = knn.fit(X_train, Y_train)\n",
        "y_test_pred = model_knn.predict(X_test)\n",
        "\n",
        "print(\"Training accuracy: {:,.4f}\".format(model_knn.score(X_train, Y_train)))\n",
        "print(\"Testing accuracy: {:,.4f}\".format(model_knn.score(X_test, Y_test)))\n",
        "\n",
        "print(\"Total points: \", X_test.shape[0], \"\\nMiss matched points: \", (Y_test != y_test_pred).sum(), \"\\nAccuracy: {:.4f}\".format(accuracy_score(Y_test, y_test_pred)))\n",
        "\n",
        "performanceList.append(model_knn)\n",
        "accuracylist.append(accuracy_score(Y_test, y_test_pred))"
      ],
      "execution_count": 106,
      "outputs": [
        {
          "output_type": "stream",
          "text": [
            "Training accuracy: 0.9893\n",
            "Testing accuracy: 0.9804\n",
            "Total points:  1125 \n",
            "Miss matched points:  22 \n",
            "Accuracy: 0.9804\n"
          ],
          "name": "stdout"
        }
      ]
    },
    {
      "cell_type": "code",
      "metadata": {
        "id": "cTcrNdEUn7fx",
        "colab": {
          "base_uri": "https://localhost:8080/"
        },
        "outputId": "717934ec-eeb6-4d47-a204-39a04e70b76c"
      },
      "source": [
        "#6\n",
        "dTree = DecisionTreeClassifier()\n",
        "\n",
        "model_dTree = dTree.fit(X_train, Y_train)\n",
        "y_test_pred = model_dTree.predict(X_test)\n",
        "\n",
        "print(\"Training accuracy: {:,.4f}\".format(model_dTree.score(X_train, Y_train)))\n",
        "print(\"Testing accuracy: {:,.4f}\".format(model_dTree.score(X_test, Y_test)))\n",
        "\n",
        "print(\"Total points: \", X_test.shape[0], \"\\nMiss matched points: \", (Y_test != y_test_pred).sum(), \"\\nAccuracy: {:.4f}\".format(accuracy_score(Y_test, y_test_pred)))\n",
        "\n",
        "performanceList.append(model_dTree)\n",
        "accuracylist.append(accuracy_score(Y_test, y_test_pred))"
      ],
      "execution_count": 107,
      "outputs": [
        {
          "output_type": "stream",
          "text": [
            "Training accuracy: 1.0000\n",
            "Testing accuracy: 0.9831\n",
            "Total points:  1125 \n",
            "Miss matched points:  19 \n",
            "Accuracy: 0.9831\n"
          ],
          "name": "stdout"
        }
      ]
    },
    {
      "cell_type": "code",
      "metadata": {
        "id": "TaTlhhO0pt1w",
        "colab": {
          "base_uri": "https://localhost:8080/"
        },
        "outputId": "31f3d396-7a84-47de-b717-885c26a2cbe2"
      },
      "source": [
        "#7\n",
        "rForest = RandomForestClassifier()\n",
        "\n",
        "model_rForest = rForest.fit(X_train, Y_train)\n",
        "y_test_pred = model_rForest.predict(X_test)\n",
        "\n",
        "print(\"Training accuracy: {:,.4f}\".format(model_rForest.score(X_train, Y_train)))\n",
        "print(\"Testing accuracy: {:,.4f}\".format(model_rForest.score(X_test, Y_test)))\n",
        "\n",
        "print(\"Total points: \", X_test.shape[0], \"\\nMiss matched points: \", (Y_test != y_test_pred).sum(), \"\\nAccuracy: {:.4f}\".format(accuracy_score(Y_test, y_test_pred)))\n",
        "\n",
        "performanceList.append(model_rForest)\n",
        "accuracylist.append(accuracy_score(Y_test, y_test_pred))"
      ],
      "execution_count": 108,
      "outputs": [
        {
          "output_type": "stream",
          "text": [
            "Training accuracy: 1.0000\n",
            "Testing accuracy: 0.9884\n",
            "Total points:  1125 \n",
            "Miss matched points:  13 \n",
            "Accuracy: 0.9884\n"
          ],
          "name": "stdout"
        }
      ]
    },
    {
      "cell_type": "code",
      "metadata": {
        "id": "Hba933caqaad",
        "colab": {
          "base_uri": "https://localhost:8080/"
        },
        "outputId": "3b0e1d96-83cc-4654-8a78-d1a84f1cee38"
      },
      "source": [
        "#8\n",
        "adaB = AdaBoostClassifier()\n",
        "\n",
        "model_adaB = adaB.fit(X_train, Y_train)\n",
        "y_test_pred = model_adaB.predict(X_test)\n",
        "\n",
        "print(\"Training accuracy: {:,.4f}\".format(model_adaB.score(X_train, Y_train)))\n",
        "print(\"Testing accuracy: {:,.4f}\".format(model_adaB.score(X_test, Y_test)))\n",
        "\n",
        "print(\"Total points: \", X_test.shape[0], \"\\nMiss matched points: \", (Y_test != y_test_pred).sum(), \"\\nAccuracy: {:.4f}\".format(accuracy_score(Y_test, y_test_pred)))\n",
        "\n",
        "performanceList.append(model_adaB)\n",
        "accuracylist.append(accuracy_score(Y_test, y_test_pred))"
      ],
      "execution_count": 109,
      "outputs": [
        {
          "output_type": "stream",
          "text": [
            "Training accuracy: 0.9432\n",
            "Testing accuracy: 0.9262\n",
            "Total points:  1125 \n",
            "Miss matched points:  83 \n",
            "Accuracy: 0.9262\n"
          ],
          "name": "stdout"
        }
      ]
    },
    {
      "cell_type": "code",
      "metadata": {
        "colab": {
          "base_uri": "https://localhost:8080/"
        },
        "id": "byRRq8tyr14u",
        "outputId": "d72e2743-60c7-4bb5-b741-62f50f5c6da1"
      },
      "source": [
        "i=0 \n",
        "print(\"{0:<24} {1:>8} {2:>12}\".format(\"Algorithm\",\"Float Value\", \"Percentage\"),\"\\n\")\n",
        "while i < len(performanceList):\n",
        "  print(\"{0:<24} {1:>8} {2:>12}\".format(type(performanceList[i]).__name__, accuracylist[i].round(4), str((accuracylist[i]*100).round(2))+\"%\")) \n",
        "  i=i+1"
      ],
      "execution_count": 110,
      "outputs": [
        {
          "output_type": "stream",
          "text": [
            "Algorithm                Float Value   Percentage \n",
            "\n",
            "GaussianNB                 0.6116       61.16%\n",
            "BernoulliNB                0.6987       69.87%\n",
            "LogisticRegression         0.7502       75.02%\n",
            "SVC                          0.92        92.0%\n",
            "KNeighborsClassifier       0.9804       98.04%\n",
            "DecisionTreeClassifier     0.9831       98.31%\n",
            "RandomForestClassifier     0.9884       98.84%\n",
            "AdaBoostClassifier         0.9262       92.62%\n"
          ],
          "name": "stdout"
        }
      ]
    },
    {
      "cell_type": "markdown",
      "metadata": {
        "id": "n37AHK4nlHgC"
      },
      "source": [
        "### **Cross Validation**"
      ]
    },
    {
      "cell_type": "code",
      "metadata": {
        "colab": {
          "base_uri": "https://localhost:8080/"
        },
        "id": "kApfO64SOkZz",
        "outputId": "1638db80-2785-43a2-f101-11d31b3b4ac1"
      },
      "source": [
        "\"\"\"\n",
        "Loop for performing cross validation on every model.\n",
        "INPUT: List of models \n",
        "OUTPUT: List of models with mean accuracy score after cross validation\n",
        "\"\"\"\n",
        "lista={}\n",
        "i=0 \n",
        "print(\"{0:<24} {1:>8} {2:>16} {3:>14}\".format(\"Algorithm\",\"CV value\",\"Original value\",\"Difference\"),\"\\n\")\n",
        "while i < len(performanceList):\n",
        "  clf = cross_val_score(performanceList[i], X, Y, cv=10, scoring='accuracy')\n",
        "  clf_rounded = clf.mean().round(4)\n",
        "  al = accuracylist[i].round(4)\n",
        "  if (al - clf_rounded > 0):\n",
        "    difference = \"-\"+str((al - clf_rounded).round(4))\n",
        "  elif (al - clf_rounded == 0):\n",
        "    difference = str((al - clf_rounded).round(4))\n",
        "  else :\n",
        "    difference = \"+\"+str((al - clf_rounded).round(4))\n",
        "  print(\"{0:<24} {1:>8} {2:>12} {3:>16}\".format(type(performanceList[i]).__name__, clf_rounded, al, difference)) \n",
        "\n",
        "  lista[type(performanceList[i]).__name__] = clf_rounded\n",
        "  i=i+1"
      ],
      "execution_count": 111,
      "outputs": [
        {
          "output_type": "stream",
          "text": [
            "Algorithm                CV value   Original value     Difference \n",
            "\n",
            "GaussianNB                 0.5796       0.6116           -0.032\n",
            "BernoulliNB                 0.651       0.6987          -0.0477\n",
            "LogisticRegression         0.6367       0.7502          -0.1135\n",
            "SVC                        0.7177         0.92          -0.2023\n",
            "KNeighborsClassifier       0.6221       0.9804          -0.3583\n",
            "DecisionTreeClassifier     0.6351       0.9831           -0.348\n",
            "RandomForestClassifier     0.6417       0.9884          -0.3467\n",
            "AdaBoostClassifier         0.6491       0.9262          -0.2771\n"
          ],
          "name": "stdout"
        }
      ]
    },
    {
      "cell_type": "code",
      "metadata": {
        "colab": {
          "base_uri": "https://localhost:8080/"
        },
        "id": "uTDnVQ51ZEuR",
        "outputId": "9d123652-fece-4658-886d-f0384550f77d"
      },
      "source": [
        "sorted_list = dict(sorted(lista.items(),key=lambda item:item[1]))\n",
        "\n",
        "best_performing_algo = list(sorted_list.keys())[-1]\n",
        "\n",
        "print(best_performing_algo)"
      ],
      "execution_count": 112,
      "outputs": [
        {
          "output_type": "stream",
          "text": [
            "SVC\n"
          ],
          "name": "stdout"
        }
      ]
    },
    {
      "cell_type": "markdown",
      "metadata": {
        "id": "nECqBINGKz38"
      },
      "source": [
        "### **Hyperparamater** **Tuning** "
      ]
    },
    {
      "cell_type": "code",
      "metadata": {
        "id": "XRVosRiOt_ho"
      },
      "source": [
        "from sklearn.model_selection import GridSearchCV"
      ],
      "execution_count": 113,
      "outputs": []
    },
    {
      "cell_type": "code",
      "metadata": {
        "id": "49LTNtyct9lM"
      },
      "source": [
        "ada_grid = {'n_estimators': [10, 30, 50, 70, 90, 100],\n",
        "               'algorithm': ['SAMME','SAMME.R'],\n",
        "            'random_state': [1,2,3,4,5]}\n",
        "\n",
        "dTree_grid= {'max_features': ['auto', 'sqrt', 'log2'],\n",
        "              'max_depth': [10, 30, 50, 70, 90, 100, None],\n",
        "              'min_samples_split': [2, 5, 10],\n",
        "              'splitter':['best','random'],\n",
        "              'citerion': ['gini','entropy'],\n",
        "              'random_state': [1,2,3,4,5]}\n",
        "\n",
        "knn_grid={'n_neighbors': [3,5,11,19],\n",
        "            'weights': ['uniform', 'distance'],\n",
        "            'metric': ['euclidean', 'manhattan'],\n",
        "            'algorithm':['ball_tree','kd_tree','brute']}\n",
        "\n",
        "rfc_grid={'n_estimators': [10, 30, 50, 70, 90, 100],\n",
        "               'max_features': ['auto', 'sqrt', 'log2'],\n",
        "               'max_depth': [10, 30, 50, 70, 90, 100, None],\n",
        "               'min_samples_split': [2, 5, 10],\n",
        "               'min_samples_leaf': [1, 2, 4],\n",
        "               'bootstrap': [True, False],\n",
        "                'random_state': [1,2,3,4,5]}\n",
        "\n",
        "gnb_grid={'var_smoothing': np.logspace(0,-9, num=100)}\n",
        "\n",
        "svc_grid={'kernel': ['linear', 'poly', 'rbf', 'sigmoid'], 'gamma': ['scale','auto'],\n",
        "          'gamma': ['scale','auto'],\n",
        "          'C':[0.1,1,10,100],\n",
        "          'random_state': [1,2,3,4,5]}\n",
        "\n",
        "log_grid={'random_state': [1,2,3,4,5]}\n",
        "\n",
        "bnb_grid={'alpha': [0.0, 0.2, 0.4, 0.6, 0.8, 1.0]}"
      ],
      "execution_count": 128,
      "outputs": []
    },
    {
      "cell_type": "code",
      "metadata": {
        "id": "mkdYjzEIXcqW"
      },
      "source": [
        "if (best_performing_algo == \"RandomForestClassifier\"):\n",
        "  model = RandomForestClassifier()\n",
        "  grid = rfc_grid\n",
        "  model_TH = model_rForest\n",
        "\n",
        "elif (best_performing_algo == \"KNeighborsClassifier\"):\n",
        "  model = KNeighborsClassifier()\n",
        "  grid = knn_grid\n",
        "  model_TH = model_knn\n",
        "\n",
        "elif (best_performing_algo == \"DecisionTreeClassifier\"):\n",
        "  model = DecisionTreeClassifier()\n",
        "  grid = dTree_grid\n",
        "  model_TH = model_dTree\n",
        "\n",
        "elif (best_performing_algo == \"AdaBoostClassifier\"):\n",
        "  model = AdaBoostClassifier()\n",
        "  grid = ada_grid\n",
        "  model_TH = model_adaB\n",
        "\n",
        "elif (best_performing_algo == \"GaussianNB\"):\n",
        "  model = GaussianNB()\n",
        "  grid = gnb_grid\n",
        "  model_TH = model_gnb\n",
        "\n",
        "elif (best_performing_algo == \"SVC\"):\n",
        "  model = SVC()\n",
        "  grid = svc_grid\n",
        "  model_TH = model_SVM\n",
        "\n",
        "elif (best_performing_algo == \"LogisticRegression\"):\n",
        "  model = LogisticRegression()\n",
        "  grid = log_grid\n",
        "  model_TH = model_log\n",
        "\n",
        "elif (best_performing_algo == \"BernoulliNB\"):\n",
        "  model = BernoulliNB()\n",
        "  grid = bnb_grid\n",
        "  model_TH = model_bnb"
      ],
      "execution_count": 115,
      "outputs": []
    },
    {
      "cell_type": "code",
      "metadata": {
        "colab": {
          "base_uri": "https://localhost:8080/"
        },
        "id": "H2U3DRRWuEX8",
        "outputId": "aed8c67b-2530-47c8-a3b9-83e0f7b1b4ca"
      },
      "source": [
        "grid = GridSearchCV(model_bnb, bnb_grid, verbose=1, cv=10,n_jobs=-1)\n",
        "grid_results = grid.fit(X_train,Y_train)\n",
        "\n",
        "print(\"Best estimator: \",grid_results.best_estimator_)\n",
        "print(\"Best parameters: \",grid_results.best_params_)\n",
        "\n",
        "print(\"Best score:\", grid_results.best_score_)"
      ],
      "execution_count": 129,
      "outputs": [
        {
          "output_type": "stream",
          "text": [
            "Fitting 10 folds for each of 6 candidates, totalling 60 fits\n"
          ],
          "name": "stdout"
        },
        {
          "output_type": "stream",
          "text": [
            "[Parallel(n_jobs=-1)]: Using backend LokyBackend with 2 concurrent workers.\n"
          ],
          "name": "stderr"
        },
        {
          "output_type": "stream",
          "text": [
            "Best estimator:  BernoulliNB(alpha=0.8, binarize=0.0, class_prior=None, fit_prior=True)\n",
            "Best parameters:  {'alpha': 0.8}\n",
            "Best score: 0.704043189272342\n"
          ],
          "name": "stdout"
        },
        {
          "output_type": "stream",
          "text": [
            "[Parallel(n_jobs=-1)]: Done  60 out of  60 | elapsed:    1.9s finished\n"
          ],
          "name": "stderr"
        }
      ]
    },
    {
      "cell_type": "markdown",
      "metadata": {
        "id": "NImXVnRbTbUZ"
      },
      "source": [
        "### **Threshold Manipulation**"
      ]
    },
    {
      "cell_type": "code",
      "metadata": {
        "id": "H4ozxeYAVmtM"
      },
      "source": [
        "Y_test = Y_test.replace(['lockdown'],1)\n",
        "Y_test = Y_test.replace(['open'],0)\n",
        "\n",
        "Y_test = Y_test.to_numpy()"
      ],
      "execution_count": null,
      "outputs": []
    },
    {
      "cell_type": "code",
      "metadata": {
        "id": "GmZXgdbYrg9e"
      },
      "source": [
        "defaultThreshold = 0.5\n",
        "newThreshold = 0.6\n",
        "X_test = pd.DataFrame(X_test) #reforming X testing set\n",
        "\n",
        "y_test_pred = model_TH.predict(X_test)\n",
        "y_test_pred = pd.DataFrame(y_test_pred)\n",
        "y_test_pred = y_test_pred.replace(['lockdown'],1)\n",
        "y_test_pred = y_test_pred.replace(['open'],0)\n",
        "\n",
        "y_train_pred = model_TH.predict(X_train)\n",
        "new_y_test_pred = np.where(model_TH.predict_proba(X_test)[:,1]>newThreshold,0,1)\n",
        "\n",
        "model_TH.predict_proba(X_test)\n",
        "#visual aid to see how the values are distribued with threshold\n",
        "print(\"y_test\\n\",pd.DataFrame(Y_test)[0].value_counts()) \n",
        "print(\"\\ny_test_pred\\n\",pd.DataFrame(y_test_pred)[0].value_counts())\n",
        "print(\"\\nnew_y_test_pred\\n\",pd.DataFrame(new_y_test_pred)[0].value_counts())"
      ],
      "execution_count": null,
      "outputs": []
    },
    {
      "cell_type": "code",
      "metadata": {
        "id": "drG4jGPm1ndO"
      },
      "source": [
        "for i in range(11):\n",
        "  newThreshold = i/10\n",
        "  new_y_test_pred = np.where(model_TH.predict_proba(X_test)[:,1]>newThreshold,0,1)\n",
        "  print(\"Threshold = \", newThreshold, \"  ||   Accuracy of the model = \", accuracy_score(Y_test, new_y_test_pred).round(2))\n",
        "  "
      ],
      "execution_count": null,
      "outputs": []
    },
    {
      "cell_type": "markdown",
      "metadata": {
        "id": "0KUCzGkLryAQ"
      },
      "source": [
        "### **Confusion and evaluation Matrix**"
      ]
    },
    {
      "cell_type": "code",
      "metadata": {
        "id": "v5G6EpbnTKgK"
      },
      "source": [
        "Y_train = Y_train.replace(['open'],0)\n",
        "Y_train = Y_train.replace(['lockdown'],1)\n",
        "\n",
        "model = model.fit(X_train,Y_train)"
      ],
      "execution_count": null,
      "outputs": []
    },
    {
      "cell_type": "code",
      "metadata": {
        "id": "QiplLPx837uR"
      },
      "source": [
        "sns.set(font_scale=1.5)\n",
        "\n",
        "cfm = confusion_matrix(Y_test,y_test_pred)\n",
        "cfm\n",
        "\n",
        "#Raw CM\n",
        "disp = plot_confusion_matrix(model, X_test, Y_test)#plots the matrix\n",
        "disp.ax_.set_title(\"Confusinon Matrix\") #sets the title\n",
        "plt.show()\n",
        "\n",
        "print()\n",
        "\n",
        "#Normalised CM\n",
        "disp = plot_confusion_matrix(model, X_test, Y_test,\n",
        "                             normalize='true') #plots the matrix\n",
        "disp.ax_.set_title(\"Normalized Confusion Matrix\") #sets the title\n",
        "plt.show()"
      ],
      "execution_count": null,
      "outputs": []
    },
    {
      "cell_type": "code",
      "metadata": {
        "id": "CTmP_oicCDY6"
      },
      "source": [
        "rep_cp = classification_report(Y_test, y_test_pred, target_names=['open','lockdown']) #generates Classification Report\n",
        "print(rep_cp)"
      ],
      "execution_count": null,
      "outputs": []
    },
    {
      "cell_type": "code",
      "metadata": {
        "id": "X-pUkGxs5S0L"
      },
      "source": [
        "from sklearn.metrics import precision_score, recall_score\n",
        "\n",
        "print(pd.DataFrame(data=[[accuracy_score(Y_test, y_test_pred).round(2),\n",
        "                    precision_score(Y_test, y_test_pred).round(2),\n",
        "                    recall_score(Y_test, y_test_pred).round(2)]],\n",
        "            columns=[\"Accuracy\",\"Precision\", \"Recall\"],\n",
        "            index=['Score']))\n",
        "print(\"%s seconds\" % (time.time() - start_time))"
      ],
      "execution_count": null,
      "outputs": []
    }
  ]
}