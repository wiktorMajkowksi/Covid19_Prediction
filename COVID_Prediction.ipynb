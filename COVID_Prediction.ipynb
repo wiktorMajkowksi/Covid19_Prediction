{
  "nbformat": 4,
  "nbformat_minor": 0,
  "metadata": {
    "colab": {
      "name": "COVID_Prediction.ipynb",
      "provenance": [],
      "collapsed_sections": []
    },
    "kernelspec": {
      "name": "python3",
      "display_name": "Python 3"
    }
  },
  "cells": [
    {
      "cell_type": "markdown",
      "metadata": {
        "id": "ywylCarly8Pe"
      },
      "source": [
        "### **Imports**"
      ]
    },
    {
      "cell_type": "code",
      "metadata": {
        "id": "wiGRw-s_vHIf"
      },
      "source": [
        "import time\n",
        "start_time = time.time()\n",
        "import sklearn\n",
        "import pandas as pd\n",
        "import numpy as np\n",
        "import matplotlib.pyplot as plt\n",
        "import seaborn as sns\n",
        "import io\n",
        "import math\n",
        "import string\n",
        "import os\n",
        "\n",
        "from sklearn.preprocessing import StandardScaler, LabelEncoder\n",
        "from sklearn.model_selection import train_test_split, cross_val_score\n",
        "from sklearn.metrics import classification_report, confusion_matrix\n",
        "\n",
        "import warnings\n",
        "warnings.filterwarnings('ignore')"
      ],
      "execution_count": 57,
      "outputs": []
    },
    {
      "cell_type": "markdown",
      "metadata": {
        "id": "8kSG1ugIzBec"
      },
      "source": [
        "### **DataSet** **Upload**"
      ]
    },
    {
      "cell_type": "code",
      "metadata": {
        "colab": {
          "base_uri": "https://localhost:8080/"
        },
        "id": "4sSscM5Yvz86",
        "outputId": "846d6d27-847a-4f96-af01-c1c00f3a054c"
      },
      "source": [
        "from google.colab import files , drive\n",
        "\n",
        "#upload for files in google drive\n",
        "drive.mount('/content/gdrive')\n",
        "dataset = \"/content/gdrive/My Drive/Colab Notebooks/covid_data.csv\""
      ],
      "execution_count": 58,
      "outputs": [
        {
          "output_type": "stream",
          "text": [
            "Drive already mounted at /content/gdrive; to attempt to forcibly remount, call drive.mount(\"/content/gdrive\", force_remount=True).\n"
          ],
          "name": "stdout"
        }
      ]
    },
    {
      "cell_type": "code",
      "metadata": {
        "colab": {
          "base_uri": "https://localhost:8080/",
          "height": 54
        },
        "id": "k0Y0oPsFBOIx",
        "outputId": "9e2b1163-3898-41da-854e-f879a619c0f8"
      },
      "source": [
        "\"\"\"\n",
        "#alternative for local file upload (file needs to be downloaded locally)\n",
        "from google.colab import files\n",
        "uploaded = files.upload()\n",
        "df = pd.read_csv(io.BytesIO(uploaded['covid_data.csv']))\n",
        "\"\"\""
      ],
      "execution_count": 59,
      "outputs": [
        {
          "output_type": "execute_result",
          "data": {
            "application/vnd.google.colaboratory.intrinsic+json": {
              "type": "string"
            },
            "text/plain": [
              "\"\\n#alternative for local file upload (file needs to be downloaded locally)\\nfrom google.colab import files\\nuploaded = files.upload()\\ndf = pd.read_csv(io.BytesIO(uploaded['covid_data.csv']))\\n\""
            ]
          },
          "metadata": {
            "tags": []
          },
          "execution_count": 59
        }
      ]
    },
    {
      "cell_type": "markdown",
      "metadata": {
        "id": "p3WH09zhzRZa"
      },
      "source": [
        "### **DataUpload check**"
      ]
    },
    {
      "cell_type": "code",
      "metadata": {
        "id": "HF5nfHBhKZVz",
        "colab": {
          "base_uri": "https://localhost:8080/"
        },
        "outputId": "4fbd2ccd-7427-4911-d6a1-47a2557cf68d"
      },
      "source": [
        "\"\"\"\n",
        "This try statment will ensure that file loaded is in CSV data format,\n",
        "otherwise message will be displayed and after any user input\n",
        "the progam will shutdown.\n",
        "\"\"\"\n",
        "\n",
        "try:\n",
        "  df = pd.read_csv(dataset)\n",
        "  print(\"CSV reading successful\")\n",
        "except:\n",
        "  print(\"File must be CSV\")\n",
        "  print(input())\n",
        "  exit()"
      ],
      "execution_count": 111,
      "outputs": [
        {
          "output_type": "stream",
          "text": [
            "CSV reading successful\n"
          ],
          "name": "stdout"
        }
      ]
    },
    {
      "cell_type": "code",
      "metadata": {
        "id": "WiN7lE7Ey4uq",
        "colab": {
          "base_uri": "https://localhost:8080/"
        },
        "outputId": "ce88c64e-2db2-43de-f4be-216fea0315ff"
      },
      "source": [
        "df.shape"
      ],
      "execution_count": 61,
      "outputs": [
        {
          "output_type": "execute_result",
          "data": {
            "text/plain": [
              "(81185, 59)"
            ]
          },
          "metadata": {
            "tags": []
          },
          "execution_count": 61
        }
      ]
    },
    {
      "cell_type": "code",
      "metadata": {
        "id": "XbjicYJVzXia",
        "colab": {
          "base_uri": "https://localhost:8080/",
          "height": 305
        },
        "outputId": "92b535f9-a096-4f68-b24b-cc957099838d"
      },
      "source": [
        "df.head(5)"
      ],
      "execution_count": 62,
      "outputs": [
        {
          "output_type": "execute_result",
          "data": {
            "text/html": [
              "<div>\n",
              "<style scoped>\n",
              "    .dataframe tbody tr th:only-of-type {\n",
              "        vertical-align: middle;\n",
              "    }\n",
              "\n",
              "    .dataframe tbody tr th {\n",
              "        vertical-align: top;\n",
              "    }\n",
              "\n",
              "    .dataframe thead th {\n",
              "        text-align: right;\n",
              "    }\n",
              "</style>\n",
              "<table border=\"1\" class=\"dataframe\">\n",
              "  <thead>\n",
              "    <tr style=\"text-align: right;\">\n",
              "      <th></th>\n",
              "      <th>iso_code</th>\n",
              "      <th>continent</th>\n",
              "      <th>location</th>\n",
              "      <th>date</th>\n",
              "      <th>total_cases</th>\n",
              "      <th>new_cases</th>\n",
              "      <th>new_cases_smoothed</th>\n",
              "      <th>total_deaths</th>\n",
              "      <th>new_deaths</th>\n",
              "      <th>new_deaths_smoothed</th>\n",
              "      <th>total_cases_per_million</th>\n",
              "      <th>new_cases_per_million</th>\n",
              "      <th>new_cases_smoothed_per_million</th>\n",
              "      <th>total_deaths_per_million</th>\n",
              "      <th>new_deaths_per_million</th>\n",
              "      <th>new_deaths_smoothed_per_million</th>\n",
              "      <th>reproduction_rate</th>\n",
              "      <th>icu_patients</th>\n",
              "      <th>icu_patients_per_million</th>\n",
              "      <th>hosp_patients</th>\n",
              "      <th>hosp_patients_per_million</th>\n",
              "      <th>weekly_icu_admissions</th>\n",
              "      <th>weekly_icu_admissions_per_million</th>\n",
              "      <th>weekly_hosp_admissions</th>\n",
              "      <th>weekly_hosp_admissions_per_million</th>\n",
              "      <th>new_tests</th>\n",
              "      <th>total_tests</th>\n",
              "      <th>total_tests_per_thousand</th>\n",
              "      <th>new_tests_per_thousand</th>\n",
              "      <th>new_tests_smoothed</th>\n",
              "      <th>new_tests_smoothed_per_thousand</th>\n",
              "      <th>positive_rate</th>\n",
              "      <th>tests_per_case</th>\n",
              "      <th>tests_units</th>\n",
              "      <th>total_vaccinations</th>\n",
              "      <th>people_vaccinated</th>\n",
              "      <th>people_fully_vaccinated</th>\n",
              "      <th>new_vaccinations</th>\n",
              "      <th>new_vaccinations_smoothed</th>\n",
              "      <th>total_vaccinations_per_hundred</th>\n",
              "      <th>people_vaccinated_per_hundred</th>\n",
              "      <th>people_fully_vaccinated_per_hundred</th>\n",
              "      <th>new_vaccinations_smoothed_per_million</th>\n",
              "      <th>stringency_index</th>\n",
              "      <th>population</th>\n",
              "      <th>population_density</th>\n",
              "      <th>median_age</th>\n",
              "      <th>aged_65_older</th>\n",
              "      <th>aged_70_older</th>\n",
              "      <th>gdp_per_capita</th>\n",
              "      <th>extreme_poverty</th>\n",
              "      <th>cardiovasc_death_rate</th>\n",
              "      <th>diabetes_prevalence</th>\n",
              "      <th>female_smokers</th>\n",
              "      <th>male_smokers</th>\n",
              "      <th>handwashing_facilities</th>\n",
              "      <th>hospital_beds_per_thousand</th>\n",
              "      <th>life_expectancy</th>\n",
              "      <th>human_development_index</th>\n",
              "    </tr>\n",
              "  </thead>\n",
              "  <tbody>\n",
              "    <tr>\n",
              "      <th>0</th>\n",
              "      <td>AFG</td>\n",
              "      <td>Asia</td>\n",
              "      <td>Afghanistan</td>\n",
              "      <td>2020-02-24</td>\n",
              "      <td>1.0</td>\n",
              "      <td>1.0</td>\n",
              "      <td>NaN</td>\n",
              "      <td>NaN</td>\n",
              "      <td>NaN</td>\n",
              "      <td>NaN</td>\n",
              "      <td>0.026</td>\n",
              "      <td>0.026</td>\n",
              "      <td>NaN</td>\n",
              "      <td>NaN</td>\n",
              "      <td>NaN</td>\n",
              "      <td>NaN</td>\n",
              "      <td>NaN</td>\n",
              "      <td>NaN</td>\n",
              "      <td>NaN</td>\n",
              "      <td>NaN</td>\n",
              "      <td>NaN</td>\n",
              "      <td>NaN</td>\n",
              "      <td>NaN</td>\n",
              "      <td>NaN</td>\n",
              "      <td>NaN</td>\n",
              "      <td>NaN</td>\n",
              "      <td>NaN</td>\n",
              "      <td>NaN</td>\n",
              "      <td>NaN</td>\n",
              "      <td>NaN</td>\n",
              "      <td>NaN</td>\n",
              "      <td>NaN</td>\n",
              "      <td>NaN</td>\n",
              "      <td>NaN</td>\n",
              "      <td>NaN</td>\n",
              "      <td>NaN</td>\n",
              "      <td>NaN</td>\n",
              "      <td>NaN</td>\n",
              "      <td>NaN</td>\n",
              "      <td>NaN</td>\n",
              "      <td>NaN</td>\n",
              "      <td>NaN</td>\n",
              "      <td>NaN</td>\n",
              "      <td>8.33</td>\n",
              "      <td>38928341.0</td>\n",
              "      <td>54.422</td>\n",
              "      <td>18.6</td>\n",
              "      <td>2.581</td>\n",
              "      <td>1.337</td>\n",
              "      <td>1803.987</td>\n",
              "      <td>NaN</td>\n",
              "      <td>597.029</td>\n",
              "      <td>9.59</td>\n",
              "      <td>NaN</td>\n",
              "      <td>NaN</td>\n",
              "      <td>37.746</td>\n",
              "      <td>0.5</td>\n",
              "      <td>64.83</td>\n",
              "      <td>0.511</td>\n",
              "    </tr>\n",
              "    <tr>\n",
              "      <th>1</th>\n",
              "      <td>AFG</td>\n",
              "      <td>Asia</td>\n",
              "      <td>Afghanistan</td>\n",
              "      <td>2020-02-25</td>\n",
              "      <td>1.0</td>\n",
              "      <td>0.0</td>\n",
              "      <td>NaN</td>\n",
              "      <td>NaN</td>\n",
              "      <td>NaN</td>\n",
              "      <td>NaN</td>\n",
              "      <td>0.026</td>\n",
              "      <td>0.000</td>\n",
              "      <td>NaN</td>\n",
              "      <td>NaN</td>\n",
              "      <td>NaN</td>\n",
              "      <td>NaN</td>\n",
              "      <td>NaN</td>\n",
              "      <td>NaN</td>\n",
              "      <td>NaN</td>\n",
              "      <td>NaN</td>\n",
              "      <td>NaN</td>\n",
              "      <td>NaN</td>\n",
              "      <td>NaN</td>\n",
              "      <td>NaN</td>\n",
              "      <td>NaN</td>\n",
              "      <td>NaN</td>\n",
              "      <td>NaN</td>\n",
              "      <td>NaN</td>\n",
              "      <td>NaN</td>\n",
              "      <td>NaN</td>\n",
              "      <td>NaN</td>\n",
              "      <td>NaN</td>\n",
              "      <td>NaN</td>\n",
              "      <td>NaN</td>\n",
              "      <td>NaN</td>\n",
              "      <td>NaN</td>\n",
              "      <td>NaN</td>\n",
              "      <td>NaN</td>\n",
              "      <td>NaN</td>\n",
              "      <td>NaN</td>\n",
              "      <td>NaN</td>\n",
              "      <td>NaN</td>\n",
              "      <td>NaN</td>\n",
              "      <td>8.33</td>\n",
              "      <td>38928341.0</td>\n",
              "      <td>54.422</td>\n",
              "      <td>18.6</td>\n",
              "      <td>2.581</td>\n",
              "      <td>1.337</td>\n",
              "      <td>1803.987</td>\n",
              "      <td>NaN</td>\n",
              "      <td>597.029</td>\n",
              "      <td>9.59</td>\n",
              "      <td>NaN</td>\n",
              "      <td>NaN</td>\n",
              "      <td>37.746</td>\n",
              "      <td>0.5</td>\n",
              "      <td>64.83</td>\n",
              "      <td>0.511</td>\n",
              "    </tr>\n",
              "    <tr>\n",
              "      <th>2</th>\n",
              "      <td>AFG</td>\n",
              "      <td>Asia</td>\n",
              "      <td>Afghanistan</td>\n",
              "      <td>2020-02-26</td>\n",
              "      <td>1.0</td>\n",
              "      <td>0.0</td>\n",
              "      <td>NaN</td>\n",
              "      <td>NaN</td>\n",
              "      <td>NaN</td>\n",
              "      <td>NaN</td>\n",
              "      <td>0.026</td>\n",
              "      <td>0.000</td>\n",
              "      <td>NaN</td>\n",
              "      <td>NaN</td>\n",
              "      <td>NaN</td>\n",
              "      <td>NaN</td>\n",
              "      <td>NaN</td>\n",
              "      <td>NaN</td>\n",
              "      <td>NaN</td>\n",
              "      <td>NaN</td>\n",
              "      <td>NaN</td>\n",
              "      <td>NaN</td>\n",
              "      <td>NaN</td>\n",
              "      <td>NaN</td>\n",
              "      <td>NaN</td>\n",
              "      <td>NaN</td>\n",
              "      <td>NaN</td>\n",
              "      <td>NaN</td>\n",
              "      <td>NaN</td>\n",
              "      <td>NaN</td>\n",
              "      <td>NaN</td>\n",
              "      <td>NaN</td>\n",
              "      <td>NaN</td>\n",
              "      <td>NaN</td>\n",
              "      <td>NaN</td>\n",
              "      <td>NaN</td>\n",
              "      <td>NaN</td>\n",
              "      <td>NaN</td>\n",
              "      <td>NaN</td>\n",
              "      <td>NaN</td>\n",
              "      <td>NaN</td>\n",
              "      <td>NaN</td>\n",
              "      <td>NaN</td>\n",
              "      <td>8.33</td>\n",
              "      <td>38928341.0</td>\n",
              "      <td>54.422</td>\n",
              "      <td>18.6</td>\n",
              "      <td>2.581</td>\n",
              "      <td>1.337</td>\n",
              "      <td>1803.987</td>\n",
              "      <td>NaN</td>\n",
              "      <td>597.029</td>\n",
              "      <td>9.59</td>\n",
              "      <td>NaN</td>\n",
              "      <td>NaN</td>\n",
              "      <td>37.746</td>\n",
              "      <td>0.5</td>\n",
              "      <td>64.83</td>\n",
              "      <td>0.511</td>\n",
              "    </tr>\n",
              "    <tr>\n",
              "      <th>3</th>\n",
              "      <td>AFG</td>\n",
              "      <td>Asia</td>\n",
              "      <td>Afghanistan</td>\n",
              "      <td>2020-02-27</td>\n",
              "      <td>1.0</td>\n",
              "      <td>0.0</td>\n",
              "      <td>NaN</td>\n",
              "      <td>NaN</td>\n",
              "      <td>NaN</td>\n",
              "      <td>NaN</td>\n",
              "      <td>0.026</td>\n",
              "      <td>0.000</td>\n",
              "      <td>NaN</td>\n",
              "      <td>NaN</td>\n",
              "      <td>NaN</td>\n",
              "      <td>NaN</td>\n",
              "      <td>NaN</td>\n",
              "      <td>NaN</td>\n",
              "      <td>NaN</td>\n",
              "      <td>NaN</td>\n",
              "      <td>NaN</td>\n",
              "      <td>NaN</td>\n",
              "      <td>NaN</td>\n",
              "      <td>NaN</td>\n",
              "      <td>NaN</td>\n",
              "      <td>NaN</td>\n",
              "      <td>NaN</td>\n",
              "      <td>NaN</td>\n",
              "      <td>NaN</td>\n",
              "      <td>NaN</td>\n",
              "      <td>NaN</td>\n",
              "      <td>NaN</td>\n",
              "      <td>NaN</td>\n",
              "      <td>NaN</td>\n",
              "      <td>NaN</td>\n",
              "      <td>NaN</td>\n",
              "      <td>NaN</td>\n",
              "      <td>NaN</td>\n",
              "      <td>NaN</td>\n",
              "      <td>NaN</td>\n",
              "      <td>NaN</td>\n",
              "      <td>NaN</td>\n",
              "      <td>NaN</td>\n",
              "      <td>8.33</td>\n",
              "      <td>38928341.0</td>\n",
              "      <td>54.422</td>\n",
              "      <td>18.6</td>\n",
              "      <td>2.581</td>\n",
              "      <td>1.337</td>\n",
              "      <td>1803.987</td>\n",
              "      <td>NaN</td>\n",
              "      <td>597.029</td>\n",
              "      <td>9.59</td>\n",
              "      <td>NaN</td>\n",
              "      <td>NaN</td>\n",
              "      <td>37.746</td>\n",
              "      <td>0.5</td>\n",
              "      <td>64.83</td>\n",
              "      <td>0.511</td>\n",
              "    </tr>\n",
              "    <tr>\n",
              "      <th>4</th>\n",
              "      <td>AFG</td>\n",
              "      <td>Asia</td>\n",
              "      <td>Afghanistan</td>\n",
              "      <td>2020-02-28</td>\n",
              "      <td>1.0</td>\n",
              "      <td>0.0</td>\n",
              "      <td>NaN</td>\n",
              "      <td>NaN</td>\n",
              "      <td>NaN</td>\n",
              "      <td>NaN</td>\n",
              "      <td>0.026</td>\n",
              "      <td>0.000</td>\n",
              "      <td>NaN</td>\n",
              "      <td>NaN</td>\n",
              "      <td>NaN</td>\n",
              "      <td>NaN</td>\n",
              "      <td>NaN</td>\n",
              "      <td>NaN</td>\n",
              "      <td>NaN</td>\n",
              "      <td>NaN</td>\n",
              "      <td>NaN</td>\n",
              "      <td>NaN</td>\n",
              "      <td>NaN</td>\n",
              "      <td>NaN</td>\n",
              "      <td>NaN</td>\n",
              "      <td>NaN</td>\n",
              "      <td>NaN</td>\n",
              "      <td>NaN</td>\n",
              "      <td>NaN</td>\n",
              "      <td>NaN</td>\n",
              "      <td>NaN</td>\n",
              "      <td>NaN</td>\n",
              "      <td>NaN</td>\n",
              "      <td>NaN</td>\n",
              "      <td>NaN</td>\n",
              "      <td>NaN</td>\n",
              "      <td>NaN</td>\n",
              "      <td>NaN</td>\n",
              "      <td>NaN</td>\n",
              "      <td>NaN</td>\n",
              "      <td>NaN</td>\n",
              "      <td>NaN</td>\n",
              "      <td>NaN</td>\n",
              "      <td>8.33</td>\n",
              "      <td>38928341.0</td>\n",
              "      <td>54.422</td>\n",
              "      <td>18.6</td>\n",
              "      <td>2.581</td>\n",
              "      <td>1.337</td>\n",
              "      <td>1803.987</td>\n",
              "      <td>NaN</td>\n",
              "      <td>597.029</td>\n",
              "      <td>9.59</td>\n",
              "      <td>NaN</td>\n",
              "      <td>NaN</td>\n",
              "      <td>37.746</td>\n",
              "      <td>0.5</td>\n",
              "      <td>64.83</td>\n",
              "      <td>0.511</td>\n",
              "    </tr>\n",
              "  </tbody>\n",
              "</table>\n",
              "</div>"
            ],
            "text/plain": [
              "  iso_code continent  ... life_expectancy human_development_index\n",
              "0      AFG      Asia  ...           64.83                   0.511\n",
              "1      AFG      Asia  ...           64.83                   0.511\n",
              "2      AFG      Asia  ...           64.83                   0.511\n",
              "3      AFG      Asia  ...           64.83                   0.511\n",
              "4      AFG      Asia  ...           64.83                   0.511\n",
              "\n",
              "[5 rows x 59 columns]"
            ]
          },
          "metadata": {
            "tags": []
          },
          "execution_count": 62
        }
      ]
    },
    {
      "cell_type": "code",
      "metadata": {
        "id": "8WR92p3w0jVT",
        "colab": {
          "base_uri": "https://localhost:8080/"
        },
        "outputId": "fdbd8be8-be28-4bf2-968f-5d67e289517c"
      },
      "source": [
        "df.nunique()"
      ],
      "execution_count": 63,
      "outputs": [
        {
          "output_type": "execute_result",
          "data": {
            "text/plain": [
              "iso_code                                   215\n",
              "continent                                    6\n",
              "location                                   215\n",
              "date                                       468\n",
              "total_cases                              42656\n",
              "new_cases                                11118\n",
              "new_cases_smoothed                       21160\n",
              "total_deaths                             16210\n",
              "new_deaths                                2643\n",
              "new_deaths_smoothed                       5907\n",
              "total_cases_per_million                  61321\n",
              "new_cases_per_million                    35099\n",
              "new_cases_smoothed_per_million           39517\n",
              "total_deaths_per_million                 37676\n",
              "new_deaths_per_million                    6821\n",
              "new_deaths_smoothed_per_million           8128\n",
              "reproduction_rate                          374\n",
              "icu_patients                              2243\n",
              "icu_patients_per_million                  4700\n",
              "hosp_patients                             4353\n",
              "hosp_patients_per_million                 7621\n",
              "weekly_icu_admissions                      555\n",
              "weekly_icu_admissions_per_million          550\n",
              "weekly_hosp_admissions                    1114\n",
              "weekly_hosp_admissions_per_million        1112\n",
              "new_tests                                20132\n",
              "total_tests                              35746\n",
              "total_tests_per_thousand                 31290\n",
              "new_tests_per_thousand                    6576\n",
              "new_tests_smoothed                       22574\n",
              "new_tests_smoothed_per_thousand           6767\n",
              "positive_rate                              561\n",
              "tests_per_case                            5015\n",
              "tests_units                                  4\n",
              "total_vaccinations                        6802\n",
              "people_vaccinated                         6117\n",
              "people_fully_vaccinated                   4302\n",
              "new_vaccinations                          5462\n",
              "new_vaccinations_smoothed                 7702\n",
              "total_vaccinations_per_hundred            2460\n",
              "people_vaccinated_per_hundred             2010\n",
              "people_fully_vaccinated_per_hundred       1126\n",
              "new_vaccinations_smoothed_per_million     4490\n",
              "stringency_index                           175\n",
              "population                                 213\n",
              "population_density                         196\n",
              "median_age                                 132\n",
              "aged_65_older                              181\n",
              "aged_70_older                              179\n",
              "gdp_per_capita                             187\n",
              "extreme_poverty                             75\n",
              "cardiovasc_death_rate                      187\n",
              "diabetes_prevalence                        139\n",
              "female_smokers                             108\n",
              "male_smokers                               124\n",
              "handwashing_facilities                      95\n",
              "hospital_beds_per_thousand                 100\n",
              "life_expectancy                            191\n",
              "human_development_index                    151\n",
              "dtype: int64"
            ]
          },
          "metadata": {
            "tags": []
          },
          "execution_count": 63
        }
      ]
    },
    {
      "cell_type": "code",
      "metadata": {
        "id": "rJKLIS3U1Yy8",
        "colab": {
          "base_uri": "https://localhost:8080/"
        },
        "outputId": "b6ad3baf-c3cd-4d80-ffc2-ce38cfeeb5b0"
      },
      "source": [
        "df.dtypes.value_counts()"
      ],
      "execution_count": 64,
      "outputs": [
        {
          "output_type": "execute_result",
          "data": {
            "text/plain": [
              "float64    54\n",
              "object      5\n",
              "dtype: int64"
            ]
          },
          "metadata": {
            "tags": []
          },
          "execution_count": 64
        }
      ]
    },
    {
      "cell_type": "code",
      "metadata": {
        "id": "-PtjDp0lgyPJ",
        "colab": {
          "base_uri": "https://localhost:8080/"
        },
        "outputId": "252675c8-9232-481d-cbbf-4fde4a91a6e5"
      },
      "source": [
        "df.dtypes"
      ],
      "execution_count": 65,
      "outputs": [
        {
          "output_type": "execute_result",
          "data": {
            "text/plain": [
              "iso_code                                  object\n",
              "continent                                 object\n",
              "location                                  object\n",
              "date                                      object\n",
              "total_cases                              float64\n",
              "new_cases                                float64\n",
              "new_cases_smoothed                       float64\n",
              "total_deaths                             float64\n",
              "new_deaths                               float64\n",
              "new_deaths_smoothed                      float64\n",
              "total_cases_per_million                  float64\n",
              "new_cases_per_million                    float64\n",
              "new_cases_smoothed_per_million           float64\n",
              "total_deaths_per_million                 float64\n",
              "new_deaths_per_million                   float64\n",
              "new_deaths_smoothed_per_million          float64\n",
              "reproduction_rate                        float64\n",
              "icu_patients                             float64\n",
              "icu_patients_per_million                 float64\n",
              "hosp_patients                            float64\n",
              "hosp_patients_per_million                float64\n",
              "weekly_icu_admissions                    float64\n",
              "weekly_icu_admissions_per_million        float64\n",
              "weekly_hosp_admissions                   float64\n",
              "weekly_hosp_admissions_per_million       float64\n",
              "new_tests                                float64\n",
              "total_tests                              float64\n",
              "total_tests_per_thousand                 float64\n",
              "new_tests_per_thousand                   float64\n",
              "new_tests_smoothed                       float64\n",
              "new_tests_smoothed_per_thousand          float64\n",
              "positive_rate                            float64\n",
              "tests_per_case                           float64\n",
              "tests_units                               object\n",
              "total_vaccinations                       float64\n",
              "people_vaccinated                        float64\n",
              "people_fully_vaccinated                  float64\n",
              "new_vaccinations                         float64\n",
              "new_vaccinations_smoothed                float64\n",
              "total_vaccinations_per_hundred           float64\n",
              "people_vaccinated_per_hundred            float64\n",
              "people_fully_vaccinated_per_hundred      float64\n",
              "new_vaccinations_smoothed_per_million    float64\n",
              "stringency_index                         float64\n",
              "population                               float64\n",
              "population_density                       float64\n",
              "median_age                               float64\n",
              "aged_65_older                            float64\n",
              "aged_70_older                            float64\n",
              "gdp_per_capita                           float64\n",
              "extreme_poverty                          float64\n",
              "cardiovasc_death_rate                    float64\n",
              "diabetes_prevalence                      float64\n",
              "female_smokers                           float64\n",
              "male_smokers                             float64\n",
              "handwashing_facilities                   float64\n",
              "hospital_beds_per_thousand               float64\n",
              "life_expectancy                          float64\n",
              "human_development_index                  float64\n",
              "dtype: object"
            ]
          },
          "metadata": {
            "tags": []
          },
          "execution_count": 65
        }
      ]
    },
    {
      "cell_type": "markdown",
      "metadata": {
        "id": "RvrADuKYKNXG"
      },
      "source": [
        "### **Data Preprocessing**"
      ]
    },
    {
      "cell_type": "code",
      "metadata": {
        "id": "dvnrLOnViYk1"
      },
      "source": [
        "df.drop(['new_cases_smoothed','new_deaths_smoothed','new_cases_smoothed_per_million','new_deaths_smoothed_per_million',\n",
        "         'new_tests_smoothed_per_thousand','new_tests_smoothed', 'new_vaccinations_smoothed', 'new_vaccinations_smoothed_per_million'], axis=1, inplace=True)"
      ],
      "execution_count": 66,
      "outputs": []
    },
    {
      "cell_type": "code",
      "metadata": {
        "id": "XGqZfjVs8vfR"
      },
      "source": [
        "df = df[df.continent == 'Europe'] #filters europe only entries"
      ],
      "execution_count": 67,
      "outputs": []
    },
    {
      "cell_type": "code",
      "metadata": {
        "id": "fpPMT1LCyjES",
        "colab": {
          "base_uri": "https://localhost:8080/"
        },
        "outputId": "5c599145-09a0-4e82-8b68-e65dbf2281d1"
      },
      "source": [
        "df.continent.value_counts() #reduced entries from 67K to 16K"
      ],
      "execution_count": 68,
      "outputs": [
        {
          "output_type": "execute_result",
          "data": {
            "text/plain": [
              "Europe    19536\n",
              "Name: continent, dtype: int64"
            ]
          },
          "metadata": {
            "tags": []
          },
          "execution_count": 68
        }
      ]
    },
    {
      "cell_type": "code",
      "metadata": {
        "id": "1jd4Doh9nCW-",
        "colab": {
          "base_uri": "https://localhost:8080/"
        },
        "outputId": "836cf49e-131d-4820-a947-b3f3a5910d0f"
      },
      "source": [
        "\"\"\"\n",
        "Loop to select the countries with the most common entries\n",
        "INPUT: series of countries with number of entries\n",
        "OUTPUT: list of the most common countries with the number of entries\n",
        "\"\"\"\n",
        "\n",
        "i = 0\n",
        "theMostCommonCountry_List = []\n",
        "while i < 10:\n",
        "  part_index = str(df.location.value_counts().index[i])\n",
        "  theMostCommonCountry_List.append( part_index )\n",
        "  i = i + 1\n",
        "print(theMostCommonCountry_List)"
      ],
      "execution_count": 69,
      "outputs": [
        {
          "output_type": "stream",
          "text": [
            "['France', 'Germany', 'Finland', 'Italy', 'United Kingdom', 'Russia', 'Spain', 'Sweden', 'Slovenia', 'Denmark']\n"
          ],
          "name": "stdout"
        }
      ]
    },
    {
      "cell_type": "code",
      "metadata": {
        "id": "9lR6BW5sOEyp"
      },
      "source": [
        "df = df[df.location.isin(theMostCommonCountry_List)]  #filters entries by list of common countries"
      ],
      "execution_count": 70,
      "outputs": []
    },
    {
      "cell_type": "code",
      "metadata": {
        "id": "LPnU7LUIMrd6",
        "colab": {
          "base_uri": "https://localhost:8080/",
          "height": 600
        },
        "outputId": "c2d743ec-9ffa-4610-ffe3-c5b368c64926"
      },
      "source": [
        "df = df.reset_index()   #resets index\n",
        "df.drop(columns=['index','continent'], inplace=True) #drops old index column and continent becasue it is not needed\n",
        "df"
      ],
      "execution_count": 71,
      "outputs": [
        {
          "output_type": "execute_result",
          "data": {
            "text/html": [
              "<div>\n",
              "<style scoped>\n",
              "    .dataframe tbody tr th:only-of-type {\n",
              "        vertical-align: middle;\n",
              "    }\n",
              "\n",
              "    .dataframe tbody tr th {\n",
              "        vertical-align: top;\n",
              "    }\n",
              "\n",
              "    .dataframe thead th {\n",
              "        text-align: right;\n",
              "    }\n",
              "</style>\n",
              "<table border=\"1\" class=\"dataframe\">\n",
              "  <thead>\n",
              "    <tr style=\"text-align: right;\">\n",
              "      <th></th>\n",
              "      <th>iso_code</th>\n",
              "      <th>location</th>\n",
              "      <th>date</th>\n",
              "      <th>total_cases</th>\n",
              "      <th>new_cases</th>\n",
              "      <th>total_deaths</th>\n",
              "      <th>new_deaths</th>\n",
              "      <th>total_cases_per_million</th>\n",
              "      <th>new_cases_per_million</th>\n",
              "      <th>total_deaths_per_million</th>\n",
              "      <th>new_deaths_per_million</th>\n",
              "      <th>reproduction_rate</th>\n",
              "      <th>icu_patients</th>\n",
              "      <th>icu_patients_per_million</th>\n",
              "      <th>hosp_patients</th>\n",
              "      <th>hosp_patients_per_million</th>\n",
              "      <th>weekly_icu_admissions</th>\n",
              "      <th>weekly_icu_admissions_per_million</th>\n",
              "      <th>weekly_hosp_admissions</th>\n",
              "      <th>weekly_hosp_admissions_per_million</th>\n",
              "      <th>new_tests</th>\n",
              "      <th>total_tests</th>\n",
              "      <th>total_tests_per_thousand</th>\n",
              "      <th>new_tests_per_thousand</th>\n",
              "      <th>positive_rate</th>\n",
              "      <th>tests_per_case</th>\n",
              "      <th>tests_units</th>\n",
              "      <th>total_vaccinations</th>\n",
              "      <th>people_vaccinated</th>\n",
              "      <th>people_fully_vaccinated</th>\n",
              "      <th>new_vaccinations</th>\n",
              "      <th>total_vaccinations_per_hundred</th>\n",
              "      <th>people_vaccinated_per_hundred</th>\n",
              "      <th>people_fully_vaccinated_per_hundred</th>\n",
              "      <th>stringency_index</th>\n",
              "      <th>population</th>\n",
              "      <th>population_density</th>\n",
              "      <th>median_age</th>\n",
              "      <th>aged_65_older</th>\n",
              "      <th>aged_70_older</th>\n",
              "      <th>gdp_per_capita</th>\n",
              "      <th>extreme_poverty</th>\n",
              "      <th>cardiovasc_death_rate</th>\n",
              "      <th>diabetes_prevalence</th>\n",
              "      <th>female_smokers</th>\n",
              "      <th>male_smokers</th>\n",
              "      <th>handwashing_facilities</th>\n",
              "      <th>hospital_beds_per_thousand</th>\n",
              "      <th>life_expectancy</th>\n",
              "      <th>human_development_index</th>\n",
              "    </tr>\n",
              "  </thead>\n",
              "  <tbody>\n",
              "    <tr>\n",
              "      <th>0</th>\n",
              "      <td>DNK</td>\n",
              "      <td>Denmark</td>\n",
              "      <td>2020-02-02</td>\n",
              "      <td>NaN</td>\n",
              "      <td>NaN</td>\n",
              "      <td>NaN</td>\n",
              "      <td>NaN</td>\n",
              "      <td>NaN</td>\n",
              "      <td>NaN</td>\n",
              "      <td>NaN</td>\n",
              "      <td>NaN</td>\n",
              "      <td>NaN</td>\n",
              "      <td>NaN</td>\n",
              "      <td>NaN</td>\n",
              "      <td>NaN</td>\n",
              "      <td>NaN</td>\n",
              "      <td>NaN</td>\n",
              "      <td>NaN</td>\n",
              "      <td>NaN</td>\n",
              "      <td>NaN</td>\n",
              "      <td>1.0</td>\n",
              "      <td>1.0</td>\n",
              "      <td>0.0</td>\n",
              "      <td>0.0</td>\n",
              "      <td>NaN</td>\n",
              "      <td>NaN</td>\n",
              "      <td>tests performed</td>\n",
              "      <td>NaN</td>\n",
              "      <td>NaN</td>\n",
              "      <td>NaN</td>\n",
              "      <td>NaN</td>\n",
              "      <td>NaN</td>\n",
              "      <td>NaN</td>\n",
              "      <td>NaN</td>\n",
              "      <td>0.00</td>\n",
              "      <td>5792203.0</td>\n",
              "      <td>136.520</td>\n",
              "      <td>42.3</td>\n",
              "      <td>19.677</td>\n",
              "      <td>12.325</td>\n",
              "      <td>46682.515</td>\n",
              "      <td>0.2</td>\n",
              "      <td>114.767</td>\n",
              "      <td>6.41</td>\n",
              "      <td>19.3</td>\n",
              "      <td>18.8</td>\n",
              "      <td>NaN</td>\n",
              "      <td>2.50</td>\n",
              "      <td>80.90</td>\n",
              "      <td>0.940</td>\n",
              "    </tr>\n",
              "    <tr>\n",
              "      <th>1</th>\n",
              "      <td>DNK</td>\n",
              "      <td>Denmark</td>\n",
              "      <td>2020-02-03</td>\n",
              "      <td>NaN</td>\n",
              "      <td>NaN</td>\n",
              "      <td>NaN</td>\n",
              "      <td>NaN</td>\n",
              "      <td>NaN</td>\n",
              "      <td>NaN</td>\n",
              "      <td>NaN</td>\n",
              "      <td>NaN</td>\n",
              "      <td>NaN</td>\n",
              "      <td>NaN</td>\n",
              "      <td>NaN</td>\n",
              "      <td>NaN</td>\n",
              "      <td>NaN</td>\n",
              "      <td>NaN</td>\n",
              "      <td>NaN</td>\n",
              "      <td>NaN</td>\n",
              "      <td>NaN</td>\n",
              "      <td>NaN</td>\n",
              "      <td>NaN</td>\n",
              "      <td>NaN</td>\n",
              "      <td>NaN</td>\n",
              "      <td>NaN</td>\n",
              "      <td>NaN</td>\n",
              "      <td>tests performed</td>\n",
              "      <td>NaN</td>\n",
              "      <td>NaN</td>\n",
              "      <td>NaN</td>\n",
              "      <td>NaN</td>\n",
              "      <td>NaN</td>\n",
              "      <td>NaN</td>\n",
              "      <td>NaN</td>\n",
              "      <td>0.00</td>\n",
              "      <td>5792203.0</td>\n",
              "      <td>136.520</td>\n",
              "      <td>42.3</td>\n",
              "      <td>19.677</td>\n",
              "      <td>12.325</td>\n",
              "      <td>46682.515</td>\n",
              "      <td>0.2</td>\n",
              "      <td>114.767</td>\n",
              "      <td>6.41</td>\n",
              "      <td>19.3</td>\n",
              "      <td>18.8</td>\n",
              "      <td>NaN</td>\n",
              "      <td>2.50</td>\n",
              "      <td>80.90</td>\n",
              "      <td>0.940</td>\n",
              "    </tr>\n",
              "    <tr>\n",
              "      <th>2</th>\n",
              "      <td>DNK</td>\n",
              "      <td>Denmark</td>\n",
              "      <td>2020-02-04</td>\n",
              "      <td>NaN</td>\n",
              "      <td>NaN</td>\n",
              "      <td>NaN</td>\n",
              "      <td>NaN</td>\n",
              "      <td>NaN</td>\n",
              "      <td>NaN</td>\n",
              "      <td>NaN</td>\n",
              "      <td>NaN</td>\n",
              "      <td>NaN</td>\n",
              "      <td>NaN</td>\n",
              "      <td>NaN</td>\n",
              "      <td>NaN</td>\n",
              "      <td>NaN</td>\n",
              "      <td>NaN</td>\n",
              "      <td>NaN</td>\n",
              "      <td>NaN</td>\n",
              "      <td>NaN</td>\n",
              "      <td>NaN</td>\n",
              "      <td>NaN</td>\n",
              "      <td>NaN</td>\n",
              "      <td>NaN</td>\n",
              "      <td>NaN</td>\n",
              "      <td>NaN</td>\n",
              "      <td>tests performed</td>\n",
              "      <td>NaN</td>\n",
              "      <td>NaN</td>\n",
              "      <td>NaN</td>\n",
              "      <td>NaN</td>\n",
              "      <td>NaN</td>\n",
              "      <td>NaN</td>\n",
              "      <td>NaN</td>\n",
              "      <td>0.00</td>\n",
              "      <td>5792203.0</td>\n",
              "      <td>136.520</td>\n",
              "      <td>42.3</td>\n",
              "      <td>19.677</td>\n",
              "      <td>12.325</td>\n",
              "      <td>46682.515</td>\n",
              "      <td>0.2</td>\n",
              "      <td>114.767</td>\n",
              "      <td>6.41</td>\n",
              "      <td>19.3</td>\n",
              "      <td>18.8</td>\n",
              "      <td>NaN</td>\n",
              "      <td>2.50</td>\n",
              "      <td>80.90</td>\n",
              "      <td>0.940</td>\n",
              "    </tr>\n",
              "    <tr>\n",
              "      <th>3</th>\n",
              "      <td>DNK</td>\n",
              "      <td>Denmark</td>\n",
              "      <td>2020-02-05</td>\n",
              "      <td>NaN</td>\n",
              "      <td>NaN</td>\n",
              "      <td>NaN</td>\n",
              "      <td>NaN</td>\n",
              "      <td>NaN</td>\n",
              "      <td>NaN</td>\n",
              "      <td>NaN</td>\n",
              "      <td>NaN</td>\n",
              "      <td>NaN</td>\n",
              "      <td>NaN</td>\n",
              "      <td>NaN</td>\n",
              "      <td>NaN</td>\n",
              "      <td>NaN</td>\n",
              "      <td>NaN</td>\n",
              "      <td>NaN</td>\n",
              "      <td>NaN</td>\n",
              "      <td>NaN</td>\n",
              "      <td>NaN</td>\n",
              "      <td>NaN</td>\n",
              "      <td>NaN</td>\n",
              "      <td>NaN</td>\n",
              "      <td>NaN</td>\n",
              "      <td>NaN</td>\n",
              "      <td>tests performed</td>\n",
              "      <td>NaN</td>\n",
              "      <td>NaN</td>\n",
              "      <td>NaN</td>\n",
              "      <td>NaN</td>\n",
              "      <td>NaN</td>\n",
              "      <td>NaN</td>\n",
              "      <td>NaN</td>\n",
              "      <td>0.00</td>\n",
              "      <td>5792203.0</td>\n",
              "      <td>136.520</td>\n",
              "      <td>42.3</td>\n",
              "      <td>19.677</td>\n",
              "      <td>12.325</td>\n",
              "      <td>46682.515</td>\n",
              "      <td>0.2</td>\n",
              "      <td>114.767</td>\n",
              "      <td>6.41</td>\n",
              "      <td>19.3</td>\n",
              "      <td>18.8</td>\n",
              "      <td>NaN</td>\n",
              "      <td>2.50</td>\n",
              "      <td>80.90</td>\n",
              "      <td>0.940</td>\n",
              "    </tr>\n",
              "    <tr>\n",
              "      <th>4</th>\n",
              "      <td>DNK</td>\n",
              "      <td>Denmark</td>\n",
              "      <td>2020-02-06</td>\n",
              "      <td>NaN</td>\n",
              "      <td>NaN</td>\n",
              "      <td>NaN</td>\n",
              "      <td>NaN</td>\n",
              "      <td>NaN</td>\n",
              "      <td>NaN</td>\n",
              "      <td>NaN</td>\n",
              "      <td>NaN</td>\n",
              "      <td>NaN</td>\n",
              "      <td>NaN</td>\n",
              "      <td>NaN</td>\n",
              "      <td>NaN</td>\n",
              "      <td>NaN</td>\n",
              "      <td>NaN</td>\n",
              "      <td>NaN</td>\n",
              "      <td>NaN</td>\n",
              "      <td>NaN</td>\n",
              "      <td>NaN</td>\n",
              "      <td>NaN</td>\n",
              "      <td>NaN</td>\n",
              "      <td>NaN</td>\n",
              "      <td>NaN</td>\n",
              "      <td>NaN</td>\n",
              "      <td>tests performed</td>\n",
              "      <td>NaN</td>\n",
              "      <td>NaN</td>\n",
              "      <td>NaN</td>\n",
              "      <td>NaN</td>\n",
              "      <td>NaN</td>\n",
              "      <td>NaN</td>\n",
              "      <td>NaN</td>\n",
              "      <td>0.00</td>\n",
              "      <td>5792203.0</td>\n",
              "      <td>136.520</td>\n",
              "      <td>42.3</td>\n",
              "      <td>19.677</td>\n",
              "      <td>12.325</td>\n",
              "      <td>46682.515</td>\n",
              "      <td>0.2</td>\n",
              "      <td>114.767</td>\n",
              "      <td>6.41</td>\n",
              "      <td>19.3</td>\n",
              "      <td>18.8</td>\n",
              "      <td>NaN</td>\n",
              "      <td>2.50</td>\n",
              "      <td>80.90</td>\n",
              "      <td>0.940</td>\n",
              "    </tr>\n",
              "    <tr>\n",
              "      <th>...</th>\n",
              "      <td>...</td>\n",
              "      <td>...</td>\n",
              "      <td>...</td>\n",
              "      <td>...</td>\n",
              "      <td>...</td>\n",
              "      <td>...</td>\n",
              "      <td>...</td>\n",
              "      <td>...</td>\n",
              "      <td>...</td>\n",
              "      <td>...</td>\n",
              "      <td>...</td>\n",
              "      <td>...</td>\n",
              "      <td>...</td>\n",
              "      <td>...</td>\n",
              "      <td>...</td>\n",
              "      <td>...</td>\n",
              "      <td>...</td>\n",
              "      <td>...</td>\n",
              "      <td>...</td>\n",
              "      <td>...</td>\n",
              "      <td>...</td>\n",
              "      <td>...</td>\n",
              "      <td>...</td>\n",
              "      <td>...</td>\n",
              "      <td>...</td>\n",
              "      <td>...</td>\n",
              "      <td>...</td>\n",
              "      <td>...</td>\n",
              "      <td>...</td>\n",
              "      <td>...</td>\n",
              "      <td>...</td>\n",
              "      <td>...</td>\n",
              "      <td>...</td>\n",
              "      <td>...</td>\n",
              "      <td>...</td>\n",
              "      <td>...</td>\n",
              "      <td>...</td>\n",
              "      <td>...</td>\n",
              "      <td>...</td>\n",
              "      <td>...</td>\n",
              "      <td>...</td>\n",
              "      <td>...</td>\n",
              "      <td>...</td>\n",
              "      <td>...</td>\n",
              "      <td>...</td>\n",
              "      <td>...</td>\n",
              "      <td>...</td>\n",
              "      <td>...</td>\n",
              "      <td>...</td>\n",
              "      <td>...</td>\n",
              "    </tr>\n",
              "    <tr>\n",
              "      <th>4382</th>\n",
              "      <td>GBR</td>\n",
              "      <td>United Kingdom</td>\n",
              "      <td>2021-04-08</td>\n",
              "      <td>4384954.0</td>\n",
              "      <td>3124.0</td>\n",
              "      <td>127224.0</td>\n",
              "      <td>53.0</td>\n",
              "      <td>64592.902</td>\n",
              "      <td>46.018</td>\n",
              "      <td>1874.083</td>\n",
              "      <td>0.781</td>\n",
              "      <td>0.69</td>\n",
              "      <td>NaN</td>\n",
              "      <td>NaN</td>\n",
              "      <td>NaN</td>\n",
              "      <td>NaN</td>\n",
              "      <td>NaN</td>\n",
              "      <td>NaN</td>\n",
              "      <td>NaN</td>\n",
              "      <td>NaN</td>\n",
              "      <td>NaN</td>\n",
              "      <td>NaN</td>\n",
              "      <td>NaN</td>\n",
              "      <td>NaN</td>\n",
              "      <td>NaN</td>\n",
              "      <td>NaN</td>\n",
              "      <td>NaN</td>\n",
              "      <td>38444540.0</td>\n",
              "      <td>31903366.0</td>\n",
              "      <td>6541174.0</td>\n",
              "      <td>545511.0</td>\n",
              "      <td>56.63</td>\n",
              "      <td>47.00</td>\n",
              "      <td>9.64</td>\n",
              "      <td>75.93</td>\n",
              "      <td>67886004.0</td>\n",
              "      <td>272.898</td>\n",
              "      <td>40.8</td>\n",
              "      <td>18.517</td>\n",
              "      <td>12.527</td>\n",
              "      <td>39753.244</td>\n",
              "      <td>0.2</td>\n",
              "      <td>122.137</td>\n",
              "      <td>4.28</td>\n",
              "      <td>20.0</td>\n",
              "      <td>24.7</td>\n",
              "      <td>NaN</td>\n",
              "      <td>2.54</td>\n",
              "      <td>81.32</td>\n",
              "      <td>0.932</td>\n",
              "    </tr>\n",
              "    <tr>\n",
              "      <th>4383</th>\n",
              "      <td>GBR</td>\n",
              "      <td>United Kingdom</td>\n",
              "      <td>2021-04-09</td>\n",
              "      <td>4380167.0</td>\n",
              "      <td>-4787.0</td>\n",
              "      <td>127284.0</td>\n",
              "      <td>60.0</td>\n",
              "      <td>64522.387</td>\n",
              "      <td>-70.515</td>\n",
              "      <td>1874.967</td>\n",
              "      <td>0.884</td>\n",
              "      <td>0.69</td>\n",
              "      <td>NaN</td>\n",
              "      <td>NaN</td>\n",
              "      <td>NaN</td>\n",
              "      <td>NaN</td>\n",
              "      <td>NaN</td>\n",
              "      <td>NaN</td>\n",
              "      <td>NaN</td>\n",
              "      <td>NaN</td>\n",
              "      <td>NaN</td>\n",
              "      <td>NaN</td>\n",
              "      <td>NaN</td>\n",
              "      <td>NaN</td>\n",
              "      <td>NaN</td>\n",
              "      <td>NaN</td>\n",
              "      <td>NaN</td>\n",
              "      <td>39001554.0</td>\n",
              "      <td>32010244.0</td>\n",
              "      <td>6991310.0</td>\n",
              "      <td>557014.0</td>\n",
              "      <td>57.45</td>\n",
              "      <td>47.15</td>\n",
              "      <td>10.30</td>\n",
              "      <td>75.93</td>\n",
              "      <td>67886004.0</td>\n",
              "      <td>272.898</td>\n",
              "      <td>40.8</td>\n",
              "      <td>18.517</td>\n",
              "      <td>12.527</td>\n",
              "      <td>39753.244</td>\n",
              "      <td>0.2</td>\n",
              "      <td>122.137</td>\n",
              "      <td>4.28</td>\n",
              "      <td>20.0</td>\n",
              "      <td>24.7</td>\n",
              "      <td>NaN</td>\n",
              "      <td>2.54</td>\n",
              "      <td>81.32</td>\n",
              "      <td>0.932</td>\n",
              "    </tr>\n",
              "    <tr>\n",
              "      <th>4384</th>\n",
              "      <td>GBR</td>\n",
              "      <td>United Kingdom</td>\n",
              "      <td>2021-04-10</td>\n",
              "      <td>4382880.0</td>\n",
              "      <td>2713.0</td>\n",
              "      <td>127324.0</td>\n",
              "      <td>40.0</td>\n",
              "      <td>64562.351</td>\n",
              "      <td>39.964</td>\n",
              "      <td>1875.556</td>\n",
              "      <td>0.589</td>\n",
              "      <td>0.69</td>\n",
              "      <td>NaN</td>\n",
              "      <td>NaN</td>\n",
              "      <td>NaN</td>\n",
              "      <td>NaN</td>\n",
              "      <td>NaN</td>\n",
              "      <td>NaN</td>\n",
              "      <td>NaN</td>\n",
              "      <td>NaN</td>\n",
              "      <td>NaN</td>\n",
              "      <td>NaN</td>\n",
              "      <td>NaN</td>\n",
              "      <td>NaN</td>\n",
              "      <td>NaN</td>\n",
              "      <td>NaN</td>\n",
              "      <td>NaN</td>\n",
              "      <td>39587893.0</td>\n",
              "      <td>32121353.0</td>\n",
              "      <td>7466540.0</td>\n",
              "      <td>586339.0</td>\n",
              "      <td>58.32</td>\n",
              "      <td>47.32</td>\n",
              "      <td>11.00</td>\n",
              "      <td>75.93</td>\n",
              "      <td>67886004.0</td>\n",
              "      <td>272.898</td>\n",
              "      <td>40.8</td>\n",
              "      <td>18.517</td>\n",
              "      <td>12.527</td>\n",
              "      <td>39753.244</td>\n",
              "      <td>0.2</td>\n",
              "      <td>122.137</td>\n",
              "      <td>4.28</td>\n",
              "      <td>20.0</td>\n",
              "      <td>24.7</td>\n",
              "      <td>NaN</td>\n",
              "      <td>2.54</td>\n",
              "      <td>81.32</td>\n",
              "      <td>0.932</td>\n",
              "    </tr>\n",
              "    <tr>\n",
              "      <th>4385</th>\n",
              "      <td>GBR</td>\n",
              "      <td>United Kingdom</td>\n",
              "      <td>2021-04-11</td>\n",
              "      <td>4384610.0</td>\n",
              "      <td>1730.0</td>\n",
              "      <td>127331.0</td>\n",
              "      <td>7.0</td>\n",
              "      <td>64587.835</td>\n",
              "      <td>25.484</td>\n",
              "      <td>1875.659</td>\n",
              "      <td>0.103</td>\n",
              "      <td>NaN</td>\n",
              "      <td>NaN</td>\n",
              "      <td>NaN</td>\n",
              "      <td>NaN</td>\n",
              "      <td>NaN</td>\n",
              "      <td>NaN</td>\n",
              "      <td>NaN</td>\n",
              "      <td>NaN</td>\n",
              "      <td>NaN</td>\n",
              "      <td>NaN</td>\n",
              "      <td>NaN</td>\n",
              "      <td>NaN</td>\n",
              "      <td>NaN</td>\n",
              "      <td>NaN</td>\n",
              "      <td>NaN</td>\n",
              "      <td>NaN</td>\n",
              "      <td>NaN</td>\n",
              "      <td>NaN</td>\n",
              "      <td>NaN</td>\n",
              "      <td>NaN</td>\n",
              "      <td>NaN</td>\n",
              "      <td>NaN</td>\n",
              "      <td>NaN</td>\n",
              "      <td>75.93</td>\n",
              "      <td>67886004.0</td>\n",
              "      <td>272.898</td>\n",
              "      <td>40.8</td>\n",
              "      <td>18.517</td>\n",
              "      <td>12.527</td>\n",
              "      <td>39753.244</td>\n",
              "      <td>0.2</td>\n",
              "      <td>122.137</td>\n",
              "      <td>4.28</td>\n",
              "      <td>20.0</td>\n",
              "      <td>24.7</td>\n",
              "      <td>NaN</td>\n",
              "      <td>2.54</td>\n",
              "      <td>81.32</td>\n",
              "      <td>0.932</td>\n",
              "    </tr>\n",
              "    <tr>\n",
              "      <th>4386</th>\n",
              "      <td>GBR</td>\n",
              "      <td>United Kingdom</td>\n",
              "      <td>2021-04-12</td>\n",
              "      <td>4388296.0</td>\n",
              "      <td>3686.0</td>\n",
              "      <td>127346.0</td>\n",
              "      <td>15.0</td>\n",
              "      <td>64642.132</td>\n",
              "      <td>54.297</td>\n",
              "      <td>1875.880</td>\n",
              "      <td>0.221</td>\n",
              "      <td>NaN</td>\n",
              "      <td>NaN</td>\n",
              "      <td>NaN</td>\n",
              "      <td>NaN</td>\n",
              "      <td>NaN</td>\n",
              "      <td>NaN</td>\n",
              "      <td>NaN</td>\n",
              "      <td>NaN</td>\n",
              "      <td>NaN</td>\n",
              "      <td>NaN</td>\n",
              "      <td>NaN</td>\n",
              "      <td>NaN</td>\n",
              "      <td>NaN</td>\n",
              "      <td>NaN</td>\n",
              "      <td>NaN</td>\n",
              "      <td>NaN</td>\n",
              "      <td>NaN</td>\n",
              "      <td>NaN</td>\n",
              "      <td>NaN</td>\n",
              "      <td>NaN</td>\n",
              "      <td>NaN</td>\n",
              "      <td>NaN</td>\n",
              "      <td>NaN</td>\n",
              "      <td>NaN</td>\n",
              "      <td>67886004.0</td>\n",
              "      <td>272.898</td>\n",
              "      <td>40.8</td>\n",
              "      <td>18.517</td>\n",
              "      <td>12.527</td>\n",
              "      <td>39753.244</td>\n",
              "      <td>0.2</td>\n",
              "      <td>122.137</td>\n",
              "      <td>4.28</td>\n",
              "      <td>20.0</td>\n",
              "      <td>24.7</td>\n",
              "      <td>NaN</td>\n",
              "      <td>2.54</td>\n",
              "      <td>81.32</td>\n",
              "      <td>0.932</td>\n",
              "    </tr>\n",
              "  </tbody>\n",
              "</table>\n",
              "<p>4387 rows × 50 columns</p>\n",
              "</div>"
            ],
            "text/plain": [
              "     iso_code        location  ... life_expectancy  human_development_index\n",
              "0         DNK         Denmark  ...           80.90                    0.940\n",
              "1         DNK         Denmark  ...           80.90                    0.940\n",
              "2         DNK         Denmark  ...           80.90                    0.940\n",
              "3         DNK         Denmark  ...           80.90                    0.940\n",
              "4         DNK         Denmark  ...           80.90                    0.940\n",
              "...       ...             ...  ...             ...                      ...\n",
              "4382      GBR  United Kingdom  ...           81.32                    0.932\n",
              "4383      GBR  United Kingdom  ...           81.32                    0.932\n",
              "4384      GBR  United Kingdom  ...           81.32                    0.932\n",
              "4385      GBR  United Kingdom  ...           81.32                    0.932\n",
              "4386      GBR  United Kingdom  ...           81.32                    0.932\n",
              "\n",
              "[4387 rows x 50 columns]"
            ]
          },
          "metadata": {
            "tags": []
          },
          "execution_count": 71
        }
      ]
    },
    {
      "cell_type": "code",
      "metadata": {
        "id": "1OeGU_1kSwiG",
        "colab": {
          "base_uri": "https://localhost:8080/"
        },
        "outputId": "a812570a-97a3-47c0-d8db-086aa99cfb5f"
      },
      "source": [
        "\"\"\"\n",
        "Loop for checking which features are object type\n",
        "INPUT: pandas series\n",
        "OUTPUT: list of objects\n",
        "\"\"\"\n",
        "list_of_objects = []\n",
        "x=0\n",
        "while x < len(df.columns):\n",
        "  if df.dtypes.values[x] == object:\n",
        "    list_of_objects.append(df.dtypes.index[x])\n",
        "  x = x + 1\n",
        "print(list_of_objects)"
      ],
      "execution_count": 72,
      "outputs": [
        {
          "output_type": "stream",
          "text": [
            "['iso_code', 'location', 'date', 'tests_units']\n"
          ],
          "name": "stdout"
        }
      ]
    },
    {
      "cell_type": "code",
      "metadata": {
        "id": "EOdd1Gjag2NF"
      },
      "source": [
        "df.iso_code = LabelEncoder().fit_transform(df.iso_code)\n",
        "df.location = LabelEncoder().fit_transform(df.location)\n",
        "df.date = LabelEncoder().fit_transform(df.date)"
      ],
      "execution_count": 73,
      "outputs": []
    },
    {
      "cell_type": "code",
      "metadata": {
        "colab": {
          "base_uri": "https://localhost:8080/"
        },
        "id": "HR7wBbClj2zU",
        "outputId": "9d9121b1-cb75-468b-b781-efb8351fb519"
      },
      "source": [
        "df.tests_units.fillna('Not Tested', inplace=True)\n",
        "df.tests_units.value_counts()"
      ],
      "execution_count": 74,
      "outputs": [
        {
          "output_type": "execute_result",
          "data": {
            "text/plain": [
              "tests performed    3458\n",
              "Not Tested          601\n",
              "people tested       328\n",
              "Name: tests_units, dtype: int64"
            ]
          },
          "metadata": {
            "tags": []
          },
          "execution_count": 74
        }
      ]
    },
    {
      "cell_type": "code",
      "metadata": {
        "colab": {
          "base_uri": "https://localhost:8080/"
        },
        "id": "M-KqKxxWk5O1",
        "outputId": "43d18472-1843-47d3-cbe4-a52a143e57e9"
      },
      "source": [
        "df.tests_units = df.tests_units.replace(['tests performed', 'people tested'], 'Tested')\n",
        "df.tests_units.value_counts()"
      ],
      "execution_count": 75,
      "outputs": [
        {
          "output_type": "execute_result",
          "data": {
            "text/plain": [
              "Tested        3786\n",
              "Not Tested     601\n",
              "Name: tests_units, dtype: int64"
            ]
          },
          "metadata": {
            "tags": []
          },
          "execution_count": 75
        }
      ]
    },
    {
      "cell_type": "code",
      "metadata": {
        "id": "nVhzNoQYlS7k"
      },
      "source": [
        "df.tests_units = LabelEncoder().fit_transform(df.tests_units)"
      ],
      "execution_count": 76,
      "outputs": []
    },
    {
      "cell_type": "code",
      "metadata": {
        "colab": {
          "base_uri": "https://localhost:8080/"
        },
        "id": "z3FLzZEJcv6_",
        "outputId": "a69d45b5-e1c5-4847-d1c1-8e1f2b50918b"
      },
      "source": [
        "df.dtypes"
      ],
      "execution_count": 77,
      "outputs": [
        {
          "output_type": "execute_result",
          "data": {
            "text/plain": [
              "iso_code                                 int64\n",
              "location                                 int64\n",
              "date                                     int64\n",
              "total_cases                            float64\n",
              "new_cases                              float64\n",
              "total_deaths                           float64\n",
              "new_deaths                             float64\n",
              "total_cases_per_million                float64\n",
              "new_cases_per_million                  float64\n",
              "total_deaths_per_million               float64\n",
              "new_deaths_per_million                 float64\n",
              "reproduction_rate                      float64\n",
              "icu_patients                           float64\n",
              "icu_patients_per_million               float64\n",
              "hosp_patients                          float64\n",
              "hosp_patients_per_million              float64\n",
              "weekly_icu_admissions                  float64\n",
              "weekly_icu_admissions_per_million      float64\n",
              "weekly_hosp_admissions                 float64\n",
              "weekly_hosp_admissions_per_million     float64\n",
              "new_tests                              float64\n",
              "total_tests                            float64\n",
              "total_tests_per_thousand               float64\n",
              "new_tests_per_thousand                 float64\n",
              "positive_rate                          float64\n",
              "tests_per_case                         float64\n",
              "tests_units                              int64\n",
              "total_vaccinations                     float64\n",
              "people_vaccinated                      float64\n",
              "people_fully_vaccinated                float64\n",
              "new_vaccinations                       float64\n",
              "total_vaccinations_per_hundred         float64\n",
              "people_vaccinated_per_hundred          float64\n",
              "people_fully_vaccinated_per_hundred    float64\n",
              "stringency_index                       float64\n",
              "population                             float64\n",
              "population_density                     float64\n",
              "median_age                             float64\n",
              "aged_65_older                          float64\n",
              "aged_70_older                          float64\n",
              "gdp_per_capita                         float64\n",
              "extreme_poverty                        float64\n",
              "cardiovasc_death_rate                  float64\n",
              "diabetes_prevalence                    float64\n",
              "female_smokers                         float64\n",
              "male_smokers                           float64\n",
              "handwashing_facilities                 float64\n",
              "hospital_beds_per_thousand             float64\n",
              "life_expectancy                        float64\n",
              "human_development_index                float64\n",
              "dtype: object"
            ]
          },
          "metadata": {
            "tags": []
          },
          "execution_count": 77
        }
      ]
    },
    {
      "cell_type": "code",
      "metadata": {
        "id": "dRSZtnh0TaXP",
        "colab": {
          "base_uri": "https://localhost:8080/"
        },
        "outputId": "bc800f51-ce12-4555-e778-3ce6922fcc93"
      },
      "source": [
        "df.location.value_counts() #counts amount of entrires "
      ],
      "execution_count": 78,
      "outputs": [
        {
          "output_type": "execute_result",
          "data": {
            "text/plain": [
              "2    445\n",
              "3    442\n",
              "1    440\n",
              "9    438\n",
              "5    438\n",
              "4    438\n",
              "7    437\n",
              "8    437\n",
              "6    436\n",
              "0    436\n",
              "Name: location, dtype: int64"
            ]
          },
          "metadata": {
            "tags": []
          },
          "execution_count": 78
        }
      ]
    },
    {
      "cell_type": "code",
      "metadata": {
        "id": "vc8CQwl2S3d6",
        "colab": {
          "base_uri": "https://localhost:8080/"
        },
        "outputId": "3e91ad40-7de2-4f9e-fbf0-208d39e0a7d6"
      },
      "source": [
        "correlation_matrix = df.corr().round(2) \n",
        "correlation_matrix.shape #checks size of the matrix"
      ],
      "execution_count": 79,
      "outputs": [
        {
          "output_type": "execute_result",
          "data": {
            "text/plain": [
              "(50, 50)"
            ]
          },
          "metadata": {
            "tags": []
          },
          "execution_count": 79
        }
      ]
    },
    {
      "cell_type": "code",
      "metadata": {
        "id": "BNf1Em9Mon-u",
        "colab": {
          "base_uri": "https://localhost:8080/"
        },
        "outputId": "ee1d930f-8564-4e97-8007-fb6e4e79c917"
      },
      "source": [
        "df.isna().sum() #counts NA values"
      ],
      "execution_count": 80,
      "outputs": [
        {
          "output_type": "execute_result",
          "data": {
            "text/plain": [
              "iso_code                                  0\n",
              "location                                  0\n",
              "date                                      0\n",
              "total_cases                              57\n",
              "new_cases                                57\n",
              "total_deaths                            371\n",
              "new_deaths                              371\n",
              "total_cases_per_million                  57\n",
              "new_cases_per_million                    57\n",
              "total_deaths_per_million                371\n",
              "new_deaths_per_million                  371\n",
              "reproduction_rate                       385\n",
              "icu_patients                           1320\n",
              "icu_patients_per_million               1320\n",
              "hosp_patients                          1694\n",
              "hosp_patients_per_million              1694\n",
              "weekly_icu_admissions                  4156\n",
              "weekly_icu_admissions_per_million      4156\n",
              "weekly_hosp_admissions                 3982\n",
              "weekly_hosp_admissions_per_million     3982\n",
              "new_tests                              1420\n",
              "total_tests                            1887\n",
              "total_tests_per_thousand               1887\n",
              "new_tests_per_thousand                 1420\n",
              "positive_rate                          1039\n",
              "tests_per_case                         1049\n",
              "tests_units                               0\n",
              "total_vaccinations                     3561\n",
              "people_vaccinated                      3576\n",
              "people_fully_vaccinated                3674\n",
              "new_vaccinations                       3622\n",
              "total_vaccinations_per_hundred         3561\n",
              "people_vaccinated_per_hundred          3576\n",
              "people_fully_vaccinated_per_hundred    3674\n",
              "stringency_index                         36\n",
              "population                                0\n",
              "population_density                        0\n",
              "median_age                                0\n",
              "aged_65_older                             0\n",
              "aged_70_older                             0\n",
              "gdp_per_capita                            0\n",
              "extreme_poverty                        1763\n",
              "cardiovasc_death_rate                     0\n",
              "diabetes_prevalence                       0\n",
              "female_smokers                            0\n",
              "male_smokers                              0\n",
              "handwashing_facilities                 4387\n",
              "hospital_beds_per_thousand                0\n",
              "life_expectancy                           0\n",
              "human_development_index                   0\n",
              "dtype: int64"
            ]
          },
          "metadata": {
            "tags": []
          },
          "execution_count": 80
        }
      ]
    },
    {
      "cell_type": "code",
      "metadata": {
        "id": "xPGzsisOrRQB"
      },
      "source": [
        "df = df.drop(columns=['handwashing_facilities','weekly_icu_admissions',\n",
        "                      'weekly_icu_admissions_per_million', 'weekly_hosp_admissions', \n",
        "                      'weekly_hosp_admissions_per_million', 'icu_patients_per_million',\n",
        "                      'hosp_patients_per_million', 'total_cases_per_million', 'new_cases_per_million',\n",
        "                      'total_deaths_per_million', \n",
        "                      ]) #drops those columns from the dataset"
      ],
      "execution_count": 81,
      "outputs": []
    },
    {
      "cell_type": "markdown",
      "metadata": {
        "id": "TBPX3EY7qdBp"
      },
      "source": [
        "### **Target Dataset Preprocessing**"
      ]
    },
    {
      "cell_type": "code",
      "metadata": {
        "colab": {
          "base_uri": "https://localhost:8080/"
        },
        "id": "EceT-j5TqcZu",
        "outputId": "e1bf389a-2749-4c88-fb74-d9ceed30ef2f"
      },
      "source": [
        "print(\"\", df[\"stringency_index\"].max(), \" = highest restriction value \\n\",\n",
        "      df[\"stringency_index\"].mean(), \" = average restriction value \\n\",\n",
        "      df[\"stringency_index\"].min(), \" = lowest restriction value \\n\")"
      ],
      "execution_count": 82,
      "outputs": [
        {
          "output_type": "stream",
          "text": [
            " 93.52  = highest restriction value \n",
            " 58.438722132842564  = average restriction value \n",
            " 0.0  = lowest restriction value \n",
            "\n"
          ],
          "name": "stdout"
        }
      ]
    },
    {
      "cell_type": "code",
      "metadata": {
        "id": "LMA0GoDyuBws"
      },
      "source": [
        "\n",
        "\n",
        "#loop for changing all the values smaller than 53 to 0 \n",
        "i = 0\n",
        "while i < len(df): \n",
        "  if df.stringency_index[i] < 53.0:\n",
        "    df.stringency_index  = df.stringency_index.replace(df.stringency_index[i], 0)\n",
        "\n",
        "  elif math.isnan(df.stringency_index[i]) == True:\n",
        "    df.stringency_index  = df.stringency_index.replace((df.stringency_index[i]), 0)\n",
        "\n",
        "  i = i + 1\n",
        "#loop for changning all the values bigger than 53 to 1\n",
        "i=0\n",
        "while i < len(df):\n",
        "  if df.stringency_index[i] >= 53.0:\n",
        "    df.stringency_index  = df.stringency_index.replace(df.stringency_index[i], 1)\n",
        "  i = i + 1\n"
      ],
      "execution_count": 83,
      "outputs": []
    },
    {
      "cell_type": "code",
      "metadata": {
        "id": "oVFA2y8q68Nm"
      },
      "source": [
        "#replace floats with string\n",
        "df.stringency_index  = df.stringency_index.replace(1.0, \"lockdown\")\n",
        "df.stringency_index  = df.stringency_index.replace(0.0, \"open\")"
      ],
      "execution_count": 84,
      "outputs": []
    },
    {
      "cell_type": "code",
      "metadata": {
        "colab": {
          "base_uri": "https://localhost:8080/"
        },
        "id": "qK04ny_m7SmS",
        "outputId": "be16613e-46bb-497c-b9a4-e8d06610bd5d"
      },
      "source": [
        "df.stringency_index.value_counts()"
      ],
      "execution_count": 85,
      "outputs": [
        {
          "output_type": "execute_result",
          "data": {
            "text/plain": [
              "lockdown    2816\n",
              "open        1571\n",
              "Name: stringency_index, dtype: int64"
            ]
          },
          "metadata": {
            "tags": []
          },
          "execution_count": 85
        }
      ]
    },
    {
      "cell_type": "code",
      "metadata": {
        "id": "qJDV1PDmiurk"
      },
      "source": [
        "df = df.fillna(0)"
      ],
      "execution_count": 86,
      "outputs": []
    },
    {
      "cell_type": "code",
      "metadata": {
        "id": "FAr5hCr4aGIF"
      },
      "source": [
        "Y = df.stringency_index\n",
        "X = df.drop(columns=['stringency_index'])"
      ],
      "execution_count": 87,
      "outputs": []
    },
    {
      "cell_type": "markdown",
      "metadata": {
        "id": "skdMKy5On5wW"
      },
      "source": [
        "### **RFE Feature Selection**"
      ]
    },
    {
      "cell_type": "code",
      "metadata": {
        "id": "wC9HCkF1oAVx"
      },
      "source": [
        "#importing algorithm to select best performing features\n",
        "from sklearn.feature_selection import RFE\n",
        "from sklearn.tree import DecisionTreeClassifier\n",
        "\n",
        "\n",
        "rfe_selector = RFE(estimator=DecisionTreeClassifier(), n_features_to_select = 10, step = 1)\n",
        "\n",
        "rfe_transformed = rfe_selector.fit_transform(X, Y)\n",
        "\n",
        "cols = list(X.columns)\n",
        "\n",
        "DecisionTreeClassifier().fit(rfe_transformed,Y)\n",
        "\n",
        "temp = pd.Series(rfe_selector.support_, index=cols) #support changes rfe selector into numpy array\n",
        "\n",
        "selected_features = temp[temp==True].index"
      ],
      "execution_count": 88,
      "outputs": []
    },
    {
      "cell_type": "code",
      "metadata": {
        "colab": {
          "base_uri": "https://localhost:8080/"
        },
        "id": "iKQUbdiX1Vpv",
        "outputId": "f3c5da63-b1c1-445b-8041-88a2f344c25a"
      },
      "source": [
        "selected_features"
      ],
      "execution_count": 89,
      "outputs": [
        {
          "output_type": "execute_result",
          "data": {
            "text/plain": [
              "Index(['date', 'total_cases', 'total_deaths', 'new_deaths_per_million',\n",
              "       'reproduction_rate', 'icu_patients', 'hosp_patients', 'positive_rate',\n",
              "       'tests_units', 'male_smokers'],\n",
              "      dtype='object')"
            ]
          },
          "metadata": {
            "tags": []
          },
          "execution_count": 89
        }
      ]
    },
    {
      "cell_type": "markdown",
      "metadata": {
        "id": "MOlk0yMz3g1C"
      },
      "source": [
        "### **Building Model**"
      ]
    },
    {
      "cell_type": "code",
      "metadata": {
        "id": "QVIalMculVlS"
      },
      "source": [
        "from sklearn.linear_model import LogisticRegression\n",
        "from sklearn.neighbors import KNeighborsClassifier\n",
        "from sklearn.metrics import accuracy_score, plot_confusion_matrix, confusion_matrix,classification_report\n",
        "from sklearn.naive_bayes import GaussianNB, BernoulliNB\n",
        "from sklearn.svm import SVC\n",
        "from sklearn.ensemble import RandomForestClassifier, AdaBoostClassifier"
      ],
      "execution_count": 90,
      "outputs": []
    },
    {
      "cell_type": "code",
      "metadata": {
        "id": "2OHQ3CGXhbpB",
        "colab": {
          "base_uri": "https://localhost:8080/",
          "height": 407
        },
        "outputId": "fa494f9f-5129-4347-a418-cff18b045198"
      },
      "source": [
        "X = df.filter(items=selected_features)\n",
        "X"
      ],
      "execution_count": 91,
      "outputs": [
        {
          "output_type": "execute_result",
          "data": {
            "text/html": [
              "<div>\n",
              "<style scoped>\n",
              "    .dataframe tbody tr th:only-of-type {\n",
              "        vertical-align: middle;\n",
              "    }\n",
              "\n",
              "    .dataframe tbody tr th {\n",
              "        vertical-align: top;\n",
              "    }\n",
              "\n",
              "    .dataframe thead th {\n",
              "        text-align: right;\n",
              "    }\n",
              "</style>\n",
              "<table border=\"1\" class=\"dataframe\">\n",
              "  <thead>\n",
              "    <tr style=\"text-align: right;\">\n",
              "      <th></th>\n",
              "      <th>date</th>\n",
              "      <th>total_cases</th>\n",
              "      <th>total_deaths</th>\n",
              "      <th>new_deaths_per_million</th>\n",
              "      <th>reproduction_rate</th>\n",
              "      <th>icu_patients</th>\n",
              "      <th>hosp_patients</th>\n",
              "      <th>positive_rate</th>\n",
              "      <th>tests_units</th>\n",
              "      <th>male_smokers</th>\n",
              "    </tr>\n",
              "  </thead>\n",
              "  <tbody>\n",
              "    <tr>\n",
              "      <th>0</th>\n",
              "      <td>9</td>\n",
              "      <td>0.0</td>\n",
              "      <td>0.0</td>\n",
              "      <td>0.000</td>\n",
              "      <td>0.00</td>\n",
              "      <td>0.0</td>\n",
              "      <td>0.0</td>\n",
              "      <td>0.0</td>\n",
              "      <td>1</td>\n",
              "      <td>18.8</td>\n",
              "    </tr>\n",
              "    <tr>\n",
              "      <th>1</th>\n",
              "      <td>10</td>\n",
              "      <td>0.0</td>\n",
              "      <td>0.0</td>\n",
              "      <td>0.000</td>\n",
              "      <td>0.00</td>\n",
              "      <td>0.0</td>\n",
              "      <td>0.0</td>\n",
              "      <td>0.0</td>\n",
              "      <td>1</td>\n",
              "      <td>18.8</td>\n",
              "    </tr>\n",
              "    <tr>\n",
              "      <th>2</th>\n",
              "      <td>11</td>\n",
              "      <td>0.0</td>\n",
              "      <td>0.0</td>\n",
              "      <td>0.000</td>\n",
              "      <td>0.00</td>\n",
              "      <td>0.0</td>\n",
              "      <td>0.0</td>\n",
              "      <td>0.0</td>\n",
              "      <td>1</td>\n",
              "      <td>18.8</td>\n",
              "    </tr>\n",
              "    <tr>\n",
              "      <th>3</th>\n",
              "      <td>12</td>\n",
              "      <td>0.0</td>\n",
              "      <td>0.0</td>\n",
              "      <td>0.000</td>\n",
              "      <td>0.00</td>\n",
              "      <td>0.0</td>\n",
              "      <td>0.0</td>\n",
              "      <td>0.0</td>\n",
              "      <td>1</td>\n",
              "      <td>18.8</td>\n",
              "    </tr>\n",
              "    <tr>\n",
              "      <th>4</th>\n",
              "      <td>13</td>\n",
              "      <td>0.0</td>\n",
              "      <td>0.0</td>\n",
              "      <td>0.000</td>\n",
              "      <td>0.00</td>\n",
              "      <td>0.0</td>\n",
              "      <td>0.0</td>\n",
              "      <td>0.0</td>\n",
              "      <td>1</td>\n",
              "      <td>18.8</td>\n",
              "    </tr>\n",
              "    <tr>\n",
              "      <th>...</th>\n",
              "      <td>...</td>\n",
              "      <td>...</td>\n",
              "      <td>...</td>\n",
              "      <td>...</td>\n",
              "      <td>...</td>\n",
              "      <td>...</td>\n",
              "      <td>...</td>\n",
              "      <td>...</td>\n",
              "      <td>...</td>\n",
              "      <td>...</td>\n",
              "    </tr>\n",
              "    <tr>\n",
              "      <th>4382</th>\n",
              "      <td>440</td>\n",
              "      <td>4384954.0</td>\n",
              "      <td>127224.0</td>\n",
              "      <td>0.781</td>\n",
              "      <td>0.69</td>\n",
              "      <td>0.0</td>\n",
              "      <td>0.0</td>\n",
              "      <td>0.0</td>\n",
              "      <td>0</td>\n",
              "      <td>24.7</td>\n",
              "    </tr>\n",
              "    <tr>\n",
              "      <th>4383</th>\n",
              "      <td>441</td>\n",
              "      <td>4380167.0</td>\n",
              "      <td>127284.0</td>\n",
              "      <td>0.884</td>\n",
              "      <td>0.69</td>\n",
              "      <td>0.0</td>\n",
              "      <td>0.0</td>\n",
              "      <td>0.0</td>\n",
              "      <td>0</td>\n",
              "      <td>24.7</td>\n",
              "    </tr>\n",
              "    <tr>\n",
              "      <th>4384</th>\n",
              "      <td>442</td>\n",
              "      <td>4382880.0</td>\n",
              "      <td>127324.0</td>\n",
              "      <td>0.589</td>\n",
              "      <td>0.69</td>\n",
              "      <td>0.0</td>\n",
              "      <td>0.0</td>\n",
              "      <td>0.0</td>\n",
              "      <td>0</td>\n",
              "      <td>24.7</td>\n",
              "    </tr>\n",
              "    <tr>\n",
              "      <th>4385</th>\n",
              "      <td>443</td>\n",
              "      <td>4384610.0</td>\n",
              "      <td>127331.0</td>\n",
              "      <td>0.103</td>\n",
              "      <td>0.00</td>\n",
              "      <td>0.0</td>\n",
              "      <td>0.0</td>\n",
              "      <td>0.0</td>\n",
              "      <td>0</td>\n",
              "      <td>24.7</td>\n",
              "    </tr>\n",
              "    <tr>\n",
              "      <th>4386</th>\n",
              "      <td>444</td>\n",
              "      <td>4388296.0</td>\n",
              "      <td>127346.0</td>\n",
              "      <td>0.221</td>\n",
              "      <td>0.00</td>\n",
              "      <td>0.0</td>\n",
              "      <td>0.0</td>\n",
              "      <td>0.0</td>\n",
              "      <td>0</td>\n",
              "      <td>24.7</td>\n",
              "    </tr>\n",
              "  </tbody>\n",
              "</table>\n",
              "<p>4387 rows × 10 columns</p>\n",
              "</div>"
            ],
            "text/plain": [
              "      date  total_cases  total_deaths  ...  positive_rate  tests_units  male_smokers\n",
              "0        9          0.0           0.0  ...            0.0            1          18.8\n",
              "1       10          0.0           0.0  ...            0.0            1          18.8\n",
              "2       11          0.0           0.0  ...            0.0            1          18.8\n",
              "3       12          0.0           0.0  ...            0.0            1          18.8\n",
              "4       13          0.0           0.0  ...            0.0            1          18.8\n",
              "...    ...          ...           ...  ...            ...          ...           ...\n",
              "4382   440    4384954.0      127224.0  ...            0.0            0          24.7\n",
              "4383   441    4380167.0      127284.0  ...            0.0            0          24.7\n",
              "4384   442    4382880.0      127324.0  ...            0.0            0          24.7\n",
              "4385   443    4384610.0      127331.0  ...            0.0            0          24.7\n",
              "4386   444    4388296.0      127346.0  ...            0.0            0          24.7\n",
              "\n",
              "[4387 rows x 10 columns]"
            ]
          },
          "metadata": {
            "tags": []
          },
          "execution_count": 91
        }
      ]
    },
    {
      "cell_type": "code",
      "metadata": {
        "id": "tD-SDNOb439J"
      },
      "source": [
        "X_train, X_test, Y_train, Y_test = train_test_split(X,Y, test_size=0.3, random_state=3)"
      ],
      "execution_count": 92,
      "outputs": []
    },
    {
      "cell_type": "code",
      "metadata": {
        "colab": {
          "base_uri": "https://localhost:8080/"
        },
        "id": "w1zn1Xf-9Mx9",
        "outputId": "39ee6c86-dda7-43e6-9f17-edb30af074eb"
      },
      "source": [
        "X_train.shape"
      ],
      "execution_count": 93,
      "outputs": [
        {
          "output_type": "execute_result",
          "data": {
            "text/plain": [
              "(3070, 10)"
            ]
          },
          "metadata": {
            "tags": []
          },
          "execution_count": 93
        }
      ]
    },
    {
      "cell_type": "code",
      "metadata": {
        "id": "GUiKKVP1zCDH"
      },
      "source": [
        "from sklearn.preprocessing import StandardScaler\n",
        "\n",
        "ss = StandardScaler()\n",
        "\n",
        "X_train = ss.fit_transform(X_train)\n",
        "X_test = ss.transform(X_test)"
      ],
      "execution_count": 94,
      "outputs": []
    },
    {
      "cell_type": "code",
      "metadata": {
        "id": "nRh-7b9j-upS"
      },
      "source": [
        "performanceList = []\n",
        "accuracylist = []"
      ],
      "execution_count": 95,
      "outputs": []
    },
    {
      "cell_type": "code",
      "metadata": {
        "id": "1dIeWXnNlL_U",
        "colab": {
          "base_uri": "https://localhost:8080/"
        },
        "outputId": "f2beeae1-9f32-417e-9236-4656b3ea898e"
      },
      "source": [
        "#1\n",
        "gnb = GaussianNB()\n",
        "\n",
        "model_gnb = gnb.fit(X_train, Y_train)    #fitting the model\n",
        "y_test_pred = gnb.fit(X_train, Y_train).predict(X_test)    #predicting Gaussian NB the target\n",
        "\n",
        "print(\"Training accuracy: {:,.4f}\".format(model_gnb.score(X_train, Y_train)))\n",
        "print(\"Testing accuracy: {:,.4f}\".format(model_gnb.score(X_test, Y_test)))\n",
        "\n",
        "print(\"Total points: \", X_test.shape[0], \"\\nMiss matched points: \", (Y_test != y_test_pred).sum(), \"\\nAccuracy: {:.4f}\".format(accuracy_score(Y_test, y_test_pred)))\n",
        "\n",
        "performanceList.append(model_gnb)\n",
        "accuracylist.append(accuracy_score(Y_test, y_test_pred))"
      ],
      "execution_count": 96,
      "outputs": [
        {
          "output_type": "stream",
          "text": [
            "Training accuracy: 0.6941\n",
            "Testing accuracy: 0.7099\n",
            "Total points:  1317 \n",
            "Miss matched points:  382 \n",
            "Accuracy: 0.7099\n"
          ],
          "name": "stdout"
        }
      ]
    },
    {
      "cell_type": "code",
      "metadata": {
        "id": "q7zMciuno6XX",
        "colab": {
          "base_uri": "https://localhost:8080/"
        },
        "outputId": "2652a1bc-8bd7-4799-88db-9222f58e442f"
      },
      "source": [
        "#2\n",
        "bnb = BernoulliNB()\n",
        "\n",
        "model_bnb = bnb.fit(X_train, Y_train)    #fitting Bernoulli NB\n",
        "y_test_pred = bnb.fit(X_train, Y_train).predict(X_test)    #predicting Bernoulli NB the target\n",
        "\n",
        "print(\"Training accuracy: {:,.4f}\".format(model_bnb.score(X_train, Y_train)))\n",
        "print(\"Testing accuracy: {:,.4f}\".format(model_bnb.score(X_test, Y_test)))\n",
        "\n",
        "print(\"Total points: \", X_test.shape[0], \"\\nMiss matched points: \", (Y_test != y_test_pred).sum(), \"\\nAccuracy: {:.4f}\".format(accuracy_score(Y_test, y_test_pred)))\n",
        "\n",
        "performanceList.append(model_bnb)\n",
        "accuracylist.append(accuracy_score(Y_test, y_test_pred))"
      ],
      "execution_count": 97,
      "outputs": [
        {
          "output_type": "stream",
          "text": [
            "Training accuracy: 0.6736\n",
            "Testing accuracy: 0.6841\n",
            "Total points:  1317 \n",
            "Miss matched points:  416 \n",
            "Accuracy: 0.6841\n"
          ],
          "name": "stdout"
        }
      ]
    },
    {
      "cell_type": "code",
      "metadata": {
        "id": "MYVB3Jv0mKKo",
        "colab": {
          "base_uri": "https://localhost:8080/"
        },
        "outputId": "00f2736b-952c-41b9-e61f-7349ac496f95"
      },
      "source": [
        "#3\n",
        "logistic = LogisticRegression()\n",
        "\n",
        "model_log = logistic.fit(X_train, Y_train) #logistic regression is fitted\n",
        "y_test_pred = model_log.predict(X_test) #predicting Logistic Regression's target\n",
        "\n",
        "print(\"Training accuracy: {:,.4f}\".format(model_log.score(X_train, Y_train)))\n",
        "print(\"Testing accuracy: {:,.4f}\".format(model_log.score(X_test, Y_test)))\n",
        "\n",
        "print(\"Total points: \", X_test.shape[0], \"\\nMiss matched points: \", (Y_test != y_test_pred).sum(), \"\\nAccuracy: {:.4f}\".format(accuracy_score(Y_test, y_test_pred)))\n",
        "\n",
        "performanceList.append(model_log)\n",
        "accuracylist.append(accuracy_score(Y_test, y_test_pred))"
      ],
      "execution_count": 98,
      "outputs": [
        {
          "output_type": "stream",
          "text": [
            "Training accuracy: 0.8127\n",
            "Testing accuracy: 0.7897\n",
            "Total points:  1317 \n",
            "Miss matched points:  277 \n",
            "Accuracy: 0.7897\n"
          ],
          "name": "stdout"
        }
      ]
    },
    {
      "cell_type": "code",
      "metadata": {
        "id": "FP8EpWBVmx1q",
        "colab": {
          "base_uri": "https://localhost:8080/"
        },
        "outputId": "07c0ba62-7cda-4325-dd36-61d46620c4ed"
      },
      "source": [
        "#4\n",
        "svm = SVC()\n",
        "\n",
        "model_SVM = svm.fit(X_train, Y_train)\n",
        "y_test_pred = model_SVM.predict(X_test)\n",
        "\n",
        "print(\"Training accuracy: {:,.4f}\".format(model_SVM.score(X_train, Y_train)))\n",
        "print(\"Testing accuracy: {:,.4f}\".format(model_SVM.score(X_test, Y_test)))\n",
        "\n",
        "print(\"Total points: \", X_test.shape[0], \"\\nMiss matched points: \", (Y_test != y_test_pred).sum(), \"\\nAccuracy: {:.4f}\".format(accuracy_score(Y_test, y_test_pred)))\n",
        "\n",
        "performanceList.append(model_SVM)\n",
        "accuracylist.append(accuracy_score(Y_test, y_test_pred))"
      ],
      "execution_count": 99,
      "outputs": [
        {
          "output_type": "stream",
          "text": [
            "Training accuracy: 0.9215\n",
            "Testing accuracy: 0.9226\n",
            "Total points:  1317 \n",
            "Miss matched points:  102 \n",
            "Accuracy: 0.9226\n"
          ],
          "name": "stdout"
        }
      ]
    },
    {
      "cell_type": "code",
      "metadata": {
        "id": "nFyV0RnmmaG2",
        "colab": {
          "base_uri": "https://localhost:8080/"
        },
        "outputId": "e9b5f3d5-dc42-4810-d5be-56276c7faaa9"
      },
      "source": [
        "#5\n",
        "knn = KNeighborsClassifier(n_neighbors=10,p=1)\n",
        "\n",
        "model_knn = knn.fit(X_train, Y_train)\n",
        "y_test_pred = model_knn.predict(X_test)\n",
        "\n",
        "print(\"Training accuracy: {:,.4f}\".format(model_knn.score(X_train, Y_train)))\n",
        "print(\"Testing accuracy: {:,.4f}\".format(model_knn.score(X_test, Y_test)))\n",
        "\n",
        "print(\"Total points: \", X_test.shape[0], \"\\nMiss matched points: \", (Y_test != y_test_pred).sum(), \"\\nAccuracy: {:.4f}\".format(accuracy_score(Y_test, y_test_pred)))\n",
        "\n",
        "performanceList.append(model_knn)\n",
        "accuracylist.append(accuracy_score(Y_test, y_test_pred))"
      ],
      "execution_count": 100,
      "outputs": [
        {
          "output_type": "stream",
          "text": [
            "Training accuracy: 0.9795\n",
            "Testing accuracy: 0.9696\n",
            "Total points:  1317 \n",
            "Miss matched points:  40 \n",
            "Accuracy: 0.9696\n"
          ],
          "name": "stdout"
        }
      ]
    },
    {
      "cell_type": "code",
      "metadata": {
        "id": "cTcrNdEUn7fx",
        "colab": {
          "base_uri": "https://localhost:8080/"
        },
        "outputId": "9e70bfbe-ab44-488a-a553-4dd5d3c999df"
      },
      "source": [
        "#6\n",
        "dTree = DecisionTreeClassifier()\n",
        "\n",
        "model_dTree = dTree.fit(X_train, Y_train)\n",
        "y_test_pred = model_dTree.predict(X_test)\n",
        "\n",
        "print(\"Training accuracy: {:,.4f}\".format(model_dTree.score(X_train, Y_train)))\n",
        "print(\"Testing accuracy: {:,.4f}\".format(model_dTree.score(X_test, Y_test)))\n",
        "\n",
        "print(\"Total points: \", X_test.shape[0], \"\\nMiss matched points: \", (Y_test != y_test_pred).sum(), \"\\nAccuracy: {:.4f}\".format(accuracy_score(Y_test, y_test_pred)))\n",
        "\n",
        "performanceList.append(model_dTree)\n",
        "accuracylist.append(accuracy_score(Y_test, y_test_pred))"
      ],
      "execution_count": 101,
      "outputs": [
        {
          "output_type": "stream",
          "text": [
            "Training accuracy: 1.0000\n",
            "Testing accuracy: 0.9916\n",
            "Total points:  1317 \n",
            "Miss matched points:  11 \n",
            "Accuracy: 0.9916\n"
          ],
          "name": "stdout"
        }
      ]
    },
    {
      "cell_type": "code",
      "metadata": {
        "id": "TaTlhhO0pt1w",
        "colab": {
          "base_uri": "https://localhost:8080/"
        },
        "outputId": "ae34b3ca-f91a-463e-fc1a-5159e3a01c31"
      },
      "source": [
        "#7\n",
        "rForest = RandomForestClassifier()\n",
        "\n",
        "model_rForest = rForest.fit(X_train, Y_train)\n",
        "y_test_pred = model_rForest.predict(X_test)\n",
        "\n",
        "print(\"Training accuracy: {:,.4f}\".format(model_rForest.score(X_train, Y_train)))\n",
        "print(\"Testing accuracy: {:,.4f}\".format(model_rForest.score(X_test, Y_test)))\n",
        "\n",
        "print(\"Total points: \", X_test.shape[0], \"\\nMiss matched points: \", (Y_test != y_test_pred).sum(), \"\\nAccuracy: {:.4f}\".format(accuracy_score(Y_test, y_test_pred)))\n",
        "\n",
        "performanceList.append(model_rForest)\n",
        "accuracylist.append(accuracy_score(Y_test, y_test_pred))"
      ],
      "execution_count": 102,
      "outputs": [
        {
          "output_type": "stream",
          "text": [
            "Training accuracy: 1.0000\n",
            "Testing accuracy: 0.9909\n",
            "Total points:  1317 \n",
            "Miss matched points:  12 \n",
            "Accuracy: 0.9909\n"
          ],
          "name": "stdout"
        }
      ]
    },
    {
      "cell_type": "code",
      "metadata": {
        "id": "Hba933caqaad",
        "colab": {
          "base_uri": "https://localhost:8080/"
        },
        "outputId": "8788ed7b-2e8e-4ecd-b3fe-10d70a9e050f"
      },
      "source": [
        "#8\n",
        "adaB = AdaBoostClassifier()\n",
        "\n",
        "model_adaB = adaB.fit(X_train, Y_train)\n",
        "y_test_pred = model_adaB.predict(X_test)\n",
        "\n",
        "print(\"Training accuracy: {:,.4f}\".format(model_adaB.score(X_train, Y_train)))\n",
        "print(\"Testing accuracy: {:,.4f}\".format(model_adaB.score(X_test, Y_test)))\n",
        "\n",
        "print(\"Total points: \", X_test.shape[0], \"\\nMiss matched points: \", (Y_test != y_test_pred).sum(), \"\\nAccuracy: {:.4f}\".format(accuracy_score(Y_test, y_test_pred)))\n",
        "\n",
        "performanceList.append(model_adaB)\n",
        "accuracylist.append(accuracy_score(Y_test, y_test_pred))"
      ],
      "execution_count": 103,
      "outputs": [
        {
          "output_type": "stream",
          "text": [
            "Training accuracy: 0.9580\n",
            "Testing accuracy: 0.9491\n",
            "Total points:  1317 \n",
            "Miss matched points:  67 \n",
            "Accuracy: 0.9491\n"
          ],
          "name": "stdout"
        }
      ]
    },
    {
      "cell_type": "markdown",
      "metadata": {
        "id": "n37AHK4nlHgC"
      },
      "source": [
        "### **Cross Validation**"
      ]
    },
    {
      "cell_type": "code",
      "metadata": {
        "colab": {
          "base_uri": "https://localhost:8080/"
        },
        "id": "kApfO64SOkZz",
        "outputId": "a021751c-ff7a-4af9-859a-684d172ade9a"
      },
      "source": [
        "\"\"\"\n",
        "Loop for performing cross validation on every model.\n",
        "INPUT: List of models \n",
        "OUTPUT: List of models with mean accuracy score after cross validation\n",
        "\"\"\"\n",
        "from pprint import pprint\n",
        "lista={}\n",
        "i=0 \n",
        "print(\"{0:<24} {1:>8} {2:>16} {3:>14}\".format(\"Algorithm\",\"CV value\",\"Original value\",\"Difference\"),\"\\n\")\n",
        "while i < len(performanceList):\n",
        "  clf = cross_val_score(performanceList[i], X, Y, cv=10, scoring='accuracy')\n",
        "  clf_rounded = clf.mean().round(4)\n",
        "  al = accuracylist[i].round(4)\n",
        "  if (al - clf_rounded > 0):\n",
        "    difference = \"-\"+str((al - clf_rounded).round(4))\n",
        "  else :\n",
        "    difference = \"+\"+str((al - clf_rounded).round(4))\n",
        "  print(\"{0:<24} {1:>8} {2:>12} {3:>16}\".format(type(performanceList[i]).__name__, clf_rounded, al, difference)) \n",
        "\n",
        "  lista[type(performanceList[i]).__name__] = clf_rounded\n",
        "  i=i+1"
      ],
      "execution_count": 104,
      "outputs": [
        {
          "output_type": "stream",
          "text": [
            "Algorithm                CV value   Original value     Difference \n",
            "\n",
            "GaussianNB                 0.5685       0.7099          -0.1414\n",
            "BernoulliNB                0.7051       0.6841          +-0.021\n",
            "LogisticRegression         0.6515       0.7897          -0.1382\n",
            "SVC                        0.7016       0.9226           -0.221\n",
            "KNeighborsClassifier       0.6321       0.9696          -0.3375\n",
            "DecisionTreeClassifier     0.6972       0.9916          -0.2944\n",
            "RandomForestClassifier     0.7526       0.9909          -0.2383\n",
            "AdaBoostClassifier         0.7439       0.9491          -0.2052\n"
          ],
          "name": "stdout"
        }
      ]
    },
    {
      "cell_type": "code",
      "metadata": {
        "colab": {
          "base_uri": "https://localhost:8080/"
        },
        "id": "uTDnVQ51ZEuR",
        "outputId": "e1c69006-6305-417f-fbd7-b2ead1f50fdf"
      },
      "source": [
        "sorted_list = dict(sorted(lista.items(),key=lambda item:item[1]))\n",
        "\n",
        "best_performing_algo = list(sorted_list.keys())[-1]\n",
        "\n",
        "print(best_performing_algo)"
      ],
      "execution_count": 107,
      "outputs": [
        {
          "output_type": "stream",
          "text": [
            "RandomForestClassifier\n"
          ],
          "name": "stdout"
        }
      ]
    },
    {
      "cell_type": "markdown",
      "metadata": {
        "id": "nECqBINGKz38"
      },
      "source": [
        "### **Hyperparamater** **Tunning** "
      ]
    },
    {
      "cell_type": "code",
      "metadata": {
        "id": "mkdYjzEIXcqW",
        "colab": {
          "base_uri": "https://localhost:8080/"
        },
        "outputId": "3c374a40-8e36-4bf5-d82e-50b85bccb67c"
      },
      "source": [
        "from sklearn.model_selection import GridSearchCV\n",
        "\n",
        "ada_grid = {'n_estimators': [10, 30, 50, 70, 90, 100],\n",
        "               'algorithm': ['SAMME','SAMME.R']}\n",
        "\n",
        "dTree_grid= {'max_features': ['auto', 'sqrt', 'log2'],\n",
        "              'max_depth': [10, 30, 50, 70, 90, 100, None],\n",
        "              'min_samples_split': [2, 5, 10],\n",
        "              'splitter':['best','random'],\n",
        "              'citerion': ['gini','entropy']}\n",
        "\n",
        "knn_grid={'n_neighbors': [3,5,11,19],\n",
        "            'weights': ['uniform', 'distance'],\n",
        "            'metric': ['euclidean', 'manhattan'],\n",
        "            'algorithm':['ball_tree','kd_tree','brute']}\n",
        "\n",
        "rfc_grid={'n_estimators': [10, 30, 50, 70, 90, 100],\n",
        "               'max_features': ['auto', 'sqrt', 'log2'],\n",
        "               'max_depth': [10, 30, 50, 70, 90, 100, None],\n",
        "               'min_samples_split': [2, 5, 10],\n",
        "               'min_samples_leaf': [1, 2, 4],\n",
        "               'bootstrap': [True, False] }\n",
        "\n",
        "\n",
        "grid = GridSearchCV(RandomForestClassifier(), rfc_grid, verbose=1, cv=3,n_jobs=-1)\n",
        "\n",
        "grid_results = grid.fit(X_train,Y_train)\n",
        "\n",
        "print(\"Best estimator: \",grid_results.best_estimator_)\n",
        "print(\"Best parameters: \",grid_results.best_params_)\n",
        "\n",
        "print(\"Best score:\", grid_results.best_score_)"
      ],
      "execution_count": 110,
      "outputs": [
        {
          "output_type": "stream",
          "text": [
            "\n",
            "\n",
            "Fitting 3 folds for each of 5940 candidates, totalling 17820 fits\n"
          ],
          "name": "stdout"
        },
        {
          "output_type": "stream",
          "text": [
            "[Parallel(n_jobs=-1)]: Using backend LokyBackend with 2 concurrent workers.\n",
            "[Parallel(n_jobs=-1)]: Done  46 tasks      | elapsed:    7.5s\n",
            "[Parallel(n_jobs=-1)]: Done 196 tasks      | elapsed:   30.9s\n",
            "[Parallel(n_jobs=-1)]: Done 446 tasks      | elapsed:  1.2min\n",
            "[Parallel(n_jobs=-1)]: Done 796 tasks      | elapsed:  2.1min\n",
            "[Parallel(n_jobs=-1)]: Done 1246 tasks      | elapsed:  3.2min\n",
            "[Parallel(n_jobs=-1)]: Done 1796 tasks      | elapsed:  4.7min\n",
            "[Parallel(n_jobs=-1)]: Done 2446 tasks      | elapsed:  6.4min\n",
            "[Parallel(n_jobs=-1)]: Done 3196 tasks      | elapsed:  8.3min\n",
            "[Parallel(n_jobs=-1)]: Done 4046 tasks      | elapsed: 10.5min\n",
            "[Parallel(n_jobs=-1)]: Done 4996 tasks      | elapsed: 13.0min\n",
            "[Parallel(n_jobs=-1)]: Done 6046 tasks      | elapsed: 15.7min\n",
            "[Parallel(n_jobs=-1)]: Done 7196 tasks      | elapsed: 18.7min\n",
            "[Parallel(n_jobs=-1)]: Done 8446 tasks      | elapsed: 22.0min\n",
            "[Parallel(n_jobs=-1)]: Done 9796 tasks      | elapsed: 25.8min\n",
            "[Parallel(n_jobs=-1)]: Done 11246 tasks      | elapsed: 30.2min\n",
            "[Parallel(n_jobs=-1)]: Done 12796 tasks      | elapsed: 34.8min\n",
            "[Parallel(n_jobs=-1)]: Done 14446 tasks      | elapsed: 39.6min\n",
            "[Parallel(n_jobs=-1)]: Done 16196 tasks      | elapsed: 45.0min\n"
          ],
          "name": "stderr"
        },
        {
          "output_type": "stream",
          "text": [
            "Best estimator:  RandomForestClassifier(bootstrap=False, ccp_alpha=0.0, class_weight=None,\n",
            "                       criterion='gini', max_depth=None, max_features='auto',\n",
            "                       max_leaf_nodes=None, max_samples=None,\n",
            "                       min_impurity_decrease=0.0, min_impurity_split=None,\n",
            "                       min_samples_leaf=2, min_samples_split=10,\n",
            "                       min_weight_fraction_leaf=0.0, n_estimators=10,\n",
            "                       n_jobs=None, oob_score=False, random_state=None,\n",
            "                       verbose=0, warm_start=False)\n",
            "Best parameters:  {'bootstrap': False, 'max_depth': None, 'max_features': 'auto', 'min_samples_leaf': 2, 'min_samples_split': 10, 'n_estimators': 10}\n",
            "Best score: 0.9820829896749755\n"
          ],
          "name": "stdout"
        },
        {
          "output_type": "stream",
          "text": [
            "[Parallel(n_jobs=-1)]: Done 17820 out of 17820 | elapsed: 50.0min finished\n"
          ],
          "name": "stderr"
        }
      ]
    }
  ]
}