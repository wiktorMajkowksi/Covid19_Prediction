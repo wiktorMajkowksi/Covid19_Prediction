{
  "nbformat": 4,
  "nbformat_minor": 0,
  "metadata": {
    "colab": {
      "name": "COVID_Prediction.ipynb",
      "provenance": [],
      "collapsed_sections": []
    },
    "kernelspec": {
      "name": "python3",
      "display_name": "Python 3"
    }
  },
  "cells": [
    {
      "cell_type": "markdown",
      "metadata": {
        "id": "ywylCarly8Pe"
      },
      "source": [
        "### **Imports**"
      ]
    },
    {
      "cell_type": "code",
      "metadata": {
        "id": "wiGRw-s_vHIf"
      },
      "source": [
        "import time\n",
        "start_time = time.time()\n",
        "import sklearn\n",
        "import pandas as pd\n",
        "import numpy as np\n",
        "import matplotlib.pyplot as plt\n",
        "import seaborn as sns\n",
        "import io\n",
        "import math\n",
        "import string\n",
        "import os\n",
        "\n",
        "from sklearn.preprocessing import StandardScaler, LabelEncoder\n",
        "from sklearn.model_selection import train_test_split, cross_val_score\n",
        "from sklearn.metrics import classification_report, confusion_matrix\n",
        "\n",
        "import warnings\n",
        "warnings.filterwarnings('ignore')"
      ],
      "execution_count": 187,
      "outputs": []
    },
    {
      "cell_type": "markdown",
      "metadata": {
        "id": "8kSG1ugIzBec"
      },
      "source": [
        "### **DataSet** **Upload**"
      ]
    },
    {
      "cell_type": "code",
      "metadata": {
        "colab": {
          "base_uri": "https://localhost:8080/"
        },
        "id": "4sSscM5Yvz86",
        "outputId": "08862adf-49a5-4b6d-a7b2-dc0192fba969"
      },
      "source": [
        "from google.colab import files , drive\n",
        "\n",
        "#upload for files in google drive\n",
        "drive.mount('/content/gdrive')\n",
        "dataset = \"/content/gdrive/My Drive/Colab Notebooks/covid_data2.csv\""
      ],
      "execution_count": 188,
      "outputs": [
        {
          "output_type": "stream",
          "text": [
            "Drive already mounted at /content/gdrive; to attempt to forcibly remount, call drive.mount(\"/content/gdrive\", force_remount=True).\n"
          ],
          "name": "stdout"
        }
      ]
    },
    {
      "cell_type": "code",
      "metadata": {
        "colab": {
          "base_uri": "https://localhost:8080/",
          "height": 54
        },
        "id": "k0Y0oPsFBOIx",
        "outputId": "8eee6013-0094-4628-d1a9-a09ab2d12681"
      },
      "source": [
        "\"\"\"\n",
        "#alternative for local file upload (file needs to be downloaded locally)\n",
        "from google.colab import files\n",
        "uploaded = files.upload()\n",
        "df = pd.read_csv(io.BytesIO(uploaded['covid_data.csv']))\n",
        "\"\"\""
      ],
      "execution_count": 189,
      "outputs": [
        {
          "output_type": "execute_result",
          "data": {
            "application/vnd.google.colaboratory.intrinsic+json": {
              "type": "string"
            },
            "text/plain": [
              "\"\\n#alternative for local file upload (file needs to be downloaded locally)\\nfrom google.colab import files\\nuploaded = files.upload()\\ndf = pd.read_csv(io.BytesIO(uploaded['covid_data.csv']))\\n\""
            ]
          },
          "metadata": {
            "tags": []
          },
          "execution_count": 189
        }
      ]
    },
    {
      "cell_type": "markdown",
      "metadata": {
        "id": "p3WH09zhzRZa"
      },
      "source": [
        "### **DataUpload check**"
      ]
    },
    {
      "cell_type": "code",
      "metadata": {
        "id": "HF5nfHBhKZVz"
      },
      "source": [
        "df = pd.read_csv(dataset) #this will be omited for alterantive upload"
      ],
      "execution_count": 190,
      "outputs": []
    },
    {
      "cell_type": "code",
      "metadata": {
        "id": "WiN7lE7Ey4uq",
        "colab": {
          "base_uri": "https://localhost:8080/"
        },
        "outputId": "2b3bf73b-59cc-4493-ed1b-90171b0f9160"
      },
      "source": [
        "df.shape"
      ],
      "execution_count": 191,
      "outputs": [
        {
          "output_type": "execute_result",
          "data": {
            "text/plain": [
              "(81185, 59)"
            ]
          },
          "metadata": {
            "tags": []
          },
          "execution_count": 191
        }
      ]
    },
    {
      "cell_type": "code",
      "metadata": {
        "id": "XbjicYJVzXia",
        "colab": {
          "base_uri": "https://localhost:8080/",
          "height": 305
        },
        "outputId": "82957ba7-1502-4220-d253-7482a738deba"
      },
      "source": [
        "df.head(5)"
      ],
      "execution_count": 192,
      "outputs": [
        {
          "output_type": "execute_result",
          "data": {
            "text/html": [
              "<div>\n",
              "<style scoped>\n",
              "    .dataframe tbody tr th:only-of-type {\n",
              "        vertical-align: middle;\n",
              "    }\n",
              "\n",
              "    .dataframe tbody tr th {\n",
              "        vertical-align: top;\n",
              "    }\n",
              "\n",
              "    .dataframe thead th {\n",
              "        text-align: right;\n",
              "    }\n",
              "</style>\n",
              "<table border=\"1\" class=\"dataframe\">\n",
              "  <thead>\n",
              "    <tr style=\"text-align: right;\">\n",
              "      <th></th>\n",
              "      <th>iso_code</th>\n",
              "      <th>continent</th>\n",
              "      <th>location</th>\n",
              "      <th>date</th>\n",
              "      <th>total_cases</th>\n",
              "      <th>new_cases</th>\n",
              "      <th>new_cases_smoothed</th>\n",
              "      <th>total_deaths</th>\n",
              "      <th>new_deaths</th>\n",
              "      <th>new_deaths_smoothed</th>\n",
              "      <th>total_cases_per_million</th>\n",
              "      <th>new_cases_per_million</th>\n",
              "      <th>new_cases_smoothed_per_million</th>\n",
              "      <th>total_deaths_per_million</th>\n",
              "      <th>new_deaths_per_million</th>\n",
              "      <th>new_deaths_smoothed_per_million</th>\n",
              "      <th>reproduction_rate</th>\n",
              "      <th>icu_patients</th>\n",
              "      <th>icu_patients_per_million</th>\n",
              "      <th>hosp_patients</th>\n",
              "      <th>hosp_patients_per_million</th>\n",
              "      <th>weekly_icu_admissions</th>\n",
              "      <th>weekly_icu_admissions_per_million</th>\n",
              "      <th>weekly_hosp_admissions</th>\n",
              "      <th>weekly_hosp_admissions_per_million</th>\n",
              "      <th>new_tests</th>\n",
              "      <th>total_tests</th>\n",
              "      <th>total_tests_per_thousand</th>\n",
              "      <th>new_tests_per_thousand</th>\n",
              "      <th>new_tests_smoothed</th>\n",
              "      <th>new_tests_smoothed_per_thousand</th>\n",
              "      <th>positive_rate</th>\n",
              "      <th>tests_per_case</th>\n",
              "      <th>tests_units</th>\n",
              "      <th>total_vaccinations</th>\n",
              "      <th>people_vaccinated</th>\n",
              "      <th>people_fully_vaccinated</th>\n",
              "      <th>new_vaccinations</th>\n",
              "      <th>new_vaccinations_smoothed</th>\n",
              "      <th>total_vaccinations_per_hundred</th>\n",
              "      <th>people_vaccinated_per_hundred</th>\n",
              "      <th>people_fully_vaccinated_per_hundred</th>\n",
              "      <th>new_vaccinations_smoothed_per_million</th>\n",
              "      <th>stringency_index</th>\n",
              "      <th>population</th>\n",
              "      <th>population_density</th>\n",
              "      <th>median_age</th>\n",
              "      <th>aged_65_older</th>\n",
              "      <th>aged_70_older</th>\n",
              "      <th>gdp_per_capita</th>\n",
              "      <th>extreme_poverty</th>\n",
              "      <th>cardiovasc_death_rate</th>\n",
              "      <th>diabetes_prevalence</th>\n",
              "      <th>female_smokers</th>\n",
              "      <th>male_smokers</th>\n",
              "      <th>handwashing_facilities</th>\n",
              "      <th>hospital_beds_per_thousand</th>\n",
              "      <th>life_expectancy</th>\n",
              "      <th>human_development_index</th>\n",
              "    </tr>\n",
              "  </thead>\n",
              "  <tbody>\n",
              "    <tr>\n",
              "      <th>0</th>\n",
              "      <td>AFG</td>\n",
              "      <td>Asia</td>\n",
              "      <td>Afghanistan</td>\n",
              "      <td>2020-02-24</td>\n",
              "      <td>1.0</td>\n",
              "      <td>1.0</td>\n",
              "      <td>NaN</td>\n",
              "      <td>NaN</td>\n",
              "      <td>NaN</td>\n",
              "      <td>NaN</td>\n",
              "      <td>0.026</td>\n",
              "      <td>0.026</td>\n",
              "      <td>NaN</td>\n",
              "      <td>NaN</td>\n",
              "      <td>NaN</td>\n",
              "      <td>NaN</td>\n",
              "      <td>NaN</td>\n",
              "      <td>NaN</td>\n",
              "      <td>NaN</td>\n",
              "      <td>NaN</td>\n",
              "      <td>NaN</td>\n",
              "      <td>NaN</td>\n",
              "      <td>NaN</td>\n",
              "      <td>NaN</td>\n",
              "      <td>NaN</td>\n",
              "      <td>NaN</td>\n",
              "      <td>NaN</td>\n",
              "      <td>NaN</td>\n",
              "      <td>NaN</td>\n",
              "      <td>NaN</td>\n",
              "      <td>NaN</td>\n",
              "      <td>NaN</td>\n",
              "      <td>NaN</td>\n",
              "      <td>NaN</td>\n",
              "      <td>NaN</td>\n",
              "      <td>NaN</td>\n",
              "      <td>NaN</td>\n",
              "      <td>NaN</td>\n",
              "      <td>NaN</td>\n",
              "      <td>NaN</td>\n",
              "      <td>NaN</td>\n",
              "      <td>NaN</td>\n",
              "      <td>NaN</td>\n",
              "      <td>8.33</td>\n",
              "      <td>38928341.0</td>\n",
              "      <td>54.422</td>\n",
              "      <td>18.6</td>\n",
              "      <td>2.581</td>\n",
              "      <td>1.337</td>\n",
              "      <td>1803.987</td>\n",
              "      <td>NaN</td>\n",
              "      <td>597.029</td>\n",
              "      <td>9.59</td>\n",
              "      <td>NaN</td>\n",
              "      <td>NaN</td>\n",
              "      <td>37.746</td>\n",
              "      <td>0.5</td>\n",
              "      <td>64.83</td>\n",
              "      <td>0.511</td>\n",
              "    </tr>\n",
              "    <tr>\n",
              "      <th>1</th>\n",
              "      <td>AFG</td>\n",
              "      <td>Asia</td>\n",
              "      <td>Afghanistan</td>\n",
              "      <td>2020-02-25</td>\n",
              "      <td>1.0</td>\n",
              "      <td>0.0</td>\n",
              "      <td>NaN</td>\n",
              "      <td>NaN</td>\n",
              "      <td>NaN</td>\n",
              "      <td>NaN</td>\n",
              "      <td>0.026</td>\n",
              "      <td>0.000</td>\n",
              "      <td>NaN</td>\n",
              "      <td>NaN</td>\n",
              "      <td>NaN</td>\n",
              "      <td>NaN</td>\n",
              "      <td>NaN</td>\n",
              "      <td>NaN</td>\n",
              "      <td>NaN</td>\n",
              "      <td>NaN</td>\n",
              "      <td>NaN</td>\n",
              "      <td>NaN</td>\n",
              "      <td>NaN</td>\n",
              "      <td>NaN</td>\n",
              "      <td>NaN</td>\n",
              "      <td>NaN</td>\n",
              "      <td>NaN</td>\n",
              "      <td>NaN</td>\n",
              "      <td>NaN</td>\n",
              "      <td>NaN</td>\n",
              "      <td>NaN</td>\n",
              "      <td>NaN</td>\n",
              "      <td>NaN</td>\n",
              "      <td>NaN</td>\n",
              "      <td>NaN</td>\n",
              "      <td>NaN</td>\n",
              "      <td>NaN</td>\n",
              "      <td>NaN</td>\n",
              "      <td>NaN</td>\n",
              "      <td>NaN</td>\n",
              "      <td>NaN</td>\n",
              "      <td>NaN</td>\n",
              "      <td>NaN</td>\n",
              "      <td>8.33</td>\n",
              "      <td>38928341.0</td>\n",
              "      <td>54.422</td>\n",
              "      <td>18.6</td>\n",
              "      <td>2.581</td>\n",
              "      <td>1.337</td>\n",
              "      <td>1803.987</td>\n",
              "      <td>NaN</td>\n",
              "      <td>597.029</td>\n",
              "      <td>9.59</td>\n",
              "      <td>NaN</td>\n",
              "      <td>NaN</td>\n",
              "      <td>37.746</td>\n",
              "      <td>0.5</td>\n",
              "      <td>64.83</td>\n",
              "      <td>0.511</td>\n",
              "    </tr>\n",
              "    <tr>\n",
              "      <th>2</th>\n",
              "      <td>AFG</td>\n",
              "      <td>Asia</td>\n",
              "      <td>Afghanistan</td>\n",
              "      <td>2020-02-26</td>\n",
              "      <td>1.0</td>\n",
              "      <td>0.0</td>\n",
              "      <td>NaN</td>\n",
              "      <td>NaN</td>\n",
              "      <td>NaN</td>\n",
              "      <td>NaN</td>\n",
              "      <td>0.026</td>\n",
              "      <td>0.000</td>\n",
              "      <td>NaN</td>\n",
              "      <td>NaN</td>\n",
              "      <td>NaN</td>\n",
              "      <td>NaN</td>\n",
              "      <td>NaN</td>\n",
              "      <td>NaN</td>\n",
              "      <td>NaN</td>\n",
              "      <td>NaN</td>\n",
              "      <td>NaN</td>\n",
              "      <td>NaN</td>\n",
              "      <td>NaN</td>\n",
              "      <td>NaN</td>\n",
              "      <td>NaN</td>\n",
              "      <td>NaN</td>\n",
              "      <td>NaN</td>\n",
              "      <td>NaN</td>\n",
              "      <td>NaN</td>\n",
              "      <td>NaN</td>\n",
              "      <td>NaN</td>\n",
              "      <td>NaN</td>\n",
              "      <td>NaN</td>\n",
              "      <td>NaN</td>\n",
              "      <td>NaN</td>\n",
              "      <td>NaN</td>\n",
              "      <td>NaN</td>\n",
              "      <td>NaN</td>\n",
              "      <td>NaN</td>\n",
              "      <td>NaN</td>\n",
              "      <td>NaN</td>\n",
              "      <td>NaN</td>\n",
              "      <td>NaN</td>\n",
              "      <td>8.33</td>\n",
              "      <td>38928341.0</td>\n",
              "      <td>54.422</td>\n",
              "      <td>18.6</td>\n",
              "      <td>2.581</td>\n",
              "      <td>1.337</td>\n",
              "      <td>1803.987</td>\n",
              "      <td>NaN</td>\n",
              "      <td>597.029</td>\n",
              "      <td>9.59</td>\n",
              "      <td>NaN</td>\n",
              "      <td>NaN</td>\n",
              "      <td>37.746</td>\n",
              "      <td>0.5</td>\n",
              "      <td>64.83</td>\n",
              "      <td>0.511</td>\n",
              "    </tr>\n",
              "    <tr>\n",
              "      <th>3</th>\n",
              "      <td>AFG</td>\n",
              "      <td>Asia</td>\n",
              "      <td>Afghanistan</td>\n",
              "      <td>2020-02-27</td>\n",
              "      <td>1.0</td>\n",
              "      <td>0.0</td>\n",
              "      <td>NaN</td>\n",
              "      <td>NaN</td>\n",
              "      <td>NaN</td>\n",
              "      <td>NaN</td>\n",
              "      <td>0.026</td>\n",
              "      <td>0.000</td>\n",
              "      <td>NaN</td>\n",
              "      <td>NaN</td>\n",
              "      <td>NaN</td>\n",
              "      <td>NaN</td>\n",
              "      <td>NaN</td>\n",
              "      <td>NaN</td>\n",
              "      <td>NaN</td>\n",
              "      <td>NaN</td>\n",
              "      <td>NaN</td>\n",
              "      <td>NaN</td>\n",
              "      <td>NaN</td>\n",
              "      <td>NaN</td>\n",
              "      <td>NaN</td>\n",
              "      <td>NaN</td>\n",
              "      <td>NaN</td>\n",
              "      <td>NaN</td>\n",
              "      <td>NaN</td>\n",
              "      <td>NaN</td>\n",
              "      <td>NaN</td>\n",
              "      <td>NaN</td>\n",
              "      <td>NaN</td>\n",
              "      <td>NaN</td>\n",
              "      <td>NaN</td>\n",
              "      <td>NaN</td>\n",
              "      <td>NaN</td>\n",
              "      <td>NaN</td>\n",
              "      <td>NaN</td>\n",
              "      <td>NaN</td>\n",
              "      <td>NaN</td>\n",
              "      <td>NaN</td>\n",
              "      <td>NaN</td>\n",
              "      <td>8.33</td>\n",
              "      <td>38928341.0</td>\n",
              "      <td>54.422</td>\n",
              "      <td>18.6</td>\n",
              "      <td>2.581</td>\n",
              "      <td>1.337</td>\n",
              "      <td>1803.987</td>\n",
              "      <td>NaN</td>\n",
              "      <td>597.029</td>\n",
              "      <td>9.59</td>\n",
              "      <td>NaN</td>\n",
              "      <td>NaN</td>\n",
              "      <td>37.746</td>\n",
              "      <td>0.5</td>\n",
              "      <td>64.83</td>\n",
              "      <td>0.511</td>\n",
              "    </tr>\n",
              "    <tr>\n",
              "      <th>4</th>\n",
              "      <td>AFG</td>\n",
              "      <td>Asia</td>\n",
              "      <td>Afghanistan</td>\n",
              "      <td>2020-02-28</td>\n",
              "      <td>1.0</td>\n",
              "      <td>0.0</td>\n",
              "      <td>NaN</td>\n",
              "      <td>NaN</td>\n",
              "      <td>NaN</td>\n",
              "      <td>NaN</td>\n",
              "      <td>0.026</td>\n",
              "      <td>0.000</td>\n",
              "      <td>NaN</td>\n",
              "      <td>NaN</td>\n",
              "      <td>NaN</td>\n",
              "      <td>NaN</td>\n",
              "      <td>NaN</td>\n",
              "      <td>NaN</td>\n",
              "      <td>NaN</td>\n",
              "      <td>NaN</td>\n",
              "      <td>NaN</td>\n",
              "      <td>NaN</td>\n",
              "      <td>NaN</td>\n",
              "      <td>NaN</td>\n",
              "      <td>NaN</td>\n",
              "      <td>NaN</td>\n",
              "      <td>NaN</td>\n",
              "      <td>NaN</td>\n",
              "      <td>NaN</td>\n",
              "      <td>NaN</td>\n",
              "      <td>NaN</td>\n",
              "      <td>NaN</td>\n",
              "      <td>NaN</td>\n",
              "      <td>NaN</td>\n",
              "      <td>NaN</td>\n",
              "      <td>NaN</td>\n",
              "      <td>NaN</td>\n",
              "      <td>NaN</td>\n",
              "      <td>NaN</td>\n",
              "      <td>NaN</td>\n",
              "      <td>NaN</td>\n",
              "      <td>NaN</td>\n",
              "      <td>NaN</td>\n",
              "      <td>8.33</td>\n",
              "      <td>38928341.0</td>\n",
              "      <td>54.422</td>\n",
              "      <td>18.6</td>\n",
              "      <td>2.581</td>\n",
              "      <td>1.337</td>\n",
              "      <td>1803.987</td>\n",
              "      <td>NaN</td>\n",
              "      <td>597.029</td>\n",
              "      <td>9.59</td>\n",
              "      <td>NaN</td>\n",
              "      <td>NaN</td>\n",
              "      <td>37.746</td>\n",
              "      <td>0.5</td>\n",
              "      <td>64.83</td>\n",
              "      <td>0.511</td>\n",
              "    </tr>\n",
              "  </tbody>\n",
              "</table>\n",
              "</div>"
            ],
            "text/plain": [
              "  iso_code continent  ... life_expectancy human_development_index\n",
              "0      AFG      Asia  ...           64.83                   0.511\n",
              "1      AFG      Asia  ...           64.83                   0.511\n",
              "2      AFG      Asia  ...           64.83                   0.511\n",
              "3      AFG      Asia  ...           64.83                   0.511\n",
              "4      AFG      Asia  ...           64.83                   0.511\n",
              "\n",
              "[5 rows x 59 columns]"
            ]
          },
          "metadata": {
            "tags": []
          },
          "execution_count": 192
        }
      ]
    },
    {
      "cell_type": "code",
      "metadata": {
        "id": "8WR92p3w0jVT",
        "colab": {
          "base_uri": "https://localhost:8080/"
        },
        "outputId": "3c879385-1cc9-4eba-9f89-d0cf010331c8"
      },
      "source": [
        "df.nunique()"
      ],
      "execution_count": 193,
      "outputs": [
        {
          "output_type": "execute_result",
          "data": {
            "text/plain": [
              "iso_code                                   215\n",
              "continent                                    6\n",
              "location                                   215\n",
              "date                                       468\n",
              "total_cases                              42656\n",
              "new_cases                                11118\n",
              "new_cases_smoothed                       21160\n",
              "total_deaths                             16210\n",
              "new_deaths                                2643\n",
              "new_deaths_smoothed                       5907\n",
              "total_cases_per_million                  61321\n",
              "new_cases_per_million                    35099\n",
              "new_cases_smoothed_per_million           39517\n",
              "total_deaths_per_million                 37676\n",
              "new_deaths_per_million                    6821\n",
              "new_deaths_smoothed_per_million           8128\n",
              "reproduction_rate                          374\n",
              "icu_patients                              2243\n",
              "icu_patients_per_million                  4700\n",
              "hosp_patients                             4353\n",
              "hosp_patients_per_million                 7621\n",
              "weekly_icu_admissions                      555\n",
              "weekly_icu_admissions_per_million          550\n",
              "weekly_hosp_admissions                    1114\n",
              "weekly_hosp_admissions_per_million        1112\n",
              "new_tests                                20132\n",
              "total_tests                              35746\n",
              "total_tests_per_thousand                 31290\n",
              "new_tests_per_thousand                    6576\n",
              "new_tests_smoothed                       22574\n",
              "new_tests_smoothed_per_thousand           6767\n",
              "positive_rate                              561\n",
              "tests_per_case                            5015\n",
              "tests_units                                  4\n",
              "total_vaccinations                        6802\n",
              "people_vaccinated                         6117\n",
              "people_fully_vaccinated                   4302\n",
              "new_vaccinations                          5462\n",
              "new_vaccinations_smoothed                 7702\n",
              "total_vaccinations_per_hundred            2460\n",
              "people_vaccinated_per_hundred             2010\n",
              "people_fully_vaccinated_per_hundred       1126\n",
              "new_vaccinations_smoothed_per_million     4490\n",
              "stringency_index                           175\n",
              "population                                 213\n",
              "population_density                         196\n",
              "median_age                                 132\n",
              "aged_65_older                              181\n",
              "aged_70_older                              179\n",
              "gdp_per_capita                             187\n",
              "extreme_poverty                             75\n",
              "cardiovasc_death_rate                      187\n",
              "diabetes_prevalence                        139\n",
              "female_smokers                             108\n",
              "male_smokers                               124\n",
              "handwashing_facilities                      95\n",
              "hospital_beds_per_thousand                 100\n",
              "life_expectancy                            191\n",
              "human_development_index                    151\n",
              "dtype: int64"
            ]
          },
          "metadata": {
            "tags": []
          },
          "execution_count": 193
        }
      ]
    },
    {
      "cell_type": "code",
      "metadata": {
        "id": "rJKLIS3U1Yy8",
        "colab": {
          "base_uri": "https://localhost:8080/"
        },
        "outputId": "6c5b0f1d-7c79-48d0-a968-11acb7e00a9d"
      },
      "source": [
        "df.dtypes.value_counts()"
      ],
      "execution_count": 194,
      "outputs": [
        {
          "output_type": "execute_result",
          "data": {
            "text/plain": [
              "float64    54\n",
              "object      5\n",
              "dtype: int64"
            ]
          },
          "metadata": {
            "tags": []
          },
          "execution_count": 194
        }
      ]
    },
    {
      "cell_type": "code",
      "metadata": {
        "id": "-PtjDp0lgyPJ",
        "colab": {
          "base_uri": "https://localhost:8080/"
        },
        "outputId": "377718b5-7acc-40fd-a2e9-d76b3fd21252"
      },
      "source": [
        "df.dtypes"
      ],
      "execution_count": 195,
      "outputs": [
        {
          "output_type": "execute_result",
          "data": {
            "text/plain": [
              "iso_code                                  object\n",
              "continent                                 object\n",
              "location                                  object\n",
              "date                                      object\n",
              "total_cases                              float64\n",
              "new_cases                                float64\n",
              "new_cases_smoothed                       float64\n",
              "total_deaths                             float64\n",
              "new_deaths                               float64\n",
              "new_deaths_smoothed                      float64\n",
              "total_cases_per_million                  float64\n",
              "new_cases_per_million                    float64\n",
              "new_cases_smoothed_per_million           float64\n",
              "total_deaths_per_million                 float64\n",
              "new_deaths_per_million                   float64\n",
              "new_deaths_smoothed_per_million          float64\n",
              "reproduction_rate                        float64\n",
              "icu_patients                             float64\n",
              "icu_patients_per_million                 float64\n",
              "hosp_patients                            float64\n",
              "hosp_patients_per_million                float64\n",
              "weekly_icu_admissions                    float64\n",
              "weekly_icu_admissions_per_million        float64\n",
              "weekly_hosp_admissions                   float64\n",
              "weekly_hosp_admissions_per_million       float64\n",
              "new_tests                                float64\n",
              "total_tests                              float64\n",
              "total_tests_per_thousand                 float64\n",
              "new_tests_per_thousand                   float64\n",
              "new_tests_smoothed                       float64\n",
              "new_tests_smoothed_per_thousand          float64\n",
              "positive_rate                            float64\n",
              "tests_per_case                           float64\n",
              "tests_units                               object\n",
              "total_vaccinations                       float64\n",
              "people_vaccinated                        float64\n",
              "people_fully_vaccinated                  float64\n",
              "new_vaccinations                         float64\n",
              "new_vaccinations_smoothed                float64\n",
              "total_vaccinations_per_hundred           float64\n",
              "people_vaccinated_per_hundred            float64\n",
              "people_fully_vaccinated_per_hundred      float64\n",
              "new_vaccinations_smoothed_per_million    float64\n",
              "stringency_index                         float64\n",
              "population                               float64\n",
              "population_density                       float64\n",
              "median_age                               float64\n",
              "aged_65_older                            float64\n",
              "aged_70_older                            float64\n",
              "gdp_per_capita                           float64\n",
              "extreme_poverty                          float64\n",
              "cardiovasc_death_rate                    float64\n",
              "diabetes_prevalence                      float64\n",
              "female_smokers                           float64\n",
              "male_smokers                             float64\n",
              "handwashing_facilities                   float64\n",
              "hospital_beds_per_thousand               float64\n",
              "life_expectancy                          float64\n",
              "human_development_index                  float64\n",
              "dtype: object"
            ]
          },
          "metadata": {
            "tags": []
          },
          "execution_count": 195
        }
      ]
    },
    {
      "cell_type": "markdown",
      "metadata": {
        "id": "RvrADuKYKNXG"
      },
      "source": [
        "### **Data Preprocessing**"
      ]
    },
    {
      "cell_type": "code",
      "metadata": {
        "id": "dvnrLOnViYk1"
      },
      "source": [
        "df.drop(['new_cases_smoothed','new_deaths_smoothed','new_cases_smoothed_per_million','new_deaths_smoothed_per_million',\n",
        "         'new_tests_smoothed_per_thousand','new_tests_smoothed', 'new_vaccinations_smoothed', 'new_vaccinations_smoothed_per_million'], axis=1, inplace=True)"
      ],
      "execution_count": 196,
      "outputs": []
    },
    {
      "cell_type": "code",
      "metadata": {
        "id": "XGqZfjVs8vfR"
      },
      "source": [
        "df = df[df.continent == 'Europe'] #filters europe only entries"
      ],
      "execution_count": 197,
      "outputs": []
    },
    {
      "cell_type": "code",
      "metadata": {
        "id": "fpPMT1LCyjES",
        "colab": {
          "base_uri": "https://localhost:8080/"
        },
        "outputId": "1b27ff92-4996-4b23-fc94-4614d7e4fda6"
      },
      "source": [
        "df.continent.value_counts() #reduced entries from 67K to 16K"
      ],
      "execution_count": 198,
      "outputs": [
        {
          "output_type": "execute_result",
          "data": {
            "text/plain": [
              "Europe    19536\n",
              "Name: continent, dtype: int64"
            ]
          },
          "metadata": {
            "tags": []
          },
          "execution_count": 198
        }
      ]
    },
    {
      "cell_type": "code",
      "metadata": {
        "id": "1jd4Doh9nCW-",
        "colab": {
          "base_uri": "https://localhost:8080/"
        },
        "outputId": "12bd7861-3d4a-44b9-eb8b-4060a23ae7c4"
      },
      "source": [
        "\"\"\"\n",
        "Loop to select the countries with the most common entries\n",
        "INPUT: series of countries with number of entries\n",
        "OUTPUT: list of the most common countries with the number of entries\n",
        "\"\"\"\n",
        "\n",
        "i = 0\n",
        "theMostCommonCountry_List = []\n",
        "while i < 10:\n",
        "  part_index = str(df.location.value_counts().index[i])\n",
        "  theMostCommonCountry_List.append( part_index )\n",
        "  i = i + 1\n",
        "print(theMostCommonCountry_List)"
      ],
      "execution_count": 199,
      "outputs": [
        {
          "output_type": "stream",
          "text": [
            "['France', 'Germany', 'Finland', 'Russia', 'Italy', 'United Kingdom', 'Sweden', 'Spain', 'Denmark', 'Slovenia']\n"
          ],
          "name": "stdout"
        }
      ]
    },
    {
      "cell_type": "code",
      "metadata": {
        "id": "9lR6BW5sOEyp"
      },
      "source": [
        "df = df[df.location.isin(theMostCommonCountry_List)]  #filters entries by list of common countries"
      ],
      "execution_count": 200,
      "outputs": []
    },
    {
      "cell_type": "code",
      "metadata": {
        "id": "LPnU7LUIMrd6",
        "colab": {
          "base_uri": "https://localhost:8080/",
          "height": 600
        },
        "outputId": "9b06f2b3-bf92-441a-cae9-e1ba3e75fa81"
      },
      "source": [
        "df = df.reset_index()   #resets index\n",
        "df.drop(columns=['index','continent'], inplace=True) #drops old index column and continent becasue it is not needed\n",
        "df"
      ],
      "execution_count": 201,
      "outputs": [
        {
          "output_type": "execute_result",
          "data": {
            "text/html": [
              "<div>\n",
              "<style scoped>\n",
              "    .dataframe tbody tr th:only-of-type {\n",
              "        vertical-align: middle;\n",
              "    }\n",
              "\n",
              "    .dataframe tbody tr th {\n",
              "        vertical-align: top;\n",
              "    }\n",
              "\n",
              "    .dataframe thead th {\n",
              "        text-align: right;\n",
              "    }\n",
              "</style>\n",
              "<table border=\"1\" class=\"dataframe\">\n",
              "  <thead>\n",
              "    <tr style=\"text-align: right;\">\n",
              "      <th></th>\n",
              "      <th>iso_code</th>\n",
              "      <th>location</th>\n",
              "      <th>date</th>\n",
              "      <th>total_cases</th>\n",
              "      <th>new_cases</th>\n",
              "      <th>total_deaths</th>\n",
              "      <th>new_deaths</th>\n",
              "      <th>total_cases_per_million</th>\n",
              "      <th>new_cases_per_million</th>\n",
              "      <th>total_deaths_per_million</th>\n",
              "      <th>new_deaths_per_million</th>\n",
              "      <th>reproduction_rate</th>\n",
              "      <th>icu_patients</th>\n",
              "      <th>icu_patients_per_million</th>\n",
              "      <th>hosp_patients</th>\n",
              "      <th>hosp_patients_per_million</th>\n",
              "      <th>weekly_icu_admissions</th>\n",
              "      <th>weekly_icu_admissions_per_million</th>\n",
              "      <th>weekly_hosp_admissions</th>\n",
              "      <th>weekly_hosp_admissions_per_million</th>\n",
              "      <th>new_tests</th>\n",
              "      <th>total_tests</th>\n",
              "      <th>total_tests_per_thousand</th>\n",
              "      <th>new_tests_per_thousand</th>\n",
              "      <th>positive_rate</th>\n",
              "      <th>tests_per_case</th>\n",
              "      <th>tests_units</th>\n",
              "      <th>total_vaccinations</th>\n",
              "      <th>people_vaccinated</th>\n",
              "      <th>people_fully_vaccinated</th>\n",
              "      <th>new_vaccinations</th>\n",
              "      <th>total_vaccinations_per_hundred</th>\n",
              "      <th>people_vaccinated_per_hundred</th>\n",
              "      <th>people_fully_vaccinated_per_hundred</th>\n",
              "      <th>stringency_index</th>\n",
              "      <th>population</th>\n",
              "      <th>population_density</th>\n",
              "      <th>median_age</th>\n",
              "      <th>aged_65_older</th>\n",
              "      <th>aged_70_older</th>\n",
              "      <th>gdp_per_capita</th>\n",
              "      <th>extreme_poverty</th>\n",
              "      <th>cardiovasc_death_rate</th>\n",
              "      <th>diabetes_prevalence</th>\n",
              "      <th>female_smokers</th>\n",
              "      <th>male_smokers</th>\n",
              "      <th>handwashing_facilities</th>\n",
              "      <th>hospital_beds_per_thousand</th>\n",
              "      <th>life_expectancy</th>\n",
              "      <th>human_development_index</th>\n",
              "    </tr>\n",
              "  </thead>\n",
              "  <tbody>\n",
              "    <tr>\n",
              "      <th>0</th>\n",
              "      <td>DNK</td>\n",
              "      <td>Denmark</td>\n",
              "      <td>2020-02-02</td>\n",
              "      <td>NaN</td>\n",
              "      <td>NaN</td>\n",
              "      <td>NaN</td>\n",
              "      <td>NaN</td>\n",
              "      <td>NaN</td>\n",
              "      <td>NaN</td>\n",
              "      <td>NaN</td>\n",
              "      <td>NaN</td>\n",
              "      <td>NaN</td>\n",
              "      <td>NaN</td>\n",
              "      <td>NaN</td>\n",
              "      <td>NaN</td>\n",
              "      <td>NaN</td>\n",
              "      <td>NaN</td>\n",
              "      <td>NaN</td>\n",
              "      <td>NaN</td>\n",
              "      <td>NaN</td>\n",
              "      <td>1.0</td>\n",
              "      <td>1.0</td>\n",
              "      <td>0.0</td>\n",
              "      <td>0.0</td>\n",
              "      <td>NaN</td>\n",
              "      <td>NaN</td>\n",
              "      <td>tests performed</td>\n",
              "      <td>NaN</td>\n",
              "      <td>NaN</td>\n",
              "      <td>NaN</td>\n",
              "      <td>NaN</td>\n",
              "      <td>NaN</td>\n",
              "      <td>NaN</td>\n",
              "      <td>NaN</td>\n",
              "      <td>0.00</td>\n",
              "      <td>5792203.0</td>\n",
              "      <td>136.520</td>\n",
              "      <td>42.3</td>\n",
              "      <td>19.677</td>\n",
              "      <td>12.325</td>\n",
              "      <td>46682.515</td>\n",
              "      <td>0.2</td>\n",
              "      <td>114.767</td>\n",
              "      <td>6.41</td>\n",
              "      <td>19.3</td>\n",
              "      <td>18.8</td>\n",
              "      <td>NaN</td>\n",
              "      <td>2.50</td>\n",
              "      <td>80.90</td>\n",
              "      <td>0.940</td>\n",
              "    </tr>\n",
              "    <tr>\n",
              "      <th>1</th>\n",
              "      <td>DNK</td>\n",
              "      <td>Denmark</td>\n",
              "      <td>2020-02-03</td>\n",
              "      <td>NaN</td>\n",
              "      <td>NaN</td>\n",
              "      <td>NaN</td>\n",
              "      <td>NaN</td>\n",
              "      <td>NaN</td>\n",
              "      <td>NaN</td>\n",
              "      <td>NaN</td>\n",
              "      <td>NaN</td>\n",
              "      <td>NaN</td>\n",
              "      <td>NaN</td>\n",
              "      <td>NaN</td>\n",
              "      <td>NaN</td>\n",
              "      <td>NaN</td>\n",
              "      <td>NaN</td>\n",
              "      <td>NaN</td>\n",
              "      <td>NaN</td>\n",
              "      <td>NaN</td>\n",
              "      <td>NaN</td>\n",
              "      <td>NaN</td>\n",
              "      <td>NaN</td>\n",
              "      <td>NaN</td>\n",
              "      <td>NaN</td>\n",
              "      <td>NaN</td>\n",
              "      <td>tests performed</td>\n",
              "      <td>NaN</td>\n",
              "      <td>NaN</td>\n",
              "      <td>NaN</td>\n",
              "      <td>NaN</td>\n",
              "      <td>NaN</td>\n",
              "      <td>NaN</td>\n",
              "      <td>NaN</td>\n",
              "      <td>0.00</td>\n",
              "      <td>5792203.0</td>\n",
              "      <td>136.520</td>\n",
              "      <td>42.3</td>\n",
              "      <td>19.677</td>\n",
              "      <td>12.325</td>\n",
              "      <td>46682.515</td>\n",
              "      <td>0.2</td>\n",
              "      <td>114.767</td>\n",
              "      <td>6.41</td>\n",
              "      <td>19.3</td>\n",
              "      <td>18.8</td>\n",
              "      <td>NaN</td>\n",
              "      <td>2.50</td>\n",
              "      <td>80.90</td>\n",
              "      <td>0.940</td>\n",
              "    </tr>\n",
              "    <tr>\n",
              "      <th>2</th>\n",
              "      <td>DNK</td>\n",
              "      <td>Denmark</td>\n",
              "      <td>2020-02-04</td>\n",
              "      <td>NaN</td>\n",
              "      <td>NaN</td>\n",
              "      <td>NaN</td>\n",
              "      <td>NaN</td>\n",
              "      <td>NaN</td>\n",
              "      <td>NaN</td>\n",
              "      <td>NaN</td>\n",
              "      <td>NaN</td>\n",
              "      <td>NaN</td>\n",
              "      <td>NaN</td>\n",
              "      <td>NaN</td>\n",
              "      <td>NaN</td>\n",
              "      <td>NaN</td>\n",
              "      <td>NaN</td>\n",
              "      <td>NaN</td>\n",
              "      <td>NaN</td>\n",
              "      <td>NaN</td>\n",
              "      <td>NaN</td>\n",
              "      <td>NaN</td>\n",
              "      <td>NaN</td>\n",
              "      <td>NaN</td>\n",
              "      <td>NaN</td>\n",
              "      <td>NaN</td>\n",
              "      <td>tests performed</td>\n",
              "      <td>NaN</td>\n",
              "      <td>NaN</td>\n",
              "      <td>NaN</td>\n",
              "      <td>NaN</td>\n",
              "      <td>NaN</td>\n",
              "      <td>NaN</td>\n",
              "      <td>NaN</td>\n",
              "      <td>0.00</td>\n",
              "      <td>5792203.0</td>\n",
              "      <td>136.520</td>\n",
              "      <td>42.3</td>\n",
              "      <td>19.677</td>\n",
              "      <td>12.325</td>\n",
              "      <td>46682.515</td>\n",
              "      <td>0.2</td>\n",
              "      <td>114.767</td>\n",
              "      <td>6.41</td>\n",
              "      <td>19.3</td>\n",
              "      <td>18.8</td>\n",
              "      <td>NaN</td>\n",
              "      <td>2.50</td>\n",
              "      <td>80.90</td>\n",
              "      <td>0.940</td>\n",
              "    </tr>\n",
              "    <tr>\n",
              "      <th>3</th>\n",
              "      <td>DNK</td>\n",
              "      <td>Denmark</td>\n",
              "      <td>2020-02-05</td>\n",
              "      <td>NaN</td>\n",
              "      <td>NaN</td>\n",
              "      <td>NaN</td>\n",
              "      <td>NaN</td>\n",
              "      <td>NaN</td>\n",
              "      <td>NaN</td>\n",
              "      <td>NaN</td>\n",
              "      <td>NaN</td>\n",
              "      <td>NaN</td>\n",
              "      <td>NaN</td>\n",
              "      <td>NaN</td>\n",
              "      <td>NaN</td>\n",
              "      <td>NaN</td>\n",
              "      <td>NaN</td>\n",
              "      <td>NaN</td>\n",
              "      <td>NaN</td>\n",
              "      <td>NaN</td>\n",
              "      <td>NaN</td>\n",
              "      <td>NaN</td>\n",
              "      <td>NaN</td>\n",
              "      <td>NaN</td>\n",
              "      <td>NaN</td>\n",
              "      <td>NaN</td>\n",
              "      <td>tests performed</td>\n",
              "      <td>NaN</td>\n",
              "      <td>NaN</td>\n",
              "      <td>NaN</td>\n",
              "      <td>NaN</td>\n",
              "      <td>NaN</td>\n",
              "      <td>NaN</td>\n",
              "      <td>NaN</td>\n",
              "      <td>0.00</td>\n",
              "      <td>5792203.0</td>\n",
              "      <td>136.520</td>\n",
              "      <td>42.3</td>\n",
              "      <td>19.677</td>\n",
              "      <td>12.325</td>\n",
              "      <td>46682.515</td>\n",
              "      <td>0.2</td>\n",
              "      <td>114.767</td>\n",
              "      <td>6.41</td>\n",
              "      <td>19.3</td>\n",
              "      <td>18.8</td>\n",
              "      <td>NaN</td>\n",
              "      <td>2.50</td>\n",
              "      <td>80.90</td>\n",
              "      <td>0.940</td>\n",
              "    </tr>\n",
              "    <tr>\n",
              "      <th>4</th>\n",
              "      <td>DNK</td>\n",
              "      <td>Denmark</td>\n",
              "      <td>2020-02-06</td>\n",
              "      <td>NaN</td>\n",
              "      <td>NaN</td>\n",
              "      <td>NaN</td>\n",
              "      <td>NaN</td>\n",
              "      <td>NaN</td>\n",
              "      <td>NaN</td>\n",
              "      <td>NaN</td>\n",
              "      <td>NaN</td>\n",
              "      <td>NaN</td>\n",
              "      <td>NaN</td>\n",
              "      <td>NaN</td>\n",
              "      <td>NaN</td>\n",
              "      <td>NaN</td>\n",
              "      <td>NaN</td>\n",
              "      <td>NaN</td>\n",
              "      <td>NaN</td>\n",
              "      <td>NaN</td>\n",
              "      <td>NaN</td>\n",
              "      <td>NaN</td>\n",
              "      <td>NaN</td>\n",
              "      <td>NaN</td>\n",
              "      <td>NaN</td>\n",
              "      <td>NaN</td>\n",
              "      <td>tests performed</td>\n",
              "      <td>NaN</td>\n",
              "      <td>NaN</td>\n",
              "      <td>NaN</td>\n",
              "      <td>NaN</td>\n",
              "      <td>NaN</td>\n",
              "      <td>NaN</td>\n",
              "      <td>NaN</td>\n",
              "      <td>0.00</td>\n",
              "      <td>5792203.0</td>\n",
              "      <td>136.520</td>\n",
              "      <td>42.3</td>\n",
              "      <td>19.677</td>\n",
              "      <td>12.325</td>\n",
              "      <td>46682.515</td>\n",
              "      <td>0.2</td>\n",
              "      <td>114.767</td>\n",
              "      <td>6.41</td>\n",
              "      <td>19.3</td>\n",
              "      <td>18.8</td>\n",
              "      <td>NaN</td>\n",
              "      <td>2.50</td>\n",
              "      <td>80.90</td>\n",
              "      <td>0.940</td>\n",
              "    </tr>\n",
              "    <tr>\n",
              "      <th>...</th>\n",
              "      <td>...</td>\n",
              "      <td>...</td>\n",
              "      <td>...</td>\n",
              "      <td>...</td>\n",
              "      <td>...</td>\n",
              "      <td>...</td>\n",
              "      <td>...</td>\n",
              "      <td>...</td>\n",
              "      <td>...</td>\n",
              "      <td>...</td>\n",
              "      <td>...</td>\n",
              "      <td>...</td>\n",
              "      <td>...</td>\n",
              "      <td>...</td>\n",
              "      <td>...</td>\n",
              "      <td>...</td>\n",
              "      <td>...</td>\n",
              "      <td>...</td>\n",
              "      <td>...</td>\n",
              "      <td>...</td>\n",
              "      <td>...</td>\n",
              "      <td>...</td>\n",
              "      <td>...</td>\n",
              "      <td>...</td>\n",
              "      <td>...</td>\n",
              "      <td>...</td>\n",
              "      <td>...</td>\n",
              "      <td>...</td>\n",
              "      <td>...</td>\n",
              "      <td>...</td>\n",
              "      <td>...</td>\n",
              "      <td>...</td>\n",
              "      <td>...</td>\n",
              "      <td>...</td>\n",
              "      <td>...</td>\n",
              "      <td>...</td>\n",
              "      <td>...</td>\n",
              "      <td>...</td>\n",
              "      <td>...</td>\n",
              "      <td>...</td>\n",
              "      <td>...</td>\n",
              "      <td>...</td>\n",
              "      <td>...</td>\n",
              "      <td>...</td>\n",
              "      <td>...</td>\n",
              "      <td>...</td>\n",
              "      <td>...</td>\n",
              "      <td>...</td>\n",
              "      <td>...</td>\n",
              "      <td>...</td>\n",
              "    </tr>\n",
              "    <tr>\n",
              "      <th>4382</th>\n",
              "      <td>GBR</td>\n",
              "      <td>United Kingdom</td>\n",
              "      <td>2021-04-08</td>\n",
              "      <td>4384954.0</td>\n",
              "      <td>3124.0</td>\n",
              "      <td>127224.0</td>\n",
              "      <td>53.0</td>\n",
              "      <td>64592.902</td>\n",
              "      <td>46.018</td>\n",
              "      <td>1874.083</td>\n",
              "      <td>0.781</td>\n",
              "      <td>0.69</td>\n",
              "      <td>NaN</td>\n",
              "      <td>NaN</td>\n",
              "      <td>NaN</td>\n",
              "      <td>NaN</td>\n",
              "      <td>NaN</td>\n",
              "      <td>NaN</td>\n",
              "      <td>NaN</td>\n",
              "      <td>NaN</td>\n",
              "      <td>NaN</td>\n",
              "      <td>NaN</td>\n",
              "      <td>NaN</td>\n",
              "      <td>NaN</td>\n",
              "      <td>NaN</td>\n",
              "      <td>NaN</td>\n",
              "      <td>NaN</td>\n",
              "      <td>38444540.0</td>\n",
              "      <td>31903366.0</td>\n",
              "      <td>6541174.0</td>\n",
              "      <td>545511.0</td>\n",
              "      <td>56.63</td>\n",
              "      <td>47.00</td>\n",
              "      <td>9.64</td>\n",
              "      <td>75.93</td>\n",
              "      <td>67886004.0</td>\n",
              "      <td>272.898</td>\n",
              "      <td>40.8</td>\n",
              "      <td>18.517</td>\n",
              "      <td>12.527</td>\n",
              "      <td>39753.244</td>\n",
              "      <td>0.2</td>\n",
              "      <td>122.137</td>\n",
              "      <td>4.28</td>\n",
              "      <td>20.0</td>\n",
              "      <td>24.7</td>\n",
              "      <td>NaN</td>\n",
              "      <td>2.54</td>\n",
              "      <td>81.32</td>\n",
              "      <td>0.932</td>\n",
              "    </tr>\n",
              "    <tr>\n",
              "      <th>4383</th>\n",
              "      <td>GBR</td>\n",
              "      <td>United Kingdom</td>\n",
              "      <td>2021-04-09</td>\n",
              "      <td>4380167.0</td>\n",
              "      <td>-4787.0</td>\n",
              "      <td>127284.0</td>\n",
              "      <td>60.0</td>\n",
              "      <td>64522.387</td>\n",
              "      <td>-70.515</td>\n",
              "      <td>1874.967</td>\n",
              "      <td>0.884</td>\n",
              "      <td>0.69</td>\n",
              "      <td>NaN</td>\n",
              "      <td>NaN</td>\n",
              "      <td>NaN</td>\n",
              "      <td>NaN</td>\n",
              "      <td>NaN</td>\n",
              "      <td>NaN</td>\n",
              "      <td>NaN</td>\n",
              "      <td>NaN</td>\n",
              "      <td>NaN</td>\n",
              "      <td>NaN</td>\n",
              "      <td>NaN</td>\n",
              "      <td>NaN</td>\n",
              "      <td>NaN</td>\n",
              "      <td>NaN</td>\n",
              "      <td>NaN</td>\n",
              "      <td>39001554.0</td>\n",
              "      <td>32010244.0</td>\n",
              "      <td>6991310.0</td>\n",
              "      <td>557014.0</td>\n",
              "      <td>57.45</td>\n",
              "      <td>47.15</td>\n",
              "      <td>10.30</td>\n",
              "      <td>75.93</td>\n",
              "      <td>67886004.0</td>\n",
              "      <td>272.898</td>\n",
              "      <td>40.8</td>\n",
              "      <td>18.517</td>\n",
              "      <td>12.527</td>\n",
              "      <td>39753.244</td>\n",
              "      <td>0.2</td>\n",
              "      <td>122.137</td>\n",
              "      <td>4.28</td>\n",
              "      <td>20.0</td>\n",
              "      <td>24.7</td>\n",
              "      <td>NaN</td>\n",
              "      <td>2.54</td>\n",
              "      <td>81.32</td>\n",
              "      <td>0.932</td>\n",
              "    </tr>\n",
              "    <tr>\n",
              "      <th>4384</th>\n",
              "      <td>GBR</td>\n",
              "      <td>United Kingdom</td>\n",
              "      <td>2021-04-10</td>\n",
              "      <td>4382880.0</td>\n",
              "      <td>2713.0</td>\n",
              "      <td>127324.0</td>\n",
              "      <td>40.0</td>\n",
              "      <td>64562.351</td>\n",
              "      <td>39.964</td>\n",
              "      <td>1875.556</td>\n",
              "      <td>0.589</td>\n",
              "      <td>0.69</td>\n",
              "      <td>NaN</td>\n",
              "      <td>NaN</td>\n",
              "      <td>NaN</td>\n",
              "      <td>NaN</td>\n",
              "      <td>NaN</td>\n",
              "      <td>NaN</td>\n",
              "      <td>NaN</td>\n",
              "      <td>NaN</td>\n",
              "      <td>NaN</td>\n",
              "      <td>NaN</td>\n",
              "      <td>NaN</td>\n",
              "      <td>NaN</td>\n",
              "      <td>NaN</td>\n",
              "      <td>NaN</td>\n",
              "      <td>NaN</td>\n",
              "      <td>39587893.0</td>\n",
              "      <td>32121353.0</td>\n",
              "      <td>7466540.0</td>\n",
              "      <td>586339.0</td>\n",
              "      <td>58.32</td>\n",
              "      <td>47.32</td>\n",
              "      <td>11.00</td>\n",
              "      <td>75.93</td>\n",
              "      <td>67886004.0</td>\n",
              "      <td>272.898</td>\n",
              "      <td>40.8</td>\n",
              "      <td>18.517</td>\n",
              "      <td>12.527</td>\n",
              "      <td>39753.244</td>\n",
              "      <td>0.2</td>\n",
              "      <td>122.137</td>\n",
              "      <td>4.28</td>\n",
              "      <td>20.0</td>\n",
              "      <td>24.7</td>\n",
              "      <td>NaN</td>\n",
              "      <td>2.54</td>\n",
              "      <td>81.32</td>\n",
              "      <td>0.932</td>\n",
              "    </tr>\n",
              "    <tr>\n",
              "      <th>4385</th>\n",
              "      <td>GBR</td>\n",
              "      <td>United Kingdom</td>\n",
              "      <td>2021-04-11</td>\n",
              "      <td>4384610.0</td>\n",
              "      <td>1730.0</td>\n",
              "      <td>127331.0</td>\n",
              "      <td>7.0</td>\n",
              "      <td>64587.835</td>\n",
              "      <td>25.484</td>\n",
              "      <td>1875.659</td>\n",
              "      <td>0.103</td>\n",
              "      <td>NaN</td>\n",
              "      <td>NaN</td>\n",
              "      <td>NaN</td>\n",
              "      <td>NaN</td>\n",
              "      <td>NaN</td>\n",
              "      <td>NaN</td>\n",
              "      <td>NaN</td>\n",
              "      <td>NaN</td>\n",
              "      <td>NaN</td>\n",
              "      <td>NaN</td>\n",
              "      <td>NaN</td>\n",
              "      <td>NaN</td>\n",
              "      <td>NaN</td>\n",
              "      <td>NaN</td>\n",
              "      <td>NaN</td>\n",
              "      <td>NaN</td>\n",
              "      <td>NaN</td>\n",
              "      <td>NaN</td>\n",
              "      <td>NaN</td>\n",
              "      <td>NaN</td>\n",
              "      <td>NaN</td>\n",
              "      <td>NaN</td>\n",
              "      <td>NaN</td>\n",
              "      <td>75.93</td>\n",
              "      <td>67886004.0</td>\n",
              "      <td>272.898</td>\n",
              "      <td>40.8</td>\n",
              "      <td>18.517</td>\n",
              "      <td>12.527</td>\n",
              "      <td>39753.244</td>\n",
              "      <td>0.2</td>\n",
              "      <td>122.137</td>\n",
              "      <td>4.28</td>\n",
              "      <td>20.0</td>\n",
              "      <td>24.7</td>\n",
              "      <td>NaN</td>\n",
              "      <td>2.54</td>\n",
              "      <td>81.32</td>\n",
              "      <td>0.932</td>\n",
              "    </tr>\n",
              "    <tr>\n",
              "      <th>4386</th>\n",
              "      <td>GBR</td>\n",
              "      <td>United Kingdom</td>\n",
              "      <td>2021-04-12</td>\n",
              "      <td>4388296.0</td>\n",
              "      <td>3686.0</td>\n",
              "      <td>127346.0</td>\n",
              "      <td>15.0</td>\n",
              "      <td>64642.132</td>\n",
              "      <td>54.297</td>\n",
              "      <td>1875.880</td>\n",
              "      <td>0.221</td>\n",
              "      <td>NaN</td>\n",
              "      <td>NaN</td>\n",
              "      <td>NaN</td>\n",
              "      <td>NaN</td>\n",
              "      <td>NaN</td>\n",
              "      <td>NaN</td>\n",
              "      <td>NaN</td>\n",
              "      <td>NaN</td>\n",
              "      <td>NaN</td>\n",
              "      <td>NaN</td>\n",
              "      <td>NaN</td>\n",
              "      <td>NaN</td>\n",
              "      <td>NaN</td>\n",
              "      <td>NaN</td>\n",
              "      <td>NaN</td>\n",
              "      <td>NaN</td>\n",
              "      <td>NaN</td>\n",
              "      <td>NaN</td>\n",
              "      <td>NaN</td>\n",
              "      <td>NaN</td>\n",
              "      <td>NaN</td>\n",
              "      <td>NaN</td>\n",
              "      <td>NaN</td>\n",
              "      <td>NaN</td>\n",
              "      <td>67886004.0</td>\n",
              "      <td>272.898</td>\n",
              "      <td>40.8</td>\n",
              "      <td>18.517</td>\n",
              "      <td>12.527</td>\n",
              "      <td>39753.244</td>\n",
              "      <td>0.2</td>\n",
              "      <td>122.137</td>\n",
              "      <td>4.28</td>\n",
              "      <td>20.0</td>\n",
              "      <td>24.7</td>\n",
              "      <td>NaN</td>\n",
              "      <td>2.54</td>\n",
              "      <td>81.32</td>\n",
              "      <td>0.932</td>\n",
              "    </tr>\n",
              "  </tbody>\n",
              "</table>\n",
              "<p>4387 rows × 50 columns</p>\n",
              "</div>"
            ],
            "text/plain": [
              "     iso_code        location  ... life_expectancy  human_development_index\n",
              "0         DNK         Denmark  ...           80.90                    0.940\n",
              "1         DNK         Denmark  ...           80.90                    0.940\n",
              "2         DNK         Denmark  ...           80.90                    0.940\n",
              "3         DNK         Denmark  ...           80.90                    0.940\n",
              "4         DNK         Denmark  ...           80.90                    0.940\n",
              "...       ...             ...  ...             ...                      ...\n",
              "4382      GBR  United Kingdom  ...           81.32                    0.932\n",
              "4383      GBR  United Kingdom  ...           81.32                    0.932\n",
              "4384      GBR  United Kingdom  ...           81.32                    0.932\n",
              "4385      GBR  United Kingdom  ...           81.32                    0.932\n",
              "4386      GBR  United Kingdom  ...           81.32                    0.932\n",
              "\n",
              "[4387 rows x 50 columns]"
            ]
          },
          "metadata": {
            "tags": []
          },
          "execution_count": 201
        }
      ]
    },
    {
      "cell_type": "code",
      "metadata": {
        "id": "1OeGU_1kSwiG",
        "colab": {
          "base_uri": "https://localhost:8080/"
        },
        "outputId": "ebd316dd-0ea8-428a-ed11-42af31d536e2"
      },
      "source": [
        "\"\"\"\n",
        "Loop for checking which features are object type\n",
        "INPUT: pandas series\n",
        "OUTPUT: list of objects\n",
        "\"\"\"\n",
        "list_of_objects = []\n",
        "x=0\n",
        "while x < len(df.columns):\n",
        "  if df.dtypes.values[x] == object:\n",
        "    list_of_objects.append(df.dtypes.index[x])\n",
        "  x = x + 1\n",
        "print(list_of_objects)"
      ],
      "execution_count": 202,
      "outputs": [
        {
          "output_type": "stream",
          "text": [
            "['iso_code', 'location', 'date', 'tests_units']\n"
          ],
          "name": "stdout"
        }
      ]
    },
    {
      "cell_type": "code",
      "metadata": {
        "id": "EOdd1Gjag2NF"
      },
      "source": [
        "df.iso_code = LabelEncoder().fit_transform(df.iso_code)\n",
        "df.location = LabelEncoder().fit_transform(df.location)\n",
        "df.date = LabelEncoder().fit_transform(df.date)"
      ],
      "execution_count": 203,
      "outputs": []
    },
    {
      "cell_type": "code",
      "metadata": {
        "colab": {
          "base_uri": "https://localhost:8080/"
        },
        "id": "HR7wBbClj2zU",
        "outputId": "fe2d0c60-71f6-47e6-dd51-36791c0289d3"
      },
      "source": [
        "df.tests_units.fillna('Not Tested', inplace=True)\n",
        "df.tests_units.value_counts()"
      ],
      "execution_count": 204,
      "outputs": [
        {
          "output_type": "execute_result",
          "data": {
            "text/plain": [
              "tests performed    3458\n",
              "Not Tested          601\n",
              "people tested       328\n",
              "Name: tests_units, dtype: int64"
            ]
          },
          "metadata": {
            "tags": []
          },
          "execution_count": 204
        }
      ]
    },
    {
      "cell_type": "code",
      "metadata": {
        "colab": {
          "base_uri": "https://localhost:8080/"
        },
        "id": "M-KqKxxWk5O1",
        "outputId": "20f1bcaa-5275-41ab-ec36-1be425e1d6b1"
      },
      "source": [
        "df.tests_units = df.tests_units.replace(['tests performed', 'people tested'], 'Tested')\n",
        "df.tests_units.value_counts()"
      ],
      "execution_count": 205,
      "outputs": [
        {
          "output_type": "execute_result",
          "data": {
            "text/plain": [
              "Tested        3786\n",
              "Not Tested     601\n",
              "Name: tests_units, dtype: int64"
            ]
          },
          "metadata": {
            "tags": []
          },
          "execution_count": 205
        }
      ]
    },
    {
      "cell_type": "code",
      "metadata": {
        "id": "nVhzNoQYlS7k"
      },
      "source": [
        "df.tests_units = LabelEncoder().fit_transform(df.tests_units)"
      ],
      "execution_count": 206,
      "outputs": []
    },
    {
      "cell_type": "code",
      "metadata": {
        "colab": {
          "base_uri": "https://localhost:8080/"
        },
        "id": "z3FLzZEJcv6_",
        "outputId": "ef0fc122-bb5e-46ed-e2b6-3eb16daa408f"
      },
      "source": [
        "df.dtypes"
      ],
      "execution_count": 207,
      "outputs": [
        {
          "output_type": "execute_result",
          "data": {
            "text/plain": [
              "iso_code                                 int64\n",
              "location                                 int64\n",
              "date                                     int64\n",
              "total_cases                            float64\n",
              "new_cases                              float64\n",
              "total_deaths                           float64\n",
              "new_deaths                             float64\n",
              "total_cases_per_million                float64\n",
              "new_cases_per_million                  float64\n",
              "total_deaths_per_million               float64\n",
              "new_deaths_per_million                 float64\n",
              "reproduction_rate                      float64\n",
              "icu_patients                           float64\n",
              "icu_patients_per_million               float64\n",
              "hosp_patients                          float64\n",
              "hosp_patients_per_million              float64\n",
              "weekly_icu_admissions                  float64\n",
              "weekly_icu_admissions_per_million      float64\n",
              "weekly_hosp_admissions                 float64\n",
              "weekly_hosp_admissions_per_million     float64\n",
              "new_tests                              float64\n",
              "total_tests                            float64\n",
              "total_tests_per_thousand               float64\n",
              "new_tests_per_thousand                 float64\n",
              "positive_rate                          float64\n",
              "tests_per_case                         float64\n",
              "tests_units                              int64\n",
              "total_vaccinations                     float64\n",
              "people_vaccinated                      float64\n",
              "people_fully_vaccinated                float64\n",
              "new_vaccinations                       float64\n",
              "total_vaccinations_per_hundred         float64\n",
              "people_vaccinated_per_hundred          float64\n",
              "people_fully_vaccinated_per_hundred    float64\n",
              "stringency_index                       float64\n",
              "population                             float64\n",
              "population_density                     float64\n",
              "median_age                             float64\n",
              "aged_65_older                          float64\n",
              "aged_70_older                          float64\n",
              "gdp_per_capita                         float64\n",
              "extreme_poverty                        float64\n",
              "cardiovasc_death_rate                  float64\n",
              "diabetes_prevalence                    float64\n",
              "female_smokers                         float64\n",
              "male_smokers                           float64\n",
              "handwashing_facilities                 float64\n",
              "hospital_beds_per_thousand             float64\n",
              "life_expectancy                        float64\n",
              "human_development_index                float64\n",
              "dtype: object"
            ]
          },
          "metadata": {
            "tags": []
          },
          "execution_count": 207
        }
      ]
    },
    {
      "cell_type": "code",
      "metadata": {
        "id": "dRSZtnh0TaXP",
        "colab": {
          "base_uri": "https://localhost:8080/"
        },
        "outputId": "796871ac-ac95-424b-a138-3e9a25dae4c1"
      },
      "source": [
        "df.location.value_counts() #counts amount of entrires "
      ],
      "execution_count": 208,
      "outputs": [
        {
          "output_type": "execute_result",
          "data": {
            "text/plain": [
              "2    445\n",
              "3    442\n",
              "1    440\n",
              "9    438\n",
              "5    438\n",
              "4    438\n",
              "7    437\n",
              "8    437\n",
              "6    436\n",
              "0    436\n",
              "Name: location, dtype: int64"
            ]
          },
          "metadata": {
            "tags": []
          },
          "execution_count": 208
        }
      ]
    },
    {
      "cell_type": "code",
      "metadata": {
        "id": "vc8CQwl2S3d6",
        "colab": {
          "base_uri": "https://localhost:8080/"
        },
        "outputId": "b92fe94f-54a6-410d-8c04-823a5cefa707"
      },
      "source": [
        "correlation_matrix = df.corr().round(2) \n",
        "correlation_matrix.shape #checks size of the matrix"
      ],
      "execution_count": 209,
      "outputs": [
        {
          "output_type": "execute_result",
          "data": {
            "text/plain": [
              "(50, 50)"
            ]
          },
          "metadata": {
            "tags": []
          },
          "execution_count": 209
        }
      ]
    },
    {
      "cell_type": "code",
      "metadata": {
        "id": "BNf1Em9Mon-u",
        "colab": {
          "base_uri": "https://localhost:8080/"
        },
        "outputId": "16eba29a-2636-45d0-fd1e-a5cfaf866053"
      },
      "source": [
        "df.isna().sum() #counts NA values"
      ],
      "execution_count": 210,
      "outputs": [
        {
          "output_type": "execute_result",
          "data": {
            "text/plain": [
              "iso_code                                  0\n",
              "location                                  0\n",
              "date                                      0\n",
              "total_cases                              57\n",
              "new_cases                                57\n",
              "total_deaths                            371\n",
              "new_deaths                              371\n",
              "total_cases_per_million                  57\n",
              "new_cases_per_million                    57\n",
              "total_deaths_per_million                371\n",
              "new_deaths_per_million                  371\n",
              "reproduction_rate                       385\n",
              "icu_patients                           1320\n",
              "icu_patients_per_million               1320\n",
              "hosp_patients                          1694\n",
              "hosp_patients_per_million              1694\n",
              "weekly_icu_admissions                  4156\n",
              "weekly_icu_admissions_per_million      4156\n",
              "weekly_hosp_admissions                 3982\n",
              "weekly_hosp_admissions_per_million     3982\n",
              "new_tests                              1420\n",
              "total_tests                            1887\n",
              "total_tests_per_thousand               1887\n",
              "new_tests_per_thousand                 1420\n",
              "positive_rate                          1039\n",
              "tests_per_case                         1049\n",
              "tests_units                               0\n",
              "total_vaccinations                     3561\n",
              "people_vaccinated                      3576\n",
              "people_fully_vaccinated                3674\n",
              "new_vaccinations                       3622\n",
              "total_vaccinations_per_hundred         3561\n",
              "people_vaccinated_per_hundred          3576\n",
              "people_fully_vaccinated_per_hundred    3674\n",
              "stringency_index                         36\n",
              "population                                0\n",
              "population_density                        0\n",
              "median_age                                0\n",
              "aged_65_older                             0\n",
              "aged_70_older                             0\n",
              "gdp_per_capita                            0\n",
              "extreme_poverty                        1763\n",
              "cardiovasc_death_rate                     0\n",
              "diabetes_prevalence                       0\n",
              "female_smokers                            0\n",
              "male_smokers                              0\n",
              "handwashing_facilities                 4387\n",
              "hospital_beds_per_thousand                0\n",
              "life_expectancy                           0\n",
              "human_development_index                   0\n",
              "dtype: int64"
            ]
          },
          "metadata": {
            "tags": []
          },
          "execution_count": 210
        }
      ]
    },
    {
      "cell_type": "code",
      "metadata": {
        "id": "xPGzsisOrRQB"
      },
      "source": [
        "df = df.drop(columns=['handwashing_facilities','weekly_icu_admissions',\n",
        "                      'weekly_icu_admissions_per_million', 'weekly_hosp_admissions', \n",
        "                      'weekly_hosp_admissions_per_million', 'icu_patients_per_million',\n",
        "                      'hosp_patients_per_million', 'total_cases_per_million', 'new_cases_per_million',\n",
        "                      'total_deaths_per_million', \n",
        "                      ]) #drops those columns from the dataset"
      ],
      "execution_count": 211,
      "outputs": []
    },
    {
      "cell_type": "markdown",
      "metadata": {
        "id": "TBPX3EY7qdBp"
      },
      "source": [
        "### **Target Dataset Preprocessing**"
      ]
    },
    {
      "cell_type": "code",
      "metadata": {
        "colab": {
          "base_uri": "https://localhost:8080/"
        },
        "id": "EceT-j5TqcZu",
        "outputId": "00495392-31e8-4196-b8e7-9b5c77ddde76"
      },
      "source": [
        "print(\"\", df[\"stringency_index\"].max(), \" = highest restriction value \\n\",\n",
        "      df[\"stringency_index\"].mean(), \" = average restriction value \\n\",\n",
        "      df[\"stringency_index\"].min(), \" = lowest restriction value \\n\")"
      ],
      "execution_count": 212,
      "outputs": [
        {
          "output_type": "stream",
          "text": [
            " 93.52  = highest restriction value \n",
            " 58.438722132842564  = average restriction value \n",
            " 0.0  = lowest restriction value \n",
            "\n"
          ],
          "name": "stdout"
        }
      ]
    },
    {
      "cell_type": "code",
      "metadata": {
        "id": "LMA0GoDyuBws"
      },
      "source": [
        "\n",
        "\n",
        "#loop for changing all the values smaller than 53 to 0 \n",
        "i = 0\n",
        "while i < len(df): \n",
        "  if df.stringency_index[i] < 53.0:\n",
        "    df.stringency_index  = df.stringency_index.replace(df.stringency_index[i], 0)\n",
        "\n",
        "  elif math.isnan(df.stringency_index[i]) == True:\n",
        "    df.stringency_index  = df.stringency_index.replace((df.stringency_index[i]), 0)\n",
        "\n",
        "  i = i + 1\n",
        "#loop for changning all the values bigger than 53 to 1\n",
        "i=0\n",
        "while i < len(df):\n",
        "  if df.stringency_index[i] >= 53.0:\n",
        "    df.stringency_index  = df.stringency_index.replace(df.stringency_index[i], 1)\n",
        "  i = i + 1\n"
      ],
      "execution_count": 213,
      "outputs": []
    },
    {
      "cell_type": "code",
      "metadata": {
        "id": "oVFA2y8q68Nm"
      },
      "source": [
        "#replace floats with string\n",
        "df.stringency_index  = df.stringency_index.replace(1.0, \"lockdown\")\n",
        "df.stringency_index  = df.stringency_index.replace(0.0, \"open\")"
      ],
      "execution_count": 214,
      "outputs": []
    },
    {
      "cell_type": "code",
      "metadata": {
        "colab": {
          "base_uri": "https://localhost:8080/"
        },
        "id": "qK04ny_m7SmS",
        "outputId": "6d531195-9305-4e8f-c2c2-b119d85e0e38"
      },
      "source": [
        "df.stringency_index.value_counts()"
      ],
      "execution_count": 215,
      "outputs": [
        {
          "output_type": "execute_result",
          "data": {
            "text/plain": [
              "lockdown    2816\n",
              "open        1571\n",
              "Name: stringency_index, dtype: int64"
            ]
          },
          "metadata": {
            "tags": []
          },
          "execution_count": 215
        }
      ]
    },
    {
      "cell_type": "code",
      "metadata": {
        "id": "qJDV1PDmiurk"
      },
      "source": [
        "df = df.fillna(0)"
      ],
      "execution_count": 216,
      "outputs": []
    },
    {
      "cell_type": "code",
      "metadata": {
        "id": "FAr5hCr4aGIF"
      },
      "source": [
        "Y = df.stringency_index\n",
        "X = df.drop(columns=['stringency_index'])"
      ],
      "execution_count": 217,
      "outputs": []
    },
    {
      "cell_type": "markdown",
      "metadata": {
        "id": "skdMKy5On5wW"
      },
      "source": [
        "### **RFE Feature Selection**"
      ]
    },
    {
      "cell_type": "code",
      "metadata": {
        "id": "wC9HCkF1oAVx"
      },
      "source": [
        "#importing algorithm to select best performing features\n",
        "from sklearn.feature_selection import RFE\n",
        "from sklearn.tree import DecisionTreeClassifier\n",
        "\n",
        "\n",
        "rfe_selector = RFE(estimator=DecisionTreeClassifier(), n_features_to_select = 10, step = 1)\n",
        "\n",
        "rfe_transformed = rfe_selector.fit_transform(X, Y)\n",
        "\n",
        "cols = list(X.columns)\n",
        "\n",
        "DecisionTreeClassifier().fit(rfe_transformed,Y)\n",
        "\n",
        "temp = pd.Series(rfe_selector.support_, index=cols) #support changes rfe selector into numpy array\n",
        "\n",
        "selected_features = temp[temp==True].index"
      ],
      "execution_count": 218,
      "outputs": []
    },
    {
      "cell_type": "code",
      "metadata": {
        "colab": {
          "base_uri": "https://localhost:8080/"
        },
        "id": "iKQUbdiX1Vpv",
        "outputId": "3eaab846-7c71-41c2-8ed9-191826a468ce"
      },
      "source": [
        "selected_features"
      ],
      "execution_count": 219,
      "outputs": [
        {
          "output_type": "execute_result",
          "data": {
            "text/plain": [
              "Index(['date', 'total_cases', 'total_deaths', 'new_deaths_per_million',\n",
              "       'icu_patients', 'hosp_patients', 'total_tests_per_thousand',\n",
              "       'positive_rate', 'aged_70_older', 'male_smokers'],\n",
              "      dtype='object')"
            ]
          },
          "metadata": {
            "tags": []
          },
          "execution_count": 219
        }
      ]
    },
    {
      "cell_type": "markdown",
      "metadata": {
        "id": "MOlk0yMz3g1C"
      },
      "source": [
        "### **Building Model**"
      ]
    },
    {
      "cell_type": "code",
      "metadata": {
        "id": "QVIalMculVlS"
      },
      "source": [
        "from sklearn.linear_model import LogisticRegression\n",
        "from sklearn.neighbors import KNeighborsClassifier\n",
        "from sklearn.metrics import accuracy_score, plot_confusion_matrix, confusion_matrix,classification_report\n",
        "from sklearn.naive_bayes import GaussianNB, BernoulliNB\n",
        "from sklearn.svm import SVC\n",
        "from sklearn.ensemble import RandomForestClassifier, AdaBoostClassifier"
      ],
      "execution_count": 220,
      "outputs": []
    },
    {
      "cell_type": "code",
      "metadata": {
        "id": "2OHQ3CGXhbpB",
        "colab": {
          "base_uri": "https://localhost:8080/",
          "height": 407
        },
        "outputId": "ce08e556-d669-4fb8-fd23-d0a0f799e8fb"
      },
      "source": [
        "X = df.filter(items=selected_features)\n",
        "X"
      ],
      "execution_count": 221,
      "outputs": [
        {
          "output_type": "execute_result",
          "data": {
            "text/html": [
              "<div>\n",
              "<style scoped>\n",
              "    .dataframe tbody tr th:only-of-type {\n",
              "        vertical-align: middle;\n",
              "    }\n",
              "\n",
              "    .dataframe tbody tr th {\n",
              "        vertical-align: top;\n",
              "    }\n",
              "\n",
              "    .dataframe thead th {\n",
              "        text-align: right;\n",
              "    }\n",
              "</style>\n",
              "<table border=\"1\" class=\"dataframe\">\n",
              "  <thead>\n",
              "    <tr style=\"text-align: right;\">\n",
              "      <th></th>\n",
              "      <th>date</th>\n",
              "      <th>total_cases</th>\n",
              "      <th>total_deaths</th>\n",
              "      <th>new_deaths_per_million</th>\n",
              "      <th>icu_patients</th>\n",
              "      <th>hosp_patients</th>\n",
              "      <th>total_tests_per_thousand</th>\n",
              "      <th>positive_rate</th>\n",
              "      <th>aged_70_older</th>\n",
              "      <th>male_smokers</th>\n",
              "    </tr>\n",
              "  </thead>\n",
              "  <tbody>\n",
              "    <tr>\n",
              "      <th>0</th>\n",
              "      <td>9</td>\n",
              "      <td>0.0</td>\n",
              "      <td>0.0</td>\n",
              "      <td>0.000</td>\n",
              "      <td>0.0</td>\n",
              "      <td>0.0</td>\n",
              "      <td>0.0</td>\n",
              "      <td>0.0</td>\n",
              "      <td>12.325</td>\n",
              "      <td>18.8</td>\n",
              "    </tr>\n",
              "    <tr>\n",
              "      <th>1</th>\n",
              "      <td>10</td>\n",
              "      <td>0.0</td>\n",
              "      <td>0.0</td>\n",
              "      <td>0.000</td>\n",
              "      <td>0.0</td>\n",
              "      <td>0.0</td>\n",
              "      <td>0.0</td>\n",
              "      <td>0.0</td>\n",
              "      <td>12.325</td>\n",
              "      <td>18.8</td>\n",
              "    </tr>\n",
              "    <tr>\n",
              "      <th>2</th>\n",
              "      <td>11</td>\n",
              "      <td>0.0</td>\n",
              "      <td>0.0</td>\n",
              "      <td>0.000</td>\n",
              "      <td>0.0</td>\n",
              "      <td>0.0</td>\n",
              "      <td>0.0</td>\n",
              "      <td>0.0</td>\n",
              "      <td>12.325</td>\n",
              "      <td>18.8</td>\n",
              "    </tr>\n",
              "    <tr>\n",
              "      <th>3</th>\n",
              "      <td>12</td>\n",
              "      <td>0.0</td>\n",
              "      <td>0.0</td>\n",
              "      <td>0.000</td>\n",
              "      <td>0.0</td>\n",
              "      <td>0.0</td>\n",
              "      <td>0.0</td>\n",
              "      <td>0.0</td>\n",
              "      <td>12.325</td>\n",
              "      <td>18.8</td>\n",
              "    </tr>\n",
              "    <tr>\n",
              "      <th>4</th>\n",
              "      <td>13</td>\n",
              "      <td>0.0</td>\n",
              "      <td>0.0</td>\n",
              "      <td>0.000</td>\n",
              "      <td>0.0</td>\n",
              "      <td>0.0</td>\n",
              "      <td>0.0</td>\n",
              "      <td>0.0</td>\n",
              "      <td>12.325</td>\n",
              "      <td>18.8</td>\n",
              "    </tr>\n",
              "    <tr>\n",
              "      <th>...</th>\n",
              "      <td>...</td>\n",
              "      <td>...</td>\n",
              "      <td>...</td>\n",
              "      <td>...</td>\n",
              "      <td>...</td>\n",
              "      <td>...</td>\n",
              "      <td>...</td>\n",
              "      <td>...</td>\n",
              "      <td>...</td>\n",
              "      <td>...</td>\n",
              "    </tr>\n",
              "    <tr>\n",
              "      <th>4382</th>\n",
              "      <td>440</td>\n",
              "      <td>4384954.0</td>\n",
              "      <td>127224.0</td>\n",
              "      <td>0.781</td>\n",
              "      <td>0.0</td>\n",
              "      <td>0.0</td>\n",
              "      <td>0.0</td>\n",
              "      <td>0.0</td>\n",
              "      <td>12.527</td>\n",
              "      <td>24.7</td>\n",
              "    </tr>\n",
              "    <tr>\n",
              "      <th>4383</th>\n",
              "      <td>441</td>\n",
              "      <td>4380167.0</td>\n",
              "      <td>127284.0</td>\n",
              "      <td>0.884</td>\n",
              "      <td>0.0</td>\n",
              "      <td>0.0</td>\n",
              "      <td>0.0</td>\n",
              "      <td>0.0</td>\n",
              "      <td>12.527</td>\n",
              "      <td>24.7</td>\n",
              "    </tr>\n",
              "    <tr>\n",
              "      <th>4384</th>\n",
              "      <td>442</td>\n",
              "      <td>4382880.0</td>\n",
              "      <td>127324.0</td>\n",
              "      <td>0.589</td>\n",
              "      <td>0.0</td>\n",
              "      <td>0.0</td>\n",
              "      <td>0.0</td>\n",
              "      <td>0.0</td>\n",
              "      <td>12.527</td>\n",
              "      <td>24.7</td>\n",
              "    </tr>\n",
              "    <tr>\n",
              "      <th>4385</th>\n",
              "      <td>443</td>\n",
              "      <td>4384610.0</td>\n",
              "      <td>127331.0</td>\n",
              "      <td>0.103</td>\n",
              "      <td>0.0</td>\n",
              "      <td>0.0</td>\n",
              "      <td>0.0</td>\n",
              "      <td>0.0</td>\n",
              "      <td>12.527</td>\n",
              "      <td>24.7</td>\n",
              "    </tr>\n",
              "    <tr>\n",
              "      <th>4386</th>\n",
              "      <td>444</td>\n",
              "      <td>4388296.0</td>\n",
              "      <td>127346.0</td>\n",
              "      <td>0.221</td>\n",
              "      <td>0.0</td>\n",
              "      <td>0.0</td>\n",
              "      <td>0.0</td>\n",
              "      <td>0.0</td>\n",
              "      <td>12.527</td>\n",
              "      <td>24.7</td>\n",
              "    </tr>\n",
              "  </tbody>\n",
              "</table>\n",
              "<p>4387 rows × 10 columns</p>\n",
              "</div>"
            ],
            "text/plain": [
              "      date  total_cases  ...  aged_70_older  male_smokers\n",
              "0        9          0.0  ...         12.325          18.8\n",
              "1       10          0.0  ...         12.325          18.8\n",
              "2       11          0.0  ...         12.325          18.8\n",
              "3       12          0.0  ...         12.325          18.8\n",
              "4       13          0.0  ...         12.325          18.8\n",
              "...    ...          ...  ...            ...           ...\n",
              "4382   440    4384954.0  ...         12.527          24.7\n",
              "4383   441    4380167.0  ...         12.527          24.7\n",
              "4384   442    4382880.0  ...         12.527          24.7\n",
              "4385   443    4384610.0  ...         12.527          24.7\n",
              "4386   444    4388296.0  ...         12.527          24.7\n",
              "\n",
              "[4387 rows x 10 columns]"
            ]
          },
          "metadata": {
            "tags": []
          },
          "execution_count": 221
        }
      ]
    },
    {
      "cell_type": "code",
      "metadata": {
        "id": "tD-SDNOb439J"
      },
      "source": [
        "X_train, X_test, Y_train, Y_test = train_test_split(X,Y, test_size=0.3, random_state=3)"
      ],
      "execution_count": 222,
      "outputs": []
    },
    {
      "cell_type": "code",
      "metadata": {
        "colab": {
          "base_uri": "https://localhost:8080/"
        },
        "id": "w1zn1Xf-9Mx9",
        "outputId": "d978d838-a3ee-4824-cc1b-a9e58dde40df"
      },
      "source": [
        "X_train.shape"
      ],
      "execution_count": 223,
      "outputs": [
        {
          "output_type": "execute_result",
          "data": {
            "text/plain": [
              "(3070, 10)"
            ]
          },
          "metadata": {
            "tags": []
          },
          "execution_count": 223
        }
      ]
    },
    {
      "cell_type": "code",
      "metadata": {
        "id": "GUiKKVP1zCDH"
      },
      "source": [
        "from sklearn.preprocessing import StandardScaler\n",
        "\n",
        "ss = StandardScaler()\n",
        "\n",
        "X_train = ss.fit_transform(X_train)\n",
        "X_test = ss.transform(X_test)"
      ],
      "execution_count": 224,
      "outputs": []
    },
    {
      "cell_type": "code",
      "metadata": {
        "id": "nRh-7b9j-upS"
      },
      "source": [
        "performanceList = []\n",
        "accuracylist = []"
      ],
      "execution_count": 225,
      "outputs": []
    },
    {
      "cell_type": "code",
      "metadata": {
        "id": "1dIeWXnNlL_U",
        "colab": {
          "base_uri": "https://localhost:8080/"
        },
        "outputId": "64e98c07-7e4a-4cee-cd6c-73ec761cd03d"
      },
      "source": [
        "gnb = GaussianNB()\n",
        "\n",
        "model_gnb = gnb.fit(X_train, Y_train)    #fitting the model\n",
        "y_pred = gnb.fit(X_train, Y_train).predict(X_test)    #predicting Gaussian NB the target\n",
        "\n",
        "print(\"Training accuracy: {:,.4f}\".format(model_gnb.score(X_train, Y_train)))\n",
        "print(\"Testing accuracy: {:,.4f}\".format(model_gnb.score(X_test, Y_test)))\n",
        "\n",
        "print(\"Total points: \", X_test.shape[0], \"\\nMiss matched points: \", (Y_test != y_pred).sum(), \"\\nAccuracy: {:.4f}\".format(accuracy_score(Y_test, y_pred)))\n",
        "\n",
        "performanceList.append(model_gnb)\n",
        "accuracylist.append(\"Before CV: {:.4f}\".format(accuracy_score(Y_test, y_test_pred)))"
      ],
      "execution_count": 226,
      "outputs": [
        {
          "output_type": "stream",
          "text": [
            "Training accuracy: 0.7036\n",
            "Testing accuracy: 0.7236\n",
            "Total points:  1317 \n",
            "Miss matched points:  364 \n",
            "Accuracy: 0.7236\n"
          ],
          "name": "stdout"
        }
      ]
    },
    {
      "cell_type": "code",
      "metadata": {
        "id": "q7zMciuno6XX",
        "colab": {
          "base_uri": "https://localhost:8080/"
        },
        "outputId": "2c2da518-1f91-4b8e-91b5-ead7e34ce06d"
      },
      "source": [
        "bnb = BernoulliNB()\n",
        "\n",
        "model_bnb = bnb.fit(X_train, Y_train)    #fitting Bernoulli NB\n",
        "y_pred = bnb.fit(X_train, Y_train).predict(X_test)    #predicting Bernoulli NB the target\n",
        "\n",
        "print(\"Training accuracy: {:,.4f}\".format(model_bnb.score(X_train, Y_train)))\n",
        "print(\"Testing accuracy: {:,.4f}\".format(model_bnb.score(X_test, Y_test)))\n",
        "\n",
        "print(\"Total points: \", X_test.shape[0], \"\\nMiss matched points: \", (Y_test != y_pred).sum(), \"\\nAccuracy: {:.4f}\".format(accuracy_score(Y_test, y_pred)))\n",
        "\n",
        "performanceList.append(model_bnb)\n",
        "accuracylist.append(\"Before CV: {:.4f}\".format(accuracy_score(Y_test, y_test_pred)))"
      ],
      "execution_count": 227,
      "outputs": [
        {
          "output_type": "stream",
          "text": [
            "Training accuracy: 0.6984\n",
            "Testing accuracy: 0.7062\n",
            "Total points:  1317 \n",
            "Miss matched points:  387 \n",
            "Accuracy: 0.7062\n"
          ],
          "name": "stdout"
        }
      ]
    },
    {
      "cell_type": "code",
      "metadata": {
        "id": "MYVB3Jv0mKKo",
        "colab": {
          "base_uri": "https://localhost:8080/"
        },
        "outputId": "a9e4263d-5f4d-4859-bf41-698fe64acc1a"
      },
      "source": [
        "logistic = LogisticRegression()\n",
        "\n",
        "model_log = logistic.fit(X_train, Y_train) #logistic regression is fitted\n",
        "y_test_pred = model_log.predict(X_test) #predicting Logistic Regression's target\n",
        "\n",
        "print(\"Training accuracy: {:,.4f}\".format(model_log.score(X_train, Y_train)))\n",
        "print(\"Testing accuracy: {:,.4f}\".format(model_log.score(X_test, Y_test)))\n",
        "\n",
        "print(\"Total points: \", X_test.shape[0], \"\\nMiss matched points: \", (Y_test != y_test_pred).sum(), \"\\nAccuracy: {:.4f}\".format(accuracy_score(Y_test, y_test_pred)))\n",
        "\n",
        "performanceList.append(model_log)\n",
        "accuracylist.append(\"Before CV: {:.4f}\".format(accuracy_score(Y_test, y_test_pred)))"
      ],
      "execution_count": 228,
      "outputs": [
        {
          "output_type": "stream",
          "text": [
            "Training accuracy: 0.8059\n",
            "Testing accuracy: 0.7874\n",
            "Total points:  1317 \n",
            "Miss matched points:  280 \n",
            "Accuracy: 0.7874\n"
          ],
          "name": "stdout"
        }
      ]
    },
    {
      "cell_type": "code",
      "metadata": {
        "id": "FP8EpWBVmx1q",
        "colab": {
          "base_uri": "https://localhost:8080/"
        },
        "outputId": "3b90a48d-e260-4d06-b490-13b58bae2469"
      },
      "source": [
        "svm = SVC()\n",
        "\n",
        "model_SVM = svm.fit(X_train, Y_train)\n",
        "y_test_pred = model_SVM.predict(X_test)\n",
        "\n",
        "print(\"Training accuracy: {:,.4f}\".format(model_SVM.score(X_train, Y_train)))\n",
        "print(\"Testing accuracy: {:,.4f}\".format(model_SVM.score(X_test, Y_test)))\n",
        "\n",
        "print(\"Total points: \", X_test.shape[0], \"\\nMiss matched points: \", (Y_test != y_test_pred).sum(), \"\\nAccuracy: {:.4f}\".format(accuracy_score(Y_test, y_test_pred)))\n",
        "\n",
        "performanceList.append(model_SVM)\n",
        "accuracylist.append(\"Before CV: {:.4f}\".format(accuracy_score(Y_test, y_test_pred)))"
      ],
      "execution_count": 229,
      "outputs": [
        {
          "output_type": "stream",
          "text": [
            "Training accuracy: 0.9104\n",
            "Testing accuracy: 0.9043\n",
            "Total points:  1317 \n",
            "Miss matched points:  126 \n",
            "Accuracy: 0.9043\n"
          ],
          "name": "stdout"
        }
      ]
    },
    {
      "cell_type": "code",
      "metadata": {
        "id": "nFyV0RnmmaG2",
        "colab": {
          "base_uri": "https://localhost:8080/"
        },
        "outputId": "c71616b6-fc31-480c-a2b3-5ba289cba298"
      },
      "source": [
        "knn = KNeighborsClassifier(n_neighbors=10,p=1)\n",
        "\n",
        "model_knn = knn.fit(X_train, Y_train)\n",
        "y_test_pred = model_knn.predict(X_test)\n",
        "\n",
        "print(\"Training accuracy: {:,.4f}\".format(model_knn.score(X_train, Y_train)))\n",
        "print(\"Testing accuracy: {:,.4f}\".format(model_knn.score(X_test, Y_test)))\n",
        "\n",
        "print(\"Total points: \", X_test.shape[0], \"\\nMiss matched points: \", (Y_test != y_test_pred).sum(), \"\\nAccuracy: {:.4f}\".format(accuracy_score(Y_test, y_test_pred)))\n",
        "\n",
        "performanceList.append(model_knn)\n",
        "accuracylist.append(\"Before CV: {:.4f}\".format(accuracy_score(Y_test, y_test_pred)))"
      ],
      "execution_count": 230,
      "outputs": [
        {
          "output_type": "stream",
          "text": [
            "Training accuracy: 0.9765\n",
            "Testing accuracy: 0.9704\n",
            "Total points:  1317 \n",
            "Miss matched points:  39 \n",
            "Accuracy: 0.9704\n"
          ],
          "name": "stdout"
        }
      ]
    },
    {
      "cell_type": "code",
      "metadata": {
        "id": "cTcrNdEUn7fx",
        "colab": {
          "base_uri": "https://localhost:8080/"
        },
        "outputId": "86e1d3ba-3330-4f58-c756-747e7b23a5d6"
      },
      "source": [
        "dTree = DecisionTreeClassifier()\n",
        "\n",
        "model_dTree = dTree.fit(X_train, Y_train)\n",
        "y_test_pred = model_dTree.predict(X_test)\n",
        "\n",
        "print(\"Training accuracy: {:,.4f}\".format(model_dTree.score(X_train, Y_train)))\n",
        "print(\"Testing accuracy: {:,.4f}\".format(model_dTree.score(X_test, Y_test)))\n",
        "\n",
        "print(\"Total points: \", X_test.shape[0], \"\\nMiss matched points: \", (Y_test != y_test_pred).sum(), \"\\nAccuracy: {:.4f}\".format(accuracy_score(Y_test, y_test_pred)))\n",
        "\n",
        "performanceList.append(model_dTree)\n",
        "accuracylist.append(\"Before CV: {:.4f}\".format(accuracy_score(Y_test, y_test_pred)))"
      ],
      "execution_count": 231,
      "outputs": [
        {
          "output_type": "stream",
          "text": [
            "Training accuracy: 1.0000\n",
            "Testing accuracy: 0.9909\n",
            "Total points:  1317 \n",
            "Miss matched points:  12 \n",
            "Accuracy: 0.9909\n"
          ],
          "name": "stdout"
        }
      ]
    },
    {
      "cell_type": "code",
      "metadata": {
        "id": "TaTlhhO0pt1w",
        "colab": {
          "base_uri": "https://localhost:8080/"
        },
        "outputId": "4abd0383-d60a-4a61-eda3-64376899f181"
      },
      "source": [
        "rForest = RandomForestClassifier()\n",
        "\n",
        "model_rForest = rForest.fit(X_train, Y_train)\n",
        "y_test_pred = model_rForest.predict(X_test)\n",
        "\n",
        "print(\"Training accuracy: {:,.4f}\".format(model_rForest.score(X_train, Y_train)))\n",
        "print(\"Testing accuracy: {:,.4f}\".format(model_rForest.score(X_test, Y_test)))\n",
        "\n",
        "print(\"Total points: \", X_test.shape[0], \"\\nMiss matched points: \", (Y_test != y_test_pred).sum(), \"\\nAccuracy: {:.4f}\".format(accuracy_score(Y_test, y_test_pred)))\n",
        "\n",
        "performanceList.append(model_rForest)\n",
        "accuracylist.append(\"Before CV: {:.4f}\".format(accuracy_score(Y_test, y_test_pred)))"
      ],
      "execution_count": 232,
      "outputs": [
        {
          "output_type": "stream",
          "text": [
            "Training accuracy: 1.0000\n",
            "Testing accuracy: 0.9924\n",
            "Total points:  1317 \n",
            "Miss matched points:  10 \n",
            "Accuracy: 0.9924\n"
          ],
          "name": "stdout"
        }
      ]
    },
    {
      "cell_type": "code",
      "metadata": {
        "id": "Hba933caqaad",
        "colab": {
          "base_uri": "https://localhost:8080/"
        },
        "outputId": "f741b626-1cb5-4f8d-82ee-87bc99d70a19"
      },
      "source": [
        "adaB = AdaBoostClassifier()\n",
        "\n",
        "model_adaB = adaB.fit(X_train, Y_train)\n",
        "y_test_pred = model_adaB.predict(X_test)\n",
        "\n",
        "print(\"Training accuracy: {:,.4f}\".format(model_adaB.score(X_train, Y_train)))\n",
        "print(\"Testing accuracy: {:,.4f}\".format(model_adaB.score(X_test, Y_test)))\n",
        "\n",
        "print(\"Total points: \", X_test.shape[0], \"\\nMiss matched points: \", (Y_test != y_test_pred).sum(), \"\\nAccuracy: {:.4f}\".format(accuracy_score(Y_test, y_test_pred)))\n",
        "\n",
        "performanceList.append(model_adaB)\n",
        "accuracylist.append(\"Before CV: {:.4f}\".format(accuracy_score(Y_test, y_test_pred)))"
      ],
      "execution_count": 233,
      "outputs": [
        {
          "output_type": "stream",
          "text": [
            "Training accuracy: 0.9596\n",
            "Testing accuracy: 0.9605\n",
            "Total points:  1317 \n",
            "Miss matched points:  52 \n",
            "Accuracy: 0.9605\n"
          ],
          "name": "stdout"
        }
      ]
    },
    {
      "cell_type": "markdown",
      "metadata": {
        "id": "n37AHK4nlHgC"
      },
      "source": [
        "### **Cross Validation**"
      ]
    },
    {
      "cell_type": "code",
      "metadata": {
        "colab": {
          "base_uri": "https://localhost:8080/"
        },
        "id": "kApfO64SOkZz",
        "outputId": "0625ba03-e999-4b8c-8a5d-6286ae69c64a"
      },
      "source": [
        "\"\"\"\n",
        "Loop for performing cross validation on every model.\n",
        "INPUT: List of models \n",
        "OUTPUT: List of models with mean accuracy score after cross validation\n",
        "\"\"\"\n",
        "i=0 \n",
        "\n",
        "while i < len(performanceList):\n",
        "  clf = cross_val_score(performanceList[i], X, Y, cv=10, scoring='accuracy')\n",
        "  clf_rounded = clf.mean().round(4)\n",
        "  print(\"Algorithm \", [i+1], \": \", clf_rounded,\"         \", accuracylist[i]) \n",
        "  i=i+1"
      ],
      "execution_count": 237,
      "outputs": [
        {
          "output_type": "stream",
          "text": [
            "Algorithm  [1] :  0.5585                  Before CV: 0.9696\n",
            "Algorithm  [2] :  0.6907                  Before CV: 0.9696\n",
            "Algorithm  [3] :  0.6043                  Before CV: 0.7874\n",
            "Algorithm  [4] :  0.7016                  Before CV: 0.9043\n",
            "Algorithm  [5] :  0.6408                  Before CV: 0.9704\n",
            "Algorithm  [6] :  0.6972                  Before CV: 0.9909\n",
            "Algorithm  [7] :  0.7246                  Before CV: 0.9924\n",
            "Algorithm  [8] :  0.7559                  Before CV: 0.9605\n"
          ],
          "name": "stdout"
        }
      ]
    },
    {
      "cell_type": "code",
      "metadata": {
        "id": "mkdYjzEIXcqW",
        "colab": {
          "base_uri": "https://localhost:8080/",
          "height": 485
        },
        "outputId": "b8e34b27-1eb4-44ef-8660-43cdf6191c8b"
      },
      "source": [
        "from sklearn.model_selection import GridSearchCV\n",
        "\n",
        "print(\"\\n\")\n",
        "\n",
        "param_grid={'n_neighbors': [3,5,11,19],\n",
        "            'weights': ['uniform', 'distance'],\n",
        "            'metric': ['euclidean', 'manhattan'],\n",
        "            'algorithm':['ball_tree','kd_tree','brute']}\n",
        "\n",
        "grid = GridSearchCV(KNeighborsClassifier(), param_grid, verbose=1, cv=10,n_jobs=-1)\n",
        "\n",
        "grid_results = grid.fit(X_train,Y_train)\n",
        "\n",
        "print(\"Best score: \", grid_results.best_score_)\n",
        "print(\"Best estimator: \",grid_results.best_estimator_)\n",
        "print(\"Best parameters: \",grid_results.best_params_)"
      ],
      "execution_count": 235,
      "outputs": [
        {
          "output_type": "stream",
          "text": [
            "\n",
            "\n",
            "Fitting 10 folds for each of 48 candidates, totalling 480 fits\n"
          ],
          "name": "stdout"
        },
        {
          "output_type": "stream",
          "text": [
            "[Parallel(n_jobs=-1)]: Using backend LokyBackend with 2 concurrent workers.\n",
            "[Parallel(n_jobs=-1)]: Done 116 tasks      | elapsed:    4.3s\n"
          ],
          "name": "stderr"
        },
        {
          "output_type": "error",
          "ename": "KeyboardInterrupt",
          "evalue": "ignored",
          "traceback": [
            "\u001b[0;31m---------------------------------------------------------------------------\u001b[0m",
            "\u001b[0;31mKeyboardInterrupt\u001b[0m                         Traceback (most recent call last)",
            "\u001b[0;32m<ipython-input-235-8d0151bbeeaf>\u001b[0m in \u001b[0;36m<module>\u001b[0;34m()\u001b[0m\n\u001b[1;32m     10\u001b[0m \u001b[0mgrid\u001b[0m \u001b[0;34m=\u001b[0m \u001b[0mGridSearchCV\u001b[0m\u001b[0;34m(\u001b[0m\u001b[0mKNeighborsClassifier\u001b[0m\u001b[0;34m(\u001b[0m\u001b[0;34m)\u001b[0m\u001b[0;34m,\u001b[0m \u001b[0mparam_grid\u001b[0m\u001b[0;34m,\u001b[0m \u001b[0mverbose\u001b[0m\u001b[0;34m=\u001b[0m\u001b[0;36m1\u001b[0m\u001b[0;34m,\u001b[0m \u001b[0mcv\u001b[0m\u001b[0;34m=\u001b[0m\u001b[0;36m10\u001b[0m\u001b[0;34m,\u001b[0m\u001b[0mn_jobs\u001b[0m\u001b[0;34m=\u001b[0m\u001b[0;34m-\u001b[0m\u001b[0;36m1\u001b[0m\u001b[0;34m)\u001b[0m\u001b[0;34m\u001b[0m\u001b[0;34m\u001b[0m\u001b[0m\n\u001b[1;32m     11\u001b[0m \u001b[0;34m\u001b[0m\u001b[0m\n\u001b[0;32m---> 12\u001b[0;31m \u001b[0mgrid_results\u001b[0m \u001b[0;34m=\u001b[0m \u001b[0mgrid\u001b[0m\u001b[0;34m.\u001b[0m\u001b[0mfit\u001b[0m\u001b[0;34m(\u001b[0m\u001b[0mX_train\u001b[0m\u001b[0;34m,\u001b[0m\u001b[0mY_train\u001b[0m\u001b[0;34m)\u001b[0m\u001b[0;34m\u001b[0m\u001b[0;34m\u001b[0m\u001b[0m\n\u001b[0m\u001b[1;32m     13\u001b[0m \u001b[0;34m\u001b[0m\u001b[0m\n\u001b[1;32m     14\u001b[0m \u001b[0mprint\u001b[0m\u001b[0;34m(\u001b[0m\u001b[0;34m\"Best score: \"\u001b[0m\u001b[0;34m,\u001b[0m \u001b[0mgrid_results\u001b[0m\u001b[0;34m.\u001b[0m\u001b[0mbest_score_\u001b[0m\u001b[0;34m)\u001b[0m\u001b[0;34m\u001b[0m\u001b[0;34m\u001b[0m\u001b[0m\n",
            "\u001b[0;32m/usr/local/lib/python3.7/dist-packages/sklearn/model_selection/_search.py\u001b[0m in \u001b[0;36mfit\u001b[0;34m(self, X, y, groups, **fit_params)\u001b[0m\n\u001b[1;32m    708\u001b[0m                 \u001b[0;32mreturn\u001b[0m \u001b[0mresults\u001b[0m\u001b[0;34m\u001b[0m\u001b[0;34m\u001b[0m\u001b[0m\n\u001b[1;32m    709\u001b[0m \u001b[0;34m\u001b[0m\u001b[0m\n\u001b[0;32m--> 710\u001b[0;31m             \u001b[0mself\u001b[0m\u001b[0;34m.\u001b[0m\u001b[0m_run_search\u001b[0m\u001b[0;34m(\u001b[0m\u001b[0mevaluate_candidates\u001b[0m\u001b[0;34m)\u001b[0m\u001b[0;34m\u001b[0m\u001b[0;34m\u001b[0m\u001b[0m\n\u001b[0m\u001b[1;32m    711\u001b[0m \u001b[0;34m\u001b[0m\u001b[0m\n\u001b[1;32m    712\u001b[0m         \u001b[0;31m# For multi-metric evaluation, store the best_index_, best_params_ and\u001b[0m\u001b[0;34m\u001b[0m\u001b[0;34m\u001b[0m\u001b[0;34m\u001b[0m\u001b[0m\n",
            "\u001b[0;32m/usr/local/lib/python3.7/dist-packages/sklearn/model_selection/_search.py\u001b[0m in \u001b[0;36m_run_search\u001b[0;34m(self, evaluate_candidates)\u001b[0m\n\u001b[1;32m   1149\u001b[0m     \u001b[0;32mdef\u001b[0m \u001b[0m_run_search\u001b[0m\u001b[0;34m(\u001b[0m\u001b[0mself\u001b[0m\u001b[0;34m,\u001b[0m \u001b[0mevaluate_candidates\u001b[0m\u001b[0;34m)\u001b[0m\u001b[0;34m:\u001b[0m\u001b[0;34m\u001b[0m\u001b[0;34m\u001b[0m\u001b[0m\n\u001b[1;32m   1150\u001b[0m         \u001b[0;34m\"\"\"Search all candidates in param_grid\"\"\"\u001b[0m\u001b[0;34m\u001b[0m\u001b[0;34m\u001b[0m\u001b[0m\n\u001b[0;32m-> 1151\u001b[0;31m         \u001b[0mevaluate_candidates\u001b[0m\u001b[0;34m(\u001b[0m\u001b[0mParameterGrid\u001b[0m\u001b[0;34m(\u001b[0m\u001b[0mself\u001b[0m\u001b[0;34m.\u001b[0m\u001b[0mparam_grid\u001b[0m\u001b[0;34m)\u001b[0m\u001b[0;34m)\u001b[0m\u001b[0;34m\u001b[0m\u001b[0;34m\u001b[0m\u001b[0m\n\u001b[0m\u001b[1;32m   1152\u001b[0m \u001b[0;34m\u001b[0m\u001b[0m\n\u001b[1;32m   1153\u001b[0m \u001b[0;34m\u001b[0m\u001b[0m\n",
            "\u001b[0;32m/usr/local/lib/python3.7/dist-packages/sklearn/model_selection/_search.py\u001b[0m in \u001b[0;36mevaluate_candidates\u001b[0;34m(candidate_params)\u001b[0m\n\u001b[1;32m    687\u001b[0m                                \u001b[0;32mfor\u001b[0m \u001b[0mparameters\u001b[0m\u001b[0;34m,\u001b[0m \u001b[0;34m(\u001b[0m\u001b[0mtrain\u001b[0m\u001b[0;34m,\u001b[0m \u001b[0mtest\u001b[0m\u001b[0;34m)\u001b[0m\u001b[0;34m\u001b[0m\u001b[0;34m\u001b[0m\u001b[0m\n\u001b[1;32m    688\u001b[0m                                in product(candidate_params,\n\u001b[0;32m--> 689\u001b[0;31m                                           cv.split(X, y, groups)))\n\u001b[0m\u001b[1;32m    690\u001b[0m \u001b[0;34m\u001b[0m\u001b[0m\n\u001b[1;32m    691\u001b[0m                 \u001b[0;32mif\u001b[0m \u001b[0mlen\u001b[0m\u001b[0;34m(\u001b[0m\u001b[0mout\u001b[0m\u001b[0;34m)\u001b[0m \u001b[0;34m<\u001b[0m \u001b[0;36m1\u001b[0m\u001b[0;34m:\u001b[0m\u001b[0;34m\u001b[0m\u001b[0;34m\u001b[0m\u001b[0m\n",
            "\u001b[0;32m/usr/local/lib/python3.7/dist-packages/joblib/parallel.py\u001b[0m in \u001b[0;36m__call__\u001b[0;34m(self, iterable)\u001b[0m\n\u001b[1;32m   1052\u001b[0m \u001b[0;34m\u001b[0m\u001b[0m\n\u001b[1;32m   1053\u001b[0m             \u001b[0;32mwith\u001b[0m \u001b[0mself\u001b[0m\u001b[0;34m.\u001b[0m\u001b[0m_backend\u001b[0m\u001b[0;34m.\u001b[0m\u001b[0mretrieval_context\u001b[0m\u001b[0;34m(\u001b[0m\u001b[0;34m)\u001b[0m\u001b[0;34m:\u001b[0m\u001b[0;34m\u001b[0m\u001b[0;34m\u001b[0m\u001b[0m\n\u001b[0;32m-> 1054\u001b[0;31m                 \u001b[0mself\u001b[0m\u001b[0;34m.\u001b[0m\u001b[0mretrieve\u001b[0m\u001b[0;34m(\u001b[0m\u001b[0;34m)\u001b[0m\u001b[0;34m\u001b[0m\u001b[0;34m\u001b[0m\u001b[0m\n\u001b[0m\u001b[1;32m   1055\u001b[0m             \u001b[0;31m# Make sure that we get a last message telling us we are done\u001b[0m\u001b[0;34m\u001b[0m\u001b[0;34m\u001b[0m\u001b[0;34m\u001b[0m\u001b[0m\n\u001b[1;32m   1056\u001b[0m             \u001b[0melapsed_time\u001b[0m \u001b[0;34m=\u001b[0m \u001b[0mtime\u001b[0m\u001b[0;34m.\u001b[0m\u001b[0mtime\u001b[0m\u001b[0;34m(\u001b[0m\u001b[0;34m)\u001b[0m \u001b[0;34m-\u001b[0m \u001b[0mself\u001b[0m\u001b[0;34m.\u001b[0m\u001b[0m_start_time\u001b[0m\u001b[0;34m\u001b[0m\u001b[0;34m\u001b[0m\u001b[0m\n",
            "\u001b[0;32m/usr/local/lib/python3.7/dist-packages/joblib/parallel.py\u001b[0m in \u001b[0;36mretrieve\u001b[0;34m(self)\u001b[0m\n\u001b[1;32m    931\u001b[0m             \u001b[0;32mtry\u001b[0m\u001b[0;34m:\u001b[0m\u001b[0;34m\u001b[0m\u001b[0;34m\u001b[0m\u001b[0m\n\u001b[1;32m    932\u001b[0m                 \u001b[0;32mif\u001b[0m \u001b[0mgetattr\u001b[0m\u001b[0;34m(\u001b[0m\u001b[0mself\u001b[0m\u001b[0;34m.\u001b[0m\u001b[0m_backend\u001b[0m\u001b[0;34m,\u001b[0m \u001b[0;34m'supports_timeout'\u001b[0m\u001b[0;34m,\u001b[0m \u001b[0;32mFalse\u001b[0m\u001b[0;34m)\u001b[0m\u001b[0;34m:\u001b[0m\u001b[0;34m\u001b[0m\u001b[0;34m\u001b[0m\u001b[0m\n\u001b[0;32m--> 933\u001b[0;31m                     \u001b[0mself\u001b[0m\u001b[0;34m.\u001b[0m\u001b[0m_output\u001b[0m\u001b[0;34m.\u001b[0m\u001b[0mextend\u001b[0m\u001b[0;34m(\u001b[0m\u001b[0mjob\u001b[0m\u001b[0;34m.\u001b[0m\u001b[0mget\u001b[0m\u001b[0;34m(\u001b[0m\u001b[0mtimeout\u001b[0m\u001b[0;34m=\u001b[0m\u001b[0mself\u001b[0m\u001b[0;34m.\u001b[0m\u001b[0mtimeout\u001b[0m\u001b[0;34m)\u001b[0m\u001b[0;34m)\u001b[0m\u001b[0;34m\u001b[0m\u001b[0;34m\u001b[0m\u001b[0m\n\u001b[0m\u001b[1;32m    934\u001b[0m                 \u001b[0;32melse\u001b[0m\u001b[0;34m:\u001b[0m\u001b[0;34m\u001b[0m\u001b[0;34m\u001b[0m\u001b[0m\n\u001b[1;32m    935\u001b[0m                     \u001b[0mself\u001b[0m\u001b[0;34m.\u001b[0m\u001b[0m_output\u001b[0m\u001b[0;34m.\u001b[0m\u001b[0mextend\u001b[0m\u001b[0;34m(\u001b[0m\u001b[0mjob\u001b[0m\u001b[0;34m.\u001b[0m\u001b[0mget\u001b[0m\u001b[0;34m(\u001b[0m\u001b[0;34m)\u001b[0m\u001b[0;34m)\u001b[0m\u001b[0;34m\u001b[0m\u001b[0;34m\u001b[0m\u001b[0m\n",
            "\u001b[0;32m/usr/local/lib/python3.7/dist-packages/joblib/_parallel_backends.py\u001b[0m in \u001b[0;36mwrap_future_result\u001b[0;34m(future, timeout)\u001b[0m\n\u001b[1;32m    540\u001b[0m         AsyncResults.get from multiprocessing.\"\"\"\n\u001b[1;32m    541\u001b[0m         \u001b[0;32mtry\u001b[0m\u001b[0;34m:\u001b[0m\u001b[0;34m\u001b[0m\u001b[0;34m\u001b[0m\u001b[0m\n\u001b[0;32m--> 542\u001b[0;31m             \u001b[0;32mreturn\u001b[0m \u001b[0mfuture\u001b[0m\u001b[0;34m.\u001b[0m\u001b[0mresult\u001b[0m\u001b[0;34m(\u001b[0m\u001b[0mtimeout\u001b[0m\u001b[0;34m=\u001b[0m\u001b[0mtimeout\u001b[0m\u001b[0;34m)\u001b[0m\u001b[0;34m\u001b[0m\u001b[0;34m\u001b[0m\u001b[0m\n\u001b[0m\u001b[1;32m    543\u001b[0m         \u001b[0;32mexcept\u001b[0m \u001b[0mCfTimeoutError\u001b[0m \u001b[0;32mas\u001b[0m \u001b[0me\u001b[0m\u001b[0;34m:\u001b[0m\u001b[0;34m\u001b[0m\u001b[0;34m\u001b[0m\u001b[0m\n\u001b[1;32m    544\u001b[0m             \u001b[0;32mraise\u001b[0m \u001b[0mTimeoutError\u001b[0m \u001b[0;32mfrom\u001b[0m \u001b[0me\u001b[0m\u001b[0;34m\u001b[0m\u001b[0;34m\u001b[0m\u001b[0m\n",
            "\u001b[0;32m/usr/lib/python3.7/concurrent/futures/_base.py\u001b[0m in \u001b[0;36mresult\u001b[0;34m(self, timeout)\u001b[0m\n\u001b[1;32m    428\u001b[0m                 \u001b[0;32mreturn\u001b[0m \u001b[0mself\u001b[0m\u001b[0;34m.\u001b[0m\u001b[0m__get_result\u001b[0m\u001b[0;34m(\u001b[0m\u001b[0;34m)\u001b[0m\u001b[0;34m\u001b[0m\u001b[0;34m\u001b[0m\u001b[0m\n\u001b[1;32m    429\u001b[0m \u001b[0;34m\u001b[0m\u001b[0m\n\u001b[0;32m--> 430\u001b[0;31m             \u001b[0mself\u001b[0m\u001b[0;34m.\u001b[0m\u001b[0m_condition\u001b[0m\u001b[0;34m.\u001b[0m\u001b[0mwait\u001b[0m\u001b[0;34m(\u001b[0m\u001b[0mtimeout\u001b[0m\u001b[0;34m)\u001b[0m\u001b[0;34m\u001b[0m\u001b[0;34m\u001b[0m\u001b[0m\n\u001b[0m\u001b[1;32m    431\u001b[0m \u001b[0;34m\u001b[0m\u001b[0m\n\u001b[1;32m    432\u001b[0m             \u001b[0;32mif\u001b[0m \u001b[0mself\u001b[0m\u001b[0;34m.\u001b[0m\u001b[0m_state\u001b[0m \u001b[0;32min\u001b[0m \u001b[0;34m[\u001b[0m\u001b[0mCANCELLED\u001b[0m\u001b[0;34m,\u001b[0m \u001b[0mCANCELLED_AND_NOTIFIED\u001b[0m\u001b[0;34m]\u001b[0m\u001b[0;34m:\u001b[0m\u001b[0;34m\u001b[0m\u001b[0;34m\u001b[0m\u001b[0m\n",
            "\u001b[0;32m/usr/lib/python3.7/threading.py\u001b[0m in \u001b[0;36mwait\u001b[0;34m(self, timeout)\u001b[0m\n\u001b[1;32m    294\u001b[0m         \u001b[0;32mtry\u001b[0m\u001b[0;34m:\u001b[0m    \u001b[0;31m# restore state no matter what (e.g., KeyboardInterrupt)\u001b[0m\u001b[0;34m\u001b[0m\u001b[0;34m\u001b[0m\u001b[0m\n\u001b[1;32m    295\u001b[0m             \u001b[0;32mif\u001b[0m \u001b[0mtimeout\u001b[0m \u001b[0;32mis\u001b[0m \u001b[0;32mNone\u001b[0m\u001b[0;34m:\u001b[0m\u001b[0;34m\u001b[0m\u001b[0;34m\u001b[0m\u001b[0m\n\u001b[0;32m--> 296\u001b[0;31m                 \u001b[0mwaiter\u001b[0m\u001b[0;34m.\u001b[0m\u001b[0macquire\u001b[0m\u001b[0;34m(\u001b[0m\u001b[0;34m)\u001b[0m\u001b[0;34m\u001b[0m\u001b[0;34m\u001b[0m\u001b[0m\n\u001b[0m\u001b[1;32m    297\u001b[0m                 \u001b[0mgotit\u001b[0m \u001b[0;34m=\u001b[0m \u001b[0;32mTrue\u001b[0m\u001b[0;34m\u001b[0m\u001b[0;34m\u001b[0m\u001b[0m\n\u001b[1;32m    298\u001b[0m             \u001b[0;32melse\u001b[0m\u001b[0;34m:\u001b[0m\u001b[0;34m\u001b[0m\u001b[0;34m\u001b[0m\u001b[0m\n",
            "\u001b[0;31mKeyboardInterrupt\u001b[0m: "
          ]
        }
      ]
    }
  ]
}