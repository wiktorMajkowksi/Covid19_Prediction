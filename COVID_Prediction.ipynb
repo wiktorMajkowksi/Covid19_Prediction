{
 "cells": [
  {
   "cell_type": "markdown",
   "metadata": {
    "id": "ywylCarly8Pe"
   },
   "source": [
    "### **Imports**"
   ]
  },
  {
   "cell_type": "code",
   "execution_count": null,
   "metadata": {
    "id": "wiGRw-s_vHIf"
   },
   "outputs": [],
   "source": [
    "import time\n",
    "start_time = time.time()\n",
    "import sklearn\n",
    "import pandas as pd\n",
    "import numpy as np\n",
    "import matplotlib.pyplot as plt\n",
    "import seaborn as sns\n",
    "import io\n",
    "import math\n",
    "import string\n",
    "import os\n",
    "\n",
    "from sklearn.preprocessing import StandardScaler, LabelEncoder\n",
    "from sklearn.model_selection import train_test_split, cross_val_score\n",
    "\n",
    "import warnings\n",
    "warnings.filterwarnings('ignore')"
   ]
  },
  {
   "cell_type": "markdown",
   "metadata": {
    "id": "8kSG1ugIzBec"
   },
   "source": [
    "### **DataSet** **Upload**"
   ]
  },
  {
   "cell_type": "code",
   "execution_count": null,
   "metadata": {
    "colab": {
     "base_uri": "https://localhost:8080/"
    },
    "executionInfo": {
     "elapsed": 1018,
     "status": "ok",
     "timestamp": 1617533700298,
     "user": {
      "displayName": "Wiktor Majkowski",
      "photoUrl": "",
      "userId": "04555540981960641311"
     },
     "user_tz": -60
    },
    "id": "4sSscM5Yvz86",
    "outputId": "7183ebb5-e85f-4211-ad7a-675107e832a3"
   },
   "outputs": [
    {
     "name": "stdout",
     "output_type": "stream",
     "text": [
      "Drive already mounted at /content/gdrive; to attempt to forcibly remount, call drive.mount(\"/content/gdrive\", force_remount=True).\n"
     ]
    }
   ],
   "source": [
    "from google.colab import files , drive\n",
    "\n",
    "#upload for files in google drive\n",
    "drive.mount('/content/gdrive')\n",
    "dataset = \"/content/gdrive/My Drive/Colab Notebooks/covid_data.csv\""
   ]
  },
  {
   "cell_type": "code",
   "execution_count": null,
   "metadata": {
    "colab": {
     "base_uri": "https://localhost:8080/",
     "height": 72
    },
    "executionInfo": {
     "elapsed": 1015,
     "status": "ok",
     "timestamp": 1617533700302,
     "user": {
      "displayName": "Wiktor Majkowski",
      "photoUrl": "",
      "userId": "04555540981960641311"
     },
     "user_tz": -60
    },
    "id": "k0Y0oPsFBOIx",
    "outputId": "c417967d-5afa-4622-9ca6-8fed13c773e5"
   },
   "outputs": [
    {
     "data": {
      "application/vnd.google.colaboratory.intrinsic+json": {
       "type": "string"
      },
      "text/plain": [
       "\"\\n#alternative for local file upload (file needs to be downloaded locally)\\nfrom google.colab import files\\nuploaded = files.upload()\\ndf = pd.read_csv(io.BytesIO(uploaded['covid_data.csv']))\\n\""
      ]
     },
     "execution_count": 258,
     "metadata": {
      "tags": []
     },
     "output_type": "execute_result"
    }
   ],
   "source": [
    "\"\"\"\n",
    "#alternative for local file upload (file needs to be downloaded locally)\n",
    "from google.colab import files\n",
    "uploaded = files.upload()\n",
    "df = pd.read_csv(io.BytesIO(uploaded['covid_data.csv']))\n",
    "\"\"\""
   ]
  },
  {
   "cell_type": "markdown",
   "metadata": {
    "id": "p3WH09zhzRZa"
   },
   "source": [
    "### **DataUpload check**"
   ]
  },
  {
   "cell_type": "code",
   "execution_count": null,
   "metadata": {
    "id": "HF5nfHBhKZVz"
   },
   "outputs": [],
   "source": [
    "df = pd.read_csv(dataset) #this will be omited for alterantive upload"
   ]
  },
  {
   "cell_type": "code",
   "execution_count": null,
   "metadata": {
    "colab": {
     "base_uri": "https://localhost:8080/"
    },
    "executionInfo": {
     "elapsed": 1298,
     "status": "ok",
     "timestamp": 1617533700597,
     "user": {
      "displayName": "Wiktor Majkowski",
      "photoUrl": "",
      "userId": "04555540981960641311"
     },
     "user_tz": -60
    },
    "id": "WiN7lE7Ey4uq",
    "outputId": "2fe2b611-fc6e-4b38-cc58-66ab555b703b"
   },
   "outputs": [
    {
     "data": {
      "text/plain": [
       "(67166, 59)"
      ]
     },
     "execution_count": 260,
     "metadata": {
      "tags": []
     },
     "output_type": "execute_result"
    }
   ],
   "source": [
    "df.shape"
   ]
  },
  {
   "cell_type": "code",
   "execution_count": null,
   "metadata": {
    "colab": {
     "base_uri": "https://localhost:8080/",
     "height": 305
    },
    "executionInfo": {
     "elapsed": 1292,
     "status": "ok",
     "timestamp": 1617533700597,
     "user": {
      "displayName": "Wiktor Majkowski",
      "photoUrl": "",
      "userId": "04555540981960641311"
     },
     "user_tz": -60
    },
    "id": "XbjicYJVzXia",
    "outputId": "7bfdeb97-bdc5-4cc6-84b8-069dad5b0962"
   },
   "outputs": [
    {
     "data": {
      "text/html": [
       "<div>\n",
       "<style scoped>\n",
       "    .dataframe tbody tr th:only-of-type {\n",
       "        vertical-align: middle;\n",
       "    }\n",
       "\n",
       "    .dataframe tbody tr th {\n",
       "        vertical-align: top;\n",
       "    }\n",
       "\n",
       "    .dataframe thead th {\n",
       "        text-align: right;\n",
       "    }\n",
       "</style>\n",
       "<table border=\"1\" class=\"dataframe\">\n",
       "  <thead>\n",
       "    <tr style=\"text-align: right;\">\n",
       "      <th></th>\n",
       "      <th>iso_code</th>\n",
       "      <th>continent</th>\n",
       "      <th>location</th>\n",
       "      <th>date</th>\n",
       "      <th>total_cases</th>\n",
       "      <th>new_cases</th>\n",
       "      <th>new_cases_smoothed</th>\n",
       "      <th>total_deaths</th>\n",
       "      <th>new_deaths</th>\n",
       "      <th>new_deaths_smoothed</th>\n",
       "      <th>total_cases_per_million</th>\n",
       "      <th>new_cases_per_million</th>\n",
       "      <th>new_cases_smoothed_per_million</th>\n",
       "      <th>total_deaths_per_million</th>\n",
       "      <th>new_deaths_per_million</th>\n",
       "      <th>new_deaths_smoothed_per_million</th>\n",
       "      <th>reproduction_rate</th>\n",
       "      <th>icu_patients</th>\n",
       "      <th>icu_patients_per_million</th>\n",
       "      <th>hosp_patients</th>\n",
       "      <th>hosp_patients_per_million</th>\n",
       "      <th>weekly_icu_admissions</th>\n",
       "      <th>weekly_icu_admissions_per_million</th>\n",
       "      <th>weekly_hosp_admissions</th>\n",
       "      <th>weekly_hosp_admissions_per_million</th>\n",
       "      <th>new_tests</th>\n",
       "      <th>total_tests</th>\n",
       "      <th>total_tests_per_thousand</th>\n",
       "      <th>new_tests_per_thousand</th>\n",
       "      <th>new_tests_smoothed</th>\n",
       "      <th>new_tests_smoothed_per_thousand</th>\n",
       "      <th>positive_rate</th>\n",
       "      <th>tests_per_case</th>\n",
       "      <th>tests_units</th>\n",
       "      <th>total_vaccinations</th>\n",
       "      <th>people_vaccinated</th>\n",
       "      <th>people_fully_vaccinated</th>\n",
       "      <th>new_vaccinations</th>\n",
       "      <th>new_vaccinations_smoothed</th>\n",
       "      <th>total_vaccinations_per_hundred</th>\n",
       "      <th>people_vaccinated_per_hundred</th>\n",
       "      <th>people_fully_vaccinated_per_hundred</th>\n",
       "      <th>new_vaccinations_smoothed_per_million</th>\n",
       "      <th>stringency_index</th>\n",
       "      <th>population</th>\n",
       "      <th>population_density</th>\n",
       "      <th>median_age</th>\n",
       "      <th>aged_65_older</th>\n",
       "      <th>aged_70_older</th>\n",
       "      <th>gdp_per_capita</th>\n",
       "      <th>extreme_poverty</th>\n",
       "      <th>cardiovasc_death_rate</th>\n",
       "      <th>diabetes_prevalence</th>\n",
       "      <th>female_smokers</th>\n",
       "      <th>male_smokers</th>\n",
       "      <th>handwashing_facilities</th>\n",
       "      <th>hospital_beds_per_thousand</th>\n",
       "      <th>life_expectancy</th>\n",
       "      <th>human_development_index</th>\n",
       "    </tr>\n",
       "  </thead>\n",
       "  <tbody>\n",
       "    <tr>\n",
       "      <th>0</th>\n",
       "      <td>AFG</td>\n",
       "      <td>Asia</td>\n",
       "      <td>Afghanistan</td>\n",
       "      <td>2020-02-24</td>\n",
       "      <td>1.0</td>\n",
       "      <td>1.0</td>\n",
       "      <td>NaN</td>\n",
       "      <td>NaN</td>\n",
       "      <td>NaN</td>\n",
       "      <td>NaN</td>\n",
       "      <td>0.026</td>\n",
       "      <td>0.026</td>\n",
       "      <td>NaN</td>\n",
       "      <td>NaN</td>\n",
       "      <td>NaN</td>\n",
       "      <td>NaN</td>\n",
       "      <td>NaN</td>\n",
       "      <td>NaN</td>\n",
       "      <td>NaN</td>\n",
       "      <td>NaN</td>\n",
       "      <td>NaN</td>\n",
       "      <td>NaN</td>\n",
       "      <td>NaN</td>\n",
       "      <td>NaN</td>\n",
       "      <td>NaN</td>\n",
       "      <td>NaN</td>\n",
       "      <td>NaN</td>\n",
       "      <td>NaN</td>\n",
       "      <td>NaN</td>\n",
       "      <td>NaN</td>\n",
       "      <td>NaN</td>\n",
       "      <td>NaN</td>\n",
       "      <td>NaN</td>\n",
       "      <td>NaN</td>\n",
       "      <td>NaN</td>\n",
       "      <td>NaN</td>\n",
       "      <td>NaN</td>\n",
       "      <td>NaN</td>\n",
       "      <td>NaN</td>\n",
       "      <td>NaN</td>\n",
       "      <td>NaN</td>\n",
       "      <td>NaN</td>\n",
       "      <td>NaN</td>\n",
       "      <td>8.33</td>\n",
       "      <td>38928341.0</td>\n",
       "      <td>54.422</td>\n",
       "      <td>18.6</td>\n",
       "      <td>2.581</td>\n",
       "      <td>1.337</td>\n",
       "      <td>1803.987</td>\n",
       "      <td>NaN</td>\n",
       "      <td>597.029</td>\n",
       "      <td>9.59</td>\n",
       "      <td>NaN</td>\n",
       "      <td>NaN</td>\n",
       "      <td>37.746</td>\n",
       "      <td>0.5</td>\n",
       "      <td>64.83</td>\n",
       "      <td>0.498</td>\n",
       "    </tr>\n",
       "    <tr>\n",
       "      <th>1</th>\n",
       "      <td>AFG</td>\n",
       "      <td>Asia</td>\n",
       "      <td>Afghanistan</td>\n",
       "      <td>2020-02-25</td>\n",
       "      <td>1.0</td>\n",
       "      <td>0.0</td>\n",
       "      <td>NaN</td>\n",
       "      <td>NaN</td>\n",
       "      <td>NaN</td>\n",
       "      <td>NaN</td>\n",
       "      <td>0.026</td>\n",
       "      <td>0.000</td>\n",
       "      <td>NaN</td>\n",
       "      <td>NaN</td>\n",
       "      <td>NaN</td>\n",
       "      <td>NaN</td>\n",
       "      <td>NaN</td>\n",
       "      <td>NaN</td>\n",
       "      <td>NaN</td>\n",
       "      <td>NaN</td>\n",
       "      <td>NaN</td>\n",
       "      <td>NaN</td>\n",
       "      <td>NaN</td>\n",
       "      <td>NaN</td>\n",
       "      <td>NaN</td>\n",
       "      <td>NaN</td>\n",
       "      <td>NaN</td>\n",
       "      <td>NaN</td>\n",
       "      <td>NaN</td>\n",
       "      <td>NaN</td>\n",
       "      <td>NaN</td>\n",
       "      <td>NaN</td>\n",
       "      <td>NaN</td>\n",
       "      <td>NaN</td>\n",
       "      <td>NaN</td>\n",
       "      <td>NaN</td>\n",
       "      <td>NaN</td>\n",
       "      <td>NaN</td>\n",
       "      <td>NaN</td>\n",
       "      <td>NaN</td>\n",
       "      <td>NaN</td>\n",
       "      <td>NaN</td>\n",
       "      <td>NaN</td>\n",
       "      <td>8.33</td>\n",
       "      <td>38928341.0</td>\n",
       "      <td>54.422</td>\n",
       "      <td>18.6</td>\n",
       "      <td>2.581</td>\n",
       "      <td>1.337</td>\n",
       "      <td>1803.987</td>\n",
       "      <td>NaN</td>\n",
       "      <td>597.029</td>\n",
       "      <td>9.59</td>\n",
       "      <td>NaN</td>\n",
       "      <td>NaN</td>\n",
       "      <td>37.746</td>\n",
       "      <td>0.5</td>\n",
       "      <td>64.83</td>\n",
       "      <td>0.498</td>\n",
       "    </tr>\n",
       "    <tr>\n",
       "      <th>2</th>\n",
       "      <td>AFG</td>\n",
       "      <td>Asia</td>\n",
       "      <td>Afghanistan</td>\n",
       "      <td>2020-02-26</td>\n",
       "      <td>1.0</td>\n",
       "      <td>0.0</td>\n",
       "      <td>NaN</td>\n",
       "      <td>NaN</td>\n",
       "      <td>NaN</td>\n",
       "      <td>NaN</td>\n",
       "      <td>0.026</td>\n",
       "      <td>0.000</td>\n",
       "      <td>NaN</td>\n",
       "      <td>NaN</td>\n",
       "      <td>NaN</td>\n",
       "      <td>NaN</td>\n",
       "      <td>NaN</td>\n",
       "      <td>NaN</td>\n",
       "      <td>NaN</td>\n",
       "      <td>NaN</td>\n",
       "      <td>NaN</td>\n",
       "      <td>NaN</td>\n",
       "      <td>NaN</td>\n",
       "      <td>NaN</td>\n",
       "      <td>NaN</td>\n",
       "      <td>NaN</td>\n",
       "      <td>NaN</td>\n",
       "      <td>NaN</td>\n",
       "      <td>NaN</td>\n",
       "      <td>NaN</td>\n",
       "      <td>NaN</td>\n",
       "      <td>NaN</td>\n",
       "      <td>NaN</td>\n",
       "      <td>NaN</td>\n",
       "      <td>NaN</td>\n",
       "      <td>NaN</td>\n",
       "      <td>NaN</td>\n",
       "      <td>NaN</td>\n",
       "      <td>NaN</td>\n",
       "      <td>NaN</td>\n",
       "      <td>NaN</td>\n",
       "      <td>NaN</td>\n",
       "      <td>NaN</td>\n",
       "      <td>8.33</td>\n",
       "      <td>38928341.0</td>\n",
       "      <td>54.422</td>\n",
       "      <td>18.6</td>\n",
       "      <td>2.581</td>\n",
       "      <td>1.337</td>\n",
       "      <td>1803.987</td>\n",
       "      <td>NaN</td>\n",
       "      <td>597.029</td>\n",
       "      <td>9.59</td>\n",
       "      <td>NaN</td>\n",
       "      <td>NaN</td>\n",
       "      <td>37.746</td>\n",
       "      <td>0.5</td>\n",
       "      <td>64.83</td>\n",
       "      <td>0.498</td>\n",
       "    </tr>\n",
       "    <tr>\n",
       "      <th>3</th>\n",
       "      <td>AFG</td>\n",
       "      <td>Asia</td>\n",
       "      <td>Afghanistan</td>\n",
       "      <td>2020-02-27</td>\n",
       "      <td>1.0</td>\n",
       "      <td>0.0</td>\n",
       "      <td>NaN</td>\n",
       "      <td>NaN</td>\n",
       "      <td>NaN</td>\n",
       "      <td>NaN</td>\n",
       "      <td>0.026</td>\n",
       "      <td>0.000</td>\n",
       "      <td>NaN</td>\n",
       "      <td>NaN</td>\n",
       "      <td>NaN</td>\n",
       "      <td>NaN</td>\n",
       "      <td>NaN</td>\n",
       "      <td>NaN</td>\n",
       "      <td>NaN</td>\n",
       "      <td>NaN</td>\n",
       "      <td>NaN</td>\n",
       "      <td>NaN</td>\n",
       "      <td>NaN</td>\n",
       "      <td>NaN</td>\n",
       "      <td>NaN</td>\n",
       "      <td>NaN</td>\n",
       "      <td>NaN</td>\n",
       "      <td>NaN</td>\n",
       "      <td>NaN</td>\n",
       "      <td>NaN</td>\n",
       "      <td>NaN</td>\n",
       "      <td>NaN</td>\n",
       "      <td>NaN</td>\n",
       "      <td>NaN</td>\n",
       "      <td>NaN</td>\n",
       "      <td>NaN</td>\n",
       "      <td>NaN</td>\n",
       "      <td>NaN</td>\n",
       "      <td>NaN</td>\n",
       "      <td>NaN</td>\n",
       "      <td>NaN</td>\n",
       "      <td>NaN</td>\n",
       "      <td>NaN</td>\n",
       "      <td>8.33</td>\n",
       "      <td>38928341.0</td>\n",
       "      <td>54.422</td>\n",
       "      <td>18.6</td>\n",
       "      <td>2.581</td>\n",
       "      <td>1.337</td>\n",
       "      <td>1803.987</td>\n",
       "      <td>NaN</td>\n",
       "      <td>597.029</td>\n",
       "      <td>9.59</td>\n",
       "      <td>NaN</td>\n",
       "      <td>NaN</td>\n",
       "      <td>37.746</td>\n",
       "      <td>0.5</td>\n",
       "      <td>64.83</td>\n",
       "      <td>0.498</td>\n",
       "    </tr>\n",
       "    <tr>\n",
       "      <th>4</th>\n",
       "      <td>AFG</td>\n",
       "      <td>Asia</td>\n",
       "      <td>Afghanistan</td>\n",
       "      <td>2020-02-28</td>\n",
       "      <td>1.0</td>\n",
       "      <td>0.0</td>\n",
       "      <td>NaN</td>\n",
       "      <td>NaN</td>\n",
       "      <td>NaN</td>\n",
       "      <td>NaN</td>\n",
       "      <td>0.026</td>\n",
       "      <td>0.000</td>\n",
       "      <td>NaN</td>\n",
       "      <td>NaN</td>\n",
       "      <td>NaN</td>\n",
       "      <td>NaN</td>\n",
       "      <td>NaN</td>\n",
       "      <td>NaN</td>\n",
       "      <td>NaN</td>\n",
       "      <td>NaN</td>\n",
       "      <td>NaN</td>\n",
       "      <td>NaN</td>\n",
       "      <td>NaN</td>\n",
       "      <td>NaN</td>\n",
       "      <td>NaN</td>\n",
       "      <td>NaN</td>\n",
       "      <td>NaN</td>\n",
       "      <td>NaN</td>\n",
       "      <td>NaN</td>\n",
       "      <td>NaN</td>\n",
       "      <td>NaN</td>\n",
       "      <td>NaN</td>\n",
       "      <td>NaN</td>\n",
       "      <td>NaN</td>\n",
       "      <td>NaN</td>\n",
       "      <td>NaN</td>\n",
       "      <td>NaN</td>\n",
       "      <td>NaN</td>\n",
       "      <td>NaN</td>\n",
       "      <td>NaN</td>\n",
       "      <td>NaN</td>\n",
       "      <td>NaN</td>\n",
       "      <td>NaN</td>\n",
       "      <td>8.33</td>\n",
       "      <td>38928341.0</td>\n",
       "      <td>54.422</td>\n",
       "      <td>18.6</td>\n",
       "      <td>2.581</td>\n",
       "      <td>1.337</td>\n",
       "      <td>1803.987</td>\n",
       "      <td>NaN</td>\n",
       "      <td>597.029</td>\n",
       "      <td>9.59</td>\n",
       "      <td>NaN</td>\n",
       "      <td>NaN</td>\n",
       "      <td>37.746</td>\n",
       "      <td>0.5</td>\n",
       "      <td>64.83</td>\n",
       "      <td>0.498</td>\n",
       "    </tr>\n",
       "  </tbody>\n",
       "</table>\n",
       "</div>"
      ],
      "text/plain": [
       "  iso_code continent  ... life_expectancy human_development_index\n",
       "0      AFG      Asia  ...           64.83                   0.498\n",
       "1      AFG      Asia  ...           64.83                   0.498\n",
       "2      AFG      Asia  ...           64.83                   0.498\n",
       "3      AFG      Asia  ...           64.83                   0.498\n",
       "4      AFG      Asia  ...           64.83                   0.498\n",
       "\n",
       "[5 rows x 59 columns]"
      ]
     },
     "execution_count": 261,
     "metadata": {
      "tags": []
     },
     "output_type": "execute_result"
    }
   ],
   "source": [
    "df.head(5)"
   ]
  },
  {
   "cell_type": "code",
   "execution_count": null,
   "metadata": {
    "colab": {
     "base_uri": "https://localhost:8080/"
    },
    "executionInfo": {
     "elapsed": 1499,
     "status": "ok",
     "timestamp": 1617533700811,
     "user": {
      "displayName": "Wiktor Majkowski",
      "photoUrl": "",
      "userId": "04555540981960641311"
     },
     "user_tz": -60
    },
    "id": "8WR92p3w0jVT",
    "outputId": "205706e8-8000-44f9-bb3a-d8b772193e2e"
   },
   "outputs": [
    {
     "data": {
      "text/plain": [
       "iso_code                                   192\n",
       "continent                                    6\n",
       "location                                   200\n",
       "date                                       403\n",
       "total_cases                              34313\n",
       "new_cases                                 9391\n",
       "new_cases_smoothed                       17775\n",
       "total_deaths                             12928\n",
       "new_deaths                                2305\n",
       "new_deaths_smoothed                       5143\n",
       "total_cases_per_million                  48425\n",
       "new_cases_per_million                    27581\n",
       "new_cases_smoothed_per_million           31234\n",
       "total_deaths_per_million                 28379\n",
       "new_deaths_per_million                    5548\n",
       "new_deaths_smoothed_per_million           6782\n",
       "reproduction_rate                          356\n",
       "icu_patients                              1938\n",
       "icu_patients_per_million                  3956\n",
       "hosp_patients                             3696\n",
       "hosp_patients_per_million                 6291\n",
       "weekly_icu_admissions                      487\n",
       "weekly_icu_admissions_per_million          482\n",
       "weekly_hosp_admissions                     990\n",
       "weekly_hosp_admissions_per_million         987\n",
       "new_tests                                16890\n",
       "total_tests                              29553\n",
       "total_tests_per_thousand                 25397\n",
       "new_tests_per_thousand                    5359\n",
       "new_tests_smoothed                       18871\n",
       "new_tests_smoothed_per_thousand           5575\n",
       "positive_rate                              564\n",
       "tests_per_case                            4996\n",
       "tests_units                                  4\n",
       "total_vaccinations                        1465\n",
       "people_vaccinated                         1214\n",
       "people_fully_vaccinated                    624\n",
       "new_vaccinations                          1212\n",
       "new_vaccinations_smoothed                 1766\n",
       "total_vaccinations_per_hundred             555\n",
       "people_vaccinated_per_hundred              469\n",
       "people_fully_vaccinated_per_hundred        172\n",
       "new_vaccinations_smoothed_per_million     1264\n",
       "stringency_index                           175\n",
       "population                                 192\n",
       "population_density                         188\n",
       "median_age                                 131\n",
       "aged_65_older                              180\n",
       "aged_70_older                              178\n",
       "gdp_per_capita                             184\n",
       "extreme_poverty                             75\n",
       "cardiovasc_death_rate                      185\n",
       "diabetes_prevalence                        136\n",
       "female_smokers                             108\n",
       "male_smokers                               124\n",
       "handwashing_facilities                      95\n",
       "hospital_beds_per_thousand                 100\n",
       "life_expectancy                            179\n",
       "human_development_index                    159\n",
       "dtype: int64"
      ]
     },
     "execution_count": 262,
     "metadata": {
      "tags": []
     },
     "output_type": "execute_result"
    }
   ],
   "source": [
    "df.nunique()"
   ]
  },
  {
   "cell_type": "code",
   "execution_count": null,
   "metadata": {
    "colab": {
     "base_uri": "https://localhost:8080/"
    },
    "executionInfo": {
     "elapsed": 1493,
     "status": "ok",
     "timestamp": 1617533700811,
     "user": {
      "displayName": "Wiktor Majkowski",
      "photoUrl": "",
      "userId": "04555540981960641311"
     },
     "user_tz": -60
    },
    "id": "rJKLIS3U1Yy8",
    "outputId": "dc6feb41-6166-4c99-971e-707d494d88a4"
   },
   "outputs": [
    {
     "data": {
      "text/plain": [
       "float64    54\n",
       "object      5\n",
       "dtype: int64"
      ]
     },
     "execution_count": 263,
     "metadata": {
      "tags": []
     },
     "output_type": "execute_result"
    }
   ],
   "source": [
    "df.dtypes.value_counts()"
   ]
  },
  {
   "cell_type": "code",
   "execution_count": null,
   "metadata": {
    "colab": {
     "base_uri": "https://localhost:8080/"
    },
    "executionInfo": {
     "elapsed": 1486,
     "status": "ok",
     "timestamp": 1617533700811,
     "user": {
      "displayName": "Wiktor Majkowski",
      "photoUrl": "",
      "userId": "04555540981960641311"
     },
     "user_tz": -60
    },
    "id": "-PtjDp0lgyPJ",
    "outputId": "444cccd5-ff76-4f9c-a348-c84f1fae76b9"
   },
   "outputs": [
    {
     "data": {
      "text/plain": [
       "iso_code                                  object\n",
       "continent                                 object\n",
       "location                                  object\n",
       "date                                      object\n",
       "total_cases                              float64\n",
       "new_cases                                float64\n",
       "new_cases_smoothed                       float64\n",
       "total_deaths                             float64\n",
       "new_deaths                               float64\n",
       "new_deaths_smoothed                      float64\n",
       "total_cases_per_million                  float64\n",
       "new_cases_per_million                    float64\n",
       "new_cases_smoothed_per_million           float64\n",
       "total_deaths_per_million                 float64\n",
       "new_deaths_per_million                   float64\n",
       "new_deaths_smoothed_per_million          float64\n",
       "reproduction_rate                        float64\n",
       "icu_patients                             float64\n",
       "icu_patients_per_million                 float64\n",
       "hosp_patients                            float64\n",
       "hosp_patients_per_million                float64\n",
       "weekly_icu_admissions                    float64\n",
       "weekly_icu_admissions_per_million        float64\n",
       "weekly_hosp_admissions                   float64\n",
       "weekly_hosp_admissions_per_million       float64\n",
       "new_tests                                float64\n",
       "total_tests                              float64\n",
       "total_tests_per_thousand                 float64\n",
       "new_tests_per_thousand                   float64\n",
       "new_tests_smoothed                       float64\n",
       "new_tests_smoothed_per_thousand          float64\n",
       "positive_rate                            float64\n",
       "tests_per_case                           float64\n",
       "tests_units                               object\n",
       "total_vaccinations                       float64\n",
       "people_vaccinated                        float64\n",
       "people_fully_vaccinated                  float64\n",
       "new_vaccinations                         float64\n",
       "new_vaccinations_smoothed                float64\n",
       "total_vaccinations_per_hundred           float64\n",
       "people_vaccinated_per_hundred            float64\n",
       "people_fully_vaccinated_per_hundred      float64\n",
       "new_vaccinations_smoothed_per_million    float64\n",
       "stringency_index                         float64\n",
       "population                               float64\n",
       "population_density                       float64\n",
       "median_age                               float64\n",
       "aged_65_older                            float64\n",
       "aged_70_older                            float64\n",
       "gdp_per_capita                           float64\n",
       "extreme_poverty                          float64\n",
       "cardiovasc_death_rate                    float64\n",
       "diabetes_prevalence                      float64\n",
       "female_smokers                           float64\n",
       "male_smokers                             float64\n",
       "handwashing_facilities                   float64\n",
       "hospital_beds_per_thousand               float64\n",
       "life_expectancy                          float64\n",
       "human_development_index                  float64\n",
       "dtype: object"
      ]
     },
     "execution_count": 264,
     "metadata": {
      "tags": []
     },
     "output_type": "execute_result"
    }
   ],
   "source": [
    "df.dtypes"
   ]
  },
  {
   "cell_type": "markdown",
   "metadata": {
    "id": "RvrADuKYKNXG"
   },
   "source": [
    "### **Data Preprocessing**"
   ]
  },
  {
   "cell_type": "code",
   "execution_count": null,
   "metadata": {
    "id": "dvnrLOnViYk1"
   },
   "outputs": [],
   "source": [
    "df.drop(['new_cases_smoothed','new_deaths_smoothed','new_cases_smoothed_per_million','new_deaths_smoothed_per_million',\n",
    "         'new_tests_smoothed_per_thousand','new_tests_smoothed', 'new_vaccinations_smoothed', 'new_vaccinations_smoothed_per_million'], axis=1, inplace=True)"
   ]
  },
  {
   "cell_type": "code",
   "execution_count": null,
   "metadata": {
    "id": "XGqZfjVs8vfR"
   },
   "outputs": [],
   "source": [
    "df = df[df.continent == 'Europe'] #filters europe only entries"
   ]
  },
  {
   "cell_type": "code",
   "execution_count": null,
   "metadata": {
    "colab": {
     "base_uri": "https://localhost:8080/"
    },
    "executionInfo": {
     "elapsed": 1472,
     "status": "ok",
     "timestamp": 1617533700812,
     "user": {
      "displayName": "Wiktor Majkowski",
      "photoUrl": "",
      "userId": "04555540981960641311"
     },
     "user_tz": -60
    },
    "id": "fpPMT1LCyjES",
    "outputId": "0a1539e9-60e5-4f05-b1d9-af7d8feb5165"
   },
   "outputs": [
    {
     "data": {
      "text/plain": [
       "Europe    16203\n",
       "Name: continent, dtype: int64"
      ]
     },
     "execution_count": 267,
     "metadata": {
      "tags": []
     },
     "output_type": "execute_result"
    }
   ],
   "source": [
    "df.continent.value_counts() #reduced entries from 67K to 16K"
   ]
  },
  {
   "cell_type": "code",
   "execution_count": null,
   "metadata": {
    "colab": {
     "base_uri": "https://localhost:8080/"
    },
    "executionInfo": {
     "elapsed": 1466,
     "status": "ok",
     "timestamp": 1617533700812,
     "user": {
      "displayName": "Wiktor Majkowski",
      "photoUrl": "",
      "userId": "04555540981960641311"
     },
     "user_tz": -60
    },
    "id": "1jd4Doh9nCW-",
    "outputId": "5def4ba5-4b43-426d-def4-8cc4fd029303"
   },
   "outputs": [
    {
     "name": "stdout",
     "output_type": "stream",
     "text": [
      "['France', 'Switzerland', 'Germany', 'Finland', 'Italy', 'United Kingdom', 'Russia', 'Sweden', 'Estonia', 'Spain']\n"
     ]
    }
   ],
   "source": [
    "\"\"\"\n",
    "Loop to select the countries with the most common entries\n",
    "INPUT: series of countries with number of entries\n",
    "OUTPUT: list of the most common countries with the number of entries\n",
    "\"\"\"\n",
    "\n",
    "i = 0\n",
    "theMostCommonCountry_List = []\n",
    "while i < 10:\n",
    "  part_index = str(df.location.value_counts().index[i])\n",
    "  theMostCommonCountry_List.append( part_index )\n",
    "  i = i + 1\n",
    "print(theMostCommonCountry_List)"
   ]
  },
  {
   "cell_type": "code",
   "execution_count": null,
   "metadata": {
    "id": "9lR6BW5sOEyp"
   },
   "outputs": [],
   "source": [
    "df = df[df.location.isin(theMostCommonCountry_List)]  #filters entries by list of common countries"
   ]
  },
  {
   "cell_type": "code",
   "execution_count": null,
   "metadata": {
    "colab": {
     "base_uri": "https://localhost:8080/",
     "height": 600
    },
    "executionInfo": {
     "elapsed": 1672,
     "status": "ok",
     "timestamp": 1617533701028,
     "user": {
      "displayName": "Wiktor Majkowski",
      "photoUrl": "",
      "userId": "04555540981960641311"
     },
     "user_tz": -60
    },
    "id": "LPnU7LUIMrd6",
    "outputId": "d4faba06-5598-460f-d046-30dbf683b4f0"
   },
   "outputs": [
    {
     "data": {
      "text/html": [
       "<div>\n",
       "<style scoped>\n",
       "    .dataframe tbody tr th:only-of-type {\n",
       "        vertical-align: middle;\n",
       "    }\n",
       "\n",
       "    .dataframe tbody tr th {\n",
       "        vertical-align: top;\n",
       "    }\n",
       "\n",
       "    .dataframe thead th {\n",
       "        text-align: right;\n",
       "    }\n",
       "</style>\n",
       "<table border=\"1\" class=\"dataframe\">\n",
       "  <thead>\n",
       "    <tr style=\"text-align: right;\">\n",
       "      <th></th>\n",
       "      <th>iso_code</th>\n",
       "      <th>location</th>\n",
       "      <th>date</th>\n",
       "      <th>total_cases</th>\n",
       "      <th>new_cases</th>\n",
       "      <th>total_deaths</th>\n",
       "      <th>new_deaths</th>\n",
       "      <th>total_cases_per_million</th>\n",
       "      <th>new_cases_per_million</th>\n",
       "      <th>total_deaths_per_million</th>\n",
       "      <th>new_deaths_per_million</th>\n",
       "      <th>reproduction_rate</th>\n",
       "      <th>icu_patients</th>\n",
       "      <th>icu_patients_per_million</th>\n",
       "      <th>hosp_patients</th>\n",
       "      <th>hosp_patients_per_million</th>\n",
       "      <th>weekly_icu_admissions</th>\n",
       "      <th>weekly_icu_admissions_per_million</th>\n",
       "      <th>weekly_hosp_admissions</th>\n",
       "      <th>weekly_hosp_admissions_per_million</th>\n",
       "      <th>new_tests</th>\n",
       "      <th>total_tests</th>\n",
       "      <th>total_tests_per_thousand</th>\n",
       "      <th>new_tests_per_thousand</th>\n",
       "      <th>positive_rate</th>\n",
       "      <th>tests_per_case</th>\n",
       "      <th>tests_units</th>\n",
       "      <th>total_vaccinations</th>\n",
       "      <th>people_vaccinated</th>\n",
       "      <th>people_fully_vaccinated</th>\n",
       "      <th>new_vaccinations</th>\n",
       "      <th>total_vaccinations_per_hundred</th>\n",
       "      <th>people_vaccinated_per_hundred</th>\n",
       "      <th>people_fully_vaccinated_per_hundred</th>\n",
       "      <th>stringency_index</th>\n",
       "      <th>population</th>\n",
       "      <th>population_density</th>\n",
       "      <th>median_age</th>\n",
       "      <th>aged_65_older</th>\n",
       "      <th>aged_70_older</th>\n",
       "      <th>gdp_per_capita</th>\n",
       "      <th>extreme_poverty</th>\n",
       "      <th>cardiovasc_death_rate</th>\n",
       "      <th>diabetes_prevalence</th>\n",
       "      <th>female_smokers</th>\n",
       "      <th>male_smokers</th>\n",
       "      <th>handwashing_facilities</th>\n",
       "      <th>hospital_beds_per_thousand</th>\n",
       "      <th>life_expectancy</th>\n",
       "      <th>human_development_index</th>\n",
       "    </tr>\n",
       "  </thead>\n",
       "  <tbody>\n",
       "    <tr>\n",
       "      <th>0</th>\n",
       "      <td>EST</td>\n",
       "      <td>Estonia</td>\n",
       "      <td>2020-02-01</td>\n",
       "      <td>NaN</td>\n",
       "      <td>NaN</td>\n",
       "      <td>NaN</td>\n",
       "      <td>NaN</td>\n",
       "      <td>NaN</td>\n",
       "      <td>NaN</td>\n",
       "      <td>NaN</td>\n",
       "      <td>NaN</td>\n",
       "      <td>NaN</td>\n",
       "      <td>NaN</td>\n",
       "      <td>NaN</td>\n",
       "      <td>1.0</td>\n",
       "      <td>0.754</td>\n",
       "      <td>NaN</td>\n",
       "      <td>NaN</td>\n",
       "      <td>NaN</td>\n",
       "      <td>NaN</td>\n",
       "      <td>NaN</td>\n",
       "      <td>NaN</td>\n",
       "      <td>NaN</td>\n",
       "      <td>NaN</td>\n",
       "      <td>NaN</td>\n",
       "      <td>NaN</td>\n",
       "      <td>NaN</td>\n",
       "      <td>NaN</td>\n",
       "      <td>NaN</td>\n",
       "      <td>NaN</td>\n",
       "      <td>NaN</td>\n",
       "      <td>NaN</td>\n",
       "      <td>NaN</td>\n",
       "      <td>NaN</td>\n",
       "      <td>0.0</td>\n",
       "      <td>1326539.0</td>\n",
       "      <td>31.033</td>\n",
       "      <td>42.7</td>\n",
       "      <td>19.452</td>\n",
       "      <td>13.491</td>\n",
       "      <td>29481.252</td>\n",
       "      <td>0.5</td>\n",
       "      <td>255.569</td>\n",
       "      <td>4.02</td>\n",
       "      <td>24.5</td>\n",
       "      <td>39.3</td>\n",
       "      <td>NaN</td>\n",
       "      <td>4.69</td>\n",
       "      <td>78.74</td>\n",
       "      <td>0.871</td>\n",
       "    </tr>\n",
       "    <tr>\n",
       "      <th>1</th>\n",
       "      <td>EST</td>\n",
       "      <td>Estonia</td>\n",
       "      <td>2020-02-02</td>\n",
       "      <td>NaN</td>\n",
       "      <td>NaN</td>\n",
       "      <td>NaN</td>\n",
       "      <td>NaN</td>\n",
       "      <td>NaN</td>\n",
       "      <td>NaN</td>\n",
       "      <td>NaN</td>\n",
       "      <td>NaN</td>\n",
       "      <td>NaN</td>\n",
       "      <td>NaN</td>\n",
       "      <td>NaN</td>\n",
       "      <td>1.0</td>\n",
       "      <td>0.754</td>\n",
       "      <td>NaN</td>\n",
       "      <td>NaN</td>\n",
       "      <td>NaN</td>\n",
       "      <td>NaN</td>\n",
       "      <td>NaN</td>\n",
       "      <td>NaN</td>\n",
       "      <td>NaN</td>\n",
       "      <td>NaN</td>\n",
       "      <td>NaN</td>\n",
       "      <td>NaN</td>\n",
       "      <td>NaN</td>\n",
       "      <td>NaN</td>\n",
       "      <td>NaN</td>\n",
       "      <td>NaN</td>\n",
       "      <td>NaN</td>\n",
       "      <td>NaN</td>\n",
       "      <td>NaN</td>\n",
       "      <td>NaN</td>\n",
       "      <td>0.0</td>\n",
       "      <td>1326539.0</td>\n",
       "      <td>31.033</td>\n",
       "      <td>42.7</td>\n",
       "      <td>19.452</td>\n",
       "      <td>13.491</td>\n",
       "      <td>29481.252</td>\n",
       "      <td>0.5</td>\n",
       "      <td>255.569</td>\n",
       "      <td>4.02</td>\n",
       "      <td>24.5</td>\n",
       "      <td>39.3</td>\n",
       "      <td>NaN</td>\n",
       "      <td>4.69</td>\n",
       "      <td>78.74</td>\n",
       "      <td>0.871</td>\n",
       "    </tr>\n",
       "    <tr>\n",
       "      <th>2</th>\n",
       "      <td>EST</td>\n",
       "      <td>Estonia</td>\n",
       "      <td>2020-02-03</td>\n",
       "      <td>NaN</td>\n",
       "      <td>NaN</td>\n",
       "      <td>NaN</td>\n",
       "      <td>NaN</td>\n",
       "      <td>NaN</td>\n",
       "      <td>NaN</td>\n",
       "      <td>NaN</td>\n",
       "      <td>NaN</td>\n",
       "      <td>NaN</td>\n",
       "      <td>NaN</td>\n",
       "      <td>NaN</td>\n",
       "      <td>1.0</td>\n",
       "      <td>0.754</td>\n",
       "      <td>NaN</td>\n",
       "      <td>NaN</td>\n",
       "      <td>NaN</td>\n",
       "      <td>NaN</td>\n",
       "      <td>NaN</td>\n",
       "      <td>NaN</td>\n",
       "      <td>NaN</td>\n",
       "      <td>NaN</td>\n",
       "      <td>NaN</td>\n",
       "      <td>NaN</td>\n",
       "      <td>NaN</td>\n",
       "      <td>NaN</td>\n",
       "      <td>NaN</td>\n",
       "      <td>NaN</td>\n",
       "      <td>NaN</td>\n",
       "      <td>NaN</td>\n",
       "      <td>NaN</td>\n",
       "      <td>NaN</td>\n",
       "      <td>0.0</td>\n",
       "      <td>1326539.0</td>\n",
       "      <td>31.033</td>\n",
       "      <td>42.7</td>\n",
       "      <td>19.452</td>\n",
       "      <td>13.491</td>\n",
       "      <td>29481.252</td>\n",
       "      <td>0.5</td>\n",
       "      <td>255.569</td>\n",
       "      <td>4.02</td>\n",
       "      <td>24.5</td>\n",
       "      <td>39.3</td>\n",
       "      <td>NaN</td>\n",
       "      <td>4.69</td>\n",
       "      <td>78.74</td>\n",
       "      <td>0.871</td>\n",
       "    </tr>\n",
       "    <tr>\n",
       "      <th>3</th>\n",
       "      <td>EST</td>\n",
       "      <td>Estonia</td>\n",
       "      <td>2020-02-04</td>\n",
       "      <td>NaN</td>\n",
       "      <td>NaN</td>\n",
       "      <td>NaN</td>\n",
       "      <td>NaN</td>\n",
       "      <td>NaN</td>\n",
       "      <td>NaN</td>\n",
       "      <td>NaN</td>\n",
       "      <td>NaN</td>\n",
       "      <td>NaN</td>\n",
       "      <td>NaN</td>\n",
       "      <td>NaN</td>\n",
       "      <td>1.0</td>\n",
       "      <td>0.754</td>\n",
       "      <td>NaN</td>\n",
       "      <td>NaN</td>\n",
       "      <td>NaN</td>\n",
       "      <td>NaN</td>\n",
       "      <td>NaN</td>\n",
       "      <td>NaN</td>\n",
       "      <td>NaN</td>\n",
       "      <td>NaN</td>\n",
       "      <td>NaN</td>\n",
       "      <td>NaN</td>\n",
       "      <td>NaN</td>\n",
       "      <td>NaN</td>\n",
       "      <td>NaN</td>\n",
       "      <td>NaN</td>\n",
       "      <td>NaN</td>\n",
       "      <td>NaN</td>\n",
       "      <td>NaN</td>\n",
       "      <td>NaN</td>\n",
       "      <td>0.0</td>\n",
       "      <td>1326539.0</td>\n",
       "      <td>31.033</td>\n",
       "      <td>42.7</td>\n",
       "      <td>19.452</td>\n",
       "      <td>13.491</td>\n",
       "      <td>29481.252</td>\n",
       "      <td>0.5</td>\n",
       "      <td>255.569</td>\n",
       "      <td>4.02</td>\n",
       "      <td>24.5</td>\n",
       "      <td>39.3</td>\n",
       "      <td>NaN</td>\n",
       "      <td>4.69</td>\n",
       "      <td>78.74</td>\n",
       "      <td>0.871</td>\n",
       "    </tr>\n",
       "    <tr>\n",
       "      <th>4</th>\n",
       "      <td>EST</td>\n",
       "      <td>Estonia</td>\n",
       "      <td>2020-02-05</td>\n",
       "      <td>NaN</td>\n",
       "      <td>NaN</td>\n",
       "      <td>NaN</td>\n",
       "      <td>NaN</td>\n",
       "      <td>NaN</td>\n",
       "      <td>NaN</td>\n",
       "      <td>NaN</td>\n",
       "      <td>NaN</td>\n",
       "      <td>NaN</td>\n",
       "      <td>NaN</td>\n",
       "      <td>NaN</td>\n",
       "      <td>1.0</td>\n",
       "      <td>0.754</td>\n",
       "      <td>NaN</td>\n",
       "      <td>NaN</td>\n",
       "      <td>NaN</td>\n",
       "      <td>NaN</td>\n",
       "      <td>NaN</td>\n",
       "      <td>NaN</td>\n",
       "      <td>NaN</td>\n",
       "      <td>NaN</td>\n",
       "      <td>NaN</td>\n",
       "      <td>NaN</td>\n",
       "      <td>NaN</td>\n",
       "      <td>NaN</td>\n",
       "      <td>NaN</td>\n",
       "      <td>NaN</td>\n",
       "      <td>NaN</td>\n",
       "      <td>NaN</td>\n",
       "      <td>NaN</td>\n",
       "      <td>NaN</td>\n",
       "      <td>0.0</td>\n",
       "      <td>1326539.0</td>\n",
       "      <td>31.033</td>\n",
       "      <td>42.7</td>\n",
       "      <td>19.452</td>\n",
       "      <td>13.491</td>\n",
       "      <td>29481.252</td>\n",
       "      <td>0.5</td>\n",
       "      <td>255.569</td>\n",
       "      <td>4.02</td>\n",
       "      <td>24.5</td>\n",
       "      <td>39.3</td>\n",
       "      <td>NaN</td>\n",
       "      <td>4.69</td>\n",
       "      <td>78.74</td>\n",
       "      <td>0.871</td>\n",
       "    </tr>\n",
       "    <tr>\n",
       "      <th>...</th>\n",
       "      <td>...</td>\n",
       "      <td>...</td>\n",
       "      <td>...</td>\n",
       "      <td>...</td>\n",
       "      <td>...</td>\n",
       "      <td>...</td>\n",
       "      <td>...</td>\n",
       "      <td>...</td>\n",
       "      <td>...</td>\n",
       "      <td>...</td>\n",
       "      <td>...</td>\n",
       "      <td>...</td>\n",
       "      <td>...</td>\n",
       "      <td>...</td>\n",
       "      <td>...</td>\n",
       "      <td>...</td>\n",
       "      <td>...</td>\n",
       "      <td>...</td>\n",
       "      <td>...</td>\n",
       "      <td>...</td>\n",
       "      <td>...</td>\n",
       "      <td>...</td>\n",
       "      <td>...</td>\n",
       "      <td>...</td>\n",
       "      <td>...</td>\n",
       "      <td>...</td>\n",
       "      <td>...</td>\n",
       "      <td>...</td>\n",
       "      <td>...</td>\n",
       "      <td>...</td>\n",
       "      <td>...</td>\n",
       "      <td>...</td>\n",
       "      <td>...</td>\n",
       "      <td>...</td>\n",
       "      <td>...</td>\n",
       "      <td>...</td>\n",
       "      <td>...</td>\n",
       "      <td>...</td>\n",
       "      <td>...</td>\n",
       "      <td>...</td>\n",
       "      <td>...</td>\n",
       "      <td>...</td>\n",
       "      <td>...</td>\n",
       "      <td>...</td>\n",
       "      <td>...</td>\n",
       "      <td>...</td>\n",
       "      <td>...</td>\n",
       "      <td>...</td>\n",
       "      <td>...</td>\n",
       "      <td>...</td>\n",
       "    </tr>\n",
       "    <tr>\n",
       "      <th>3742</th>\n",
       "      <td>GBR</td>\n",
       "      <td>United Kingdom</td>\n",
       "      <td>2021-02-02</td>\n",
       "      <td>3863757.0</td>\n",
       "      <td>16906.0</td>\n",
       "      <td>108225.0</td>\n",
       "      <td>1451.0</td>\n",
       "      <td>56915.369</td>\n",
       "      <td>249.035</td>\n",
       "      <td>1594.217</td>\n",
       "      <td>21.374</td>\n",
       "      <td>NaN</td>\n",
       "      <td>3638.0</td>\n",
       "      <td>53.590</td>\n",
       "      <td>31670.0</td>\n",
       "      <td>466.517</td>\n",
       "      <td>NaN</td>\n",
       "      <td>NaN</td>\n",
       "      <td>NaN</td>\n",
       "      <td>NaN</td>\n",
       "      <td>606382.0</td>\n",
       "      <td>71642534.0</td>\n",
       "      <td>1055.336</td>\n",
       "      <td>8.932</td>\n",
       "      <td>0.036</td>\n",
       "      <td>28.1</td>\n",
       "      <td>tests performed</td>\n",
       "      <td>10520433.0</td>\n",
       "      <td>10021471.0</td>\n",
       "      <td>498962.0</td>\n",
       "      <td>376922.0</td>\n",
       "      <td>15.50</td>\n",
       "      <td>14.76</td>\n",
       "      <td>0.73</td>\n",
       "      <td>NaN</td>\n",
       "      <td>67886004.0</td>\n",
       "      <td>272.898</td>\n",
       "      <td>40.8</td>\n",
       "      <td>18.517</td>\n",
       "      <td>12.527</td>\n",
       "      <td>39753.244</td>\n",
       "      <td>0.2</td>\n",
       "      <td>122.137</td>\n",
       "      <td>4.28</td>\n",
       "      <td>20.0</td>\n",
       "      <td>24.7</td>\n",
       "      <td>NaN</td>\n",
       "      <td>2.54</td>\n",
       "      <td>81.32</td>\n",
       "      <td>0.922</td>\n",
       "    </tr>\n",
       "    <tr>\n",
       "      <th>3743</th>\n",
       "      <td>GBR</td>\n",
       "      <td>United Kingdom</td>\n",
       "      <td>2021-02-03</td>\n",
       "      <td>3882972.0</td>\n",
       "      <td>19215.0</td>\n",
       "      <td>109547.0</td>\n",
       "      <td>1322.0</td>\n",
       "      <td>57198.418</td>\n",
       "      <td>283.048</td>\n",
       "      <td>1613.691</td>\n",
       "      <td>19.474</td>\n",
       "      <td>NaN</td>\n",
       "      <td>3625.0</td>\n",
       "      <td>53.398</td>\n",
       "      <td>NaN</td>\n",
       "      <td>NaN</td>\n",
       "      <td>NaN</td>\n",
       "      <td>NaN</td>\n",
       "      <td>NaN</td>\n",
       "      <td>NaN</td>\n",
       "      <td>801949.0</td>\n",
       "      <td>72464146.0</td>\n",
       "      <td>1067.439</td>\n",
       "      <td>11.813</td>\n",
       "      <td>0.034</td>\n",
       "      <td>29.5</td>\n",
       "      <td>tests performed</td>\n",
       "      <td>10992444.0</td>\n",
       "      <td>10490487.0</td>\n",
       "      <td>501957.0</td>\n",
       "      <td>472011.0</td>\n",
       "      <td>16.19</td>\n",
       "      <td>15.45</td>\n",
       "      <td>0.74</td>\n",
       "      <td>NaN</td>\n",
       "      <td>67886004.0</td>\n",
       "      <td>272.898</td>\n",
       "      <td>40.8</td>\n",
       "      <td>18.517</td>\n",
       "      <td>12.527</td>\n",
       "      <td>39753.244</td>\n",
       "      <td>0.2</td>\n",
       "      <td>122.137</td>\n",
       "      <td>4.28</td>\n",
       "      <td>20.0</td>\n",
       "      <td>24.7</td>\n",
       "      <td>NaN</td>\n",
       "      <td>2.54</td>\n",
       "      <td>81.32</td>\n",
       "      <td>0.922</td>\n",
       "    </tr>\n",
       "    <tr>\n",
       "      <th>3744</th>\n",
       "      <td>GBR</td>\n",
       "      <td>United Kingdom</td>\n",
       "      <td>2021-02-04</td>\n",
       "      <td>3903706.0</td>\n",
       "      <td>20734.0</td>\n",
       "      <td>110462.0</td>\n",
       "      <td>915.0</td>\n",
       "      <td>57503.841</td>\n",
       "      <td>305.424</td>\n",
       "      <td>1627.169</td>\n",
       "      <td>13.478</td>\n",
       "      <td>NaN</td>\n",
       "      <td>NaN</td>\n",
       "      <td>NaN</td>\n",
       "      <td>NaN</td>\n",
       "      <td>NaN</td>\n",
       "      <td>NaN</td>\n",
       "      <td>NaN</td>\n",
       "      <td>NaN</td>\n",
       "      <td>NaN</td>\n",
       "      <td>NaN</td>\n",
       "      <td>NaN</td>\n",
       "      <td>NaN</td>\n",
       "      <td>NaN</td>\n",
       "      <td>NaN</td>\n",
       "      <td>NaN</td>\n",
       "      <td>NaN</td>\n",
       "      <td>11477040.0</td>\n",
       "      <td>10971047.0</td>\n",
       "      <td>505993.0</td>\n",
       "      <td>484596.0</td>\n",
       "      <td>16.91</td>\n",
       "      <td>16.16</td>\n",
       "      <td>0.75</td>\n",
       "      <td>NaN</td>\n",
       "      <td>67886004.0</td>\n",
       "      <td>272.898</td>\n",
       "      <td>40.8</td>\n",
       "      <td>18.517</td>\n",
       "      <td>12.527</td>\n",
       "      <td>39753.244</td>\n",
       "      <td>0.2</td>\n",
       "      <td>122.137</td>\n",
       "      <td>4.28</td>\n",
       "      <td>20.0</td>\n",
       "      <td>24.7</td>\n",
       "      <td>NaN</td>\n",
       "      <td>2.54</td>\n",
       "      <td>81.32</td>\n",
       "      <td>0.922</td>\n",
       "    </tr>\n",
       "    <tr>\n",
       "      <th>3745</th>\n",
       "      <td>GBR</td>\n",
       "      <td>United Kingdom</td>\n",
       "      <td>2021-02-05</td>\n",
       "      <td>3922910.0</td>\n",
       "      <td>19204.0</td>\n",
       "      <td>111477.0</td>\n",
       "      <td>1015.0</td>\n",
       "      <td>57786.727</td>\n",
       "      <td>282.886</td>\n",
       "      <td>1642.121</td>\n",
       "      <td>14.952</td>\n",
       "      <td>NaN</td>\n",
       "      <td>NaN</td>\n",
       "      <td>NaN</td>\n",
       "      <td>NaN</td>\n",
       "      <td>NaN</td>\n",
       "      <td>NaN</td>\n",
       "      <td>NaN</td>\n",
       "      <td>NaN</td>\n",
       "      <td>NaN</td>\n",
       "      <td>NaN</td>\n",
       "      <td>NaN</td>\n",
       "      <td>NaN</td>\n",
       "      <td>NaN</td>\n",
       "      <td>NaN</td>\n",
       "      <td>NaN</td>\n",
       "      <td>NaN</td>\n",
       "      <td>11975267.0</td>\n",
       "      <td>11465210.0</td>\n",
       "      <td>510057.0</td>\n",
       "      <td>498227.0</td>\n",
       "      <td>17.64</td>\n",
       "      <td>16.89</td>\n",
       "      <td>0.75</td>\n",
       "      <td>NaN</td>\n",
       "      <td>67886004.0</td>\n",
       "      <td>272.898</td>\n",
       "      <td>40.8</td>\n",
       "      <td>18.517</td>\n",
       "      <td>12.527</td>\n",
       "      <td>39753.244</td>\n",
       "      <td>0.2</td>\n",
       "      <td>122.137</td>\n",
       "      <td>4.28</td>\n",
       "      <td>20.0</td>\n",
       "      <td>24.7</td>\n",
       "      <td>NaN</td>\n",
       "      <td>2.54</td>\n",
       "      <td>81.32</td>\n",
       "      <td>0.922</td>\n",
       "    </tr>\n",
       "    <tr>\n",
       "      <th>3746</th>\n",
       "      <td>GBR</td>\n",
       "      <td>United Kingdom</td>\n",
       "      <td>2021-02-06</td>\n",
       "      <td>3941273.0</td>\n",
       "      <td>18363.0</td>\n",
       "      <td>112305.0</td>\n",
       "      <td>828.0</td>\n",
       "      <td>58057.225</td>\n",
       "      <td>270.498</td>\n",
       "      <td>1654.317</td>\n",
       "      <td>12.197</td>\n",
       "      <td>NaN</td>\n",
       "      <td>NaN</td>\n",
       "      <td>NaN</td>\n",
       "      <td>NaN</td>\n",
       "      <td>NaN</td>\n",
       "      <td>NaN</td>\n",
       "      <td>NaN</td>\n",
       "      <td>NaN</td>\n",
       "      <td>NaN</td>\n",
       "      <td>NaN</td>\n",
       "      <td>NaN</td>\n",
       "      <td>NaN</td>\n",
       "      <td>NaN</td>\n",
       "      <td>NaN</td>\n",
       "      <td>NaN</td>\n",
       "      <td>NaN</td>\n",
       "      <td>NaN</td>\n",
       "      <td>NaN</td>\n",
       "      <td>NaN</td>\n",
       "      <td>NaN</td>\n",
       "      <td>NaN</td>\n",
       "      <td>NaN</td>\n",
       "      <td>NaN</td>\n",
       "      <td>NaN</td>\n",
       "      <td>67886004.0</td>\n",
       "      <td>272.898</td>\n",
       "      <td>40.8</td>\n",
       "      <td>18.517</td>\n",
       "      <td>12.527</td>\n",
       "      <td>39753.244</td>\n",
       "      <td>0.2</td>\n",
       "      <td>122.137</td>\n",
       "      <td>4.28</td>\n",
       "      <td>20.0</td>\n",
       "      <td>24.7</td>\n",
       "      <td>NaN</td>\n",
       "      <td>2.54</td>\n",
       "      <td>81.32</td>\n",
       "      <td>0.922</td>\n",
       "    </tr>\n",
       "  </tbody>\n",
       "</table>\n",
       "<p>3747 rows × 50 columns</p>\n",
       "</div>"
      ],
      "text/plain": [
       "     iso_code        location  ... life_expectancy  human_development_index\n",
       "0         EST         Estonia  ...           78.74                    0.871\n",
       "1         EST         Estonia  ...           78.74                    0.871\n",
       "2         EST         Estonia  ...           78.74                    0.871\n",
       "3         EST         Estonia  ...           78.74                    0.871\n",
       "4         EST         Estonia  ...           78.74                    0.871\n",
       "...       ...             ...  ...             ...                      ...\n",
       "3742      GBR  United Kingdom  ...           81.32                    0.922\n",
       "3743      GBR  United Kingdom  ...           81.32                    0.922\n",
       "3744      GBR  United Kingdom  ...           81.32                    0.922\n",
       "3745      GBR  United Kingdom  ...           81.32                    0.922\n",
       "3746      GBR  United Kingdom  ...           81.32                    0.922\n",
       "\n",
       "[3747 rows x 50 columns]"
      ]
     },
     "execution_count": 270,
     "metadata": {
      "tags": []
     },
     "output_type": "execute_result"
    }
   ],
   "source": [
    "df = df.reset_index()   #resets index\n",
    "df.drop(columns=['index','continent'], inplace=True) #drops old index column and continent becasue it is not needed\n",
    "df"
   ]
  },
  {
   "cell_type": "code",
   "execution_count": null,
   "metadata": {
    "colab": {
     "base_uri": "https://localhost:8080/"
    },
    "executionInfo": {
     "elapsed": 1665,
     "status": "ok",
     "timestamp": 1617533701028,
     "user": {
      "displayName": "Wiktor Majkowski",
      "photoUrl": "",
      "userId": "04555540981960641311"
     },
     "user_tz": -60
    },
    "id": "1OeGU_1kSwiG",
    "outputId": "b7e1d683-1ec0-46ba-bbf9-3de00127d23c"
   },
   "outputs": [
    {
     "name": "stdout",
     "output_type": "stream",
     "text": [
      "['iso_code', 'location', 'date', 'tests_units']\n"
     ]
    }
   ],
   "source": [
    "\"\"\"\n",
    "Loop for checking which features are object type\n",
    "INPUT: pandas series\n",
    "OUTPUT: list of objects\n",
    "\"\"\"\n",
    "list_of_objects = []\n",
    "x=0\n",
    "while x < len(df.columns):\n",
    "  if df.dtypes.values[x] == object:\n",
    "    list_of_objects.append(df.dtypes.index[x])\n",
    "  x = x + 1\n",
    "print(list_of_objects)"
   ]
  },
  {
   "cell_type": "code",
   "execution_count": null,
   "metadata": {
    "id": "EOdd1Gjag2NF"
   },
   "outputs": [],
   "source": [
    "df.iso_code = LabelEncoder().fit_transform(df.iso_code)\n",
    "df.location = LabelEncoder().fit_transform(df.location)\n",
    "df.date = LabelEncoder().fit_transform(df.date)"
   ]
  },
  {
   "cell_type": "code",
   "execution_count": null,
   "metadata": {
    "colab": {
     "base_uri": "https://localhost:8080/"
    },
    "executionInfo": {
     "elapsed": 1656,
     "status": "ok",
     "timestamp": 1617533701029,
     "user": {
      "displayName": "Wiktor Majkowski",
      "photoUrl": "",
      "userId": "04555540981960641311"
     },
     "user_tz": -60
    },
    "id": "HR7wBbClj2zU",
    "outputId": "e5fc07df-19d8-43f3-a8f0-9a28ee882463"
   },
   "outputs": [
    {
     "data": {
      "text/plain": [
       "tests performed    2877\n",
       "Not Tested          605\n",
       "people tested       265\n",
       "Name: tests_units, dtype: int64"
      ]
     },
     "execution_count": 273,
     "metadata": {
      "tags": []
     },
     "output_type": "execute_result"
    }
   ],
   "source": [
    "df.tests_units.fillna('Not Tested', inplace=True)\n",
    "df.tests_units.value_counts()"
   ]
  },
  {
   "cell_type": "code",
   "execution_count": null,
   "metadata": {
    "colab": {
     "base_uri": "https://localhost:8080/"
    },
    "executionInfo": {
     "elapsed": 1650,
     "status": "ok",
     "timestamp": 1617533701029,
     "user": {
      "displayName": "Wiktor Majkowski",
      "photoUrl": "",
      "userId": "04555540981960641311"
     },
     "user_tz": -60
    },
    "id": "M-KqKxxWk5O1",
    "outputId": "e9471615-13d8-4a34-f54f-07c8adaec1ab"
   },
   "outputs": [
    {
     "data": {
      "text/plain": [
       "Tested        3142\n",
       "Not Tested     605\n",
       "Name: tests_units, dtype: int64"
      ]
     },
     "execution_count": 274,
     "metadata": {
      "tags": []
     },
     "output_type": "execute_result"
    }
   ],
   "source": [
    "df.tests_units = df.tests_units.replace(['tests performed', 'people tested'], 'Tested')\n",
    "df.tests_units.value_counts()"
   ]
  },
  {
   "cell_type": "code",
   "execution_count": null,
   "metadata": {
    "id": "nVhzNoQYlS7k"
   },
   "outputs": [],
   "source": [
    "df.tests_units = LabelEncoder().fit_transform(df.tests_units)"
   ]
  },
  {
   "cell_type": "code",
   "execution_count": null,
   "metadata": {
    "colab": {
     "base_uri": "https://localhost:8080/"
    },
    "executionInfo": {
     "elapsed": 1641,
     "status": "ok",
     "timestamp": 1617533701029,
     "user": {
      "displayName": "Wiktor Majkowski",
      "photoUrl": "",
      "userId": "04555540981960641311"
     },
     "user_tz": -60
    },
    "id": "z3FLzZEJcv6_",
    "outputId": "ca9fd6b0-c076-4408-b1f3-abf2cf8846ee"
   },
   "outputs": [
    {
     "data": {
      "text/plain": [
       "iso_code                                 int64\n",
       "location                                 int64\n",
       "date                                     int64\n",
       "total_cases                            float64\n",
       "new_cases                              float64\n",
       "total_deaths                           float64\n",
       "new_deaths                             float64\n",
       "total_cases_per_million                float64\n",
       "new_cases_per_million                  float64\n",
       "total_deaths_per_million               float64\n",
       "new_deaths_per_million                 float64\n",
       "reproduction_rate                      float64\n",
       "icu_patients                           float64\n",
       "icu_patients_per_million               float64\n",
       "hosp_patients                          float64\n",
       "hosp_patients_per_million              float64\n",
       "weekly_icu_admissions                  float64\n",
       "weekly_icu_admissions_per_million      float64\n",
       "weekly_hosp_admissions                 float64\n",
       "weekly_hosp_admissions_per_million     float64\n",
       "new_tests                              float64\n",
       "total_tests                            float64\n",
       "total_tests_per_thousand               float64\n",
       "new_tests_per_thousand                 float64\n",
       "positive_rate                          float64\n",
       "tests_per_case                         float64\n",
       "tests_units                              int64\n",
       "total_vaccinations                     float64\n",
       "people_vaccinated                      float64\n",
       "people_fully_vaccinated                float64\n",
       "new_vaccinations                       float64\n",
       "total_vaccinations_per_hundred         float64\n",
       "people_vaccinated_per_hundred          float64\n",
       "people_fully_vaccinated_per_hundred    float64\n",
       "stringency_index                       float64\n",
       "population                             float64\n",
       "population_density                     float64\n",
       "median_age                             float64\n",
       "aged_65_older                          float64\n",
       "aged_70_older                          float64\n",
       "gdp_per_capita                         float64\n",
       "extreme_poverty                        float64\n",
       "cardiovasc_death_rate                  float64\n",
       "diabetes_prevalence                    float64\n",
       "female_smokers                         float64\n",
       "male_smokers                           float64\n",
       "handwashing_facilities                 float64\n",
       "hospital_beds_per_thousand             float64\n",
       "life_expectancy                        float64\n",
       "human_development_index                float64\n",
       "dtype: object"
      ]
     },
     "execution_count": 276,
     "metadata": {
      "tags": []
     },
     "output_type": "execute_result"
    }
   ],
   "source": [
    "df.dtypes"
   ]
  },
  {
   "cell_type": "code",
   "execution_count": null,
   "metadata": {
    "colab": {
     "base_uri": "https://localhost:8080/"
    },
    "executionInfo": {
     "elapsed": 1635,
     "status": "ok",
     "timestamp": 1617533701030,
     "user": {
      "displayName": "Wiktor Majkowski",
      "photoUrl": "",
      "userId": "04555540981960641311"
     },
     "user_tz": -60
    },
    "id": "dRSZtnh0TaXP",
    "outputId": "8fadc96c-22b7-425a-b1df-d4370a98a447"
   },
   "outputs": [
    {
     "data": {
      "text/plain": [
       "8    380\n",
       "2    380\n",
       "3    377\n",
       "1    375\n",
       "9    373\n",
       "5    373\n",
       "4    373\n",
       "7    372\n",
       "6    372\n",
       "0    372\n",
       "Name: location, dtype: int64"
      ]
     },
     "execution_count": 277,
     "metadata": {
      "tags": []
     },
     "output_type": "execute_result"
    }
   ],
   "source": [
    "df.location.value_counts() #counts amount of entrires "
   ]
  },
  {
   "cell_type": "code",
   "execution_count": null,
   "metadata": {
    "colab": {
     "base_uri": "https://localhost:8080/"
    },
    "executionInfo": {
     "elapsed": 1843,
     "status": "ok",
     "timestamp": 1617533701244,
     "user": {
      "displayName": "Wiktor Majkowski",
      "photoUrl": "",
      "userId": "04555540981960641311"
     },
     "user_tz": -60
    },
    "id": "vc8CQwl2S3d6",
    "outputId": "3ef8aaa2-d819-43ad-875e-0bbbde67a453"
   },
   "outputs": [
    {
     "data": {
      "text/plain": [
       "(50, 50)"
      ]
     },
     "execution_count": 278,
     "metadata": {
      "tags": []
     },
     "output_type": "execute_result"
    }
   ],
   "source": [
    "correlation_matrix = df.corr().round(2) \n",
    "correlation_matrix.shape #checks size of the matrix"
   ]
  },
  {
   "cell_type": "code",
   "execution_count": null,
   "metadata": {
    "colab": {
     "base_uri": "https://localhost:8080/"
    },
    "executionInfo": {
     "elapsed": 1839,
     "status": "ok",
     "timestamp": 1617533701245,
     "user": {
      "displayName": "Wiktor Majkowski",
      "photoUrl": "",
      "userId": "04555540981960641311"
     },
     "user_tz": -60
    },
    "id": "BNf1Em9Mon-u",
    "outputId": "62664f36-9a5c-42b1-bc5e-1f8444039071"
   },
   "outputs": [
    {
     "data": {
      "text/plain": [
       "iso_code                                  0\n",
       "location                                  0\n",
       "date                                      0\n",
       "total_cases                              58\n",
       "new_cases                                58\n",
       "total_deaths                            383\n",
       "new_deaths                              383\n",
       "total_cases_per_million                  58\n",
       "new_cases_per_million                    58\n",
       "total_deaths_per_million                383\n",
       "new_deaths_per_million                  383\n",
       "reproduction_rate                       521\n",
       "icu_patients                           1448\n",
       "icu_patients_per_million               1448\n",
       "hosp_patients                          1735\n",
       "hosp_patients_per_million              1735\n",
       "weekly_icu_admissions                  3562\n",
       "weekly_icu_admissions_per_million      3562\n",
       "weekly_hosp_admissions                 3452\n",
       "weekly_hosp_admissions_per_million     3452\n",
       "new_tests                              1243\n",
       "total_tests                            1609\n",
       "total_tests_per_thousand               1609\n",
       "new_tests_per_thousand                 1243\n",
       "positive_rate                           943\n",
       "tests_per_case                          966\n",
       "tests_units                               0\n",
       "total_vaccinations                     3478\n",
       "people_vaccinated                      3535\n",
       "people_fully_vaccinated                3618\n",
       "new_vaccinations                       3520\n",
       "total_vaccinations_per_hundred         3478\n",
       "people_vaccinated_per_hundred          3535\n",
       "people_fully_vaccinated_per_hundred    3618\n",
       "stringency_index                         33\n",
       "population                                0\n",
       "population_density                        0\n",
       "median_age                                0\n",
       "aged_65_older                             0\n",
       "aged_70_older                             0\n",
       "gdp_per_capita                            0\n",
       "extreme_poverty                        1512\n",
       "cardiovasc_death_rate                     0\n",
       "diabetes_prevalence                       0\n",
       "female_smokers                            0\n",
       "male_smokers                              0\n",
       "handwashing_facilities                 3747\n",
       "hospital_beds_per_thousand                0\n",
       "life_expectancy                           0\n",
       "human_development_index                   0\n",
       "dtype: int64"
      ]
     },
     "execution_count": 279,
     "metadata": {
      "tags": []
     },
     "output_type": "execute_result"
    }
   ],
   "source": [
    "df.isna().sum() #counts NA values"
   ]
  },
  {
   "cell_type": "code",
   "execution_count": null,
   "metadata": {
    "id": "xPGzsisOrRQB"
   },
   "outputs": [],
   "source": [
    "df = df.drop(columns=['handwashing_facilities','weekly_icu_admissions',\n",
    "                      'weekly_icu_admissions_per_million', 'weekly_hosp_admissions', \n",
    "                      'weekly_hosp_admissions_per_million', 'icu_patients_per_million',\n",
    "                      'hosp_patients_per_million', 'total_cases_per_million', 'new_cases_per_million',\n",
    "                      'total_deaths_per_million', \n",
    "                      ]) #drops those columns from the dataset"
   ]
  },
  {
   "cell_type": "markdown",
   "metadata": {
    "id": "TBPX3EY7qdBp"
   },
   "source": [
    "### **Target Dataset Preprocessing**"
   ]
  },
  {
   "cell_type": "code",
   "execution_count": null,
   "metadata": {
    "colab": {
     "base_uri": "https://localhost:8080/"
    },
    "executionInfo": {
     "elapsed": 1831,
     "status": "ok",
     "timestamp": 1617533701247,
     "user": {
      "displayName": "Wiktor Majkowski",
      "photoUrl": "",
      "userId": "04555540981960641311"
     },
     "user_tz": -60
    },
    "id": "EceT-j5TqcZu",
    "outputId": "e678707f-eb11-438b-efad-7e2a3c3e52c0"
   },
   "outputs": [
    {
     "name": "stdout",
     "output_type": "stream",
     "text": [
      " 93.52  = highest restriction value \n",
      " 54.220298869143704  = average restriction value \n",
      " 0.0  = lowest restriction value \n",
      "\n"
     ]
    }
   ],
   "source": [
    "print(\"\", df[\"stringency_index\"].max(), \" = highest restriction value \\n\",\n",
    "      df[\"stringency_index\"].mean(), \" = average restriction value \\n\",\n",
    "      df[\"stringency_index\"].min(), \" = lowest restriction value \\n\")"
   ]
  },
  {
   "cell_type": "code",
   "execution_count": null,
   "metadata": {
    "id": "LMA0GoDyuBws"
   },
   "outputs": [],
   "source": [
    "\n",
    "\n",
    "#loop for changing all the values smaller than 53 to 0 \n",
    "i = 0\n",
    "while i < len(df): \n",
    "  if df.stringency_index[i] < 53.0:\n",
    "    df.stringency_index  = df.stringency_index.replace(df.stringency_index[i], 0)\n",
    "\n",
    "  elif math.isnan(df.stringency_index[i]) == True:\n",
    "    df.stringency_index  = df.stringency_index.replace((df.stringency_index[i]), 0)\n",
    "\n",
    "  i = i + 1\n",
    "#loop for changning all the values bigger than 53 to 1\n",
    "i=0\n",
    "while i < len(df):\n",
    "  if df.stringency_index[i] >= 53.0:\n",
    "    df.stringency_index  = df.stringency_index.replace(df.stringency_index[i], 1)\n",
    "  i = i + 1\n"
   ]
  },
  {
   "cell_type": "code",
   "execution_count": null,
   "metadata": {
    "id": "oVFA2y8q68Nm"
   },
   "outputs": [],
   "source": [
    "#replace floats with string\n",
    "df.stringency_index  = df.stringency_index.replace(1.0, \"lockdown\")\n",
    "df.stringency_index  = df.stringency_index.replace(0.0, \"open\")"
   ]
  },
  {
   "cell_type": "code",
   "execution_count": null,
   "metadata": {
    "colab": {
     "base_uri": "https://localhost:8080/"
    },
    "executionInfo": {
     "elapsed": 2657,
     "status": "ok",
     "timestamp": 1617533702086,
     "user": {
      "displayName": "Wiktor Majkowski",
      "photoUrl": "",
      "userId": "04555540981960641311"
     },
     "user_tz": -60
    },
    "id": "qK04ny_m7SmS",
    "outputId": "038d2fdf-af25-435f-ea48-c2d4b71391c1"
   },
   "outputs": [
    {
     "data": {
      "text/plain": [
       "lockdown    2202\n",
       "open        1545\n",
       "Name: stringency_index, dtype: int64"
      ]
     },
     "execution_count": 284,
     "metadata": {
      "tags": []
     },
     "output_type": "execute_result"
    }
   ],
   "source": [
    "df.stringency_index.value_counts()"
   ]
  },
  {
   "cell_type": "code",
   "execution_count": null,
   "metadata": {
    "id": "qJDV1PDmiurk"
   },
   "outputs": [],
   "source": [
    "df = df.fillna(0)"
   ]
  },
  {
   "cell_type": "code",
   "execution_count": null,
   "metadata": {
    "id": "FAr5hCr4aGIF"
   },
   "outputs": [],
   "source": [
    "Y = df.stringency_index\n",
    "X = df.drop(columns=['stringency_index'])"
   ]
  },
  {
   "cell_type": "markdown",
   "metadata": {
    "id": "skdMKy5On5wW"
   },
   "source": [
    "### **RFE Feature Selection**"
   ]
  },
  {
   "cell_type": "code",
   "execution_count": null,
   "metadata": {
    "id": "wC9HCkF1oAVx"
   },
   "outputs": [],
   "source": [
    "#importing algorithm to select best performing features\n",
    "from sklearn.feature_selection import RFE\n",
    "from sklearn.tree import DecisionTreeClassifier\n",
    "\n",
    "\n",
    "rfe_selector = RFE(estimator=DecisionTreeClassifier(), n_features_to_select = 10, step = 1)\n",
    "\n",
    "rfe_transformed = rfe_selector.fit_transform(X, Y)\n",
    "\n",
    "cols = list(X.columns)\n",
    "\n",
    "DecisionTreeClassifier().fit(rfe_transformed,Y)\n",
    "\n",
    "temp = pd.Series(rfe_selector.support_, index=cols) #support changes rfe selector into numpy array\n",
    "\n",
    "selected_features = temp[temp==True].index"
   ]
  },
  {
   "cell_type": "code",
   "execution_count": null,
   "metadata": {
    "colab": {
     "base_uri": "https://localhost:8080/"
    },
    "executionInfo": {
     "elapsed": 3544,
     "status": "ok",
     "timestamp": 1617533702990,
     "user": {
      "displayName": "Wiktor Majkowski",
      "photoUrl": "",
      "userId": "04555540981960641311"
     },
     "user_tz": -60
    },
    "id": "iKQUbdiX1Vpv",
    "outputId": "d9739449-014d-491b-e233-56f69530050c"
   },
   "outputs": [
    {
     "data": {
      "text/plain": [
       "Index(['date', 'total_cases', 'total_deaths', 'new_deaths',\n",
       "       'reproduction_rate', 'icu_patients', 'hosp_patients',\n",
       "       'population_density', 'aged_70_older', 'male_smokers'],\n",
       "      dtype='object')"
      ]
     },
     "execution_count": 288,
     "metadata": {
      "tags": []
     },
     "output_type": "execute_result"
    }
   ],
   "source": [
    "selected_features"
   ]
  }
 ],
 "metadata": {
  "colab": {
   "authorship_tag": "ABX9TyMJQU48hPyrk6Ud272MIaUT",
   "collapsed_sections": [],
   "name": "Copy of COVID_Prediction.ipynb",
   "provenance": [
    {
     "file_id": "1VdaBNivAsvmwFLdro8rL95Zn0ZQbPK9W",
     "timestamp": 1617534521430
    }
   ]
  },
  "kernelspec": {
   "display_name": "Python 3",
   "language": "python",
   "name": "python3"
  },
  "language_info": {
   "codemirror_mode": {
    "name": "ipython",
    "version": 3
   },
   "file_extension": ".py",
   "mimetype": "text/x-python",
   "name": "python",
   "nbconvert_exporter": "python",
   "pygments_lexer": "ipython3",
   "version": "3.8.3"
  }
 },
 "nbformat": 4,
 "nbformat_minor": 1
}
